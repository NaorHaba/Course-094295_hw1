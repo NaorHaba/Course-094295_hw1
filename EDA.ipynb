{
 "cells": [
  {
   "cell_type": "code",
   "execution_count": 1,
   "metadata": {
    "collapsed": true
   },
   "outputs": [],
   "source": [
    "import os\n",
    "import numpy as np\n",
    "import pandas as pd"
   ]
  },
  {
   "cell_type": "code",
   "execution_count": 2,
   "outputs": [],
   "source": [
    "train_folder = 'data/train'\n",
    "test_folder = 'data/test'"
   ],
   "metadata": {
    "collapsed": false,
    "pycharm": {
     "name": "#%%\n"
    }
   }
  },
  {
   "cell_type": "code",
   "execution_count": 3,
   "outputs": [],
   "source": [
    "def read_all_data(folder):\n",
    "    files = []\n",
    "    for file in os.listdir(folder):\n",
    "        if file.endswith('psv'):\n",
    "            _id = int(file.replace('.psv', '').split('_')[1])\n",
    "            df = pd.read_csv(os.path.join(folder, file), sep='|')\n",
    "            df['id'] = _id\n",
    "            files.append(df)\n",
    "    return pd.concat(files, ignore_index=True)"
   ],
   "metadata": {
    "collapsed": false,
    "pycharm": {
     "name": "#%%\n"
    }
   }
  },
  {
   "cell_type": "code",
   "execution_count": 4,
   "outputs": [
    {
     "data": {
      "text/plain": "           HR  O2Sat  Temp    SBP    MAP    DBP  Resp  EtCO2  BaseExcess  \\\n0         NaN    NaN   NaN    NaN    NaN    NaN   NaN    NaN         NaN   \n1        58.5   96.0   NaN  133.0   54.0   30.0  28.5    NaN         NaN   \n2        54.0   97.0  36.4  128.0   58.0   36.0  23.0    NaN         NaN   \n3        58.0   97.0   NaN  116.0   50.0   28.0  21.0    NaN         NaN   \n4        58.0   98.0   NaN  128.0   65.0   49.0  32.0    NaN         NaN   \n...       ...    ...   ...    ...    ...    ...   ...    ...         ...   \n766879   85.0   92.0   NaN  116.0   93.0   79.0  20.0    NaN         NaN   \n766880   87.0   94.0  36.9  137.0  107.0   91.0  26.0    NaN         NaN   \n766881  121.0   97.0   NaN    NaN    NaN    NaN  22.0    NaN         NaN   \n766882   95.0   91.0   NaN  138.5  107.0   87.5  20.0    NaN         NaN   \n766883  122.0  100.0   NaN  169.0  139.0  116.0  20.0    NaN         NaN   \n\n        HCO3  ...  Fibrinogen  Platelets   Age  Gender  Unit1  Unit2  \\\n0        NaN  ...         NaN        NaN  77.0       0    NaN    NaN   \n1        NaN  ...         NaN        NaN  77.0       0    NaN    NaN   \n2        NaN  ...         NaN        NaN  77.0       0    NaN    NaN   \n3        NaN  ...         NaN        NaN  77.0       0    NaN    NaN   \n4        NaN  ...         NaN        NaN  77.0       0    NaN    NaN   \n...      ...  ...         ...        ...   ...     ...    ...    ...   \n766879   NaN  ...         NaN        NaN  37.0       1    1.0    0.0   \n766880   NaN  ...         NaN        NaN  37.0       1    1.0    0.0   \n766881   NaN  ...         NaN        NaN  37.0       1    1.0    0.0   \n766882   NaN  ...         NaN        NaN  37.0       1    1.0    0.0   \n766883   NaN  ...         NaN        NaN  37.0       1    1.0    0.0   \n\n        HospAdmTime  ICULOS  SepsisLabel     id  \n0           -679.93       1            0  10022  \n1           -679.93       2            0  10022  \n2           -679.93       3            0  10022  \n3           -679.93       4            0  10022  \n4           -679.93       5            0  10022  \n...             ...     ...          ...    ...  \n766879       -54.03      33            0   8234  \n766880       -54.03      34            0   8234  \n766881       -54.03      35            0   8234  \n766882       -54.03      36            0   8234  \n766883       -54.03      37            0   8234  \n\n[766884 rows x 42 columns]",
      "text/html": "<div>\n<style scoped>\n    .dataframe tbody tr th:only-of-type {\n        vertical-align: middle;\n    }\n\n    .dataframe tbody tr th {\n        vertical-align: top;\n    }\n\n    .dataframe thead th {\n        text-align: right;\n    }\n</style>\n<table border=\"1\" class=\"dataframe\">\n  <thead>\n    <tr style=\"text-align: right;\">\n      <th></th>\n      <th>HR</th>\n      <th>O2Sat</th>\n      <th>Temp</th>\n      <th>SBP</th>\n      <th>MAP</th>\n      <th>DBP</th>\n      <th>Resp</th>\n      <th>EtCO2</th>\n      <th>BaseExcess</th>\n      <th>HCO3</th>\n      <th>...</th>\n      <th>Fibrinogen</th>\n      <th>Platelets</th>\n      <th>Age</th>\n      <th>Gender</th>\n      <th>Unit1</th>\n      <th>Unit2</th>\n      <th>HospAdmTime</th>\n      <th>ICULOS</th>\n      <th>SepsisLabel</th>\n      <th>id</th>\n    </tr>\n  </thead>\n  <tbody>\n    <tr>\n      <th>0</th>\n      <td>NaN</td>\n      <td>NaN</td>\n      <td>NaN</td>\n      <td>NaN</td>\n      <td>NaN</td>\n      <td>NaN</td>\n      <td>NaN</td>\n      <td>NaN</td>\n      <td>NaN</td>\n      <td>NaN</td>\n      <td>...</td>\n      <td>NaN</td>\n      <td>NaN</td>\n      <td>77.0</td>\n      <td>0</td>\n      <td>NaN</td>\n      <td>NaN</td>\n      <td>-679.93</td>\n      <td>1</td>\n      <td>0</td>\n      <td>10022</td>\n    </tr>\n    <tr>\n      <th>1</th>\n      <td>58.5</td>\n      <td>96.0</td>\n      <td>NaN</td>\n      <td>133.0</td>\n      <td>54.0</td>\n      <td>30.0</td>\n      <td>28.5</td>\n      <td>NaN</td>\n      <td>NaN</td>\n      <td>NaN</td>\n      <td>...</td>\n      <td>NaN</td>\n      <td>NaN</td>\n      <td>77.0</td>\n      <td>0</td>\n      <td>NaN</td>\n      <td>NaN</td>\n      <td>-679.93</td>\n      <td>2</td>\n      <td>0</td>\n      <td>10022</td>\n    </tr>\n    <tr>\n      <th>2</th>\n      <td>54.0</td>\n      <td>97.0</td>\n      <td>36.4</td>\n      <td>128.0</td>\n      <td>58.0</td>\n      <td>36.0</td>\n      <td>23.0</td>\n      <td>NaN</td>\n      <td>NaN</td>\n      <td>NaN</td>\n      <td>...</td>\n      <td>NaN</td>\n      <td>NaN</td>\n      <td>77.0</td>\n      <td>0</td>\n      <td>NaN</td>\n      <td>NaN</td>\n      <td>-679.93</td>\n      <td>3</td>\n      <td>0</td>\n      <td>10022</td>\n    </tr>\n    <tr>\n      <th>3</th>\n      <td>58.0</td>\n      <td>97.0</td>\n      <td>NaN</td>\n      <td>116.0</td>\n      <td>50.0</td>\n      <td>28.0</td>\n      <td>21.0</td>\n      <td>NaN</td>\n      <td>NaN</td>\n      <td>NaN</td>\n      <td>...</td>\n      <td>NaN</td>\n      <td>NaN</td>\n      <td>77.0</td>\n      <td>0</td>\n      <td>NaN</td>\n      <td>NaN</td>\n      <td>-679.93</td>\n      <td>4</td>\n      <td>0</td>\n      <td>10022</td>\n    </tr>\n    <tr>\n      <th>4</th>\n      <td>58.0</td>\n      <td>98.0</td>\n      <td>NaN</td>\n      <td>128.0</td>\n      <td>65.0</td>\n      <td>49.0</td>\n      <td>32.0</td>\n      <td>NaN</td>\n      <td>NaN</td>\n      <td>NaN</td>\n      <td>...</td>\n      <td>NaN</td>\n      <td>NaN</td>\n      <td>77.0</td>\n      <td>0</td>\n      <td>NaN</td>\n      <td>NaN</td>\n      <td>-679.93</td>\n      <td>5</td>\n      <td>0</td>\n      <td>10022</td>\n    </tr>\n    <tr>\n      <th>...</th>\n      <td>...</td>\n      <td>...</td>\n      <td>...</td>\n      <td>...</td>\n      <td>...</td>\n      <td>...</td>\n      <td>...</td>\n      <td>...</td>\n      <td>...</td>\n      <td>...</td>\n      <td>...</td>\n      <td>...</td>\n      <td>...</td>\n      <td>...</td>\n      <td>...</td>\n      <td>...</td>\n      <td>...</td>\n      <td>...</td>\n      <td>...</td>\n      <td>...</td>\n      <td>...</td>\n    </tr>\n    <tr>\n      <th>766879</th>\n      <td>85.0</td>\n      <td>92.0</td>\n      <td>NaN</td>\n      <td>116.0</td>\n      <td>93.0</td>\n      <td>79.0</td>\n      <td>20.0</td>\n      <td>NaN</td>\n      <td>NaN</td>\n      <td>NaN</td>\n      <td>...</td>\n      <td>NaN</td>\n      <td>NaN</td>\n      <td>37.0</td>\n      <td>1</td>\n      <td>1.0</td>\n      <td>0.0</td>\n      <td>-54.03</td>\n      <td>33</td>\n      <td>0</td>\n      <td>8234</td>\n    </tr>\n    <tr>\n      <th>766880</th>\n      <td>87.0</td>\n      <td>94.0</td>\n      <td>36.9</td>\n      <td>137.0</td>\n      <td>107.0</td>\n      <td>91.0</td>\n      <td>26.0</td>\n      <td>NaN</td>\n      <td>NaN</td>\n      <td>NaN</td>\n      <td>...</td>\n      <td>NaN</td>\n      <td>NaN</td>\n      <td>37.0</td>\n      <td>1</td>\n      <td>1.0</td>\n      <td>0.0</td>\n      <td>-54.03</td>\n      <td>34</td>\n      <td>0</td>\n      <td>8234</td>\n    </tr>\n    <tr>\n      <th>766881</th>\n      <td>121.0</td>\n      <td>97.0</td>\n      <td>NaN</td>\n      <td>NaN</td>\n      <td>NaN</td>\n      <td>NaN</td>\n      <td>22.0</td>\n      <td>NaN</td>\n      <td>NaN</td>\n      <td>NaN</td>\n      <td>...</td>\n      <td>NaN</td>\n      <td>NaN</td>\n      <td>37.0</td>\n      <td>1</td>\n      <td>1.0</td>\n      <td>0.0</td>\n      <td>-54.03</td>\n      <td>35</td>\n      <td>0</td>\n      <td>8234</td>\n    </tr>\n    <tr>\n      <th>766882</th>\n      <td>95.0</td>\n      <td>91.0</td>\n      <td>NaN</td>\n      <td>138.5</td>\n      <td>107.0</td>\n      <td>87.5</td>\n      <td>20.0</td>\n      <td>NaN</td>\n      <td>NaN</td>\n      <td>NaN</td>\n      <td>...</td>\n      <td>NaN</td>\n      <td>NaN</td>\n      <td>37.0</td>\n      <td>1</td>\n      <td>1.0</td>\n      <td>0.0</td>\n      <td>-54.03</td>\n      <td>36</td>\n      <td>0</td>\n      <td>8234</td>\n    </tr>\n    <tr>\n      <th>766883</th>\n      <td>122.0</td>\n      <td>100.0</td>\n      <td>NaN</td>\n      <td>169.0</td>\n      <td>139.0</td>\n      <td>116.0</td>\n      <td>20.0</td>\n      <td>NaN</td>\n      <td>NaN</td>\n      <td>NaN</td>\n      <td>...</td>\n      <td>NaN</td>\n      <td>NaN</td>\n      <td>37.0</td>\n      <td>1</td>\n      <td>1.0</td>\n      <td>0.0</td>\n      <td>-54.03</td>\n      <td>37</td>\n      <td>0</td>\n      <td>8234</td>\n    </tr>\n  </tbody>\n</table>\n<p>766884 rows × 42 columns</p>\n</div>"
     },
     "execution_count": 4,
     "metadata": {},
     "output_type": "execute_result"
    }
   ],
   "source": [
    "t_df = read_all_data(train_folder)\n",
    "t_df"
   ],
   "metadata": {
    "collapsed": false,
    "pycharm": {
     "name": "#%%\n"
    }
   }
  },
  {
   "cell_type": "code",
   "execution_count": 5,
   "outputs": [],
   "source": [
    "vital_signs = t_df.columns[:8]\n",
    "lab_values = t_df.columns[8: 34]\n",
    "demographics = t_df.columns[34: 40]\n",
    "outcome = t_df.columns[40]\n",
    "_id = t_df.columns[-1]"
   ],
   "metadata": {
    "collapsed": false,
    "pycharm": {
     "name": "#%%\n"
    }
   }
  },
  {
   "cell_type": "markdown",
   "source": [
    "# Filling NA values"
   ],
   "metadata": {
    "collapsed": false,
    "pycharm": {
     "name": "#%% md\n"
    }
   }
  },
  {
   "cell_type": "code",
   "execution_count": 8,
   "outputs": [],
   "source": [
    "def add_ICULOS_rows(g):\n",
    "    first_hour = g.ICULOS.iloc[0]\n",
    "    if first_hour != 1:\n",
    "        ICULOS_hours = {'ICULOS': list(range(1, first_hour))}\n",
    "        g = pd.concat([pd.DataFrame(ICULOS_hours), g])\n",
    "        g[demographics] = g[demographics].bfill()\n",
    "        g[outcome] = g[outcome].bfill()\n",
    "        g[_id] = g[_id].bfill()\n",
    "    return g"
   ],
   "metadata": {
    "collapsed": false,
    "pycharm": {
     "name": "#%%\n"
    }
   }
  },
  {
   "cell_type": "code",
   "execution_count": 9,
   "outputs": [
    {
     "data": {
      "text/plain": "          HR  O2Sat   Temp    SBP   MAP   DBP  Resp  EtCO2  BaseExcess  HCO3  \\\n0        NaN    NaN    NaN    NaN   NaN   NaN   NaN    NaN         NaN   NaN   \n1       61.0   99.0  36.44  124.0  65.0  43.0  17.5    NaN         NaN   NaN   \n2       64.0   98.0    NaN  125.0  64.0  41.0  27.0    NaN         NaN   NaN   \n3       56.0  100.0    NaN  123.0  65.0  41.0   9.0    NaN         NaN   NaN   \n4       66.0   99.0    NaN  120.0  67.0  43.0  23.0    NaN         NaN   NaN   \n...      ...    ...    ...    ...   ...   ...   ...    ...         ...   ...   \n776768  76.0    NaN    NaN   85.0  53.0   NaN  17.0    NaN         NaN   NaN   \n776769  81.0   99.0    NaN   99.0  51.0   NaN  17.0    NaN         NaN   NaN   \n776770  85.0  100.0    NaN  103.0  48.0   NaN  26.0    NaN         NaN   NaN   \n776771  86.0   93.0    NaN   87.0  44.0   NaN  22.0    NaN         NaN   NaN   \n776772  84.0   85.0    NaN   78.0  44.0   NaN  18.0    NaN         NaN   NaN   \n\n        ...  Platelets    Age  Gender  Unit1  Unit2  HospAdmTime  ICULOS  \\\n0       ...        NaN  75.91     0.0    0.0    1.0       -98.60       1   \n1       ...        NaN  75.91     0.0    0.0    1.0       -98.60       2   \n2       ...        NaN  75.91     0.0    0.0    1.0       -98.60       3   \n3       ...        NaN  75.91     0.0    0.0    1.0       -98.60       4   \n4       ...        NaN  75.91     0.0    0.0    1.0       -98.60       5   \n...     ...        ...    ...     ...    ...    ...          ...     ...   \n776768  ...        NaN  83.14     0.0    0.0    0.0        -0.03      50   \n776769  ...        NaN  83.14     0.0    0.0    0.0        -0.03      51   \n776770  ...        NaN  83.14     0.0    0.0    0.0        -0.03      52   \n776771  ...        NaN  83.14     0.0    0.0    0.0        -0.03      53   \n776772  ...        NaN  83.14     0.0    0.0    0.0        -0.03      54   \n\n        SepsisLabel       id  Unit3  \n0               0.0      0.0    0.0  \n1               0.0      0.0    0.0  \n2               0.0      0.0    0.0  \n3               0.0      0.0    0.0  \n4               0.0      0.0    0.0  \n...             ...      ...    ...  \n776768          0.0  19999.0    1.0  \n776769          0.0  19999.0    1.0  \n776770          0.0  19999.0    1.0  \n776771          0.0  19999.0    1.0  \n776772          0.0  19999.0    1.0  \n\n[776773 rows x 43 columns]",
      "text/html": "<div>\n<style scoped>\n    .dataframe tbody tr th:only-of-type {\n        vertical-align: middle;\n    }\n\n    .dataframe tbody tr th {\n        vertical-align: top;\n    }\n\n    .dataframe thead th {\n        text-align: right;\n    }\n</style>\n<table border=\"1\" class=\"dataframe\">\n  <thead>\n    <tr style=\"text-align: right;\">\n      <th></th>\n      <th>HR</th>\n      <th>O2Sat</th>\n      <th>Temp</th>\n      <th>SBP</th>\n      <th>MAP</th>\n      <th>DBP</th>\n      <th>Resp</th>\n      <th>EtCO2</th>\n      <th>BaseExcess</th>\n      <th>HCO3</th>\n      <th>...</th>\n      <th>Platelets</th>\n      <th>Age</th>\n      <th>Gender</th>\n      <th>Unit1</th>\n      <th>Unit2</th>\n      <th>HospAdmTime</th>\n      <th>ICULOS</th>\n      <th>SepsisLabel</th>\n      <th>id</th>\n      <th>Unit3</th>\n    </tr>\n  </thead>\n  <tbody>\n    <tr>\n      <th>0</th>\n      <td>NaN</td>\n      <td>NaN</td>\n      <td>NaN</td>\n      <td>NaN</td>\n      <td>NaN</td>\n      <td>NaN</td>\n      <td>NaN</td>\n      <td>NaN</td>\n      <td>NaN</td>\n      <td>NaN</td>\n      <td>...</td>\n      <td>NaN</td>\n      <td>75.91</td>\n      <td>0.0</td>\n      <td>0.0</td>\n      <td>1.0</td>\n      <td>-98.60</td>\n      <td>1</td>\n      <td>0.0</td>\n      <td>0.0</td>\n      <td>0.0</td>\n    </tr>\n    <tr>\n      <th>1</th>\n      <td>61.0</td>\n      <td>99.0</td>\n      <td>36.44</td>\n      <td>124.0</td>\n      <td>65.0</td>\n      <td>43.0</td>\n      <td>17.5</td>\n      <td>NaN</td>\n      <td>NaN</td>\n      <td>NaN</td>\n      <td>...</td>\n      <td>NaN</td>\n      <td>75.91</td>\n      <td>0.0</td>\n      <td>0.0</td>\n      <td>1.0</td>\n      <td>-98.60</td>\n      <td>2</td>\n      <td>0.0</td>\n      <td>0.0</td>\n      <td>0.0</td>\n    </tr>\n    <tr>\n      <th>2</th>\n      <td>64.0</td>\n      <td>98.0</td>\n      <td>NaN</td>\n      <td>125.0</td>\n      <td>64.0</td>\n      <td>41.0</td>\n      <td>27.0</td>\n      <td>NaN</td>\n      <td>NaN</td>\n      <td>NaN</td>\n      <td>...</td>\n      <td>NaN</td>\n      <td>75.91</td>\n      <td>0.0</td>\n      <td>0.0</td>\n      <td>1.0</td>\n      <td>-98.60</td>\n      <td>3</td>\n      <td>0.0</td>\n      <td>0.0</td>\n      <td>0.0</td>\n    </tr>\n    <tr>\n      <th>3</th>\n      <td>56.0</td>\n      <td>100.0</td>\n      <td>NaN</td>\n      <td>123.0</td>\n      <td>65.0</td>\n      <td>41.0</td>\n      <td>9.0</td>\n      <td>NaN</td>\n      <td>NaN</td>\n      <td>NaN</td>\n      <td>...</td>\n      <td>NaN</td>\n      <td>75.91</td>\n      <td>0.0</td>\n      <td>0.0</td>\n      <td>1.0</td>\n      <td>-98.60</td>\n      <td>4</td>\n      <td>0.0</td>\n      <td>0.0</td>\n      <td>0.0</td>\n    </tr>\n    <tr>\n      <th>4</th>\n      <td>66.0</td>\n      <td>99.0</td>\n      <td>NaN</td>\n      <td>120.0</td>\n      <td>67.0</td>\n      <td>43.0</td>\n      <td>23.0</td>\n      <td>NaN</td>\n      <td>NaN</td>\n      <td>NaN</td>\n      <td>...</td>\n      <td>NaN</td>\n      <td>75.91</td>\n      <td>0.0</td>\n      <td>0.0</td>\n      <td>1.0</td>\n      <td>-98.60</td>\n      <td>5</td>\n      <td>0.0</td>\n      <td>0.0</td>\n      <td>0.0</td>\n    </tr>\n    <tr>\n      <th>...</th>\n      <td>...</td>\n      <td>...</td>\n      <td>...</td>\n      <td>...</td>\n      <td>...</td>\n      <td>...</td>\n      <td>...</td>\n      <td>...</td>\n      <td>...</td>\n      <td>...</td>\n      <td>...</td>\n      <td>...</td>\n      <td>...</td>\n      <td>...</td>\n      <td>...</td>\n      <td>...</td>\n      <td>...</td>\n      <td>...</td>\n      <td>...</td>\n      <td>...</td>\n      <td>...</td>\n    </tr>\n    <tr>\n      <th>776768</th>\n      <td>76.0</td>\n      <td>NaN</td>\n      <td>NaN</td>\n      <td>85.0</td>\n      <td>53.0</td>\n      <td>NaN</td>\n      <td>17.0</td>\n      <td>NaN</td>\n      <td>NaN</td>\n      <td>NaN</td>\n      <td>...</td>\n      <td>NaN</td>\n      <td>83.14</td>\n      <td>0.0</td>\n      <td>0.0</td>\n      <td>0.0</td>\n      <td>-0.03</td>\n      <td>50</td>\n      <td>0.0</td>\n      <td>19999.0</td>\n      <td>1.0</td>\n    </tr>\n    <tr>\n      <th>776769</th>\n      <td>81.0</td>\n      <td>99.0</td>\n      <td>NaN</td>\n      <td>99.0</td>\n      <td>51.0</td>\n      <td>NaN</td>\n      <td>17.0</td>\n      <td>NaN</td>\n      <td>NaN</td>\n      <td>NaN</td>\n      <td>...</td>\n      <td>NaN</td>\n      <td>83.14</td>\n      <td>0.0</td>\n      <td>0.0</td>\n      <td>0.0</td>\n      <td>-0.03</td>\n      <td>51</td>\n      <td>0.0</td>\n      <td>19999.0</td>\n      <td>1.0</td>\n    </tr>\n    <tr>\n      <th>776770</th>\n      <td>85.0</td>\n      <td>100.0</td>\n      <td>NaN</td>\n      <td>103.0</td>\n      <td>48.0</td>\n      <td>NaN</td>\n      <td>26.0</td>\n      <td>NaN</td>\n      <td>NaN</td>\n      <td>NaN</td>\n      <td>...</td>\n      <td>NaN</td>\n      <td>83.14</td>\n      <td>0.0</td>\n      <td>0.0</td>\n      <td>0.0</td>\n      <td>-0.03</td>\n      <td>52</td>\n      <td>0.0</td>\n      <td>19999.0</td>\n      <td>1.0</td>\n    </tr>\n    <tr>\n      <th>776771</th>\n      <td>86.0</td>\n      <td>93.0</td>\n      <td>NaN</td>\n      <td>87.0</td>\n      <td>44.0</td>\n      <td>NaN</td>\n      <td>22.0</td>\n      <td>NaN</td>\n      <td>NaN</td>\n      <td>NaN</td>\n      <td>...</td>\n      <td>NaN</td>\n      <td>83.14</td>\n      <td>0.0</td>\n      <td>0.0</td>\n      <td>0.0</td>\n      <td>-0.03</td>\n      <td>53</td>\n      <td>0.0</td>\n      <td>19999.0</td>\n      <td>1.0</td>\n    </tr>\n    <tr>\n      <th>776772</th>\n      <td>84.0</td>\n      <td>85.0</td>\n      <td>NaN</td>\n      <td>78.0</td>\n      <td>44.0</td>\n      <td>NaN</td>\n      <td>18.0</td>\n      <td>NaN</td>\n      <td>NaN</td>\n      <td>NaN</td>\n      <td>...</td>\n      <td>NaN</td>\n      <td>83.14</td>\n      <td>0.0</td>\n      <td>0.0</td>\n      <td>0.0</td>\n      <td>-0.03</td>\n      <td>54</td>\n      <td>0.0</td>\n      <td>19999.0</td>\n      <td>1.0</td>\n    </tr>\n  </tbody>\n</table>\n<p>776773 rows × 43 columns</p>\n</div>"
     },
     "execution_count": 9,
     "metadata": {},
     "output_type": "execute_result"
    }
   ],
   "source": [
    "t_df = t_df.sort_values(['id', 'ICULOS']).groupby('id').apply(add_ICULOS_rows).reset_index(drop=True)\n",
    "t_df"
   ],
   "metadata": {
    "collapsed": false,
    "pycharm": {
     "name": "#%%\n"
    }
   }
  },
  {
   "cell_type": "code",
   "execution_count": 6,
   "outputs": [],
   "source": [
    "def add_unknown_unit_column(df):\n",
    "    df['Unit3'] = 0.0\n",
    "    df.loc[df.Unit1.isna(), 'Unit3'] = 1.0  # we know Unit2 is also nan when Unit1 is nan\n",
    "    df[['Unit1', 'Unit2']] = df[['Unit1', 'Unit2']].fillna(0.0)\n",
    "    return df"
   ],
   "metadata": {
    "collapsed": false,
    "pycharm": {
     "name": "#%%\n"
    }
   }
  },
  {
   "cell_type": "code",
   "execution_count": 7,
   "outputs": [
    {
     "data": {
      "text/plain": "           HR  O2Sat  Temp    SBP    MAP    DBP  Resp  EtCO2  BaseExcess  \\\n0         NaN    NaN   NaN    NaN    NaN    NaN   NaN    NaN         NaN   \n1        58.5   96.0   NaN  133.0   54.0   30.0  28.5    NaN         NaN   \n2        54.0   97.0  36.4  128.0   58.0   36.0  23.0    NaN         NaN   \n3        58.0   97.0   NaN  116.0   50.0   28.0  21.0    NaN         NaN   \n4        58.0   98.0   NaN  128.0   65.0   49.0  32.0    NaN         NaN   \n...       ...    ...   ...    ...    ...    ...   ...    ...         ...   \n766879   85.0   92.0   NaN  116.0   93.0   79.0  20.0    NaN         NaN   \n766880   87.0   94.0  36.9  137.0  107.0   91.0  26.0    NaN         NaN   \n766881  121.0   97.0   NaN    NaN    NaN    NaN  22.0    NaN         NaN   \n766882   95.0   91.0   NaN  138.5  107.0   87.5  20.0    NaN         NaN   \n766883  122.0  100.0   NaN  169.0  139.0  116.0  20.0    NaN         NaN   \n\n        HCO3  ...  Platelets   Age  Gender  Unit1  Unit2  HospAdmTime  ICULOS  \\\n0        NaN  ...        NaN  77.0       0    0.0    0.0      -679.93       1   \n1        NaN  ...        NaN  77.0       0    0.0    0.0      -679.93       2   \n2        NaN  ...        NaN  77.0       0    0.0    0.0      -679.93       3   \n3        NaN  ...        NaN  77.0       0    0.0    0.0      -679.93       4   \n4        NaN  ...        NaN  77.0       0    0.0    0.0      -679.93       5   \n...      ...  ...        ...   ...     ...    ...    ...          ...     ...   \n766879   NaN  ...        NaN  37.0       1    1.0    0.0       -54.03      33   \n766880   NaN  ...        NaN  37.0       1    1.0    0.0       -54.03      34   \n766881   NaN  ...        NaN  37.0       1    1.0    0.0       -54.03      35   \n766882   NaN  ...        NaN  37.0       1    1.0    0.0       -54.03      36   \n766883   NaN  ...        NaN  37.0       1    1.0    0.0       -54.03      37   \n\n        SepsisLabel     id  Unit3  \n0                 0  10022    1.0  \n1                 0  10022    1.0  \n2                 0  10022    1.0  \n3                 0  10022    1.0  \n4                 0  10022    1.0  \n...             ...    ...    ...  \n766879            0   8234    0.0  \n766880            0   8234    0.0  \n766881            0   8234    0.0  \n766882            0   8234    0.0  \n766883            0   8234    0.0  \n\n[766884 rows x 43 columns]",
      "text/html": "<div>\n<style scoped>\n    .dataframe tbody tr th:only-of-type {\n        vertical-align: middle;\n    }\n\n    .dataframe tbody tr th {\n        vertical-align: top;\n    }\n\n    .dataframe thead th {\n        text-align: right;\n    }\n</style>\n<table border=\"1\" class=\"dataframe\">\n  <thead>\n    <tr style=\"text-align: right;\">\n      <th></th>\n      <th>HR</th>\n      <th>O2Sat</th>\n      <th>Temp</th>\n      <th>SBP</th>\n      <th>MAP</th>\n      <th>DBP</th>\n      <th>Resp</th>\n      <th>EtCO2</th>\n      <th>BaseExcess</th>\n      <th>HCO3</th>\n      <th>...</th>\n      <th>Platelets</th>\n      <th>Age</th>\n      <th>Gender</th>\n      <th>Unit1</th>\n      <th>Unit2</th>\n      <th>HospAdmTime</th>\n      <th>ICULOS</th>\n      <th>SepsisLabel</th>\n      <th>id</th>\n      <th>Unit3</th>\n    </tr>\n  </thead>\n  <tbody>\n    <tr>\n      <th>0</th>\n      <td>NaN</td>\n      <td>NaN</td>\n      <td>NaN</td>\n      <td>NaN</td>\n      <td>NaN</td>\n      <td>NaN</td>\n      <td>NaN</td>\n      <td>NaN</td>\n      <td>NaN</td>\n      <td>NaN</td>\n      <td>...</td>\n      <td>NaN</td>\n      <td>77.0</td>\n      <td>0</td>\n      <td>0.0</td>\n      <td>0.0</td>\n      <td>-679.93</td>\n      <td>1</td>\n      <td>0</td>\n      <td>10022</td>\n      <td>1.0</td>\n    </tr>\n    <tr>\n      <th>1</th>\n      <td>58.5</td>\n      <td>96.0</td>\n      <td>NaN</td>\n      <td>133.0</td>\n      <td>54.0</td>\n      <td>30.0</td>\n      <td>28.5</td>\n      <td>NaN</td>\n      <td>NaN</td>\n      <td>NaN</td>\n      <td>...</td>\n      <td>NaN</td>\n      <td>77.0</td>\n      <td>0</td>\n      <td>0.0</td>\n      <td>0.0</td>\n      <td>-679.93</td>\n      <td>2</td>\n      <td>0</td>\n      <td>10022</td>\n      <td>1.0</td>\n    </tr>\n    <tr>\n      <th>2</th>\n      <td>54.0</td>\n      <td>97.0</td>\n      <td>36.4</td>\n      <td>128.0</td>\n      <td>58.0</td>\n      <td>36.0</td>\n      <td>23.0</td>\n      <td>NaN</td>\n      <td>NaN</td>\n      <td>NaN</td>\n      <td>...</td>\n      <td>NaN</td>\n      <td>77.0</td>\n      <td>0</td>\n      <td>0.0</td>\n      <td>0.0</td>\n      <td>-679.93</td>\n      <td>3</td>\n      <td>0</td>\n      <td>10022</td>\n      <td>1.0</td>\n    </tr>\n    <tr>\n      <th>3</th>\n      <td>58.0</td>\n      <td>97.0</td>\n      <td>NaN</td>\n      <td>116.0</td>\n      <td>50.0</td>\n      <td>28.0</td>\n      <td>21.0</td>\n      <td>NaN</td>\n      <td>NaN</td>\n      <td>NaN</td>\n      <td>...</td>\n      <td>NaN</td>\n      <td>77.0</td>\n      <td>0</td>\n      <td>0.0</td>\n      <td>0.0</td>\n      <td>-679.93</td>\n      <td>4</td>\n      <td>0</td>\n      <td>10022</td>\n      <td>1.0</td>\n    </tr>\n    <tr>\n      <th>4</th>\n      <td>58.0</td>\n      <td>98.0</td>\n      <td>NaN</td>\n      <td>128.0</td>\n      <td>65.0</td>\n      <td>49.0</td>\n      <td>32.0</td>\n      <td>NaN</td>\n      <td>NaN</td>\n      <td>NaN</td>\n      <td>...</td>\n      <td>NaN</td>\n      <td>77.0</td>\n      <td>0</td>\n      <td>0.0</td>\n      <td>0.0</td>\n      <td>-679.93</td>\n      <td>5</td>\n      <td>0</td>\n      <td>10022</td>\n      <td>1.0</td>\n    </tr>\n    <tr>\n      <th>...</th>\n      <td>...</td>\n      <td>...</td>\n      <td>...</td>\n      <td>...</td>\n      <td>...</td>\n      <td>...</td>\n      <td>...</td>\n      <td>...</td>\n      <td>...</td>\n      <td>...</td>\n      <td>...</td>\n      <td>...</td>\n      <td>...</td>\n      <td>...</td>\n      <td>...</td>\n      <td>...</td>\n      <td>...</td>\n      <td>...</td>\n      <td>...</td>\n      <td>...</td>\n      <td>...</td>\n    </tr>\n    <tr>\n      <th>766879</th>\n      <td>85.0</td>\n      <td>92.0</td>\n      <td>NaN</td>\n      <td>116.0</td>\n      <td>93.0</td>\n      <td>79.0</td>\n      <td>20.0</td>\n      <td>NaN</td>\n      <td>NaN</td>\n      <td>NaN</td>\n      <td>...</td>\n      <td>NaN</td>\n      <td>37.0</td>\n      <td>1</td>\n      <td>1.0</td>\n      <td>0.0</td>\n      <td>-54.03</td>\n      <td>33</td>\n      <td>0</td>\n      <td>8234</td>\n      <td>0.0</td>\n    </tr>\n    <tr>\n      <th>766880</th>\n      <td>87.0</td>\n      <td>94.0</td>\n      <td>36.9</td>\n      <td>137.0</td>\n      <td>107.0</td>\n      <td>91.0</td>\n      <td>26.0</td>\n      <td>NaN</td>\n      <td>NaN</td>\n      <td>NaN</td>\n      <td>...</td>\n      <td>NaN</td>\n      <td>37.0</td>\n      <td>1</td>\n      <td>1.0</td>\n      <td>0.0</td>\n      <td>-54.03</td>\n      <td>34</td>\n      <td>0</td>\n      <td>8234</td>\n      <td>0.0</td>\n    </tr>\n    <tr>\n      <th>766881</th>\n      <td>121.0</td>\n      <td>97.0</td>\n      <td>NaN</td>\n      <td>NaN</td>\n      <td>NaN</td>\n      <td>NaN</td>\n      <td>22.0</td>\n      <td>NaN</td>\n      <td>NaN</td>\n      <td>NaN</td>\n      <td>...</td>\n      <td>NaN</td>\n      <td>37.0</td>\n      <td>1</td>\n      <td>1.0</td>\n      <td>0.0</td>\n      <td>-54.03</td>\n      <td>35</td>\n      <td>0</td>\n      <td>8234</td>\n      <td>0.0</td>\n    </tr>\n    <tr>\n      <th>766882</th>\n      <td>95.0</td>\n      <td>91.0</td>\n      <td>NaN</td>\n      <td>138.5</td>\n      <td>107.0</td>\n      <td>87.5</td>\n      <td>20.0</td>\n      <td>NaN</td>\n      <td>NaN</td>\n      <td>NaN</td>\n      <td>...</td>\n      <td>NaN</td>\n      <td>37.0</td>\n      <td>1</td>\n      <td>1.0</td>\n      <td>0.0</td>\n      <td>-54.03</td>\n      <td>36</td>\n      <td>0</td>\n      <td>8234</td>\n      <td>0.0</td>\n    </tr>\n    <tr>\n      <th>766883</th>\n      <td>122.0</td>\n      <td>100.0</td>\n      <td>NaN</td>\n      <td>169.0</td>\n      <td>139.0</td>\n      <td>116.0</td>\n      <td>20.0</td>\n      <td>NaN</td>\n      <td>NaN</td>\n      <td>NaN</td>\n      <td>...</td>\n      <td>NaN</td>\n      <td>37.0</td>\n      <td>1</td>\n      <td>1.0</td>\n      <td>0.0</td>\n      <td>-54.03</td>\n      <td>37</td>\n      <td>0</td>\n      <td>8234</td>\n      <td>0.0</td>\n    </tr>\n  </tbody>\n</table>\n<p>766884 rows × 43 columns</p>\n</div>"
     },
     "execution_count": 7,
     "metadata": {},
     "output_type": "execute_result"
    }
   ],
   "source": [
    "t_df = add_unknown_unit_column(t_df)\n",
    "t_df"
   ],
   "metadata": {
    "collapsed": false,
    "pycharm": {
     "name": "#%%\n"
    }
   }
  },
  {
   "cell_type": "code",
   "execution_count": 10,
   "outputs": [
    {
     "data": {
      "text/plain": "<AxesSubplot:>"
     },
     "execution_count": 10,
     "metadata": {},
     "output_type": "execute_result"
    },
    {
     "data": {
      "text/plain": "<Figure size 432x288 with 1 Axes>",
      "image/png": "[encoded data removed]"
     },
     "metadata": {
      "needs_background": "light"
     },
     "output_type": "display_data"
    }
   ],
   "source": [
    "t_df[vital_signs].boxplot(column='Temp')"
   ],
   "metadata": {
    "collapsed": false,
    "pycharm": {
     "name": "#%%\n"
    }
   }
  },
  {
   "cell_type": "markdown",
   "source": [
    "We use our prior knowledge together with the boxplot to determine invalid temperature values (30 < temp < 43)"
   ],
   "metadata": {
    "collapsed": false,
    "pycharm": {
     "name": "#%% md\n"
    }
   }
  },
  {
   "cell_type": "code",
   "execution_count": 11,
   "outputs": [],
   "source": [
    "t_df.loc[(t_df['Temp'] >= 43) | (t_df['Temp'] <= 30), 'Temp'] = np.nan\n",
    "t_df['Temp'] = t_df.groupby('id')['Temp'].ewm(com=0.5).mean().bfill().reset_index(level=0, drop=True)"
   ],
   "metadata": {
    "collapsed": false,
    "pycharm": {
     "name": "#%%\n"
    }
   }
  },
  {
   "cell_type": "code",
   "execution_count": 12,
   "outputs": [
    {
     "data": {
      "text/plain": "<AxesSubplot:>"
     },
     "execution_count": 12,
     "metadata": {},
     "output_type": "execute_result"
    },
    {
     "data": {
      "text/plain": "<Figure size 432x288 with 1 Axes>",
      "image/png": "[encoded data removed]"
     },
     "metadata": {
      "needs_background": "light"
     },
     "output_type": "display_data"
    }
   ],
   "source": [
    "t_df[vital_signs].boxplot(column='Temp')"
   ],
   "metadata": {
    "collapsed": false,
    "pycharm": {
     "name": "#%%\n"
    }
   }
  },
  {
   "cell_type": "code",
   "execution_count": 14,
   "outputs": [
    {
     "data": {
      "text/plain": "<AxesSubplot:>"
     },
     "execution_count": 14,
     "metadata": {},
     "output_type": "execute_result"
    },
    {
     "data": {
      "text/plain": "<Figure size 432x288 with 1 Axes>",
      "image/png": "[encoded data removed]"
     },
     "metadata": {
      "needs_background": "light"
     },
     "output_type": "display_data"
    }
   ],
   "source": [
    "t_df[vital_signs].boxplot(column='HR')"
   ],
   "metadata": {
    "collapsed": false,
    "pycharm": {
     "name": "#%%\n"
    }
   }
  },
  {
   "cell_type": "code",
   "execution_count": 17,
   "outputs": [],
   "source": [
    "t_df['HR'] = t_df.groupby('id')['HR'].ewm(com=0.5).mean().bfill().reset_index(level=0, drop=True)"
   ],
   "metadata": {
    "collapsed": false,
    "pycharm": {
     "name": "#%%\n"
    }
   }
  },
  {
   "cell_type": "code",
   "execution_count": 18,
   "outputs": [
    {
     "data": {
      "text/plain": "<AxesSubplot:>"
     },
     "execution_count": 18,
     "metadata": {},
     "output_type": "execute_result"
    },
    {
     "data": {
      "text/plain": "<Figure size 432x288 with 1 Axes>",
      "image/png": "[encoded data removed]"
     },
     "metadata": {
      "needs_background": "light"
     },
     "output_type": "display_data"
    }
   ],
   "source": [
    "t_df[vital_signs].boxplot(column='HR')"
   ],
   "metadata": {
    "collapsed": false,
    "pycharm": {
     "name": "#%%\n"
    }
   }
  },
  {
   "cell_type": "code",
   "execution_count": 19,
   "outputs": [
    {
     "data": {
      "text/plain": "<AxesSubplot:ylabel='Frequency'>"
     },
     "execution_count": 19,
     "metadata": {},
     "output_type": "execute_result"
    },
    {
     "data": {
      "text/plain": "<Figure size 432x288 with 1 Axes>",
      "image/png": "[encoded data removed]"
     },
     "metadata": {
      "needs_background": "light"
     },
     "output_type": "display_data"
    }
   ],
   "source": [
    "t_df['id'].value_counts().plot.hist(bins=370)"
   ],
   "metadata": {
    "collapsed": false,
    "pycharm": {
     "name": "#%%\n"
    }
   }
  },
  {
   "cell_type": "code",
   "execution_count": 11,
   "outputs": [],
   "source": [
    "it = (g for i, g in t_df.groupby('id'))"
   ],
   "metadata": {
    "collapsed": false,
    "pycharm": {
     "name": "#%%\n"
    }
   }
  },
  {
   "cell_type": "code",
   "execution_count": 13,
   "outputs": [
    {
     "ename": "ImportError",
     "evalue": "matplotlib is required for plotting when the default backend \"matplotlib\" is selected.",
     "output_type": "error",
     "traceback": [
      "\u001B[0;31m---------------------------------------------------------------------------\u001B[0m",
      "\u001B[0;31mImportError\u001B[0m                               Traceback (most recent call last)",
      "Input \u001B[0;32mIn [13]\u001B[0m, in \u001B[0;36m<cell line: 1>\u001B[0;34m()\u001B[0m\n\u001B[0;32m----> 1\u001B[0m \u001B[38;5;28;43mnext\u001B[39;49m\u001B[43m(\u001B[49m\u001B[43mit\u001B[49m\u001B[43m)\u001B[49m\u001B[38;5;241;43m.\u001B[39;49m\u001B[43mplot\u001B[49m\u001B[38;5;241;43m.\u001B[39;49m\u001B[43mscatter\u001B[49m\u001B[43m(\u001B[49m\u001B[43mx\u001B[49m\u001B[38;5;241;43m=\u001B[39;49m\u001B[38;5;124;43m'\u001B[39;49m\u001B[38;5;124;43mICULOS\u001B[39;49m\u001B[38;5;124;43m'\u001B[39;49m\u001B[43m,\u001B[49m\u001B[43m \u001B[49m\u001B[43my\u001B[49m\u001B[38;5;241;43m=\u001B[39;49m\u001B[38;5;124;43m'\u001B[39;49m\u001B[38;5;124;43mTemp\u001B[39;49m\u001B[38;5;124;43m'\u001B[39;49m\u001B[43m)\u001B[49m\n",
      "File \u001B[0;32m~/.conda/envs/hw1_env/lib/python3.9/site-packages/pandas/plotting/_core.py:1669\u001B[0m, in \u001B[0;36mPlotAccessor.scatter\u001B[0;34m(self, x, y, s, c, **kwargs)\u001B[0m\n\u001B[1;32m   1586\u001B[0m \u001B[38;5;28;01mdef\u001B[39;00m \u001B[38;5;21mscatter\u001B[39m(\u001B[38;5;28mself\u001B[39m, x, y, s\u001B[38;5;241m=\u001B[39m\u001B[38;5;28;01mNone\u001B[39;00m, c\u001B[38;5;241m=\u001B[39m\u001B[38;5;28;01mNone\u001B[39;00m, \u001B[38;5;241m*\u001B[39m\u001B[38;5;241m*\u001B[39mkwargs):\n\u001B[1;32m   1587\u001B[0m     \u001B[38;5;124;03m\"\"\"\u001B[39;00m\n\u001B[1;32m   1588\u001B[0m \u001B[38;5;124;03m    Create a scatter plot with varying marker point size and color.\u001B[39;00m\n\u001B[1;32m   1589\u001B[0m \n\u001B[0;32m   (...)\u001B[0m\n\u001B[1;32m   1667\u001B[0m \u001B[38;5;124;03m        ...                       colormap='viridis')\u001B[39;00m\n\u001B[1;32m   1668\u001B[0m \u001B[38;5;124;03m    \"\"\"\u001B[39;00m\n\u001B[0;32m-> 1669\u001B[0m     \u001B[38;5;28;01mreturn\u001B[39;00m \u001B[38;5;28;43mself\u001B[39;49m\u001B[43m(\u001B[49m\u001B[43mkind\u001B[49m\u001B[38;5;241;43m=\u001B[39;49m\u001B[38;5;124;43m\"\u001B[39;49m\u001B[38;5;124;43mscatter\u001B[39;49m\u001B[38;5;124;43m\"\u001B[39;49m\u001B[43m,\u001B[49m\u001B[43m \u001B[49m\u001B[43mx\u001B[49m\u001B[38;5;241;43m=\u001B[39;49m\u001B[43mx\u001B[49m\u001B[43m,\u001B[49m\u001B[43m \u001B[49m\u001B[43my\u001B[49m\u001B[38;5;241;43m=\u001B[39;49m\u001B[43my\u001B[49m\u001B[43m,\u001B[49m\u001B[43m \u001B[49m\u001B[43ms\u001B[49m\u001B[38;5;241;43m=\u001B[39;49m\u001B[43ms\u001B[49m\u001B[43m,\u001B[49m\u001B[43m \u001B[49m\u001B[43mc\u001B[49m\u001B[38;5;241;43m=\u001B[39;49m\u001B[43mc\u001B[49m\u001B[43m,\u001B[49m\u001B[43m \u001B[49m\u001B[38;5;241;43m*\u001B[39;49m\u001B[38;5;241;43m*\u001B[39;49m\u001B[43mkwargs\u001B[49m\u001B[43m)\u001B[49m\n",
      "File \u001B[0;32m~/.conda/envs/hw1_env/lib/python3.9/site-packages/pandas/plotting/_core.py:892\u001B[0m, in \u001B[0;36mPlotAccessor.__call__\u001B[0;34m(self, *args, **kwargs)\u001B[0m\n\u001B[1;32m    891\u001B[0m \u001B[38;5;28;01mdef\u001B[39;00m \u001B[38;5;21m__call__\u001B[39m(\u001B[38;5;28mself\u001B[39m, \u001B[38;5;241m*\u001B[39margs, \u001B[38;5;241m*\u001B[39m\u001B[38;5;241m*\u001B[39mkwargs):\n\u001B[0;32m--> 892\u001B[0m     plot_backend \u001B[38;5;241m=\u001B[39m \u001B[43m_get_plot_backend\u001B[49m\u001B[43m(\u001B[49m\u001B[43mkwargs\u001B[49m\u001B[38;5;241;43m.\u001B[39;49m\u001B[43mpop\u001B[49m\u001B[43m(\u001B[49m\u001B[38;5;124;43m\"\u001B[39;49m\u001B[38;5;124;43mbackend\u001B[39;49m\u001B[38;5;124;43m\"\u001B[39;49m\u001B[43m,\u001B[49m\u001B[43m \u001B[49m\u001B[38;5;28;43;01mNone\u001B[39;49;00m\u001B[43m)\u001B[49m\u001B[43m)\u001B[49m\n\u001B[1;32m    894\u001B[0m     x, y, kind, kwargs \u001B[38;5;241m=\u001B[39m \u001B[38;5;28mself\u001B[39m\u001B[38;5;241m.\u001B[39m_get_call_args(\n\u001B[1;32m    895\u001B[0m         plot_backend\u001B[38;5;241m.\u001B[39m\u001B[38;5;18m__name__\u001B[39m, \u001B[38;5;28mself\u001B[39m\u001B[38;5;241m.\u001B[39m_parent, args, kwargs\n\u001B[1;32m    896\u001B[0m     )\n\u001B[1;32m    898\u001B[0m     kind \u001B[38;5;241m=\u001B[39m \u001B[38;5;28mself\u001B[39m\u001B[38;5;241m.\u001B[39m_kind_aliases\u001B[38;5;241m.\u001B[39mget(kind, kind)\n",
      "File \u001B[0;32m~/.conda/envs/hw1_env/lib/python3.9/site-packages/pandas/plotting/_core.py:1849\u001B[0m, in \u001B[0;36m_get_plot_backend\u001B[0;34m(backend)\u001B[0m\n\u001B[1;32m   1846\u001B[0m \u001B[38;5;28;01mif\u001B[39;00m backend \u001B[38;5;129;01min\u001B[39;00m _backends:\n\u001B[1;32m   1847\u001B[0m     \u001B[38;5;28;01mreturn\u001B[39;00m _backends[backend]\n\u001B[0;32m-> 1849\u001B[0m module \u001B[38;5;241m=\u001B[39m \u001B[43m_load_backend\u001B[49m\u001B[43m(\u001B[49m\u001B[43mbackend\u001B[49m\u001B[43m)\u001B[49m\n\u001B[1;32m   1850\u001B[0m _backends[backend] \u001B[38;5;241m=\u001B[39m module\n\u001B[1;32m   1851\u001B[0m \u001B[38;5;28;01mreturn\u001B[39;00m module\n",
      "File \u001B[0;32m~/.conda/envs/hw1_env/lib/python3.9/site-packages/pandas/plotting/_core.py:1787\u001B[0m, in \u001B[0;36m_load_backend\u001B[0;34m(backend)\u001B[0m\n\u001B[1;32m   1785\u001B[0m         module \u001B[38;5;241m=\u001B[39m importlib\u001B[38;5;241m.\u001B[39mimport_module(\u001B[38;5;124m\"\u001B[39m\u001B[38;5;124mpandas.plotting._matplotlib\u001B[39m\u001B[38;5;124m\"\u001B[39m)\n\u001B[1;32m   1786\u001B[0m     \u001B[38;5;28;01mexcept\u001B[39;00m \u001B[38;5;167;01mImportError\u001B[39;00m:\n\u001B[0;32m-> 1787\u001B[0m         \u001B[38;5;28;01mraise\u001B[39;00m \u001B[38;5;167;01mImportError\u001B[39;00m(\n\u001B[1;32m   1788\u001B[0m             \u001B[38;5;124m\"\u001B[39m\u001B[38;5;124mmatplotlib is required for plotting when the \u001B[39m\u001B[38;5;124m\"\u001B[39m\n\u001B[1;32m   1789\u001B[0m             \u001B[38;5;124m'\u001B[39m\u001B[38;5;124mdefault backend \u001B[39m\u001B[38;5;124m\"\u001B[39m\u001B[38;5;124mmatplotlib\u001B[39m\u001B[38;5;124m\"\u001B[39m\u001B[38;5;124m is selected.\u001B[39m\u001B[38;5;124m'\u001B[39m\n\u001B[1;32m   1790\u001B[0m         ) \u001B[38;5;28;01mfrom\u001B[39;00m \u001B[38;5;28mNone\u001B[39m\n\u001B[1;32m   1791\u001B[0m     \u001B[38;5;28;01mreturn\u001B[39;00m module\n\u001B[1;32m   1793\u001B[0m found_backend \u001B[38;5;241m=\u001B[39m \u001B[38;5;28;01mFalse\u001B[39;00m\n",
      "\u001B[0;31mImportError\u001B[0m: matplotlib is required for plotting when the default backend \"matplotlib\" is selected."
     ]
    }
   ],
   "source": [
    "next(it).plot.scatter(x='ICULOS', y='Temp')"
   ],
   "metadata": {
    "collapsed": false,
    "pycharm": {
     "name": "#%%\n"
    }
   }
  },
  {
   "cell_type": "code",
   "execution_count": 62,
   "outputs": [
    {
     "ename": "AttributeError",
     "evalue": "'DataFrameGroupBy' object has no attribute 'isna'",
     "output_type": "error",
     "traceback": [
      "\u001B[0;31m---------------------------------------------------------------------------\u001B[0m",
      "\u001B[0;31mAttributeError\u001B[0m                            Traceback (most recent call last)",
      "Input \u001B[0;32mIn [62]\u001B[0m, in \u001B[0;36m<cell line: 1>\u001B[0;34m()\u001B[0m\n\u001B[0;32m----> 1\u001B[0m t_df[\u001B[43mt_df\u001B[49m\u001B[38;5;241;43m.\u001B[39;49m\u001B[43mgroupby\u001B[49m\u001B[43m(\u001B[49m\u001B[38;5;124;43m'\u001B[39;49m\u001B[38;5;124;43mid\u001B[39;49m\u001B[38;5;124;43m'\u001B[39;49m\u001B[43m)\u001B[49m\u001B[38;5;241;43m.\u001B[39;49m\u001B[43misna\u001B[49m()\u001B[38;5;241m.\u001B[39many()]\n",
      "File \u001B[0;32m~/.conda/envs/hw1_env/lib/python3.9/site-packages/pandas/core/groupby/groupby.py:904\u001B[0m, in \u001B[0;36mGroupBy.__getattr__\u001B[0;34m(self, attr)\u001B[0m\n\u001B[1;32m    901\u001B[0m \u001B[38;5;28;01mif\u001B[39;00m attr \u001B[38;5;129;01min\u001B[39;00m \u001B[38;5;28mself\u001B[39m\u001B[38;5;241m.\u001B[39mobj:\n\u001B[1;32m    902\u001B[0m     \u001B[38;5;28;01mreturn\u001B[39;00m \u001B[38;5;28mself\u001B[39m[attr]\n\u001B[0;32m--> 904\u001B[0m \u001B[38;5;28;01mraise\u001B[39;00m \u001B[38;5;167;01mAttributeError\u001B[39;00m(\n\u001B[1;32m    905\u001B[0m     \u001B[38;5;124mf\u001B[39m\u001B[38;5;124m\"\u001B[39m\u001B[38;5;124m'\u001B[39m\u001B[38;5;132;01m{\u001B[39;00m\u001B[38;5;28mtype\u001B[39m(\u001B[38;5;28mself\u001B[39m)\u001B[38;5;241m.\u001B[39m\u001B[38;5;18m__name__\u001B[39m\u001B[38;5;132;01m}\u001B[39;00m\u001B[38;5;124m'\u001B[39m\u001B[38;5;124m object has no attribute \u001B[39m\u001B[38;5;124m'\u001B[39m\u001B[38;5;132;01m{\u001B[39;00mattr\u001B[38;5;132;01m}\u001B[39;00m\u001B[38;5;124m'\u001B[39m\u001B[38;5;124m\"\u001B[39m\n\u001B[1;32m    906\u001B[0m )\n",
      "\u001B[0;31mAttributeError\u001B[0m: 'DataFrameGroupBy' object has no attribute 'isna'"
     ]
    }
   ],
   "source": [
    "t_df[t_df['Unit1'].isna().groupby('id').any()]"
   ],
   "metadata": {
    "collapsed": false,
    "pycharm": {
     "name": "#%%\n"
    }
   }
  },
  {
   "cell_type": "code",
   "execution_count": 29,
   "outputs": [
    {
     "data": {
      "text/plain": "         BaseExcess  HCO3  FiO2  pH  PaCO2  SaO2  AST  BUN  Alkalinephos  \\\nid                                                                         \n0.0               0     1     0   0      0     0    0    1             0   \n1.0               4     4     8   4      4     0    0    3             0   \n2.0               0     1     3   0      0     0    1    1             1   \n3.0               0     2     0   0      0     0    0    2             0   \n4.0               0     0     0   0      0     0    0    1             0   \n...             ...   ...   ...  ..    ...   ...  ...  ...           ...   \n19995.0           2     0     7   4      2     2    0    1             0   \n19996.0           5     2    14   5      5     0    0    2             0   \n19997.0           0     1     0   0      0     0    0    1             0   \n19998.0           3     3     9   4      3     0    0    3             0   \n19999.0           7     2     4   7      6     4    1    2             1   \n\n         Calcium  ...  Phosphate  Potassium  Bilirubin_total  TroponinI  Hct  \\\nid                ...                                                          \n0.0            1  ...          1          1                0          0    1   \n1.0            3  ...          3          3                0          0    4   \n2.0            0  ...          0          1                1          0    1   \n3.0            2  ...          2          2                0          0    2   \n4.0            1  ...          0          2                0          0    1   \n...          ...  ...        ...        ...              ...        ...  ...   \n19995.0        0  ...          0          0                0          0    5   \n19996.0        2  ...          2          2                0          0    3   \n19997.0        1  ...          1          1                0          0    1   \n19998.0        2  ...          1          4                0          0    3   \n19999.0        2  ...          2          2                1          0    2   \n\n         Hgb  PTT  WBC  Fibrinogen  Platelets  \nid                                             \n0.0        1    0    1           0          1  \n1.0        4    2    3           0          3  \n2.0        1    1    1           0          1  \n3.0        2    2    2           0          2  \n4.0        1    0    1           0          1  \n...      ...  ...  ...         ...        ...  \n19995.0    5    0    0           0          0  \n19996.0    1    0    1           0          1  \n19997.0    1    1    1           0          1  \n19998.0    3    2    3           0          3  \n19999.0    2    0    2           0          2  \n\n[20000 rows x 26 columns]",
      "text/html": "<div>\n<style scoped>\n    .dataframe tbody tr th:only-of-type {\n        vertical-align: middle;\n    }\n\n    .dataframe tbody tr th {\n        vertical-align: top;\n    }\n\n    .dataframe thead th {\n        text-align: right;\n    }\n</style>\n<table border=\"1\" class=\"dataframe\">\n  <thead>\n    <tr style=\"text-align: right;\">\n      <th></th>\n      <th>BaseExcess</th>\n      <th>HCO3</th>\n      <th>FiO2</th>\n      <th>pH</th>\n      <th>PaCO2</th>\n      <th>SaO2</th>\n      <th>AST</th>\n      <th>BUN</th>\n      <th>Alkalinephos</th>\n      <th>Calcium</th>\n      <th>...</th>\n      <th>Phosphate</th>\n      <th>Potassium</th>\n      <th>Bilirubin_total</th>\n      <th>TroponinI</th>\n      <th>Hct</th>\n      <th>Hgb</th>\n      <th>PTT</th>\n      <th>WBC</th>\n      <th>Fibrinogen</th>\n      <th>Platelets</th>\n    </tr>\n    <tr>\n      <th>id</th>\n      <th></th>\n      <th></th>\n      <th></th>\n      <th></th>\n      <th></th>\n      <th></th>\n      <th></th>\n      <th></th>\n      <th></th>\n      <th></th>\n      <th></th>\n      <th></th>\n      <th></th>\n      <th></th>\n      <th></th>\n      <th></th>\n      <th></th>\n      <th></th>\n      <th></th>\n      <th></th>\n      <th></th>\n    </tr>\n  </thead>\n  <tbody>\n    <tr>\n      <th>0.0</th>\n      <td>0</td>\n      <td>1</td>\n      <td>0</td>\n      <td>0</td>\n      <td>0</td>\n      <td>0</td>\n      <td>0</td>\n      <td>1</td>\n      <td>0</td>\n      <td>1</td>\n      <td>...</td>\n      <td>1</td>\n      <td>1</td>\n      <td>0</td>\n      <td>0</td>\n      <td>1</td>\n      <td>1</td>\n      <td>0</td>\n      <td>1</td>\n      <td>0</td>\n      <td>1</td>\n    </tr>\n    <tr>\n      <th>1.0</th>\n      <td>4</td>\n      <td>4</td>\n      <td>8</td>\n      <td>4</td>\n      <td>4</td>\n      <td>0</td>\n      <td>0</td>\n      <td>3</td>\n      <td>0</td>\n      <td>3</td>\n      <td>...</td>\n      <td>3</td>\n      <td>3</td>\n      <td>0</td>\n      <td>0</td>\n      <td>4</td>\n      <td>4</td>\n      <td>2</td>\n      <td>3</td>\n      <td>0</td>\n      <td>3</td>\n    </tr>\n    <tr>\n      <th>2.0</th>\n      <td>0</td>\n      <td>1</td>\n      <td>3</td>\n      <td>0</td>\n      <td>0</td>\n      <td>0</td>\n      <td>1</td>\n      <td>1</td>\n      <td>1</td>\n      <td>0</td>\n      <td>...</td>\n      <td>0</td>\n      <td>1</td>\n      <td>1</td>\n      <td>0</td>\n      <td>1</td>\n      <td>1</td>\n      <td>1</td>\n      <td>1</td>\n      <td>0</td>\n      <td>1</td>\n    </tr>\n    <tr>\n      <th>3.0</th>\n      <td>0</td>\n      <td>2</td>\n      <td>0</td>\n      <td>0</td>\n      <td>0</td>\n      <td>0</td>\n      <td>0</td>\n      <td>2</td>\n      <td>0</td>\n      <td>2</td>\n      <td>...</td>\n      <td>2</td>\n      <td>2</td>\n      <td>0</td>\n      <td>0</td>\n      <td>2</td>\n      <td>2</td>\n      <td>2</td>\n      <td>2</td>\n      <td>0</td>\n      <td>2</td>\n    </tr>\n    <tr>\n      <th>4.0</th>\n      <td>0</td>\n      <td>0</td>\n      <td>0</td>\n      <td>0</td>\n      <td>0</td>\n      <td>0</td>\n      <td>0</td>\n      <td>1</td>\n      <td>0</td>\n      <td>1</td>\n      <td>...</td>\n      <td>0</td>\n      <td>2</td>\n      <td>0</td>\n      <td>0</td>\n      <td>1</td>\n      <td>1</td>\n      <td>0</td>\n      <td>1</td>\n      <td>0</td>\n      <td>1</td>\n    </tr>\n    <tr>\n      <th>...</th>\n      <td>...</td>\n      <td>...</td>\n      <td>...</td>\n      <td>...</td>\n      <td>...</td>\n      <td>...</td>\n      <td>...</td>\n      <td>...</td>\n      <td>...</td>\n      <td>...</td>\n      <td>...</td>\n      <td>...</td>\n      <td>...</td>\n      <td>...</td>\n      <td>...</td>\n      <td>...</td>\n      <td>...</td>\n      <td>...</td>\n      <td>...</td>\n      <td>...</td>\n      <td>...</td>\n    </tr>\n    <tr>\n      <th>19995.0</th>\n      <td>2</td>\n      <td>0</td>\n      <td>7</td>\n      <td>4</td>\n      <td>2</td>\n      <td>2</td>\n      <td>0</td>\n      <td>1</td>\n      <td>0</td>\n      <td>0</td>\n      <td>...</td>\n      <td>0</td>\n      <td>0</td>\n      <td>0</td>\n      <td>0</td>\n      <td>5</td>\n      <td>5</td>\n      <td>0</td>\n      <td>0</td>\n      <td>0</td>\n      <td>0</td>\n    </tr>\n    <tr>\n      <th>19996.0</th>\n      <td>5</td>\n      <td>2</td>\n      <td>14</td>\n      <td>5</td>\n      <td>5</td>\n      <td>0</td>\n      <td>0</td>\n      <td>2</td>\n      <td>0</td>\n      <td>2</td>\n      <td>...</td>\n      <td>2</td>\n      <td>2</td>\n      <td>0</td>\n      <td>0</td>\n      <td>3</td>\n      <td>1</td>\n      <td>0</td>\n      <td>1</td>\n      <td>0</td>\n      <td>1</td>\n    </tr>\n    <tr>\n      <th>19997.0</th>\n      <td>0</td>\n      <td>1</td>\n      <td>0</td>\n      <td>0</td>\n      <td>0</td>\n      <td>0</td>\n      <td>0</td>\n      <td>1</td>\n      <td>0</td>\n      <td>1</td>\n      <td>...</td>\n      <td>1</td>\n      <td>1</td>\n      <td>0</td>\n      <td>0</td>\n      <td>1</td>\n      <td>1</td>\n      <td>1</td>\n      <td>1</td>\n      <td>0</td>\n      <td>1</td>\n    </tr>\n    <tr>\n      <th>19998.0</th>\n      <td>3</td>\n      <td>3</td>\n      <td>9</td>\n      <td>4</td>\n      <td>3</td>\n      <td>0</td>\n      <td>0</td>\n      <td>3</td>\n      <td>0</td>\n      <td>2</td>\n      <td>...</td>\n      <td>1</td>\n      <td>4</td>\n      <td>0</td>\n      <td>0</td>\n      <td>3</td>\n      <td>3</td>\n      <td>2</td>\n      <td>3</td>\n      <td>0</td>\n      <td>3</td>\n    </tr>\n    <tr>\n      <th>19999.0</th>\n      <td>7</td>\n      <td>2</td>\n      <td>4</td>\n      <td>7</td>\n      <td>6</td>\n      <td>4</td>\n      <td>1</td>\n      <td>2</td>\n      <td>1</td>\n      <td>2</td>\n      <td>...</td>\n      <td>2</td>\n      <td>2</td>\n      <td>1</td>\n      <td>0</td>\n      <td>2</td>\n      <td>2</td>\n      <td>0</td>\n      <td>2</td>\n      <td>0</td>\n      <td>2</td>\n    </tr>\n  </tbody>\n</table>\n<p>20000 rows × 26 columns</p>\n</div>"
     },
     "execution_count": 29,
     "metadata": {},
     "output_type": "execute_result"
    }
   ],
   "source": [
    "t_df[list(lab_values) + ['id']].groupby('id').count()"
   ],
   "metadata": {
    "collapsed": false,
    "pycharm": {
     "name": "#%%\n"
    }
   }
  },
  {
   "cell_type": "code",
   "execution_count": 34,
   "outputs": [
    {
     "data": {
      "text/plain": "        BaseExcess  HCO3  FiO2  pH  PaCO2  SaO2  AST  BUN  Alkalinephos  \\\n0              NaN   NaN   NaN NaN    NaN   NaN  NaN  NaN           NaN   \n1              NaN   NaN   NaN NaN    NaN   NaN  NaN  NaN           NaN   \n2              NaN   NaN   NaN NaN    NaN   NaN  NaN  NaN           NaN   \n3              NaN   NaN   NaN NaN    NaN   NaN  NaN  NaN           NaN   \n4              NaN   NaN   NaN NaN    NaN   NaN  NaN  NaN           NaN   \n...            ...   ...   ...  ..    ...   ...  ...  ...           ...   \n776768         NaN   NaN   NaN NaN    NaN   NaN  NaN  NaN           NaN   \n776769         NaN   NaN   NaN NaN    NaN   NaN  NaN  NaN           NaN   \n776770         NaN   NaN   NaN NaN    NaN   NaN  NaN  NaN           NaN   \n776771         NaN   NaN   NaN NaN    NaN   NaN  NaN  NaN           NaN   \n776772         NaN   NaN   NaN NaN    NaN   NaN  NaN  NaN           NaN   \n\n        Calcium  ...  Potassium  Bilirubin_total  TroponinI  Hct  Hgb  PTT  \\\n0           NaN  ...        NaN              NaN        NaN  NaN  NaN  NaN   \n1           NaN  ...        NaN              NaN        NaN  NaN  NaN  NaN   \n2           NaN  ...        NaN              NaN        NaN  NaN  NaN  NaN   \n3           NaN  ...        NaN              NaN        NaN  NaN  NaN  NaN   \n4           NaN  ...        NaN              NaN        NaN  NaN  NaN  NaN   \n...         ...  ...        ...              ...        ...  ...  ...  ...   \n776768      NaN  ...        NaN              NaN        NaN  NaN  NaN  NaN   \n776769      NaN  ...        NaN              NaN        NaN  NaN  NaN  NaN   \n776770      NaN  ...        NaN              NaN        NaN  NaN  NaN  NaN   \n776771      NaN  ...        NaN              NaN        NaN  NaN  NaN  NaN   \n776772      NaN  ...        NaN              NaN        NaN  NaN  NaN  NaN   \n\n        WBC  Fibrinogen  Platelets       id  \n0       NaN         NaN        NaN      0.0  \n1       NaN         NaN        NaN      0.0  \n2       NaN         NaN        NaN      0.0  \n3       NaN         NaN        NaN      0.0  \n4       NaN         NaN        NaN      0.0  \n...     ...         ...        ...      ...  \n776768  NaN         NaN        NaN  19999.0  \n776769  NaN         NaN        NaN  19999.0  \n776770  NaN         NaN        NaN  19999.0  \n776771  NaN         NaN        NaN  19999.0  \n776772  NaN         NaN        NaN  19999.0  \n\n[776773 rows x 27 columns]",
      "text/html": "<div>\n<style scoped>\n    .dataframe tbody tr th:only-of-type {\n        vertical-align: middle;\n    }\n\n    .dataframe tbody tr th {\n        vertical-align: top;\n    }\n\n    .dataframe thead th {\n        text-align: right;\n    }\n</style>\n<table border=\"1\" class=\"dataframe\">\n  <thead>\n    <tr style=\"text-align: right;\">\n      <th></th>\n      <th>BaseExcess</th>\n      <th>HCO3</th>\n      <th>FiO2</th>\n      <th>pH</th>\n      <th>PaCO2</th>\n      <th>SaO2</th>\n      <th>AST</th>\n      <th>BUN</th>\n      <th>Alkalinephos</th>\n      <th>Calcium</th>\n      <th>...</th>\n      <th>Potassium</th>\n      <th>Bilirubin_total</th>\n      <th>TroponinI</th>\n      <th>Hct</th>\n      <th>Hgb</th>\n      <th>PTT</th>\n      <th>WBC</th>\n      <th>Fibrinogen</th>\n      <th>Platelets</th>\n      <th>id</th>\n    </tr>\n  </thead>\n  <tbody>\n    <tr>\n      <th>0</th>\n      <td>NaN</td>\n      <td>NaN</td>\n      <td>NaN</td>\n      <td>NaN</td>\n      <td>NaN</td>\n      <td>NaN</td>\n      <td>NaN</td>\n      <td>NaN</td>\n      <td>NaN</td>\n      <td>NaN</td>\n      <td>...</td>\n      <td>NaN</td>\n      <td>NaN</td>\n      <td>NaN</td>\n      <td>NaN</td>\n      <td>NaN</td>\n      <td>NaN</td>\n      <td>NaN</td>\n      <td>NaN</td>\n      <td>NaN</td>\n      <td>0.0</td>\n    </tr>\n    <tr>\n      <th>1</th>\n      <td>NaN</td>\n      <td>NaN</td>\n      <td>NaN</td>\n      <td>NaN</td>\n      <td>NaN</td>\n      <td>NaN</td>\n      <td>NaN</td>\n      <td>NaN</td>\n      <td>NaN</td>\n      <td>NaN</td>\n      <td>...</td>\n      <td>NaN</td>\n      <td>NaN</td>\n      <td>NaN</td>\n      <td>NaN</td>\n      <td>NaN</td>\n      <td>NaN</td>\n      <td>NaN</td>\n      <td>NaN</td>\n      <td>NaN</td>\n      <td>0.0</td>\n    </tr>\n    <tr>\n      <th>2</th>\n      <td>NaN</td>\n      <td>NaN</td>\n      <td>NaN</td>\n      <td>NaN</td>\n      <td>NaN</td>\n      <td>NaN</td>\n      <td>NaN</td>\n      <td>NaN</td>\n      <td>NaN</td>\n      <td>NaN</td>\n      <td>...</td>\n      <td>NaN</td>\n      <td>NaN</td>\n      <td>NaN</td>\n      <td>NaN</td>\n      <td>NaN</td>\n      <td>NaN</td>\n      <td>NaN</td>\n      <td>NaN</td>\n      <td>NaN</td>\n      <td>0.0</td>\n    </tr>\n    <tr>\n      <th>3</th>\n      <td>NaN</td>\n      <td>NaN</td>\n      <td>NaN</td>\n      <td>NaN</td>\n      <td>NaN</td>\n      <td>NaN</td>\n      <td>NaN</td>\n      <td>NaN</td>\n      <td>NaN</td>\n      <td>NaN</td>\n      <td>...</td>\n      <td>NaN</td>\n      <td>NaN</td>\n      <td>NaN</td>\n      <td>NaN</td>\n      <td>NaN</td>\n      <td>NaN</td>\n      <td>NaN</td>\n      <td>NaN</td>\n      <td>NaN</td>\n      <td>0.0</td>\n    </tr>\n    <tr>\n      <th>4</th>\n      <td>NaN</td>\n      <td>NaN</td>\n      <td>NaN</td>\n      <td>NaN</td>\n      <td>NaN</td>\n      <td>NaN</td>\n      <td>NaN</td>\n      <td>NaN</td>\n      <td>NaN</td>\n      <td>NaN</td>\n      <td>...</td>\n      <td>NaN</td>\n      <td>NaN</td>\n      <td>NaN</td>\n      <td>NaN</td>\n      <td>NaN</td>\n      <td>NaN</td>\n      <td>NaN</td>\n      <td>NaN</td>\n      <td>NaN</td>\n      <td>0.0</td>\n    </tr>\n    <tr>\n      <th>...</th>\n      <td>...</td>\n      <td>...</td>\n      <td>...</td>\n      <td>...</td>\n      <td>...</td>\n      <td>...</td>\n      <td>...</td>\n      <td>...</td>\n      <td>...</td>\n      <td>...</td>\n      <td>...</td>\n      <td>...</td>\n      <td>...</td>\n      <td>...</td>\n      <td>...</td>\n      <td>...</td>\n      <td>...</td>\n      <td>...</td>\n      <td>...</td>\n      <td>...</td>\n      <td>...</td>\n    </tr>\n    <tr>\n      <th>776768</th>\n      <td>NaN</td>\n      <td>NaN</td>\n      <td>NaN</td>\n      <td>NaN</td>\n      <td>NaN</td>\n      <td>NaN</td>\n      <td>NaN</td>\n      <td>NaN</td>\n      <td>NaN</td>\n      <td>NaN</td>\n      <td>...</td>\n      <td>NaN</td>\n      <td>NaN</td>\n      <td>NaN</td>\n      <td>NaN</td>\n      <td>NaN</td>\n      <td>NaN</td>\n      <td>NaN</td>\n      <td>NaN</td>\n      <td>NaN</td>\n      <td>19999.0</td>\n    </tr>\n    <tr>\n      <th>776769</th>\n      <td>NaN</td>\n      <td>NaN</td>\n      <td>NaN</td>\n      <td>NaN</td>\n      <td>NaN</td>\n      <td>NaN</td>\n      <td>NaN</td>\n      <td>NaN</td>\n      <td>NaN</td>\n      <td>NaN</td>\n      <td>...</td>\n      <td>NaN</td>\n      <td>NaN</td>\n      <td>NaN</td>\n      <td>NaN</td>\n      <td>NaN</td>\n      <td>NaN</td>\n      <td>NaN</td>\n      <td>NaN</td>\n      <td>NaN</td>\n      <td>19999.0</td>\n    </tr>\n    <tr>\n      <th>776770</th>\n      <td>NaN</td>\n      <td>NaN</td>\n      <td>NaN</td>\n      <td>NaN</td>\n      <td>NaN</td>\n      <td>NaN</td>\n      <td>NaN</td>\n      <td>NaN</td>\n      <td>NaN</td>\n      <td>NaN</td>\n      <td>...</td>\n      <td>NaN</td>\n      <td>NaN</td>\n      <td>NaN</td>\n      <td>NaN</td>\n      <td>NaN</td>\n      <td>NaN</td>\n      <td>NaN</td>\n      <td>NaN</td>\n      <td>NaN</td>\n      <td>19999.0</td>\n    </tr>\n    <tr>\n      <th>776771</th>\n      <td>NaN</td>\n      <td>NaN</td>\n      <td>NaN</td>\n      <td>NaN</td>\n      <td>NaN</td>\n      <td>NaN</td>\n      <td>NaN</td>\n      <td>NaN</td>\n      <td>NaN</td>\n      <td>NaN</td>\n      <td>...</td>\n      <td>NaN</td>\n      <td>NaN</td>\n      <td>NaN</td>\n      <td>NaN</td>\n      <td>NaN</td>\n      <td>NaN</td>\n      <td>NaN</td>\n      <td>NaN</td>\n      <td>NaN</td>\n      <td>19999.0</td>\n    </tr>\n    <tr>\n      <th>776772</th>\n      <td>NaN</td>\n      <td>NaN</td>\n      <td>NaN</td>\n      <td>NaN</td>\n      <td>NaN</td>\n      <td>NaN</td>\n      <td>NaN</td>\n      <td>NaN</td>\n      <td>NaN</td>\n      <td>NaN</td>\n      <td>...</td>\n      <td>NaN</td>\n      <td>NaN</td>\n      <td>NaN</td>\n      <td>NaN</td>\n      <td>NaN</td>\n      <td>NaN</td>\n      <td>NaN</td>\n      <td>NaN</td>\n      <td>NaN</td>\n      <td>19999.0</td>\n    </tr>\n  </tbody>\n</table>\n<p>776773 rows × 27 columns</p>\n</div>"
     },
     "execution_count": 34,
     "metadata": {},
     "output_type": "execute_result"
    }
   ],
   "source": [
    "t_df[list(lab_values) + ['id']]"
   ],
   "metadata": {
    "collapsed": false,
    "pycharm": {
     "name": "#%%\n"
    }
   }
  },
  {
   "cell_type": "code",
   "execution_count": null,
   "outputs": [],
   "source": [
    "import seaborn as sb\n",
    "corr = t_df.corr()\n",
    "sb.heatmap(corr, cmap=\"Blues\", annot=True)"
   ],
   "metadata": {
    "collapsed": false,
    "pycharm": {
     "name": "#%%\n"
    }
   }
  },
  {
   "cell_type": "code",
   "execution_count": 43,
   "outputs": [
    {
     "data": {
      "text/plain": "               HR  O2Sat       Temp    SBP   MAP   DBP  Resp  EtCO2  \\\n0       61.000000    NaN  36.440000    NaN   NaN   NaN   NaN    NaN   \n1       61.000000   99.0  36.440000  124.0  65.0  43.0  17.5    NaN   \n2       63.250000   98.0  36.440000  125.0  64.0  41.0  27.0    NaN   \n3       58.230769  100.0  36.440000  123.0  65.0  41.0   9.0    NaN   \n4       63.475000   99.0  36.440000  120.0  67.0  43.0  23.0    NaN   \n...           ...    ...        ...    ...   ...   ...   ...    ...   \n776768  83.485047    NaN  36.330025   85.0  53.0   NaN  17.0    NaN   \n776769  81.828180   99.0  36.330008   99.0  51.0   NaN  17.0    NaN   \n776770  83.942798  100.0  36.330003  103.0  48.0   NaN  26.0    NaN   \n776771  85.314282   93.0  36.330001   87.0  44.0   NaN  22.0    NaN   \n776772  84.438091   85.0  36.330000   78.0  44.0   NaN  18.0    NaN   \n\n        BaseExcess  HCO3  ...  Platelets    Age  Gender  Unit1  Unit2  \\\n0              NaN   NaN  ...        NaN  75.91     0.0    0.0    1.0   \n1              NaN   NaN  ...        NaN  75.91     0.0    0.0    1.0   \n2              NaN   NaN  ...        NaN  75.91     0.0    0.0    1.0   \n3              NaN   NaN  ...        NaN  75.91     0.0    0.0    1.0   \n4              NaN   NaN  ...        NaN  75.91     0.0    0.0    1.0   \n...            ...   ...  ...        ...    ...     ...    ...    ...   \n776768         NaN   NaN  ...        NaN  83.14     0.0    0.0    0.0   \n776769         NaN   NaN  ...        NaN  83.14     0.0    0.0    0.0   \n776770         NaN   NaN  ...        NaN  83.14     0.0    0.0    0.0   \n776771         NaN   NaN  ...        NaN  83.14     0.0    0.0    0.0   \n776772         NaN   NaN  ...        NaN  83.14     0.0    0.0    0.0   \n\n        HospAdmTime  ICULOS  SepsisLabel       id  Unit3  \n0            -98.60       1          0.0      0.0    0.0  \n1            -98.60       2          0.0      0.0    0.0  \n2            -98.60       3          0.0      0.0    0.0  \n3            -98.60       4          0.0      0.0    0.0  \n4            -98.60       5          0.0      0.0    0.0  \n...             ...     ...          ...      ...    ...  \n776768        -0.03      50          0.0  19999.0    1.0  \n776769        -0.03      51          0.0  19999.0    1.0  \n776770        -0.03      52          0.0  19999.0    1.0  \n776771        -0.03      53          0.0  19999.0    1.0  \n776772        -0.03      54          0.0  19999.0    1.0  \n\n[776773 rows x 43 columns]",
      "text/html": "<div>\n<style scoped>\n    .dataframe tbody tr th:only-of-type {\n        vertical-align: middle;\n    }\n\n    .dataframe tbody tr th {\n        vertical-align: top;\n    }\n\n    .dataframe thead th {\n        text-align: right;\n    }\n</style>\n<table border=\"1\" class=\"dataframe\">\n  <thead>\n    <tr style=\"text-align: right;\">\n      <th></th>\n      <th>HR</th>\n      <th>O2Sat</th>\n      <th>Temp</th>\n      <th>SBP</th>\n      <th>MAP</th>\n      <th>DBP</th>\n      <th>Resp</th>\n      <th>EtCO2</th>\n      <th>BaseExcess</th>\n      <th>HCO3</th>\n      <th>...</th>\n      <th>Platelets</th>\n      <th>Age</th>\n      <th>Gender</th>\n      <th>Unit1</th>\n      <th>Unit2</th>\n      <th>HospAdmTime</th>\n      <th>ICULOS</th>\n      <th>SepsisLabel</th>\n      <th>id</th>\n      <th>Unit3</th>\n    </tr>\n  </thead>\n  <tbody>\n    <tr>\n      <th>0</th>\n      <td>61.000000</td>\n      <td>NaN</td>\n      <td>36.440000</td>\n      <td>NaN</td>\n      <td>NaN</td>\n      <td>NaN</td>\n      <td>NaN</td>\n      <td>NaN</td>\n      <td>NaN</td>\n      <td>NaN</td>\n      <td>...</td>\n      <td>NaN</td>\n      <td>75.91</td>\n      <td>0.0</td>\n      <td>0.0</td>\n      <td>1.0</td>\n      <td>-98.60</td>\n      <td>1</td>\n      <td>0.0</td>\n      <td>0.0</td>\n      <td>0.0</td>\n    </tr>\n    <tr>\n      <th>1</th>\n      <td>61.000000</td>\n      <td>99.0</td>\n      <td>36.440000</td>\n      <td>124.0</td>\n      <td>65.0</td>\n      <td>43.0</td>\n      <td>17.5</td>\n      <td>NaN</td>\n      <td>NaN</td>\n      <td>NaN</td>\n      <td>...</td>\n      <td>NaN</td>\n      <td>75.91</td>\n      <td>0.0</td>\n      <td>0.0</td>\n      <td>1.0</td>\n      <td>-98.60</td>\n      <td>2</td>\n      <td>0.0</td>\n      <td>0.0</td>\n      <td>0.0</td>\n    </tr>\n    <tr>\n      <th>2</th>\n      <td>63.250000</td>\n      <td>98.0</td>\n      <td>36.440000</td>\n      <td>125.0</td>\n      <td>64.0</td>\n      <td>41.0</td>\n      <td>27.0</td>\n      <td>NaN</td>\n      <td>NaN</td>\n      <td>NaN</td>\n      <td>...</td>\n      <td>NaN</td>\n      <td>75.91</td>\n      <td>0.0</td>\n      <td>0.0</td>\n      <td>1.0</td>\n      <td>-98.60</td>\n      <td>3</td>\n      <td>0.0</td>\n      <td>0.0</td>\n      <td>0.0</td>\n    </tr>\n    <tr>\n      <th>3</th>\n      <td>58.230769</td>\n      <td>100.0</td>\n      <td>36.440000</td>\n      <td>123.0</td>\n      <td>65.0</td>\n      <td>41.0</td>\n      <td>9.0</td>\n      <td>NaN</td>\n      <td>NaN</td>\n      <td>NaN</td>\n      <td>...</td>\n      <td>NaN</td>\n      <td>75.91</td>\n      <td>0.0</td>\n      <td>0.0</td>\n      <td>1.0</td>\n      <td>-98.60</td>\n      <td>4</td>\n      <td>0.0</td>\n      <td>0.0</td>\n      <td>0.0</td>\n    </tr>\n    <tr>\n      <th>4</th>\n      <td>63.475000</td>\n      <td>99.0</td>\n      <td>36.440000</td>\n      <td>120.0</td>\n      <td>67.0</td>\n      <td>43.0</td>\n      <td>23.0</td>\n      <td>NaN</td>\n      <td>NaN</td>\n      <td>NaN</td>\n      <td>...</td>\n      <td>NaN</td>\n      <td>75.91</td>\n      <td>0.0</td>\n      <td>0.0</td>\n      <td>1.0</td>\n      <td>-98.60</td>\n      <td>5</td>\n      <td>0.0</td>\n      <td>0.0</td>\n      <td>0.0</td>\n    </tr>\n    <tr>\n      <th>...</th>\n      <td>...</td>\n      <td>...</td>\n      <td>...</td>\n      <td>...</td>\n      <td>...</td>\n      <td>...</td>\n      <td>...</td>\n      <td>...</td>\n      <td>...</td>\n      <td>...</td>\n      <td>...</td>\n      <td>...</td>\n      <td>...</td>\n      <td>...</td>\n      <td>...</td>\n      <td>...</td>\n      <td>...</td>\n      <td>...</td>\n      <td>...</td>\n      <td>...</td>\n      <td>...</td>\n    </tr>\n    <tr>\n      <th>776768</th>\n      <td>83.485047</td>\n      <td>NaN</td>\n      <td>36.330025</td>\n      <td>85.0</td>\n      <td>53.0</td>\n      <td>NaN</td>\n      <td>17.0</td>\n      <td>NaN</td>\n      <td>NaN</td>\n      <td>NaN</td>\n      <td>...</td>\n      <td>NaN</td>\n      <td>83.14</td>\n      <td>0.0</td>\n      <td>0.0</td>\n      <td>0.0</td>\n      <td>-0.03</td>\n      <td>50</td>\n      <td>0.0</td>\n      <td>19999.0</td>\n      <td>1.0</td>\n    </tr>\n    <tr>\n      <th>776769</th>\n      <td>81.828180</td>\n      <td>99.0</td>\n      <td>36.330008</td>\n      <td>99.0</td>\n      <td>51.0</td>\n      <td>NaN</td>\n      <td>17.0</td>\n      <td>NaN</td>\n      <td>NaN</td>\n      <td>NaN</td>\n      <td>...</td>\n      <td>NaN</td>\n      <td>83.14</td>\n      <td>0.0</td>\n      <td>0.0</td>\n      <td>0.0</td>\n      <td>-0.03</td>\n      <td>51</td>\n      <td>0.0</td>\n      <td>19999.0</td>\n      <td>1.0</td>\n    </tr>\n    <tr>\n      <th>776770</th>\n      <td>83.942798</td>\n      <td>100.0</td>\n      <td>36.330003</td>\n      <td>103.0</td>\n      <td>48.0</td>\n      <td>NaN</td>\n      <td>26.0</td>\n      <td>NaN</td>\n      <td>NaN</td>\n      <td>NaN</td>\n      <td>...</td>\n      <td>NaN</td>\n      <td>83.14</td>\n      <td>0.0</td>\n      <td>0.0</td>\n      <td>0.0</td>\n      <td>-0.03</td>\n      <td>52</td>\n      <td>0.0</td>\n      <td>19999.0</td>\n      <td>1.0</td>\n    </tr>\n    <tr>\n      <th>776771</th>\n      <td>85.314282</td>\n      <td>93.0</td>\n      <td>36.330001</td>\n      <td>87.0</td>\n      <td>44.0</td>\n      <td>NaN</td>\n      <td>22.0</td>\n      <td>NaN</td>\n      <td>NaN</td>\n      <td>NaN</td>\n      <td>...</td>\n      <td>NaN</td>\n      <td>83.14</td>\n      <td>0.0</td>\n      <td>0.0</td>\n      <td>0.0</td>\n      <td>-0.03</td>\n      <td>53</td>\n      <td>0.0</td>\n      <td>19999.0</td>\n      <td>1.0</td>\n    </tr>\n    <tr>\n      <th>776772</th>\n      <td>84.438091</td>\n      <td>85.0</td>\n      <td>36.330000</td>\n      <td>78.0</td>\n      <td>44.0</td>\n      <td>NaN</td>\n      <td>18.0</td>\n      <td>NaN</td>\n      <td>NaN</td>\n      <td>NaN</td>\n      <td>...</td>\n      <td>NaN</td>\n      <td>83.14</td>\n      <td>0.0</td>\n      <td>0.0</td>\n      <td>0.0</td>\n      <td>-0.03</td>\n      <td>54</td>\n      <td>0.0</td>\n      <td>19999.0</td>\n      <td>1.0</td>\n    </tr>\n  </tbody>\n</table>\n<p>776773 rows × 43 columns</p>\n</div>"
     },
     "execution_count": 43,
     "metadata": {},
     "output_type": "execute_result"
    }
   ],
   "source": [
    "t_df"
   ],
   "metadata": {
    "collapsed": false,
    "pycharm": {
     "name": "#%%\n"
    }
   }
  },
  {
   "cell_type": "code",
   "execution_count": 59,
   "outputs": [
    {
     "data": {
      "text/plain": "                    BaseExcess  HCO3      FiO2        pH     PaCO2      SaO2  \\\nid                                                                             \n0.0     BaseExcess         NaN   NaN       NaN       NaN       NaN       NaN   \n        HCO3               NaN   1.0       NaN       NaN       NaN       NaN   \n        FiO2               NaN   NaN       NaN       NaN       NaN       NaN   \n        pH                 NaN   NaN       NaN       NaN       NaN       NaN   \n        PaCO2              NaN   NaN       NaN       NaN       NaN       NaN   \n...                        ...   ...       ...       ...       ...       ...   \n19999.0 Hgb           0.194375   1.0 -0.356557  0.194375  0.143092  0.778318   \n        PTT                NaN   NaN       NaN       NaN       NaN       NaN   \n        WBC           0.194375   1.0 -0.356557  0.194375  0.143092  0.778318   \n        Fibrinogen         NaN   NaN       NaN       NaN       NaN       NaN   \n        Platelets     0.194375   1.0 -0.356557  0.194375  0.143092  0.778318   \n\n                         AST  BUN  Alkalinephos  Calcium  ...  Phosphate  \\\nid                                                        ...              \n0.0     BaseExcess       NaN  NaN           NaN      NaN  ...        NaN   \n        HCO3             NaN  1.0           NaN      1.0  ...        1.0   \n        FiO2             NaN  NaN           NaN      NaN  ...        NaN   \n        pH               NaN  NaN           NaN      NaN  ...        NaN   \n        PaCO2            NaN  NaN           NaN      NaN  ...        NaN   \n...                      ...  ...           ...      ...  ...        ...   \n19999.0 Hgb         0.868551  1.0      0.868551      1.0  ...        1.0   \n        PTT              NaN  NaN           NaN      NaN  ...        NaN   \n        WBC         0.868551  1.0      0.868551      1.0  ...        1.0   \n        Fibrinogen       NaN  NaN           NaN      NaN  ...        NaN   \n        Platelets   0.868551  1.0      0.868551      1.0  ...        1.0   \n\n                    Potassium  Bilirubin_total  TroponinI  Hct  Hgb  PTT  WBC  \\\nid                                                                              \n0.0     BaseExcess        NaN              NaN        NaN  NaN  NaN  NaN  NaN   \n        HCO3              1.0              NaN        NaN  1.0  1.0  NaN  1.0   \n        FiO2              NaN              NaN        NaN  NaN  NaN  NaN  NaN   \n        pH                NaN              NaN        NaN  NaN  NaN  NaN  NaN   \n        PaCO2             NaN              NaN        NaN  NaN  NaN  NaN  NaN   \n...                       ...              ...        ...  ...  ...  ...  ...   \n19999.0 Hgb               1.0         0.868551        NaN  1.0  1.0  NaN  1.0   \n        PTT               NaN              NaN        NaN  NaN  NaN  NaN  NaN   \n        WBC               1.0         0.868551        NaN  1.0  1.0  NaN  1.0   \n        Fibrinogen        NaN              NaN        NaN  NaN  NaN  NaN  NaN   \n        Platelets         1.0         0.868551        NaN  1.0  1.0  NaN  1.0   \n\n                    Fibrinogen  Platelets  \nid                                         \n0.0     BaseExcess         NaN        NaN  \n        HCO3               NaN        1.0  \n        FiO2               NaN        NaN  \n        pH                 NaN        NaN  \n        PaCO2              NaN        NaN  \n...                        ...        ...  \n19999.0 Hgb                NaN        1.0  \n        PTT                NaN        NaN  \n        WBC                NaN        1.0  \n        Fibrinogen         NaN        NaN  \n        Platelets          NaN        1.0  \n\n[520000 rows x 26 columns]",
      "text/html": "<div>\n<style scoped>\n    .dataframe tbody tr th:only-of-type {\n        vertical-align: middle;\n    }\n\n    .dataframe tbody tr th {\n        vertical-align: top;\n    }\n\n    .dataframe thead th {\n        text-align: right;\n    }\n</style>\n<table border=\"1\" class=\"dataframe\">\n  <thead>\n    <tr style=\"text-align: right;\">\n      <th></th>\n      <th></th>\n      <th>BaseExcess</th>\n      <th>HCO3</th>\n      <th>FiO2</th>\n      <th>pH</th>\n      <th>PaCO2</th>\n      <th>SaO2</th>\n      <th>AST</th>\n      <th>BUN</th>\n      <th>Alkalinephos</th>\n      <th>Calcium</th>\n      <th>...</th>\n      <th>Phosphate</th>\n      <th>Potassium</th>\n      <th>Bilirubin_total</th>\n      <th>TroponinI</th>\n      <th>Hct</th>\n      <th>Hgb</th>\n      <th>PTT</th>\n      <th>WBC</th>\n      <th>Fibrinogen</th>\n      <th>Platelets</th>\n    </tr>\n    <tr>\n      <th>id</th>\n      <th></th>\n      <th></th>\n      <th></th>\n      <th></th>\n      <th></th>\n      <th></th>\n      <th></th>\n      <th></th>\n      <th></th>\n      <th></th>\n      <th></th>\n      <th></th>\n      <th></th>\n      <th></th>\n      <th></th>\n      <th></th>\n      <th></th>\n      <th></th>\n      <th></th>\n      <th></th>\n      <th></th>\n      <th></th>\n    </tr>\n  </thead>\n  <tbody>\n    <tr>\n      <th rowspan=\"5\" valign=\"top\">0.0</th>\n      <th>BaseExcess</th>\n      <td>NaN</td>\n      <td>NaN</td>\n      <td>NaN</td>\n      <td>NaN</td>\n      <td>NaN</td>\n      <td>NaN</td>\n      <td>NaN</td>\n      <td>NaN</td>\n      <td>NaN</td>\n      <td>NaN</td>\n      <td>...</td>\n      <td>NaN</td>\n      <td>NaN</td>\n      <td>NaN</td>\n      <td>NaN</td>\n      <td>NaN</td>\n      <td>NaN</td>\n      <td>NaN</td>\n      <td>NaN</td>\n      <td>NaN</td>\n      <td>NaN</td>\n    </tr>\n    <tr>\n      <th>HCO3</th>\n      <td>NaN</td>\n      <td>1.0</td>\n      <td>NaN</td>\n      <td>NaN</td>\n      <td>NaN</td>\n      <td>NaN</td>\n      <td>NaN</td>\n      <td>1.0</td>\n      <td>NaN</td>\n      <td>1.0</td>\n      <td>...</td>\n      <td>1.0</td>\n      <td>1.0</td>\n      <td>NaN</td>\n      <td>NaN</td>\n      <td>1.0</td>\n      <td>1.0</td>\n      <td>NaN</td>\n      <td>1.0</td>\n      <td>NaN</td>\n      <td>1.0</td>\n    </tr>\n    <tr>\n      <th>FiO2</th>\n      <td>NaN</td>\n      <td>NaN</td>\n      <td>NaN</td>\n      <td>NaN</td>\n      <td>NaN</td>\n      <td>NaN</td>\n      <td>NaN</td>\n      <td>NaN</td>\n      <td>NaN</td>\n      <td>NaN</td>\n      <td>...</td>\n      <td>NaN</td>\n      <td>NaN</td>\n      <td>NaN</td>\n      <td>NaN</td>\n      <td>NaN</td>\n      <td>NaN</td>\n      <td>NaN</td>\n      <td>NaN</td>\n      <td>NaN</td>\n      <td>NaN</td>\n    </tr>\n    <tr>\n      <th>pH</th>\n      <td>NaN</td>\n      <td>NaN</td>\n      <td>NaN</td>\n      <td>NaN</td>\n      <td>NaN</td>\n      <td>NaN</td>\n      <td>NaN</td>\n      <td>NaN</td>\n      <td>NaN</td>\n      <td>NaN</td>\n      <td>...</td>\n      <td>NaN</td>\n      <td>NaN</td>\n      <td>NaN</td>\n      <td>NaN</td>\n      <td>NaN</td>\n      <td>NaN</td>\n      <td>NaN</td>\n      <td>NaN</td>\n      <td>NaN</td>\n      <td>NaN</td>\n    </tr>\n    <tr>\n      <th>PaCO2</th>\n      <td>NaN</td>\n      <td>NaN</td>\n      <td>NaN</td>\n      <td>NaN</td>\n      <td>NaN</td>\n      <td>NaN</td>\n      <td>NaN</td>\n      <td>NaN</td>\n      <td>NaN</td>\n      <td>NaN</td>\n      <td>...</td>\n      <td>NaN</td>\n      <td>NaN</td>\n      <td>NaN</td>\n      <td>NaN</td>\n      <td>NaN</td>\n      <td>NaN</td>\n      <td>NaN</td>\n      <td>NaN</td>\n      <td>NaN</td>\n      <td>NaN</td>\n    </tr>\n    <tr>\n      <th>...</th>\n      <th>...</th>\n      <td>...</td>\n      <td>...</td>\n      <td>...</td>\n      <td>...</td>\n      <td>...</td>\n      <td>...</td>\n      <td>...</td>\n      <td>...</td>\n      <td>...</td>\n      <td>...</td>\n      <td>...</td>\n      <td>...</td>\n      <td>...</td>\n      <td>...</td>\n      <td>...</td>\n      <td>...</td>\n      <td>...</td>\n      <td>...</td>\n      <td>...</td>\n      <td>...</td>\n      <td>...</td>\n    </tr>\n    <tr>\n      <th rowspan=\"5\" valign=\"top\">19999.0</th>\n      <th>Hgb</th>\n      <td>0.194375</td>\n      <td>1.0</td>\n      <td>-0.356557</td>\n      <td>0.194375</td>\n      <td>0.143092</td>\n      <td>0.778318</td>\n      <td>0.868551</td>\n      <td>1.0</td>\n      <td>0.868551</td>\n      <td>1.0</td>\n      <td>...</td>\n      <td>1.0</td>\n      <td>1.0</td>\n      <td>0.868551</td>\n      <td>NaN</td>\n      <td>1.0</td>\n      <td>1.0</td>\n      <td>NaN</td>\n      <td>1.0</td>\n      <td>NaN</td>\n      <td>1.0</td>\n    </tr>\n    <tr>\n      <th>PTT</th>\n      <td>NaN</td>\n      <td>NaN</td>\n      <td>NaN</td>\n      <td>NaN</td>\n      <td>NaN</td>\n      <td>NaN</td>\n      <td>NaN</td>\n      <td>NaN</td>\n      <td>NaN</td>\n      <td>NaN</td>\n      <td>...</td>\n      <td>NaN</td>\n      <td>NaN</td>\n      <td>NaN</td>\n      <td>NaN</td>\n      <td>NaN</td>\n      <td>NaN</td>\n      <td>NaN</td>\n      <td>NaN</td>\n      <td>NaN</td>\n      <td>NaN</td>\n    </tr>\n    <tr>\n      <th>WBC</th>\n      <td>0.194375</td>\n      <td>1.0</td>\n      <td>-0.356557</td>\n      <td>0.194375</td>\n      <td>0.143092</td>\n      <td>0.778318</td>\n      <td>0.868551</td>\n      <td>1.0</td>\n      <td>0.868551</td>\n      <td>1.0</td>\n      <td>...</td>\n      <td>1.0</td>\n      <td>1.0</td>\n      <td>0.868551</td>\n      <td>NaN</td>\n      <td>1.0</td>\n      <td>1.0</td>\n      <td>NaN</td>\n      <td>1.0</td>\n      <td>NaN</td>\n      <td>1.0</td>\n    </tr>\n    <tr>\n      <th>Fibrinogen</th>\n      <td>NaN</td>\n      <td>NaN</td>\n      <td>NaN</td>\n      <td>NaN</td>\n      <td>NaN</td>\n      <td>NaN</td>\n      <td>NaN</td>\n      <td>NaN</td>\n      <td>NaN</td>\n      <td>NaN</td>\n      <td>...</td>\n      <td>NaN</td>\n      <td>NaN</td>\n      <td>NaN</td>\n      <td>NaN</td>\n      <td>NaN</td>\n      <td>NaN</td>\n      <td>NaN</td>\n      <td>NaN</td>\n      <td>NaN</td>\n      <td>NaN</td>\n    </tr>\n    <tr>\n      <th>Platelets</th>\n      <td>0.194375</td>\n      <td>1.0</td>\n      <td>-0.356557</td>\n      <td>0.194375</td>\n      <td>0.143092</td>\n      <td>0.778318</td>\n      <td>0.868551</td>\n      <td>1.0</td>\n      <td>0.868551</td>\n      <td>1.0</td>\n      <td>...</td>\n      <td>1.0</td>\n      <td>1.0</td>\n      <td>0.868551</td>\n      <td>NaN</td>\n      <td>1.0</td>\n      <td>1.0</td>\n      <td>NaN</td>\n      <td>1.0</td>\n      <td>NaN</td>\n      <td>1.0</td>\n    </tr>\n  </tbody>\n</table>\n<p>520000 rows × 26 columns</p>\n</div>"
     },
     "execution_count": 59,
     "metadata": {},
     "output_type": "execute_result"
    }
   ],
   "source": [
    "c = t_df.copy()\n",
    "c[lab_values] = t_df[list(lab_values)].isna().astype(int) * -1 + 1\n",
    "c[lab_values] = c[list(lab_values) + ['id']].groupby('id').cumsum().divide(t_df['ICULOS'], axis=0)\n",
    "c[list(lab_values) + ['id']].groupby('id').corr()"
   ],
   "metadata": {
    "collapsed": false,
    "pycharm": {
     "name": "#%%\n"
    }
   }
  },
  {
   "cell_type": "code",
   "execution_count": null,
   "outputs": [],
   "source": [
    "ax = c.reset_index().plot.scatter(x = 'index', y=lab_values[0])\n",
    "for col in lab_values[1:]:\n",
    "    ax = c.reset_index().plot.scatter(x = 'index', y=col, ax=ax)"
   ],
   "metadata": {
    "collapsed": false,
    "pycharm": {
     "name": "#%%\n",
     "is_executing": true
    }
   }
  }
 ],
 "metadata": {
  "kernelspec": {
   "display_name": "Python 3",
   "language": "python",
   "name": "python3"
  },
  "language_info": {
   "codemirror_mode": {
    "name": "ipython",
    "version": 2
   },
   "file_extension": ".py",
   "mimetype": "text/x-python",
   "name": "python",
   "nbconvert_exporter": "python",
   "pygments_lexer": "ipython2",
   "version": "2.7.6"
  }
 },
 "nbformat": 4,
 "nbformat_minor": 0
}