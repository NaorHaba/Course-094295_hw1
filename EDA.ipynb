{
 "cells": [
  {
   "cell_type": "code",
   "execution_count": null,
   "metadata": {
    "collapsed": true,
    "pycharm": {
     "is_executing": true
    }
   },
   "outputs": [],
   "source": [
    "import os\n",
    "import numpy as np\n",
    "import pandas as pd"
   ]
  },
  {
   "cell_type": "code",
   "execution_count": 7,
   "outputs": [
    {
     "name": "stdout",
     "output_type": "stream",
     "text": [
      "[Errno 2] No such file or directory: 'Course-094295_hw1'\n",
      "/home/student/Course-094295_hw1\n"
     ]
    }
   ],
   "source": [
    "%cd Course-094295_hw1"
   ],
   "metadata": {
    "collapsed": false,
    "pycharm": {
     "name": "#%%\n"
    }
   }
  },
  {
   "cell_type": "code",
   "execution_count": 8,
   "outputs": [],
   "source": [
    "train_folder = 'data/train'\n",
    "test_folder = 'data/test'"
   ],
   "metadata": {
    "collapsed": false,
    "pycharm": {
     "name": "#%%\n"
    }
   }
  },
  {
   "cell_type": "code",
   "execution_count": 9,
   "outputs": [],
   "source": [
    "def read_all_data(folder):\n",
    "    files = []\n",
    "    for file in os.listdir(folder):\n",
    "        if file.endswith('psv'):\n",
    "            _id = int(file.replace('.psv', '').split('_')[1])\n",
    "            df = pd.read_csv(os.path.join(folder, file), sep='|')\n",
    "            df['id'] = _id\n",
    "            files.append(df)\n",
    "    return pd.concat(files, ignore_index=True)"
   ],
   "metadata": {
    "collapsed": false,
    "pycharm": {
     "name": "#%%\n"
    }
   }
  },
  {
   "cell_type": "code",
   "execution_count": 10,
   "outputs": [
    {
     "data": {
      "text/plain": "           HR  O2Sat  Temp    SBP    MAP    DBP  Resp  EtCO2  BaseExcess  \\\n0         NaN    NaN   NaN    NaN    NaN    NaN   NaN    NaN         NaN   \n1        58.5   96.0   NaN  133.0   54.0   30.0  28.5    NaN         NaN   \n2        54.0   97.0  36.4  128.0   58.0   36.0  23.0    NaN         NaN   \n3        58.0   97.0   NaN  116.0   50.0   28.0  21.0    NaN         NaN   \n4        58.0   98.0   NaN  128.0   65.0   49.0  32.0    NaN         NaN   \n...       ...    ...   ...    ...    ...    ...   ...    ...         ...   \n766879   85.0   92.0   NaN  116.0   93.0   79.0  20.0    NaN         NaN   \n766880   87.0   94.0  36.9  137.0  107.0   91.0  26.0    NaN         NaN   \n766881  121.0   97.0   NaN    NaN    NaN    NaN  22.0    NaN         NaN   \n766882   95.0   91.0   NaN  138.5  107.0   87.5  20.0    NaN         NaN   \n766883  122.0  100.0   NaN  169.0  139.0  116.0  20.0    NaN         NaN   \n\n        HCO3  ...  Fibrinogen  Platelets   Age  Gender  Unit1  Unit2  \\\n0        NaN  ...         NaN        NaN  77.0       0    NaN    NaN   \n1        NaN  ...         NaN        NaN  77.0       0    NaN    NaN   \n2        NaN  ...         NaN        NaN  77.0       0    NaN    NaN   \n3        NaN  ...         NaN        NaN  77.0       0    NaN    NaN   \n4        NaN  ...         NaN        NaN  77.0       0    NaN    NaN   \n...      ...  ...         ...        ...   ...     ...    ...    ...   \n766879   NaN  ...         NaN        NaN  37.0       1    1.0    0.0   \n766880   NaN  ...         NaN        NaN  37.0       1    1.0    0.0   \n766881   NaN  ...         NaN        NaN  37.0       1    1.0    0.0   \n766882   NaN  ...         NaN        NaN  37.0       1    1.0    0.0   \n766883   NaN  ...         NaN        NaN  37.0       1    1.0    0.0   \n\n        HospAdmTime  ICULOS  SepsisLabel     id  \n0           -679.93       1            0  10022  \n1           -679.93       2            0  10022  \n2           -679.93       3            0  10022  \n3           -679.93       4            0  10022  \n4           -679.93       5            0  10022  \n...             ...     ...          ...    ...  \n766879       -54.03      33            0   8234  \n766880       -54.03      34            0   8234  \n766881       -54.03      35            0   8234  \n766882       -54.03      36            0   8234  \n766883       -54.03      37            0   8234  \n\n[766884 rows x 42 columns]",
      "text/html": "<div>\n<style scoped>\n    .dataframe tbody tr th:only-of-type {\n        vertical-align: middle;\n    }\n\n    .dataframe tbody tr th {\n        vertical-align: top;\n    }\n\n    .dataframe thead th {\n        text-align: right;\n    }\n</style>\n<table border=\"1\" class=\"dataframe\">\n  <thead>\n    <tr style=\"text-align: right;\">\n      <th></th>\n      <th>HR</th>\n      <th>O2Sat</th>\n      <th>Temp</th>\n      <th>SBP</th>\n      <th>MAP</th>\n      <th>DBP</th>\n      <th>Resp</th>\n      <th>EtCO2</th>\n      <th>BaseExcess</th>\n      <th>HCO3</th>\n      <th>...</th>\n      <th>Fibrinogen</th>\n      <th>Platelets</th>\n      <th>Age</th>\n      <th>Gender</th>\n      <th>Unit1</th>\n      <th>Unit2</th>\n      <th>HospAdmTime</th>\n      <th>ICULOS</th>\n      <th>SepsisLabel</th>\n      <th>id</th>\n    </tr>\n  </thead>\n  <tbody>\n    <tr>\n      <th>0</th>\n      <td>NaN</td>\n      <td>NaN</td>\n      <td>NaN</td>\n      <td>NaN</td>\n      <td>NaN</td>\n      <td>NaN</td>\n      <td>NaN</td>\n      <td>NaN</td>\n      <td>NaN</td>\n      <td>NaN</td>\n      <td>...</td>\n      <td>NaN</td>\n      <td>NaN</td>\n      <td>77.0</td>\n      <td>0</td>\n      <td>NaN</td>\n      <td>NaN</td>\n      <td>-679.93</td>\n      <td>1</td>\n      <td>0</td>\n      <td>10022</td>\n    </tr>\n    <tr>\n      <th>1</th>\n      <td>58.5</td>\n      <td>96.0</td>\n      <td>NaN</td>\n      <td>133.0</td>\n      <td>54.0</td>\n      <td>30.0</td>\n      <td>28.5</td>\n      <td>NaN</td>\n      <td>NaN</td>\n      <td>NaN</td>\n      <td>...</td>\n      <td>NaN</td>\n      <td>NaN</td>\n      <td>77.0</td>\n      <td>0</td>\n      <td>NaN</td>\n      <td>NaN</td>\n      <td>-679.93</td>\n      <td>2</td>\n      <td>0</td>\n      <td>10022</td>\n    </tr>\n    <tr>\n      <th>2</th>\n      <td>54.0</td>\n      <td>97.0</td>\n      <td>36.4</td>\n      <td>128.0</td>\n      <td>58.0</td>\n      <td>36.0</td>\n      <td>23.0</td>\n      <td>NaN</td>\n      <td>NaN</td>\n      <td>NaN</td>\n      <td>...</td>\n      <td>NaN</td>\n      <td>NaN</td>\n      <td>77.0</td>\n      <td>0</td>\n      <td>NaN</td>\n      <td>NaN</td>\n      <td>-679.93</td>\n      <td>3</td>\n      <td>0</td>\n      <td>10022</td>\n    </tr>\n    <tr>\n      <th>3</th>\n      <td>58.0</td>\n      <td>97.0</td>\n      <td>NaN</td>\n      <td>116.0</td>\n      <td>50.0</td>\n      <td>28.0</td>\n      <td>21.0</td>\n      <td>NaN</td>\n      <td>NaN</td>\n      <td>NaN</td>\n      <td>...</td>\n      <td>NaN</td>\n      <td>NaN</td>\n      <td>77.0</td>\n      <td>0</td>\n      <td>NaN</td>\n      <td>NaN</td>\n      <td>-679.93</td>\n      <td>4</td>\n      <td>0</td>\n      <td>10022</td>\n    </tr>\n    <tr>\n      <th>4</th>\n      <td>58.0</td>\n      <td>98.0</td>\n      <td>NaN</td>\n      <td>128.0</td>\n      <td>65.0</td>\n      <td>49.0</td>\n      <td>32.0</td>\n      <td>NaN</td>\n      <td>NaN</td>\n      <td>NaN</td>\n      <td>...</td>\n      <td>NaN</td>\n      <td>NaN</td>\n      <td>77.0</td>\n      <td>0</td>\n      <td>NaN</td>\n      <td>NaN</td>\n      <td>-679.93</td>\n      <td>5</td>\n      <td>0</td>\n      <td>10022</td>\n    </tr>\n    <tr>\n      <th>...</th>\n      <td>...</td>\n      <td>...</td>\n      <td>...</td>\n      <td>...</td>\n      <td>...</td>\n      <td>...</td>\n      <td>...</td>\n      <td>...</td>\n      <td>...</td>\n      <td>...</td>\n      <td>...</td>\n      <td>...</td>\n      <td>...</td>\n      <td>...</td>\n      <td>...</td>\n      <td>...</td>\n      <td>...</td>\n      <td>...</td>\n      <td>...</td>\n      <td>...</td>\n      <td>...</td>\n    </tr>\n    <tr>\n      <th>766879</th>\n      <td>85.0</td>\n      <td>92.0</td>\n      <td>NaN</td>\n      <td>116.0</td>\n      <td>93.0</td>\n      <td>79.0</td>\n      <td>20.0</td>\n      <td>NaN</td>\n      <td>NaN</td>\n      <td>NaN</td>\n      <td>...</td>\n      <td>NaN</td>\n      <td>NaN</td>\n      <td>37.0</td>\n      <td>1</td>\n      <td>1.0</td>\n      <td>0.0</td>\n      <td>-54.03</td>\n      <td>33</td>\n      <td>0</td>\n      <td>8234</td>\n    </tr>\n    <tr>\n      <th>766880</th>\n      <td>87.0</td>\n      <td>94.0</td>\n      <td>36.9</td>\n      <td>137.0</td>\n      <td>107.0</td>\n      <td>91.0</td>\n      <td>26.0</td>\n      <td>NaN</td>\n      <td>NaN</td>\n      <td>NaN</td>\n      <td>...</td>\n      <td>NaN</td>\n      <td>NaN</td>\n      <td>37.0</td>\n      <td>1</td>\n      <td>1.0</td>\n      <td>0.0</td>\n      <td>-54.03</td>\n      <td>34</td>\n      <td>0</td>\n      <td>8234</td>\n    </tr>\n    <tr>\n      <th>766881</th>\n      <td>121.0</td>\n      <td>97.0</td>\n      <td>NaN</td>\n      <td>NaN</td>\n      <td>NaN</td>\n      <td>NaN</td>\n      <td>22.0</td>\n      <td>NaN</td>\n      <td>NaN</td>\n      <td>NaN</td>\n      <td>...</td>\n      <td>NaN</td>\n      <td>NaN</td>\n      <td>37.0</td>\n      <td>1</td>\n      <td>1.0</td>\n      <td>0.0</td>\n      <td>-54.03</td>\n      <td>35</td>\n      <td>0</td>\n      <td>8234</td>\n    </tr>\n    <tr>\n      <th>766882</th>\n      <td>95.0</td>\n      <td>91.0</td>\n      <td>NaN</td>\n      <td>138.5</td>\n      <td>107.0</td>\n      <td>87.5</td>\n      <td>20.0</td>\n      <td>NaN</td>\n      <td>NaN</td>\n      <td>NaN</td>\n      <td>...</td>\n      <td>NaN</td>\n      <td>NaN</td>\n      <td>37.0</td>\n      <td>1</td>\n      <td>1.0</td>\n      <td>0.0</td>\n      <td>-54.03</td>\n      <td>36</td>\n      <td>0</td>\n      <td>8234</td>\n    </tr>\n    <tr>\n      <th>766883</th>\n      <td>122.0</td>\n      <td>100.0</td>\n      <td>NaN</td>\n      <td>169.0</td>\n      <td>139.0</td>\n      <td>116.0</td>\n      <td>20.0</td>\n      <td>NaN</td>\n      <td>NaN</td>\n      <td>NaN</td>\n      <td>...</td>\n      <td>NaN</td>\n      <td>NaN</td>\n      <td>37.0</td>\n      <td>1</td>\n      <td>1.0</td>\n      <td>0.0</td>\n      <td>-54.03</td>\n      <td>37</td>\n      <td>0</td>\n      <td>8234</td>\n    </tr>\n  </tbody>\n</table>\n<p>766884 rows × 42 columns</p>\n</div>"
     },
     "execution_count": 10,
     "metadata": {},
     "output_type": "execute_result"
    }
   ],
   "source": [
    "t_df = read_all_data(train_folder)\n",
    "t_df"
   ],
   "metadata": {
    "collapsed": false,
    "pycharm": {
     "name": "#%%\n"
    }
   }
  },
  {
   "cell_type": "code",
   "execution_count": 11,
   "outputs": [],
   "source": [
    "vital_signs = t_df.columns[:8]\n",
    "lab_values = t_df.columns[8: 34]\n",
    "demographics = t_df.columns[34: 40]\n",
    "outcome = t_df.columns[40]\n",
    "_id = t_df.columns[-1]"
   ],
   "metadata": {
    "collapsed": false,
    "pycharm": {
     "name": "#%%\n"
    }
   }
  },
  {
   "cell_type": "markdown",
   "source": [
    "# Filling NA values"
   ],
   "metadata": {
    "collapsed": false,
    "pycharm": {
     "name": "#%% md\n"
    }
   }
  },
  {
   "cell_type": "code",
   "execution_count": 12,
   "outputs": [],
   "source": [
    "def add_ICULOS_rows(g):\n",
    "    first_hour = g.ICULOS.iloc[0]\n",
    "    if first_hour != 1:\n",
    "        ICULOS_hours = {'ICULOS': list(range(1, first_hour))}\n",
    "        g = pd.concat([pd.DataFrame(ICULOS_hours), g])\n",
    "        g[demographics] = g[demographics].bfill()\n",
    "        g[outcome] = g[outcome].bfill()\n",
    "        g[_id] = g[_id].bfill()\n",
    "    return g"
   ],
   "metadata": {
    "collapsed": false,
    "pycharm": {
     "name": "#%%\n"
    }
   }
  },
  {
   "cell_type": "code",
   "execution_count": 13,
   "outputs": [
    {
     "data": {
      "text/plain": "          HR  O2Sat   Temp    SBP   MAP   DBP  Resp  EtCO2  BaseExcess  HCO3  \\\n0        NaN    NaN    NaN    NaN   NaN   NaN   NaN    NaN         NaN   NaN   \n1       61.0   99.0  36.44  124.0  65.0  43.0  17.5    NaN         NaN   NaN   \n2       64.0   98.0    NaN  125.0  64.0  41.0  27.0    NaN         NaN   NaN   \n3       56.0  100.0    NaN  123.0  65.0  41.0   9.0    NaN         NaN   NaN   \n4       66.0   99.0    NaN  120.0  67.0  43.0  23.0    NaN         NaN   NaN   \n...      ...    ...    ...    ...   ...   ...   ...    ...         ...   ...   \n776768  76.0    NaN    NaN   85.0  53.0   NaN  17.0    NaN         NaN   NaN   \n776769  81.0   99.0    NaN   99.0  51.0   NaN  17.0    NaN         NaN   NaN   \n776770  85.0  100.0    NaN  103.0  48.0   NaN  26.0    NaN         NaN   NaN   \n776771  86.0   93.0    NaN   87.0  44.0   NaN  22.0    NaN         NaN   NaN   \n776772  84.0   85.0    NaN   78.0  44.0   NaN  18.0    NaN         NaN   NaN   \n\n        ...  Fibrinogen  Platelets    Age  Gender  Unit1  Unit2  HospAdmTime  \\\n0       ...         NaN        NaN  75.91     0.0    0.0    1.0       -98.60   \n1       ...         NaN        NaN  75.91     0.0    0.0    1.0       -98.60   \n2       ...         NaN        NaN  75.91     0.0    0.0    1.0       -98.60   \n3       ...         NaN        NaN  75.91     0.0    0.0    1.0       -98.60   \n4       ...         NaN        NaN  75.91     0.0    0.0    1.0       -98.60   \n...     ...         ...        ...    ...     ...    ...    ...          ...   \n776768  ...         NaN        NaN  83.14     0.0    NaN    NaN        -0.03   \n776769  ...         NaN        NaN  83.14     0.0    NaN    NaN        -0.03   \n776770  ...         NaN        NaN  83.14     0.0    NaN    NaN        -0.03   \n776771  ...         NaN        NaN  83.14     0.0    NaN    NaN        -0.03   \n776772  ...         NaN        NaN  83.14     0.0    NaN    NaN        -0.03   \n\n        ICULOS  SepsisLabel       id  \n0            1          0.0      0.0  \n1            2          0.0      0.0  \n2            3          0.0      0.0  \n3            4          0.0      0.0  \n4            5          0.0      0.0  \n...        ...          ...      ...  \n776768      50          0.0  19999.0  \n776769      51          0.0  19999.0  \n776770      52          0.0  19999.0  \n776771      53          0.0  19999.0  \n776772      54          0.0  19999.0  \n\n[776773 rows x 42 columns]",
      "text/html": "<div>\n<style scoped>\n    .dataframe tbody tr th:only-of-type {\n        vertical-align: middle;\n    }\n\n    .dataframe tbody tr th {\n        vertical-align: top;\n    }\n\n    .dataframe thead th {\n        text-align: right;\n    }\n</style>\n<table border=\"1\" class=\"dataframe\">\n  <thead>\n    <tr style=\"text-align: right;\">\n      <th></th>\n      <th>HR</th>\n      <th>O2Sat</th>\n      <th>Temp</th>\n      <th>SBP</th>\n      <th>MAP</th>\n      <th>DBP</th>\n      <th>Resp</th>\n      <th>EtCO2</th>\n      <th>BaseExcess</th>\n      <th>HCO3</th>\n      <th>...</th>\n      <th>Fibrinogen</th>\n      <th>Platelets</th>\n      <th>Age</th>\n      <th>Gender</th>\n      <th>Unit1</th>\n      <th>Unit2</th>\n      <th>HospAdmTime</th>\n      <th>ICULOS</th>\n      <th>SepsisLabel</th>\n      <th>id</th>\n    </tr>\n  </thead>\n  <tbody>\n    <tr>\n      <th>0</th>\n      <td>NaN</td>\n      <td>NaN</td>\n      <td>NaN</td>\n      <td>NaN</td>\n      <td>NaN</td>\n      <td>NaN</td>\n      <td>NaN</td>\n      <td>NaN</td>\n      <td>NaN</td>\n      <td>NaN</td>\n      <td>...</td>\n      <td>NaN</td>\n      <td>NaN</td>\n      <td>75.91</td>\n      <td>0.0</td>\n      <td>0.0</td>\n      <td>1.0</td>\n      <td>-98.60</td>\n      <td>1</td>\n      <td>0.0</td>\n      <td>0.0</td>\n    </tr>\n    <tr>\n      <th>1</th>\n      <td>61.0</td>\n      <td>99.0</td>\n      <td>36.44</td>\n      <td>124.0</td>\n      <td>65.0</td>\n      <td>43.0</td>\n      <td>17.5</td>\n      <td>NaN</td>\n      <td>NaN</td>\n      <td>NaN</td>\n      <td>...</td>\n      <td>NaN</td>\n      <td>NaN</td>\n      <td>75.91</td>\n      <td>0.0</td>\n      <td>0.0</td>\n      <td>1.0</td>\n      <td>-98.60</td>\n      <td>2</td>\n      <td>0.0</td>\n      <td>0.0</td>\n    </tr>\n    <tr>\n      <th>2</th>\n      <td>64.0</td>\n      <td>98.0</td>\n      <td>NaN</td>\n      <td>125.0</td>\n      <td>64.0</td>\n      <td>41.0</td>\n      <td>27.0</td>\n      <td>NaN</td>\n      <td>NaN</td>\n      <td>NaN</td>\n      <td>...</td>\n      <td>NaN</td>\n      <td>NaN</td>\n      <td>75.91</td>\n      <td>0.0</td>\n      <td>0.0</td>\n      <td>1.0</td>\n      <td>-98.60</td>\n      <td>3</td>\n      <td>0.0</td>\n      <td>0.0</td>\n    </tr>\n    <tr>\n      <th>3</th>\n      <td>56.0</td>\n      <td>100.0</td>\n      <td>NaN</td>\n      <td>123.0</td>\n      <td>65.0</td>\n      <td>41.0</td>\n      <td>9.0</td>\n      <td>NaN</td>\n      <td>NaN</td>\n      <td>NaN</td>\n      <td>...</td>\n      <td>NaN</td>\n      <td>NaN</td>\n      <td>75.91</td>\n      <td>0.0</td>\n      <td>0.0</td>\n      <td>1.0</td>\n      <td>-98.60</td>\n      <td>4</td>\n      <td>0.0</td>\n      <td>0.0</td>\n    </tr>\n    <tr>\n      <th>4</th>\n      <td>66.0</td>\n      <td>99.0</td>\n      <td>NaN</td>\n      <td>120.0</td>\n      <td>67.0</td>\n      <td>43.0</td>\n      <td>23.0</td>\n      <td>NaN</td>\n      <td>NaN</td>\n      <td>NaN</td>\n      <td>...</td>\n      <td>NaN</td>\n      <td>NaN</td>\n      <td>75.91</td>\n      <td>0.0</td>\n      <td>0.0</td>\n      <td>1.0</td>\n      <td>-98.60</td>\n      <td>5</td>\n      <td>0.0</td>\n      <td>0.0</td>\n    </tr>\n    <tr>\n      <th>...</th>\n      <td>...</td>\n      <td>...</td>\n      <td>...</td>\n      <td>...</td>\n      <td>...</td>\n      <td>...</td>\n      <td>...</td>\n      <td>...</td>\n      <td>...</td>\n      <td>...</td>\n      <td>...</td>\n      <td>...</td>\n      <td>...</td>\n      <td>...</td>\n      <td>...</td>\n      <td>...</td>\n      <td>...</td>\n      <td>...</td>\n      <td>...</td>\n      <td>...</td>\n      <td>...</td>\n    </tr>\n    <tr>\n      <th>776768</th>\n      <td>76.0</td>\n      <td>NaN</td>\n      <td>NaN</td>\n      <td>85.0</td>\n      <td>53.0</td>\n      <td>NaN</td>\n      <td>17.0</td>\n      <td>NaN</td>\n      <td>NaN</td>\n      <td>NaN</td>\n      <td>...</td>\n      <td>NaN</td>\n      <td>NaN</td>\n      <td>83.14</td>\n      <td>0.0</td>\n      <td>NaN</td>\n      <td>NaN</td>\n      <td>-0.03</td>\n      <td>50</td>\n      <td>0.0</td>\n      <td>19999.0</td>\n    </tr>\n    <tr>\n      <th>776769</th>\n      <td>81.0</td>\n      <td>99.0</td>\n      <td>NaN</td>\n      <td>99.0</td>\n      <td>51.0</td>\n      <td>NaN</td>\n      <td>17.0</td>\n      <td>NaN</td>\n      <td>NaN</td>\n      <td>NaN</td>\n      <td>...</td>\n      <td>NaN</td>\n      <td>NaN</td>\n      <td>83.14</td>\n      <td>0.0</td>\n      <td>NaN</td>\n      <td>NaN</td>\n      <td>-0.03</td>\n      <td>51</td>\n      <td>0.0</td>\n      <td>19999.0</td>\n    </tr>\n    <tr>\n      <th>776770</th>\n      <td>85.0</td>\n      <td>100.0</td>\n      <td>NaN</td>\n      <td>103.0</td>\n      <td>48.0</td>\n      <td>NaN</td>\n      <td>26.0</td>\n      <td>NaN</td>\n      <td>NaN</td>\n      <td>NaN</td>\n      <td>...</td>\n      <td>NaN</td>\n      <td>NaN</td>\n      <td>83.14</td>\n      <td>0.0</td>\n      <td>NaN</td>\n      <td>NaN</td>\n      <td>-0.03</td>\n      <td>52</td>\n      <td>0.0</td>\n      <td>19999.0</td>\n    </tr>\n    <tr>\n      <th>776771</th>\n      <td>86.0</td>\n      <td>93.0</td>\n      <td>NaN</td>\n      <td>87.0</td>\n      <td>44.0</td>\n      <td>NaN</td>\n      <td>22.0</td>\n      <td>NaN</td>\n      <td>NaN</td>\n      <td>NaN</td>\n      <td>...</td>\n      <td>NaN</td>\n      <td>NaN</td>\n      <td>83.14</td>\n      <td>0.0</td>\n      <td>NaN</td>\n      <td>NaN</td>\n      <td>-0.03</td>\n      <td>53</td>\n      <td>0.0</td>\n      <td>19999.0</td>\n    </tr>\n    <tr>\n      <th>776772</th>\n      <td>84.0</td>\n      <td>85.0</td>\n      <td>NaN</td>\n      <td>78.0</td>\n      <td>44.0</td>\n      <td>NaN</td>\n      <td>18.0</td>\n      <td>NaN</td>\n      <td>NaN</td>\n      <td>NaN</td>\n      <td>...</td>\n      <td>NaN</td>\n      <td>NaN</td>\n      <td>83.14</td>\n      <td>0.0</td>\n      <td>NaN</td>\n      <td>NaN</td>\n      <td>-0.03</td>\n      <td>54</td>\n      <td>0.0</td>\n      <td>19999.0</td>\n    </tr>\n  </tbody>\n</table>\n<p>776773 rows × 42 columns</p>\n</div>"
     },
     "execution_count": 13,
     "metadata": {},
     "output_type": "execute_result"
    }
   ],
   "source": [
    "t_df = t_df.sort_values(['id', 'ICULOS']).groupby('id').apply(add_ICULOS_rows).reset_index(drop=True)\n",
    "t_df"
   ],
   "metadata": {
    "collapsed": false,
    "pycharm": {
     "name": "#%%\n"
    }
   }
  },
  {
   "cell_type": "code",
   "execution_count": 14,
   "outputs": [],
   "source": [
    "def add_unknown_unit_column(df):\n",
    "    df['Unit3'] = 0.0\n",
    "    df.loc[df.Unit1.isna(), 'Unit3'] = 1.0  # we know Unit2 is also nan when Unit1 is nan\n",
    "    df[['Unit1', 'Unit2']] = df[['Unit1', 'Unit2']].fillna(0.0)\n",
    "    return df"
   ],
   "metadata": {
    "collapsed": false,
    "pycharm": {
     "name": "#%%\n"
    }
   }
  },
  {
   "cell_type": "code",
   "execution_count": 15,
   "outputs": [
    {
     "data": {
      "text/plain": "          HR  O2Sat   Temp    SBP   MAP   DBP  Resp  EtCO2  BaseExcess  HCO3  \\\n0        NaN    NaN    NaN    NaN   NaN   NaN   NaN    NaN         NaN   NaN   \n1       61.0   99.0  36.44  124.0  65.0  43.0  17.5    NaN         NaN   NaN   \n2       64.0   98.0    NaN  125.0  64.0  41.0  27.0    NaN         NaN   NaN   \n3       56.0  100.0    NaN  123.0  65.0  41.0   9.0    NaN         NaN   NaN   \n4       66.0   99.0    NaN  120.0  67.0  43.0  23.0    NaN         NaN   NaN   \n...      ...    ...    ...    ...   ...   ...   ...    ...         ...   ...   \n776768  76.0    NaN    NaN   85.0  53.0   NaN  17.0    NaN         NaN   NaN   \n776769  81.0   99.0    NaN   99.0  51.0   NaN  17.0    NaN         NaN   NaN   \n776770  85.0  100.0    NaN  103.0  48.0   NaN  26.0    NaN         NaN   NaN   \n776771  86.0   93.0    NaN   87.0  44.0   NaN  22.0    NaN         NaN   NaN   \n776772  84.0   85.0    NaN   78.0  44.0   NaN  18.0    NaN         NaN   NaN   \n\n        ...  Platelets    Age  Gender  Unit1  Unit2  HospAdmTime  ICULOS  \\\n0       ...        NaN  75.91     0.0    0.0    1.0       -98.60       1   \n1       ...        NaN  75.91     0.0    0.0    1.0       -98.60       2   \n2       ...        NaN  75.91     0.0    0.0    1.0       -98.60       3   \n3       ...        NaN  75.91     0.0    0.0    1.0       -98.60       4   \n4       ...        NaN  75.91     0.0    0.0    1.0       -98.60       5   \n...     ...        ...    ...     ...    ...    ...          ...     ...   \n776768  ...        NaN  83.14     0.0    0.0    0.0        -0.03      50   \n776769  ...        NaN  83.14     0.0    0.0    0.0        -0.03      51   \n776770  ...        NaN  83.14     0.0    0.0    0.0        -0.03      52   \n776771  ...        NaN  83.14     0.0    0.0    0.0        -0.03      53   \n776772  ...        NaN  83.14     0.0    0.0    0.0        -0.03      54   \n\n        SepsisLabel       id  Unit3  \n0               0.0      0.0    0.0  \n1               0.0      0.0    0.0  \n2               0.0      0.0    0.0  \n3               0.0      0.0    0.0  \n4               0.0      0.0    0.0  \n...             ...      ...    ...  \n776768          0.0  19999.0    1.0  \n776769          0.0  19999.0    1.0  \n776770          0.0  19999.0    1.0  \n776771          0.0  19999.0    1.0  \n776772          0.0  19999.0    1.0  \n\n[776773 rows x 43 columns]",
      "text/html": "<div>\n<style scoped>\n    .dataframe tbody tr th:only-of-type {\n        vertical-align: middle;\n    }\n\n    .dataframe tbody tr th {\n        vertical-align: top;\n    }\n\n    .dataframe thead th {\n        text-align: right;\n    }\n</style>\n<table border=\"1\" class=\"dataframe\">\n  <thead>\n    <tr style=\"text-align: right;\">\n      <th></th>\n      <th>HR</th>\n      <th>O2Sat</th>\n      <th>Temp</th>\n      <th>SBP</th>\n      <th>MAP</th>\n      <th>DBP</th>\n      <th>Resp</th>\n      <th>EtCO2</th>\n      <th>BaseExcess</th>\n      <th>HCO3</th>\n      <th>...</th>\n      <th>Platelets</th>\n      <th>Age</th>\n      <th>Gender</th>\n      <th>Unit1</th>\n      <th>Unit2</th>\n      <th>HospAdmTime</th>\n      <th>ICULOS</th>\n      <th>SepsisLabel</th>\n      <th>id</th>\n      <th>Unit3</th>\n    </tr>\n  </thead>\n  <tbody>\n    <tr>\n      <th>0</th>\n      <td>NaN</td>\n      <td>NaN</td>\n      <td>NaN</td>\n      <td>NaN</td>\n      <td>NaN</td>\n      <td>NaN</td>\n      <td>NaN</td>\n      <td>NaN</td>\n      <td>NaN</td>\n      <td>NaN</td>\n      <td>...</td>\n      <td>NaN</td>\n      <td>75.91</td>\n      <td>0.0</td>\n      <td>0.0</td>\n      <td>1.0</td>\n      <td>-98.60</td>\n      <td>1</td>\n      <td>0.0</td>\n      <td>0.0</td>\n      <td>0.0</td>\n    </tr>\n    <tr>\n      <th>1</th>\n      <td>61.0</td>\n      <td>99.0</td>\n      <td>36.44</td>\n      <td>124.0</td>\n      <td>65.0</td>\n      <td>43.0</td>\n      <td>17.5</td>\n      <td>NaN</td>\n      <td>NaN</td>\n      <td>NaN</td>\n      <td>...</td>\n      <td>NaN</td>\n      <td>75.91</td>\n      <td>0.0</td>\n      <td>0.0</td>\n      <td>1.0</td>\n      <td>-98.60</td>\n      <td>2</td>\n      <td>0.0</td>\n      <td>0.0</td>\n      <td>0.0</td>\n    </tr>\n    <tr>\n      <th>2</th>\n      <td>64.0</td>\n      <td>98.0</td>\n      <td>NaN</td>\n      <td>125.0</td>\n      <td>64.0</td>\n      <td>41.0</td>\n      <td>27.0</td>\n      <td>NaN</td>\n      <td>NaN</td>\n      <td>NaN</td>\n      <td>...</td>\n      <td>NaN</td>\n      <td>75.91</td>\n      <td>0.0</td>\n      <td>0.0</td>\n      <td>1.0</td>\n      <td>-98.60</td>\n      <td>3</td>\n      <td>0.0</td>\n      <td>0.0</td>\n      <td>0.0</td>\n    </tr>\n    <tr>\n      <th>3</th>\n      <td>56.0</td>\n      <td>100.0</td>\n      <td>NaN</td>\n      <td>123.0</td>\n      <td>65.0</td>\n      <td>41.0</td>\n      <td>9.0</td>\n      <td>NaN</td>\n      <td>NaN</td>\n      <td>NaN</td>\n      <td>...</td>\n      <td>NaN</td>\n      <td>75.91</td>\n      <td>0.0</td>\n      <td>0.0</td>\n      <td>1.0</td>\n      <td>-98.60</td>\n      <td>4</td>\n      <td>0.0</td>\n      <td>0.0</td>\n      <td>0.0</td>\n    </tr>\n    <tr>\n      <th>4</th>\n      <td>66.0</td>\n      <td>99.0</td>\n      <td>NaN</td>\n      <td>120.0</td>\n      <td>67.0</td>\n      <td>43.0</td>\n      <td>23.0</td>\n      <td>NaN</td>\n      <td>NaN</td>\n      <td>NaN</td>\n      <td>...</td>\n      <td>NaN</td>\n      <td>75.91</td>\n      <td>0.0</td>\n      <td>0.0</td>\n      <td>1.0</td>\n      <td>-98.60</td>\n      <td>5</td>\n      <td>0.0</td>\n      <td>0.0</td>\n      <td>0.0</td>\n    </tr>\n    <tr>\n      <th>...</th>\n      <td>...</td>\n      <td>...</td>\n      <td>...</td>\n      <td>...</td>\n      <td>...</td>\n      <td>...</td>\n      <td>...</td>\n      <td>...</td>\n      <td>...</td>\n      <td>...</td>\n      <td>...</td>\n      <td>...</td>\n      <td>...</td>\n      <td>...</td>\n      <td>...</td>\n      <td>...</td>\n      <td>...</td>\n      <td>...</td>\n      <td>...</td>\n      <td>...</td>\n      <td>...</td>\n    </tr>\n    <tr>\n      <th>776768</th>\n      <td>76.0</td>\n      <td>NaN</td>\n      <td>NaN</td>\n      <td>85.0</td>\n      <td>53.0</td>\n      <td>NaN</td>\n      <td>17.0</td>\n      <td>NaN</td>\n      <td>NaN</td>\n      <td>NaN</td>\n      <td>...</td>\n      <td>NaN</td>\n      <td>83.14</td>\n      <td>0.0</td>\n      <td>0.0</td>\n      <td>0.0</td>\n      <td>-0.03</td>\n      <td>50</td>\n      <td>0.0</td>\n      <td>19999.0</td>\n      <td>1.0</td>\n    </tr>\n    <tr>\n      <th>776769</th>\n      <td>81.0</td>\n      <td>99.0</td>\n      <td>NaN</td>\n      <td>99.0</td>\n      <td>51.0</td>\n      <td>NaN</td>\n      <td>17.0</td>\n      <td>NaN</td>\n      <td>NaN</td>\n      <td>NaN</td>\n      <td>...</td>\n      <td>NaN</td>\n      <td>83.14</td>\n      <td>0.0</td>\n      <td>0.0</td>\n      <td>0.0</td>\n      <td>-0.03</td>\n      <td>51</td>\n      <td>0.0</td>\n      <td>19999.0</td>\n      <td>1.0</td>\n    </tr>\n    <tr>\n      <th>776770</th>\n      <td>85.0</td>\n      <td>100.0</td>\n      <td>NaN</td>\n      <td>103.0</td>\n      <td>48.0</td>\n      <td>NaN</td>\n      <td>26.0</td>\n      <td>NaN</td>\n      <td>NaN</td>\n      <td>NaN</td>\n      <td>...</td>\n      <td>NaN</td>\n      <td>83.14</td>\n      <td>0.0</td>\n      <td>0.0</td>\n      <td>0.0</td>\n      <td>-0.03</td>\n      <td>52</td>\n      <td>0.0</td>\n      <td>19999.0</td>\n      <td>1.0</td>\n    </tr>\n    <tr>\n      <th>776771</th>\n      <td>86.0</td>\n      <td>93.0</td>\n      <td>NaN</td>\n      <td>87.0</td>\n      <td>44.0</td>\n      <td>NaN</td>\n      <td>22.0</td>\n      <td>NaN</td>\n      <td>NaN</td>\n      <td>NaN</td>\n      <td>...</td>\n      <td>NaN</td>\n      <td>83.14</td>\n      <td>0.0</td>\n      <td>0.0</td>\n      <td>0.0</td>\n      <td>-0.03</td>\n      <td>53</td>\n      <td>0.0</td>\n      <td>19999.0</td>\n      <td>1.0</td>\n    </tr>\n    <tr>\n      <th>776772</th>\n      <td>84.0</td>\n      <td>85.0</td>\n      <td>NaN</td>\n      <td>78.0</td>\n      <td>44.0</td>\n      <td>NaN</td>\n      <td>18.0</td>\n      <td>NaN</td>\n      <td>NaN</td>\n      <td>NaN</td>\n      <td>...</td>\n      <td>NaN</td>\n      <td>83.14</td>\n      <td>0.0</td>\n      <td>0.0</td>\n      <td>0.0</td>\n      <td>-0.03</td>\n      <td>54</td>\n      <td>0.0</td>\n      <td>19999.0</td>\n      <td>1.0</td>\n    </tr>\n  </tbody>\n</table>\n<p>776773 rows × 43 columns</p>\n</div>"
     },
     "execution_count": 15,
     "metadata": {},
     "output_type": "execute_result"
    }
   ],
   "source": [
    "t_df = add_unknown_unit_column(t_df)\n",
    "t_df"
   ],
   "metadata": {
    "collapsed": false,
    "pycharm": {
     "name": "#%%\n"
    }
   }
  },
  {
   "cell_type": "markdown",
   "source": [
    "# Fixing vital signs data"
   ],
   "metadata": {
    "collapsed": false,
    "pycharm": {
     "name": "#%% md\n"
    }
   }
  },
  {
   "cell_type": "code",
   "execution_count": 16,
   "outputs": [],
   "source": [
    "def fix_and_smooth(df, col, low=None, high=None, com=0.5):\n",
    "    if low and high:\n",
    "        df.loc[(df[col] >= high) | (df[col] <= low), col] = np.nan\n",
    "    df[col] = t_df.groupby('id')[col].ewm(com=com).mean().bfill().ffill().reset_index(level=0, drop=True)\n",
    "    t_df[vital_signs].boxplot(column=col)\n",
    "    return t_df[col]"
   ],
   "metadata": {
    "collapsed": false,
    "pycharm": {
     "name": "#%%\n"
    }
   }
  },
  {
   "cell_type": "markdown",
   "source": [
    "## Heart Rate"
   ],
   "metadata": {
    "collapsed": false,
    "pycharm": {
     "name": "#%% md\n"
    }
   }
  },
  {
   "cell_type": "code",
   "execution_count": 17,
   "outputs": [
    {
     "data": {
      "text/plain": "<AxesSubplot:>"
     },
     "execution_count": 17,
     "metadata": {},
     "output_type": "execute_result"
    },
    {
     "data": {
      "text/plain": "<Figure size 432x288 with 1 Axes>",
      "image/png": "[encoded data removed]"
     },
     "metadata": {
      "needs_background": "light"
     },
     "output_type": "display_data"
    }
   ],
   "source": [
    "t_df[vital_signs].boxplot(column='HR')"
   ],
   "metadata": {
    "collapsed": false,
    "pycharm": {
     "name": "#%%\n"
    }
   }
  },
  {
   "cell_type": "code",
   "execution_count": 18,
   "outputs": [
    {
     "data": {
      "text/plain": "<Figure size 432x288 with 1 Axes>",
      "image/png": "[encoded data removed]"
     },
     "metadata": {
      "needs_background": "light"
     },
     "output_type": "display_data"
    }
   ],
   "source": [
    "# all values are \"reasonable\" - we just smooth\n",
    "t_df['HR'] = fix_and_smooth(t_df, 'HR')"
   ],
   "metadata": {
    "collapsed": false,
    "pycharm": {
     "name": "#%%\n"
    }
   }
  },
  {
   "cell_type": "markdown",
   "source": [
    "## Pulse oximetry"
   ],
   "metadata": {
    "collapsed": false,
    "pycharm": {
     "name": "#%% md\n"
    }
   }
  },
  {
   "cell_type": "code",
   "execution_count": 19,
   "outputs": [
    {
     "data": {
      "text/plain": "<AxesSubplot:>"
     },
     "execution_count": 19,
     "metadata": {},
     "output_type": "execute_result"
    },
    {
     "data": {
      "text/plain": "<Figure size 432x288 with 1 Axes>",
      "image/png": "[encoded data removed]"
     },
     "metadata": {
      "needs_background": "light"
     },
     "output_type": "display_data"
    }
   ],
   "source": [
    "t_df[vital_signs].boxplot(column='O2Sat')"
   ],
   "metadata": {
    "collapsed": false,
    "pycharm": {
     "name": "#%%\n"
    }
   }
  },
  {
   "cell_type": "code",
   "execution_count": 20,
   "outputs": [
    {
     "data": {
      "text/plain": "<Figure size 432x288 with 1 Axes>",
      "image/png": "[encoded data removed]"
     },
     "metadata": {
      "needs_background": "light"
     },
     "output_type": "display_data"
    }
   ],
   "source": [
    "# all values are \"reasonable\" - we just smooth\n",
    "t_df['O2Sat'] = fix_and_smooth(t_df, 'O2Sat')"
   ],
   "metadata": {
    "collapsed": false,
    "pycharm": {
     "name": "#%%\n"
    }
   }
  },
  {
   "cell_type": "markdown",
   "source": [
    "## Temperature"
   ],
   "metadata": {
    "collapsed": false
   }
  },
  {
   "cell_type": "code",
   "execution_count": 21,
   "outputs": [
    {
     "data": {
      "text/plain": "<AxesSubplot:>"
     },
     "execution_count": 21,
     "metadata": {},
     "output_type": "execute_result"
    },
    {
     "data": {
      "text/plain": "<Figure size 432x288 with 1 Axes>",
      "image/png": "[encoded data removed]"
     },
     "metadata": {
      "needs_background": "light"
     },
     "output_type": "display_data"
    }
   ],
   "source": [
    "t_df[vital_signs].boxplot(column='Temp')"
   ],
   "metadata": {
    "collapsed": false,
    "pycharm": {
     "name": "#%%\n"
    }
   }
  },
  {
   "cell_type": "markdown",
   "source": [
    "We use our prior knowledge together with the boxplot to determine invalid temperature values (30 < temp < 43)"
   ],
   "metadata": {
    "collapsed": false
   }
  },
  {
   "cell_type": "code",
   "execution_count": 22,
   "outputs": [
    {
     "data": {
      "text/plain": "<Figure size 432x288 with 1 Axes>",
      "image/png": "[encoded data removed]"
     },
     "metadata": {
      "needs_background": "light"
     },
     "output_type": "display_data"
    }
   ],
   "source": [
    "t_df['Temp'] = fix_and_smooth(t_df, 'Temp', low=30, high=43)"
   ],
   "metadata": {
    "collapsed": false,
    "pycharm": {
     "name": "#%%\n"
    }
   }
  },
  {
   "cell_type": "markdown",
   "source": [
    "## Systolic Blood Pressure"
   ],
   "metadata": {
    "collapsed": false,
    "pycharm": {
     "name": "#%% md\n"
    }
   }
  },
  {
   "cell_type": "code",
   "execution_count": 23,
   "outputs": [
    {
     "data": {
      "text/plain": "<AxesSubplot:>"
     },
     "execution_count": 23,
     "metadata": {},
     "output_type": "execute_result"
    },
    {
     "data": {
      "text/plain": "<Figure size 432x288 with 1 Axes>",
      "image/png": "[encoded data removed]"
     },
     "metadata": {
      "needs_background": "light"
     },
     "output_type": "display_data"
    }
   ],
   "source": [
    "t_df[vital_signs].boxplot(column='SBP')"
   ],
   "metadata": {
    "collapsed": false,
    "pycharm": {
     "name": "#%%\n"
    }
   }
  },
  {
   "cell_type": "code",
   "execution_count": 24,
   "outputs": [
    {
     "data": {
      "text/plain": "<Figure size 432x288 with 1 Axes>",
      "image/png": "[encoded data removed]"
     },
     "metadata": {
      "needs_background": "light"
     },
     "output_type": "display_data"
    }
   ],
   "source": [
    "# all values are \"reasonable\" - we just smooth\n",
    "t_df['SBP'] = fix_and_smooth(t_df, 'SBP')"
   ],
   "metadata": {
    "collapsed": false,
    "pycharm": {
     "name": "#%%\n"
    }
   }
  },
  {
   "cell_type": "markdown",
   "source": [
    "## Mean arterial pressure"
   ],
   "metadata": {
    "collapsed": false,
    "pycharm": {
     "name": "#%% md\n"
    }
   }
  },
  {
   "cell_type": "code",
   "execution_count": 25,
   "outputs": [
    {
     "data": {
      "text/plain": "<AxesSubplot:>"
     },
     "execution_count": 25,
     "metadata": {},
     "output_type": "execute_result"
    },
    {
     "data": {
      "text/plain": "<Figure size 432x288 with 1 Axes>",
      "image/png": "[encoded data removed]"
     },
     "metadata": {
      "needs_background": "light"
     },
     "output_type": "display_data"
    }
   ],
   "source": [
    "t_df[vital_signs].boxplot(column='MAP')"
   ],
   "metadata": {
    "collapsed": false,
    "pycharm": {
     "name": "#%%\n"
    }
   }
  },
  {
   "cell_type": "code",
   "execution_count": 26,
   "outputs": [
    {
     "data": {
      "text/plain": "<Figure size 432x288 with 1 Axes>",
      "image/png": "[encoded data removed]"
     },
     "metadata": {
      "needs_background": "light"
     },
     "output_type": "display_data"
    }
   ],
   "source": [
    "# all values are \"reasonable\" - we just smooth\n",
    "t_df['MAP'] = fix_and_smooth(t_df, 'MAP')"
   ],
   "metadata": {
    "collapsed": false,
    "pycharm": {
     "name": "#%%\n"
    }
   }
  },
  {
   "cell_type": "markdown",
   "source": [
    "## Diastolic Blood Pressure"
   ],
   "metadata": {
    "collapsed": false,
    "pycharm": {
     "name": "#%% md\n"
    }
   }
  },
  {
   "cell_type": "code",
   "execution_count": 27,
   "outputs": [
    {
     "data": {
      "text/plain": "<AxesSubplot:>"
     },
     "execution_count": 27,
     "metadata": {},
     "output_type": "execute_result"
    },
    {
     "data": {
      "text/plain": "<Figure size 432x288 with 1 Axes>",
      "image/png": "[encoded data removed]"
     },
     "metadata": {
      "needs_background": "light"
     },
     "output_type": "display_data"
    }
   ],
   "source": [
    "t_df[vital_signs].boxplot(column='DBP')"
   ],
   "metadata": {
    "collapsed": false,
    "pycharm": {
     "name": "#%%\n"
    }
   }
  },
  {
   "cell_type": "code",
   "execution_count": 28,
   "outputs": [
    {
     "data": {
      "text/plain": "<Figure size 432x288 with 1 Axes>",
      "image/png": "[encoded data removed]"
     },
     "metadata": {
      "needs_background": "light"
     },
     "output_type": "display_data"
    }
   ],
   "source": [
    "t_df['DBP'] = fix_and_smooth(t_df, 'DBP', low=1, high=250)"
   ],
   "metadata": {
    "collapsed": false,
    "pycharm": {
     "name": "#%%\n"
    }
   }
  },
  {
   "cell_type": "markdown",
   "source": [
    "## Respiration rate"
   ],
   "metadata": {
    "collapsed": false,
    "pycharm": {
     "name": "#%% md\n"
    }
   }
  },
  {
   "cell_type": "code",
   "execution_count": 29,
   "outputs": [
    {
     "data": {
      "text/plain": "<AxesSubplot:>"
     },
     "execution_count": 29,
     "metadata": {},
     "output_type": "execute_result"
    },
    {
     "data": {
      "text/plain": "<Figure size 432x288 with 1 Axes>",
      "image/png": "[encoded data removed]"
     },
     "metadata": {
      "needs_background": "light"
     },
     "output_type": "display_data"
    }
   ],
   "source": [
    "t_df[vital_signs].boxplot(column='Resp')"
   ],
   "metadata": {
    "collapsed": false,
    "pycharm": {
     "name": "#%%\n"
    }
   }
  },
  {
   "cell_type": "code",
   "execution_count": 30,
   "outputs": [
    {
     "data": {
      "text/plain": "<Figure size 432x288 with 1 Axes>",
      "image/png": "[encoded data removed]"
     },
     "metadata": {
      "needs_background": "light"
     },
     "output_type": "display_data"
    }
   ],
   "source": [
    "# all values are \"reasonable\" - we just smooth\n",
    "t_df['Resp'] = fix_and_smooth(t_df, 'Resp')"
   ],
   "metadata": {
    "collapsed": false,
    "pycharm": {
     "name": "#%%\n"
    }
   }
  },
  {
   "cell_type": "markdown",
   "source": [
    "## End tidal carbon dioxide"
   ],
   "metadata": {
    "collapsed": false,
    "pycharm": {
     "name": "#%% md\n"
    }
   }
  },
  {
   "cell_type": "code",
   "execution_count": 31,
   "outputs": [
    {
     "data": {
      "text/plain": "<AxesSubplot:>"
     },
     "execution_count": 31,
     "metadata": {},
     "output_type": "execute_result"
    },
    {
     "data": {
      "text/plain": "<Figure size 432x288 with 1 Axes>",
      "image/png": "[encoded data removed]"
     },
     "metadata": {
      "needs_background": "light"
     },
     "output_type": "display_data"
    }
   ],
   "source": [
    "t_df[vital_signs].boxplot(column='EtCO2')"
   ],
   "metadata": {
    "collapsed": false,
    "pycharm": {
     "name": "#%%\n"
    }
   }
  },
  {
   "cell_type": "code",
   "execution_count": 32,
   "outputs": [
    {
     "data": {
      "text/plain": "<Figure size 432x288 with 1 Axes>",
      "image/png": "[encoded data removed]"
     },
     "metadata": {
      "needs_background": "light"
     },
     "output_type": "display_data"
    }
   ],
   "source": [
    "# all values are \"reasonable\" - we just smooth\n",
    "t_df['EtCO2'] = fix_and_smooth(t_df, 'EtCO2')"
   ],
   "metadata": {
    "collapsed": false,
    "pycharm": {
     "name": "#%%\n"
    }
   }
  },
  {
   "cell_type": "markdown",
   "source": [
    "# Engineering Laboratory Values\n",
    "Due to the fact the values are hard to interoperate (inconsistent pattern of examination) we instead measure the examination frequency of each test for each patient"
   ],
   "metadata": {
    "collapsed": false,
    "pycharm": {
     "name": "#%% md\n"
    }
   }
  },
  {
   "cell_type": "code",
   "execution_count": 33,
   "outputs": [
    {
     "data": {
      "text/plain": "        BaseExcess      HCO3      FiO2        pH     PaCO2      SaO2  \\\n0         0.000000  0.000000  0.000000  0.000000  0.000000  0.000000   \n1         0.000000  0.000000  0.000000  0.000000  0.000000  0.000000   \n2         0.000000  0.000000  0.000000  0.000000  0.000000  0.000000   \n3         0.000000  0.000000  0.000000  0.000000  0.000000  0.000000   \n4         0.000000  0.000000  0.000000  0.000000  0.000000  0.000000   \n...            ...       ...       ...       ...       ...       ...   \n776768    0.140000  0.040000  0.080000  0.140000  0.120000  0.080000   \n776769    0.137255  0.039216  0.078431  0.137255  0.117647  0.078431   \n776770    0.134615  0.038462  0.076923  0.134615  0.115385  0.076923   \n776771    0.132075  0.037736  0.075472  0.132075  0.113208  0.075472   \n776772    0.129630  0.037037  0.074074  0.129630  0.111111  0.074074   \n\n             AST       BUN  Alkalinephos   Calcium  ...  Phosphate  Potassium  \\\n0       0.000000  0.000000      0.000000  0.000000  ...   0.000000   0.000000   \n1       0.000000  0.000000      0.000000  0.000000  ...   0.000000   0.000000   \n2       0.000000  0.000000      0.000000  0.000000  ...   0.000000   0.000000   \n3       0.000000  0.000000      0.000000  0.000000  ...   0.000000   0.000000   \n4       0.000000  0.000000      0.000000  0.000000  ...   0.000000   0.000000   \n...          ...       ...           ...       ...  ...        ...        ...   \n776768  0.020000  0.040000      0.020000  0.040000  ...   0.040000   0.040000   \n776769  0.019608  0.039216      0.019608  0.039216  ...   0.039216   0.039216   \n776770  0.019231  0.038462      0.019231  0.038462  ...   0.038462   0.038462   \n776771  0.018868  0.037736      0.018868  0.037736  ...   0.037736   0.037736   \n776772  0.018519  0.037037      0.018519  0.037037  ...   0.037037   0.037037   \n\n        Bilirubin_total  TroponinI       Hct       Hgb  PTT       WBC  \\\n0              0.000000        0.0  0.000000  0.000000  0.0  0.000000   \n1              0.000000        0.0  0.000000  0.000000  0.0  0.000000   \n2              0.000000        0.0  0.000000  0.000000  0.0  0.000000   \n3              0.000000        0.0  0.000000  0.000000  0.0  0.000000   \n4              0.000000        0.0  0.000000  0.000000  0.0  0.000000   \n...                 ...        ...       ...       ...  ...       ...   \n776768         0.020000        0.0  0.040000  0.040000  0.0  0.040000   \n776769         0.019608        0.0  0.039216  0.039216  0.0  0.039216   \n776770         0.019231        0.0  0.038462  0.038462  0.0  0.038462   \n776771         0.018868        0.0  0.037736  0.037736  0.0  0.037736   \n776772         0.018519        0.0  0.037037  0.037037  0.0  0.037037   \n\n        Fibrinogen  Platelets  \n0              0.0   0.000000  \n1              0.0   0.000000  \n2              0.0   0.000000  \n3              0.0   0.000000  \n4              0.0   0.000000  \n...            ...        ...  \n776768         0.0   0.040000  \n776769         0.0   0.039216  \n776770         0.0   0.038462  \n776771         0.0   0.037736  \n776772         0.0   0.037037  \n\n[776773 rows x 26 columns]",
      "text/html": "<div>\n<style scoped>\n    .dataframe tbody tr th:only-of-type {\n        vertical-align: middle;\n    }\n\n    .dataframe tbody tr th {\n        vertical-align: top;\n    }\n\n    .dataframe thead th {\n        text-align: right;\n    }\n</style>\n<table border=\"1\" class=\"dataframe\">\n  <thead>\n    <tr style=\"text-align: right;\">\n      <th></th>\n      <th>BaseExcess</th>\n      <th>HCO3</th>\n      <th>FiO2</th>\n      <th>pH</th>\n      <th>PaCO2</th>\n      <th>SaO2</th>\n      <th>AST</th>\n      <th>BUN</th>\n      <th>Alkalinephos</th>\n      <th>Calcium</th>\n      <th>...</th>\n      <th>Phosphate</th>\n      <th>Potassium</th>\n      <th>Bilirubin_total</th>\n      <th>TroponinI</th>\n      <th>Hct</th>\n      <th>Hgb</th>\n      <th>PTT</th>\n      <th>WBC</th>\n      <th>Fibrinogen</th>\n      <th>Platelets</th>\n    </tr>\n  </thead>\n  <tbody>\n    <tr>\n      <th>0</th>\n      <td>0.000000</td>\n      <td>0.000000</td>\n      <td>0.000000</td>\n      <td>0.000000</td>\n      <td>0.000000</td>\n      <td>0.000000</td>\n      <td>0.000000</td>\n      <td>0.000000</td>\n      <td>0.000000</td>\n      <td>0.000000</td>\n      <td>...</td>\n      <td>0.000000</td>\n      <td>0.000000</td>\n      <td>0.000000</td>\n      <td>0.0</td>\n      <td>0.000000</td>\n      <td>0.000000</td>\n      <td>0.0</td>\n      <td>0.000000</td>\n      <td>0.0</td>\n      <td>0.000000</td>\n    </tr>\n    <tr>\n      <th>1</th>\n      <td>0.000000</td>\n      <td>0.000000</td>\n      <td>0.000000</td>\n      <td>0.000000</td>\n      <td>0.000000</td>\n      <td>0.000000</td>\n      <td>0.000000</td>\n      <td>0.000000</td>\n      <td>0.000000</td>\n      <td>0.000000</td>\n      <td>...</td>\n      <td>0.000000</td>\n      <td>0.000000</td>\n      <td>0.000000</td>\n      <td>0.0</td>\n      <td>0.000000</td>\n      <td>0.000000</td>\n      <td>0.0</td>\n      <td>0.000000</td>\n      <td>0.0</td>\n      <td>0.000000</td>\n    </tr>\n    <tr>\n      <th>2</th>\n      <td>0.000000</td>\n      <td>0.000000</td>\n      <td>0.000000</td>\n      <td>0.000000</td>\n      <td>0.000000</td>\n      <td>0.000000</td>\n      <td>0.000000</td>\n      <td>0.000000</td>\n      <td>0.000000</td>\n      <td>0.000000</td>\n      <td>...</td>\n      <td>0.000000</td>\n      <td>0.000000</td>\n      <td>0.000000</td>\n      <td>0.0</td>\n      <td>0.000000</td>\n      <td>0.000000</td>\n      <td>0.0</td>\n      <td>0.000000</td>\n      <td>0.0</td>\n      <td>0.000000</td>\n    </tr>\n    <tr>\n      <th>3</th>\n      <td>0.000000</td>\n      <td>0.000000</td>\n      <td>0.000000</td>\n      <td>0.000000</td>\n      <td>0.000000</td>\n      <td>0.000000</td>\n      <td>0.000000</td>\n      <td>0.000000</td>\n      <td>0.000000</td>\n      <td>0.000000</td>\n      <td>...</td>\n      <td>0.000000</td>\n      <td>0.000000</td>\n      <td>0.000000</td>\n      <td>0.0</td>\n      <td>0.000000</td>\n      <td>0.000000</td>\n      <td>0.0</td>\n      <td>0.000000</td>\n      <td>0.0</td>\n      <td>0.000000</td>\n    </tr>\n    <tr>\n      <th>4</th>\n      <td>0.000000</td>\n      <td>0.000000</td>\n      <td>0.000000</td>\n      <td>0.000000</td>\n      <td>0.000000</td>\n      <td>0.000000</td>\n      <td>0.000000</td>\n      <td>0.000000</td>\n      <td>0.000000</td>\n      <td>0.000000</td>\n      <td>...</td>\n      <td>0.000000</td>\n      <td>0.000000</td>\n      <td>0.000000</td>\n      <td>0.0</td>\n      <td>0.000000</td>\n      <td>0.000000</td>\n      <td>0.0</td>\n      <td>0.000000</td>\n      <td>0.0</td>\n      <td>0.000000</td>\n    </tr>\n    <tr>\n      <th>...</th>\n      <td>...</td>\n      <td>...</td>\n      <td>...</td>\n      <td>...</td>\n      <td>...</td>\n      <td>...</td>\n      <td>...</td>\n      <td>...</td>\n      <td>...</td>\n      <td>...</td>\n      <td>...</td>\n      <td>...</td>\n      <td>...</td>\n      <td>...</td>\n      <td>...</td>\n      <td>...</td>\n      <td>...</td>\n      <td>...</td>\n      <td>...</td>\n      <td>...</td>\n      <td>...</td>\n    </tr>\n    <tr>\n      <th>776768</th>\n      <td>0.140000</td>\n      <td>0.040000</td>\n      <td>0.080000</td>\n      <td>0.140000</td>\n      <td>0.120000</td>\n      <td>0.080000</td>\n      <td>0.020000</td>\n      <td>0.040000</td>\n      <td>0.020000</td>\n      <td>0.040000</td>\n      <td>...</td>\n      <td>0.040000</td>\n      <td>0.040000</td>\n      <td>0.020000</td>\n      <td>0.0</td>\n      <td>0.040000</td>\n      <td>0.040000</td>\n      <td>0.0</td>\n      <td>0.040000</td>\n      <td>0.0</td>\n      <td>0.040000</td>\n    </tr>\n    <tr>\n      <th>776769</th>\n      <td>0.137255</td>\n      <td>0.039216</td>\n      <td>0.078431</td>\n      <td>0.137255</td>\n      <td>0.117647</td>\n      <td>0.078431</td>\n      <td>0.019608</td>\n      <td>0.039216</td>\n      <td>0.019608</td>\n      <td>0.039216</td>\n      <td>...</td>\n      <td>0.039216</td>\n      <td>0.039216</td>\n      <td>0.019608</td>\n      <td>0.0</td>\n      <td>0.039216</td>\n      <td>0.039216</td>\n      <td>0.0</td>\n      <td>0.039216</td>\n      <td>0.0</td>\n      <td>0.039216</td>\n    </tr>\n    <tr>\n      <th>776770</th>\n      <td>0.134615</td>\n      <td>0.038462</td>\n      <td>0.076923</td>\n      <td>0.134615</td>\n      <td>0.115385</td>\n      <td>0.076923</td>\n      <td>0.019231</td>\n      <td>0.038462</td>\n      <td>0.019231</td>\n      <td>0.038462</td>\n      <td>...</td>\n      <td>0.038462</td>\n      <td>0.038462</td>\n      <td>0.019231</td>\n      <td>0.0</td>\n      <td>0.038462</td>\n      <td>0.038462</td>\n      <td>0.0</td>\n      <td>0.038462</td>\n      <td>0.0</td>\n      <td>0.038462</td>\n    </tr>\n    <tr>\n      <th>776771</th>\n      <td>0.132075</td>\n      <td>0.037736</td>\n      <td>0.075472</td>\n      <td>0.132075</td>\n      <td>0.113208</td>\n      <td>0.075472</td>\n      <td>0.018868</td>\n      <td>0.037736</td>\n      <td>0.018868</td>\n      <td>0.037736</td>\n      <td>...</td>\n      <td>0.037736</td>\n      <td>0.037736</td>\n      <td>0.018868</td>\n      <td>0.0</td>\n      <td>0.037736</td>\n      <td>0.037736</td>\n      <td>0.0</td>\n      <td>0.037736</td>\n      <td>0.0</td>\n      <td>0.037736</td>\n    </tr>\n    <tr>\n      <th>776772</th>\n      <td>0.129630</td>\n      <td>0.037037</td>\n      <td>0.074074</td>\n      <td>0.129630</td>\n      <td>0.111111</td>\n      <td>0.074074</td>\n      <td>0.018519</td>\n      <td>0.037037</td>\n      <td>0.018519</td>\n      <td>0.037037</td>\n      <td>...</td>\n      <td>0.037037</td>\n      <td>0.037037</td>\n      <td>0.018519</td>\n      <td>0.0</td>\n      <td>0.037037</td>\n      <td>0.037037</td>\n      <td>0.0</td>\n      <td>0.037037</td>\n      <td>0.0</td>\n      <td>0.037037</td>\n    </tr>\n  </tbody>\n</table>\n<p>776773 rows × 26 columns</p>\n</div>"
     },
     "execution_count": 33,
     "metadata": {},
     "output_type": "execute_result"
    }
   ],
   "source": [
    "t_df[lab_values] = t_df[lab_values].notna().astype(int)  # marking all NAN as 0 and values as 1\n",
    "# summing to get the amount of tests for each column than dividing by hours passed so far\n",
    "t_df[lab_values] = t_df[list(lab_values) + ['id']].groupby('id').cumsum().divide(t_df['ICULOS'], axis=0)\n",
    "t_df[lab_values]"
   ],
   "metadata": {
    "collapsed": false,
    "pycharm": {
     "name": "#%%\n"
    }
   }
  },
  {
   "cell_type": "markdown",
   "source": [
    "# Encoding categorical features\n",
    "Our only categorical feature (which isn't encoded already) is Gender"
   ],
   "metadata": {
    "collapsed": false,
    "pycharm": {
     "name": "#%% md\n"
    }
   }
  },
  {
   "cell_type": "code",
   "execution_count": 34,
   "outputs": [
    {
     "data": {
      "text/plain": "               HR      O2Sat       Temp         SBP        MAP        DBP  \\\n0       61.000000  99.000000  36.440000  124.000000  65.000000  43.000000   \n1       61.000000  99.000000  36.440000  124.000000  65.000000  43.000000   \n2       63.250000  98.250000  36.440000  124.750000  64.250000  41.500000   \n3       58.230769  99.461538  36.440000  123.538462  64.769231  41.153846   \n4       63.475000  99.150000  36.440000  121.150000  66.275000  42.400000   \n...           ...        ...        ...         ...        ...        ...   \n776768  83.485047  89.681645  36.375923  112.096817  68.395407  54.668775   \n776769  81.828180  97.670237  36.375923  103.364620  56.797159  54.668775   \n776770  83.942798  99.347750  36.375923  103.121531  50.932166  54.668775   \n776771  85.314282  95.008713  36.375923   92.373709  46.310664  54.668775   \n776772  84.438091  88.280829  36.375923   82.791196  44.770215  54.668775   \n\n             Resp      EtCO2  BaseExcess      HCO3  ...    Age  Unit1  Unit2  \\\n0       17.500000  35.000000    0.000000  0.000000  ...  75.91    0.0    1.0   \n1       17.500000  35.000000    0.000000  0.000000  ...  75.91    0.0    1.0   \n2       24.625000  35.000000    0.000000  0.000000  ...  75.91    0.0    1.0   \n3       13.807692  35.000000    0.000000  0.000000  ...  75.91    0.0    1.0   \n4       20.012500  35.000000    0.000000  0.000000  ...  75.91    0.0    1.0   \n...           ...        ...         ...       ...  ...    ...    ...    ...   \n776768  20.310611  47.057456    0.140000  0.040000  ...  83.14    0.0    0.0   \n776769  18.103537  47.057456    0.137255  0.039216  ...  83.14    0.0    0.0   \n776770  23.367846  47.057456    0.134615  0.038462  ...  83.14    0.0    0.0   \n776771  22.455949  47.057456    0.132075  0.037736  ...  83.14    0.0    0.0   \n776772  19.485316  47.057456    0.129630  0.037037  ...  83.14    0.0    0.0   \n\n        HospAdmTime  ICULOS  SepsisLabel       id  Unit3  Gender_0.0  \\\n0            -98.60       1          0.0      0.0    0.0           1   \n1            -98.60       2          0.0      0.0    0.0           1   \n2            -98.60       3          0.0      0.0    0.0           1   \n3            -98.60       4          0.0      0.0    0.0           1   \n4            -98.60       5          0.0      0.0    0.0           1   \n...             ...     ...          ...      ...    ...         ...   \n776768        -0.03      50          0.0  19999.0    1.0           1   \n776769        -0.03      51          0.0  19999.0    1.0           1   \n776770        -0.03      52          0.0  19999.0    1.0           1   \n776771        -0.03      53          0.0  19999.0    1.0           1   \n776772        -0.03      54          0.0  19999.0    1.0           1   \n\n        Gender_1.0  \n0                0  \n1                0  \n2                0  \n3                0  \n4                0  \n...            ...  \n776768           0  \n776769           0  \n776770           0  \n776771           0  \n776772           0  \n\n[776773 rows x 44 columns]",
      "text/html": "<div>\n<style scoped>\n    .dataframe tbody tr th:only-of-type {\n        vertical-align: middle;\n    }\n\n    .dataframe tbody tr th {\n        vertical-align: top;\n    }\n\n    .dataframe thead th {\n        text-align: right;\n    }\n</style>\n<table border=\"1\" class=\"dataframe\">\n  <thead>\n    <tr style=\"text-align: right;\">\n      <th></th>\n      <th>HR</th>\n      <th>O2Sat</th>\n      <th>Temp</th>\n      <th>SBP</th>\n      <th>MAP</th>\n      <th>DBP</th>\n      <th>Resp</th>\n      <th>EtCO2</th>\n      <th>BaseExcess</th>\n      <th>HCO3</th>\n      <th>...</th>\n      <th>Age</th>\n      <th>Unit1</th>\n      <th>Unit2</th>\n      <th>HospAdmTime</th>\n      <th>ICULOS</th>\n      <th>SepsisLabel</th>\n      <th>id</th>\n      <th>Unit3</th>\n      <th>Gender_0.0</th>\n      <th>Gender_1.0</th>\n    </tr>\n  </thead>\n  <tbody>\n    <tr>\n      <th>0</th>\n      <td>61.000000</td>\n      <td>99.000000</td>\n      <td>36.440000</td>\n      <td>124.000000</td>\n      <td>65.000000</td>\n      <td>43.000000</td>\n      <td>17.500000</td>\n      <td>35.000000</td>\n      <td>0.000000</td>\n      <td>0.000000</td>\n      <td>...</td>\n      <td>75.91</td>\n      <td>0.0</td>\n      <td>1.0</td>\n      <td>-98.60</td>\n      <td>1</td>\n      <td>0.0</td>\n      <td>0.0</td>\n      <td>0.0</td>\n      <td>1</td>\n      <td>0</td>\n    </tr>\n    <tr>\n      <th>1</th>\n      <td>61.000000</td>\n      <td>99.000000</td>\n      <td>36.440000</td>\n      <td>124.000000</td>\n      <td>65.000000</td>\n      <td>43.000000</td>\n      <td>17.500000</td>\n      <td>35.000000</td>\n      <td>0.000000</td>\n      <td>0.000000</td>\n      <td>...</td>\n      <td>75.91</td>\n      <td>0.0</td>\n      <td>1.0</td>\n      <td>-98.60</td>\n      <td>2</td>\n      <td>0.0</td>\n      <td>0.0</td>\n      <td>0.0</td>\n      <td>1</td>\n      <td>0</td>\n    </tr>\n    <tr>\n      <th>2</th>\n      <td>63.250000</td>\n      <td>98.250000</td>\n      <td>36.440000</td>\n      <td>124.750000</td>\n      <td>64.250000</td>\n      <td>41.500000</td>\n      <td>24.625000</td>\n      <td>35.000000</td>\n      <td>0.000000</td>\n      <td>0.000000</td>\n      <td>...</td>\n      <td>75.91</td>\n      <td>0.0</td>\n      <td>1.0</td>\n      <td>-98.60</td>\n      <td>3</td>\n      <td>0.0</td>\n      <td>0.0</td>\n      <td>0.0</td>\n      <td>1</td>\n      <td>0</td>\n    </tr>\n    <tr>\n      <th>3</th>\n      <td>58.230769</td>\n      <td>99.461538</td>\n      <td>36.440000</td>\n      <td>123.538462</td>\n      <td>64.769231</td>\n      <td>41.153846</td>\n      <td>13.807692</td>\n      <td>35.000000</td>\n      <td>0.000000</td>\n      <td>0.000000</td>\n      <td>...</td>\n      <td>75.91</td>\n      <td>0.0</td>\n      <td>1.0</td>\n      <td>-98.60</td>\n      <td>4</td>\n      <td>0.0</td>\n      <td>0.0</td>\n      <td>0.0</td>\n      <td>1</td>\n      <td>0</td>\n    </tr>\n    <tr>\n      <th>4</th>\n      <td>63.475000</td>\n      <td>99.150000</td>\n      <td>36.440000</td>\n      <td>121.150000</td>\n      <td>66.275000</td>\n      <td>42.400000</td>\n      <td>20.012500</td>\n      <td>35.000000</td>\n      <td>0.000000</td>\n      <td>0.000000</td>\n      <td>...</td>\n      <td>75.91</td>\n      <td>0.0</td>\n      <td>1.0</td>\n      <td>-98.60</td>\n      <td>5</td>\n      <td>0.0</td>\n      <td>0.0</td>\n      <td>0.0</td>\n      <td>1</td>\n      <td>0</td>\n    </tr>\n    <tr>\n      <th>...</th>\n      <td>...</td>\n      <td>...</td>\n      <td>...</td>\n      <td>...</td>\n      <td>...</td>\n      <td>...</td>\n      <td>...</td>\n      <td>...</td>\n      <td>...</td>\n      <td>...</td>\n      <td>...</td>\n      <td>...</td>\n      <td>...</td>\n      <td>...</td>\n      <td>...</td>\n      <td>...</td>\n      <td>...</td>\n      <td>...</td>\n      <td>...</td>\n      <td>...</td>\n      <td>...</td>\n    </tr>\n    <tr>\n      <th>776768</th>\n      <td>83.485047</td>\n      <td>89.681645</td>\n      <td>36.375923</td>\n      <td>112.096817</td>\n      <td>68.395407</td>\n      <td>54.668775</td>\n      <td>20.310611</td>\n      <td>47.057456</td>\n      <td>0.140000</td>\n      <td>0.040000</td>\n      <td>...</td>\n      <td>83.14</td>\n      <td>0.0</td>\n      <td>0.0</td>\n      <td>-0.03</td>\n      <td>50</td>\n      <td>0.0</td>\n      <td>19999.0</td>\n      <td>1.0</td>\n      <td>1</td>\n      <td>0</td>\n    </tr>\n    <tr>\n      <th>776769</th>\n      <td>81.828180</td>\n      <td>97.670237</td>\n      <td>36.375923</td>\n      <td>103.364620</td>\n      <td>56.797159</td>\n      <td>54.668775</td>\n      <td>18.103537</td>\n      <td>47.057456</td>\n      <td>0.137255</td>\n      <td>0.039216</td>\n      <td>...</td>\n      <td>83.14</td>\n      <td>0.0</td>\n      <td>0.0</td>\n      <td>-0.03</td>\n      <td>51</td>\n      <td>0.0</td>\n      <td>19999.0</td>\n      <td>1.0</td>\n      <td>1</td>\n      <td>0</td>\n    </tr>\n    <tr>\n      <th>776770</th>\n      <td>83.942798</td>\n      <td>99.347750</td>\n      <td>36.375923</td>\n      <td>103.121531</td>\n      <td>50.932166</td>\n      <td>54.668775</td>\n      <td>23.367846</td>\n      <td>47.057456</td>\n      <td>0.134615</td>\n      <td>0.038462</td>\n      <td>...</td>\n      <td>83.14</td>\n      <td>0.0</td>\n      <td>0.0</td>\n      <td>-0.03</td>\n      <td>52</td>\n      <td>0.0</td>\n      <td>19999.0</td>\n      <td>1.0</td>\n      <td>1</td>\n      <td>0</td>\n    </tr>\n    <tr>\n      <th>776771</th>\n      <td>85.314282</td>\n      <td>95.008713</td>\n      <td>36.375923</td>\n      <td>92.373709</td>\n      <td>46.310664</td>\n      <td>54.668775</td>\n      <td>22.455949</td>\n      <td>47.057456</td>\n      <td>0.132075</td>\n      <td>0.037736</td>\n      <td>...</td>\n      <td>83.14</td>\n      <td>0.0</td>\n      <td>0.0</td>\n      <td>-0.03</td>\n      <td>53</td>\n      <td>0.0</td>\n      <td>19999.0</td>\n      <td>1.0</td>\n      <td>1</td>\n      <td>0</td>\n    </tr>\n    <tr>\n      <th>776772</th>\n      <td>84.438091</td>\n      <td>88.280829</td>\n      <td>36.375923</td>\n      <td>82.791196</td>\n      <td>44.770215</td>\n      <td>54.668775</td>\n      <td>19.485316</td>\n      <td>47.057456</td>\n      <td>0.129630</td>\n      <td>0.037037</td>\n      <td>...</td>\n      <td>83.14</td>\n      <td>0.0</td>\n      <td>0.0</td>\n      <td>-0.03</td>\n      <td>54</td>\n      <td>0.0</td>\n      <td>19999.0</td>\n      <td>1.0</td>\n      <td>1</td>\n      <td>0</td>\n    </tr>\n  </tbody>\n</table>\n<p>776773 rows × 44 columns</p>\n</div>"
     },
     "execution_count": 34,
     "metadata": {},
     "output_type": "execute_result"
    }
   ],
   "source": [
    "t_df = pd.get_dummies(t_df, columns=['Gender'])\n",
    "t_df"
   ],
   "metadata": {
    "collapsed": false,
    "pycharm": {
     "name": "#%%\n"
    }
   }
  },
  {
   "cell_type": "markdown",
   "source": [
    "# Filtering our y\n",
    "we keep only the rows before (including) the first appearance of Sepsis (we checked and there is no reappearance of Sepsis in the data)"
   ],
   "metadata": {
    "collapsed": false,
    "pycharm": {
     "name": "#%% md\n"
    }
   }
  },
  {
   "cell_type": "code",
   "execution_count": 35,
   "outputs": [
    {
     "data": {
      "text/plain": "               HR      O2Sat       Temp         SBP        MAP        DBP  \\\n0       61.000000  99.000000  36.440000  124.000000  65.000000  43.000000   \n1       61.000000  99.000000  36.440000  124.000000  65.000000  43.000000   \n2       63.250000  98.250000  36.440000  124.750000  64.250000  41.500000   \n3       58.230769  99.461538  36.440000  123.538462  64.769231  41.153846   \n4       63.475000  99.150000  36.440000  121.150000  66.275000  42.400000   \n...           ...        ...        ...         ...        ...        ...   \n776768  83.485047  89.681645  36.375923  112.096817  68.395407  54.668775   \n776769  81.828180  97.670237  36.375923  103.364620  56.797159  54.668775   \n776770  83.942798  99.347750  36.375923  103.121531  50.932166  54.668775   \n776771  85.314282  95.008713  36.375923   92.373709  46.310664  54.668775   \n776772  84.438091  88.280829  36.375923   82.791196  44.770215  54.668775   \n\n             Resp      EtCO2  BaseExcess      HCO3  ...    Age  Unit1  Unit2  \\\n0       17.500000  35.000000    0.000000  0.000000  ...  75.91    0.0    1.0   \n1       17.500000  35.000000    0.000000  0.000000  ...  75.91    0.0    1.0   \n2       24.625000  35.000000    0.000000  0.000000  ...  75.91    0.0    1.0   \n3       13.807692  35.000000    0.000000  0.000000  ...  75.91    0.0    1.0   \n4       20.012500  35.000000    0.000000  0.000000  ...  75.91    0.0    1.0   \n...           ...        ...         ...       ...  ...    ...    ...    ...   \n776768  20.310611  47.057456    0.140000  0.040000  ...  83.14    0.0    0.0   \n776769  18.103537  47.057456    0.137255  0.039216  ...  83.14    0.0    0.0   \n776770  23.367846  47.057456    0.134615  0.038462  ...  83.14    0.0    0.0   \n776771  22.455949  47.057456    0.132075  0.037736  ...  83.14    0.0    0.0   \n776772  19.485316  47.057456    0.129630  0.037037  ...  83.14    0.0    0.0   \n\n        HospAdmTime  ICULOS  SepsisLabel       id  Unit3  Gender_0.0  \\\n0            -98.60       1          0.0      0.0    0.0           1   \n1            -98.60       2          0.0      0.0    0.0           1   \n2            -98.60       3          0.0      0.0    0.0           1   \n3            -98.60       4          0.0      0.0    0.0           1   \n4            -98.60       5          0.0      0.0    0.0           1   \n...             ...     ...          ...      ...    ...         ...   \n776768        -0.03      50          0.0  19999.0    1.0           1   \n776769        -0.03      51          0.0  19999.0    1.0           1   \n776770        -0.03      52          0.0  19999.0    1.0           1   \n776771        -0.03      53          0.0  19999.0    1.0           1   \n776772        -0.03      54          0.0  19999.0    1.0           1   \n\n        Gender_1.0  \n0                0  \n1                0  \n2                0  \n3                0  \n4                0  \n...            ...  \n776768           0  \n776769           0  \n776770           0  \n776771           0  \n776772           0  \n\n[764642 rows x 44 columns]",
      "text/html": "<div>\n<style scoped>\n    .dataframe tbody tr th:only-of-type {\n        vertical-align: middle;\n    }\n\n    .dataframe tbody tr th {\n        vertical-align: top;\n    }\n\n    .dataframe thead th {\n        text-align: right;\n    }\n</style>\n<table border=\"1\" class=\"dataframe\">\n  <thead>\n    <tr style=\"text-align: right;\">\n      <th></th>\n      <th>HR</th>\n      <th>O2Sat</th>\n      <th>Temp</th>\n      <th>SBP</th>\n      <th>MAP</th>\n      <th>DBP</th>\n      <th>Resp</th>\n      <th>EtCO2</th>\n      <th>BaseExcess</th>\n      <th>HCO3</th>\n      <th>...</th>\n      <th>Age</th>\n      <th>Unit1</th>\n      <th>Unit2</th>\n      <th>HospAdmTime</th>\n      <th>ICULOS</th>\n      <th>SepsisLabel</th>\n      <th>id</th>\n      <th>Unit3</th>\n      <th>Gender_0.0</th>\n      <th>Gender_1.0</th>\n    </tr>\n  </thead>\n  <tbody>\n    <tr>\n      <th>0</th>\n      <td>61.000000</td>\n      <td>99.000000</td>\n      <td>36.440000</td>\n      <td>124.000000</td>\n      <td>65.000000</td>\n      <td>43.000000</td>\n      <td>17.500000</td>\n      <td>35.000000</td>\n      <td>0.000000</td>\n      <td>0.000000</td>\n      <td>...</td>\n      <td>75.91</td>\n      <td>0.0</td>\n      <td>1.0</td>\n      <td>-98.60</td>\n      <td>1</td>\n      <td>0.0</td>\n      <td>0.0</td>\n      <td>0.0</td>\n      <td>1</td>\n      <td>0</td>\n    </tr>\n    <tr>\n      <th>1</th>\n      <td>61.000000</td>\n      <td>99.000000</td>\n      <td>36.440000</td>\n      <td>124.000000</td>\n      <td>65.000000</td>\n      <td>43.000000</td>\n      <td>17.500000</td>\n      <td>35.000000</td>\n      <td>0.000000</td>\n      <td>0.000000</td>\n      <td>...</td>\n      <td>75.91</td>\n      <td>0.0</td>\n      <td>1.0</td>\n      <td>-98.60</td>\n      <td>2</td>\n      <td>0.0</td>\n      <td>0.0</td>\n      <td>0.0</td>\n      <td>1</td>\n      <td>0</td>\n    </tr>\n    <tr>\n      <th>2</th>\n      <td>63.250000</td>\n      <td>98.250000</td>\n      <td>36.440000</td>\n      <td>124.750000</td>\n      <td>64.250000</td>\n      <td>41.500000</td>\n      <td>24.625000</td>\n      <td>35.000000</td>\n      <td>0.000000</td>\n      <td>0.000000</td>\n      <td>...</td>\n      <td>75.91</td>\n      <td>0.0</td>\n      <td>1.0</td>\n      <td>-98.60</td>\n      <td>3</td>\n      <td>0.0</td>\n      <td>0.0</td>\n      <td>0.0</td>\n      <td>1</td>\n      <td>0</td>\n    </tr>\n    <tr>\n      <th>3</th>\n      <td>58.230769</td>\n      <td>99.461538</td>\n      <td>36.440000</td>\n      <td>123.538462</td>\n      <td>64.769231</td>\n      <td>41.153846</td>\n      <td>13.807692</td>\n      <td>35.000000</td>\n      <td>0.000000</td>\n      <td>0.000000</td>\n      <td>...</td>\n      <td>75.91</td>\n      <td>0.0</td>\n      <td>1.0</td>\n      <td>-98.60</td>\n      <td>4</td>\n      <td>0.0</td>\n      <td>0.0</td>\n      <td>0.0</td>\n      <td>1</td>\n      <td>0</td>\n    </tr>\n    <tr>\n      <th>4</th>\n      <td>63.475000</td>\n      <td>99.150000</td>\n      <td>36.440000</td>\n      <td>121.150000</td>\n      <td>66.275000</td>\n      <td>42.400000</td>\n      <td>20.012500</td>\n      <td>35.000000</td>\n      <td>0.000000</td>\n      <td>0.000000</td>\n      <td>...</td>\n      <td>75.91</td>\n      <td>0.0</td>\n      <td>1.0</td>\n      <td>-98.60</td>\n      <td>5</td>\n      <td>0.0</td>\n      <td>0.0</td>\n      <td>0.0</td>\n      <td>1</td>\n      <td>0</td>\n    </tr>\n    <tr>\n      <th>...</th>\n      <td>...</td>\n      <td>...</td>\n      <td>...</td>\n      <td>...</td>\n      <td>...</td>\n      <td>...</td>\n      <td>...</td>\n      <td>...</td>\n      <td>...</td>\n      <td>...</td>\n      <td>...</td>\n      <td>...</td>\n      <td>...</td>\n      <td>...</td>\n      <td>...</td>\n      <td>...</td>\n      <td>...</td>\n      <td>...</td>\n      <td>...</td>\n      <td>...</td>\n      <td>...</td>\n    </tr>\n    <tr>\n      <th>776768</th>\n      <td>83.485047</td>\n      <td>89.681645</td>\n      <td>36.375923</td>\n      <td>112.096817</td>\n      <td>68.395407</td>\n      <td>54.668775</td>\n      <td>20.310611</td>\n      <td>47.057456</td>\n      <td>0.140000</td>\n      <td>0.040000</td>\n      <td>...</td>\n      <td>83.14</td>\n      <td>0.0</td>\n      <td>0.0</td>\n      <td>-0.03</td>\n      <td>50</td>\n      <td>0.0</td>\n      <td>19999.0</td>\n      <td>1.0</td>\n      <td>1</td>\n      <td>0</td>\n    </tr>\n    <tr>\n      <th>776769</th>\n      <td>81.828180</td>\n      <td>97.670237</td>\n      <td>36.375923</td>\n      <td>103.364620</td>\n      <td>56.797159</td>\n      <td>54.668775</td>\n      <td>18.103537</td>\n      <td>47.057456</td>\n      <td>0.137255</td>\n      <td>0.039216</td>\n      <td>...</td>\n      <td>83.14</td>\n      <td>0.0</td>\n      <td>0.0</td>\n      <td>-0.03</td>\n      <td>51</td>\n      <td>0.0</td>\n      <td>19999.0</td>\n      <td>1.0</td>\n      <td>1</td>\n      <td>0</td>\n    </tr>\n    <tr>\n      <th>776770</th>\n      <td>83.942798</td>\n      <td>99.347750</td>\n      <td>36.375923</td>\n      <td>103.121531</td>\n      <td>50.932166</td>\n      <td>54.668775</td>\n      <td>23.367846</td>\n      <td>47.057456</td>\n      <td>0.134615</td>\n      <td>0.038462</td>\n      <td>...</td>\n      <td>83.14</td>\n      <td>0.0</td>\n      <td>0.0</td>\n      <td>-0.03</td>\n      <td>52</td>\n      <td>0.0</td>\n      <td>19999.0</td>\n      <td>1.0</td>\n      <td>1</td>\n      <td>0</td>\n    </tr>\n    <tr>\n      <th>776771</th>\n      <td>85.314282</td>\n      <td>95.008713</td>\n      <td>36.375923</td>\n      <td>92.373709</td>\n      <td>46.310664</td>\n      <td>54.668775</td>\n      <td>22.455949</td>\n      <td>47.057456</td>\n      <td>0.132075</td>\n      <td>0.037736</td>\n      <td>...</td>\n      <td>83.14</td>\n      <td>0.0</td>\n      <td>0.0</td>\n      <td>-0.03</td>\n      <td>53</td>\n      <td>0.0</td>\n      <td>19999.0</td>\n      <td>1.0</td>\n      <td>1</td>\n      <td>0</td>\n    </tr>\n    <tr>\n      <th>776772</th>\n      <td>84.438091</td>\n      <td>88.280829</td>\n      <td>36.375923</td>\n      <td>82.791196</td>\n      <td>44.770215</td>\n      <td>54.668775</td>\n      <td>19.485316</td>\n      <td>47.057456</td>\n      <td>0.129630</td>\n      <td>0.037037</td>\n      <td>...</td>\n      <td>83.14</td>\n      <td>0.0</td>\n      <td>0.0</td>\n      <td>-0.03</td>\n      <td>54</td>\n      <td>0.0</td>\n      <td>19999.0</td>\n      <td>1.0</td>\n      <td>1</td>\n      <td>0</td>\n    </tr>\n  </tbody>\n</table>\n<p>764642 rows × 44 columns</p>\n</div>"
     },
     "execution_count": 35,
     "metadata": {},
     "output_type": "execute_result"
    }
   ],
   "source": [
    "t_df = t_df[~((t_df['SepsisLabel'] == 1.0) & (t_df.groupby('id')['SepsisLabel'].diff() == 0.0))]\n",
    "t_df"
   ],
   "metadata": {
    "collapsed": false,
    "pycharm": {
     "name": "#%%\n"
    }
   }
  },
  {
   "cell_type": "code",
   "execution_count": 36,
   "outputs": [
    {
     "data": {
      "text/plain": "                HR       O2Sat       Temp         SBP         MAP        DBP  \\\n48       98.397933  100.000000  37.563233  145.620623   85.729001  58.997162   \n746     104.318870   97.231861  37.909225  107.751640   79.590126  63.012396   \n1081    101.532404   99.777456  36.898121  129.938431   85.635157  72.309741   \n2275     87.241901   99.985517  38.527445  103.692945   93.798566  91.431303   \n2405     87.540370   98.364538  39.081451  134.867328   99.327547  71.770996   \n...            ...         ...        ...         ...         ...        ...   \n322186   92.187385   99.999898  38.295659  120.924837   97.274670  70.278398   \n323563   83.281185   99.998628  36.699989  145.701280  112.932671  90.193724   \n323797   75.000000   97.000000  36.400000  121.000000   71.000000  55.000000   \n325278   89.284494   96.052959  37.281797  144.198692   90.167235  63.255281   \n325390  103.391574   97.778217  35.783915  140.000000   81.329358  94.000000   \n\n             Resp      EtCO2  BaseExcess      HCO3  ...    Age  Unit1  Unit2  \\\n48      19.791722  35.000000    0.115385  0.115385  ...  65.79    0.0    0.0   \n746     22.245588  28.649903    0.000000  0.000000  ...  89.00    1.0    0.0   \n1081    13.931894  34.500000    0.000000  0.000000  ...  56.00    1.0    0.0   \n2275    23.462209  18.000000    0.000000  0.000000  ...  45.00    0.0    1.0   \n2405    17.366581  38.000000    0.000000  0.000000  ...  60.00    0.0    0.0   \n...           ...        ...         ...       ...  ...    ...    ...    ...   \n322186  16.000000  21.384989    0.000000  0.000000  ...  54.00    0.0    1.0   \n323563  15.374005  43.000000    0.000000  0.000000  ...  31.00    0.0    1.0   \n323797  20.000000  35.000000    0.000000  0.000000  ...  59.00    0.0    1.0   \n325278  24.910082  28.000000    0.000000  0.000000  ...  73.00    1.0    0.0   \n325390  21.915838  28.000000    0.027778  0.055556  ...  66.00    1.0    0.0   \n\n        HospAdmTime  ICULOS  SepsisLabel      id  Unit3  Gender_0.0  \\\n48            -0.02      26          1.0     1.0    1.0           0   \n746         -253.56      81          1.0    17.0    0.0           0   \n1081          -7.52     266          1.0    20.0    0.0           1   \n2275        -151.79      27          1.0    54.0    0.0           0   \n2405          -0.03      79          1.0    56.0    1.0           1   \n...             ...     ...          ...     ...    ...         ...   \n322186      -266.64      29          1.0  8408.0    0.0           0   \n323563      -156.17      14          1.0  8443.0    0.0           1   \n323797        -3.06       1          1.0  8450.0    0.0           0   \n325278        -3.05      34          1.0  8487.0    0.0           1   \n325390       -34.20      36          1.0  8490.0    0.0           0   \n\n        Gender_1.0  \n48               1  \n746              1  \n1081             0  \n2275             1  \n2405             0  \n...            ...  \n322186           1  \n323563           0  \n323797           1  \n325278           0  \n325390           1  \n\n[500 rows x 44 columns]",
      "text/html": "<div>\n<style scoped>\n    .dataframe tbody tr th:only-of-type {\n        vertical-align: middle;\n    }\n\n    .dataframe tbody tr th {\n        vertical-align: top;\n    }\n\n    .dataframe thead th {\n        text-align: right;\n    }\n</style>\n<table border=\"1\" class=\"dataframe\">\n  <thead>\n    <tr style=\"text-align: right;\">\n      <th></th>\n      <th>HR</th>\n      <th>O2Sat</th>\n      <th>Temp</th>\n      <th>SBP</th>\n      <th>MAP</th>\n      <th>DBP</th>\n      <th>Resp</th>\n      <th>EtCO2</th>\n      <th>BaseExcess</th>\n      <th>HCO3</th>\n      <th>...</th>\n      <th>Age</th>\n      <th>Unit1</th>\n      <th>Unit2</th>\n      <th>HospAdmTime</th>\n      <th>ICULOS</th>\n      <th>SepsisLabel</th>\n      <th>id</th>\n      <th>Unit3</th>\n      <th>Gender_0.0</th>\n      <th>Gender_1.0</th>\n    </tr>\n  </thead>\n  <tbody>\n    <tr>\n      <th>48</th>\n      <td>98.397933</td>\n      <td>100.000000</td>\n      <td>37.563233</td>\n      <td>145.620623</td>\n      <td>85.729001</td>\n      <td>58.997162</td>\n      <td>19.791722</td>\n      <td>35.000000</td>\n      <td>0.115385</td>\n      <td>0.115385</td>\n      <td>...</td>\n      <td>65.79</td>\n      <td>0.0</td>\n      <td>0.0</td>\n      <td>-0.02</td>\n      <td>26</td>\n      <td>1.0</td>\n      <td>1.0</td>\n      <td>1.0</td>\n      <td>0</td>\n      <td>1</td>\n    </tr>\n    <tr>\n      <th>746</th>\n      <td>104.318870</td>\n      <td>97.231861</td>\n      <td>37.909225</td>\n      <td>107.751640</td>\n      <td>79.590126</td>\n      <td>63.012396</td>\n      <td>22.245588</td>\n      <td>28.649903</td>\n      <td>0.000000</td>\n      <td>0.000000</td>\n      <td>...</td>\n      <td>89.00</td>\n      <td>1.0</td>\n      <td>0.0</td>\n      <td>-253.56</td>\n      <td>81</td>\n      <td>1.0</td>\n      <td>17.0</td>\n      <td>0.0</td>\n      <td>0</td>\n      <td>1</td>\n    </tr>\n    <tr>\n      <th>1081</th>\n      <td>101.532404</td>\n      <td>99.777456</td>\n      <td>36.898121</td>\n      <td>129.938431</td>\n      <td>85.635157</td>\n      <td>72.309741</td>\n      <td>13.931894</td>\n      <td>34.500000</td>\n      <td>0.000000</td>\n      <td>0.000000</td>\n      <td>...</td>\n      <td>56.00</td>\n      <td>1.0</td>\n      <td>0.0</td>\n      <td>-7.52</td>\n      <td>266</td>\n      <td>1.0</td>\n      <td>20.0</td>\n      <td>0.0</td>\n      <td>1</td>\n      <td>0</td>\n    </tr>\n    <tr>\n      <th>2275</th>\n      <td>87.241901</td>\n      <td>99.985517</td>\n      <td>38.527445</td>\n      <td>103.692945</td>\n      <td>93.798566</td>\n      <td>91.431303</td>\n      <td>23.462209</td>\n      <td>18.000000</td>\n      <td>0.000000</td>\n      <td>0.000000</td>\n      <td>...</td>\n      <td>45.00</td>\n      <td>0.0</td>\n      <td>1.0</td>\n      <td>-151.79</td>\n      <td>27</td>\n      <td>1.0</td>\n      <td>54.0</td>\n      <td>0.0</td>\n      <td>0</td>\n      <td>1</td>\n    </tr>\n    <tr>\n      <th>2405</th>\n      <td>87.540370</td>\n      <td>98.364538</td>\n      <td>39.081451</td>\n      <td>134.867328</td>\n      <td>99.327547</td>\n      <td>71.770996</td>\n      <td>17.366581</td>\n      <td>38.000000</td>\n      <td>0.000000</td>\n      <td>0.000000</td>\n      <td>...</td>\n      <td>60.00</td>\n      <td>0.0</td>\n      <td>0.0</td>\n      <td>-0.03</td>\n      <td>79</td>\n      <td>1.0</td>\n      <td>56.0</td>\n      <td>1.0</td>\n      <td>1</td>\n      <td>0</td>\n    </tr>\n    <tr>\n      <th>...</th>\n      <td>...</td>\n      <td>...</td>\n      <td>...</td>\n      <td>...</td>\n      <td>...</td>\n      <td>...</td>\n      <td>...</td>\n      <td>...</td>\n      <td>...</td>\n      <td>...</td>\n      <td>...</td>\n      <td>...</td>\n      <td>...</td>\n      <td>...</td>\n      <td>...</td>\n      <td>...</td>\n      <td>...</td>\n      <td>...</td>\n      <td>...</td>\n      <td>...</td>\n      <td>...</td>\n    </tr>\n    <tr>\n      <th>322186</th>\n      <td>92.187385</td>\n      <td>99.999898</td>\n      <td>38.295659</td>\n      <td>120.924837</td>\n      <td>97.274670</td>\n      <td>70.278398</td>\n      <td>16.000000</td>\n      <td>21.384989</td>\n      <td>0.000000</td>\n      <td>0.000000</td>\n      <td>...</td>\n      <td>54.00</td>\n      <td>0.0</td>\n      <td>1.0</td>\n      <td>-266.64</td>\n      <td>29</td>\n      <td>1.0</td>\n      <td>8408.0</td>\n      <td>0.0</td>\n      <td>0</td>\n      <td>1</td>\n    </tr>\n    <tr>\n      <th>323563</th>\n      <td>83.281185</td>\n      <td>99.998628</td>\n      <td>36.699989</td>\n      <td>145.701280</td>\n      <td>112.932671</td>\n      <td>90.193724</td>\n      <td>15.374005</td>\n      <td>43.000000</td>\n      <td>0.000000</td>\n      <td>0.000000</td>\n      <td>...</td>\n      <td>31.00</td>\n      <td>0.0</td>\n      <td>1.0</td>\n      <td>-156.17</td>\n      <td>14</td>\n      <td>1.0</td>\n      <td>8443.0</td>\n      <td>0.0</td>\n      <td>1</td>\n      <td>0</td>\n    </tr>\n    <tr>\n      <th>323797</th>\n      <td>75.000000</td>\n      <td>97.000000</td>\n      <td>36.400000</td>\n      <td>121.000000</td>\n      <td>71.000000</td>\n      <td>55.000000</td>\n      <td>20.000000</td>\n      <td>35.000000</td>\n      <td>0.000000</td>\n      <td>0.000000</td>\n      <td>...</td>\n      <td>59.00</td>\n      <td>0.0</td>\n      <td>1.0</td>\n      <td>-3.06</td>\n      <td>1</td>\n      <td>1.0</td>\n      <td>8450.0</td>\n      <td>0.0</td>\n      <td>0</td>\n      <td>1</td>\n    </tr>\n    <tr>\n      <th>325278</th>\n      <td>89.284494</td>\n      <td>96.052959</td>\n      <td>37.281797</td>\n      <td>144.198692</td>\n      <td>90.167235</td>\n      <td>63.255281</td>\n      <td>24.910082</td>\n      <td>28.000000</td>\n      <td>0.000000</td>\n      <td>0.000000</td>\n      <td>...</td>\n      <td>73.00</td>\n      <td>1.0</td>\n      <td>0.0</td>\n      <td>-3.05</td>\n      <td>34</td>\n      <td>1.0</td>\n      <td>8487.0</td>\n      <td>0.0</td>\n      <td>1</td>\n      <td>0</td>\n    </tr>\n    <tr>\n      <th>325390</th>\n      <td>103.391574</td>\n      <td>97.778217</td>\n      <td>35.783915</td>\n      <td>140.000000</td>\n      <td>81.329358</td>\n      <td>94.000000</td>\n      <td>21.915838</td>\n      <td>28.000000</td>\n      <td>0.027778</td>\n      <td>0.055556</td>\n      <td>...</td>\n      <td>66.00</td>\n      <td>1.0</td>\n      <td>0.0</td>\n      <td>-34.20</td>\n      <td>36</td>\n      <td>1.0</td>\n      <td>8490.0</td>\n      <td>0.0</td>\n      <td>0</td>\n      <td>1</td>\n    </tr>\n  </tbody>\n</table>\n<p>500 rows × 44 columns</p>\n</div>"
     },
     "execution_count": 36,
     "metadata": {},
     "output_type": "execute_result"
    }
   ],
   "source": [
    "t_df[t_df['SepsisLabel'] == 1.0].head(500)"
   ],
   "metadata": {
    "collapsed": false,
    "pycharm": {
     "name": "#%%\n"
    }
   }
  },
  {
   "cell_type": "code",
   "execution_count": 37,
   "outputs": [],
   "source": [
    "# save new data:\n",
    "t_df.to_csv('data/train_raw_1.csv')"
   ],
   "metadata": {
    "collapsed": false,
    "pycharm": {
     "name": "#%%\n"
    }
   }
  },
  {
   "cell_type": "code",
   "execution_count": 37,
   "outputs": [],
   "source": [],
   "metadata": {
    "collapsed": false,
    "pycharm": {
     "name": "#%%\n"
    }
   }
  },
  {
   "cell_type": "code",
   "execution_count": 38,
   "outputs": [
    {
     "name": "stdout",
     "output_type": "stream",
     "text": [
      "1415\n",
      "18585\n"
     ]
    }
   ],
   "source": [
    "print(t_df[t_df['SepsisLabel'] == 1.0]['id'].nunique())\n",
    "print(t_df['id'].nunique() - t_df[t_df['SepsisLabel'] == 1.0]['id'].nunique())"
   ],
   "metadata": {
    "collapsed": false,
    "pycharm": {
     "name": "#%%\n"
    }
   }
  }
 ],
 "metadata": {
  "kernelspec": {
   "display_name": "Python 3",
   "language": "python",
   "name": "python3"
  },
  "language_info": {
   "codemirror_mode": {
    "name": "ipython",
    "version": 2
   },
   "file_extension": ".py",
   "mimetype": "text/x-python",
   "name": "python",
   "nbconvert_exporter": "python",
   "pygments_lexer": "ipython2",
   "version": "2.7.6"
  }
 },
 "nbformat": 4,
 "nbformat_minor": 0
}