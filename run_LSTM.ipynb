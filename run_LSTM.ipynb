{
 "cells": [
  {
   "cell_type": "code",
   "execution_count": 1,
   "outputs": [],
   "source": [
    "import pandas as pd\n",
    "import numpy as np\n",
    "\n",
    "%load_ext autoreload\n",
    "%autoreload 2"
   ],
   "metadata": {
    "collapsed": false,
    "pycharm": {
     "name": "#%%\n"
    }
   }
  },
  {
   "cell_type": "code",
   "execution_count": 2,
   "outputs": [],
   "source": [
    "from sklearn.preprocessing import StandardScaler, OneHotEncoder, FunctionTransformer, MinMaxScaler\n",
    "from sklearn.pipeline import Pipeline\n",
    "from sklearn.compose import ColumnTransformer\n",
    "from sklearn.model_selection import GridSearchCV\n",
    "from sklearn.feature_selection import SequentialFeatureSelector\n",
    "from sklearn.feature_selection import RFECV\n",
    "from sklearn.linear_model import LogisticRegression, LogisticRegressionCV\n",
    "\n",
    "from IPython.display import display"
   ],
   "metadata": {
    "collapsed": false,
    "pycharm": {
     "name": "#%%\n"
    }
   }
  },
  {
   "cell_type": "code",
   "execution_count": 3,
   "outputs": [],
   "source": [
    "pd.set_option('display.max_rows', 100, 'display.max_columns', None)"
   ],
   "metadata": {
    "collapsed": false,
    "pycharm": {
     "name": "#%%\n"
    }
   }
  },
  {
   "cell_type": "code",
   "execution_count": 4,
   "outputs": [],
   "source": [
    "train_file = 'data/train_raw.csv'\n",
    "# test_file = 'data/train_raw.csv'"
   ],
   "metadata": {
    "collapsed": false,
    "pycharm": {
     "name": "#%%\n"
    }
   }
  },
  {
   "cell_type": "code",
   "execution_count": 33,
   "outputs": [
    {
     "name": "stdout",
     "output_type": "stream",
     "text": [
      "Reading CSV...\n",
      "Done\n"
     ]
    }
   ],
   "source": [
    "import random\n",
    "random.seed(42)\n",
    "# read data\n",
    "print('Reading CSV...')\n",
    "t_df = pd.read_csv(train_file, index_col=0, dtype='float')\n",
    "print('Done')\n",
    "t_df['id'] = t_df['id'].astype(int)\n",
    "t_df['id'] = t_df['id'].astype(int)\n",
    "# split train-validation\n",
    "sick = set(t_df[t_df['SepsisLabel'] == 1.0]['id'].unique())\n",
    "healthy = set(t_df['id'].unique()) - sick\n",
    "t_sick = set(random.sample(tuple(sick), 1000))\n",
    "v_sick = sick - t_sick\n",
    "t_healthy = set(random.sample(tuple(healthy), 1000))\n",
    "v_healthy = healthy - t_healthy\n",
    "\n",
    "train = t_df[t_df.id.isin(list(t_sick) + list(t_healthy))].sort_values(['id', 'SepsisLabel'])\n",
    "valid = t_df[t_df.id.isin(list(v_sick) + list(v_healthy))].sort_values(['id', 'SepsisLabel'])"
   ],
   "metadata": {
    "collapsed": false,
    "pycharm": {
     "name": "#%%\n"
    }
   }
  },
  {
   "cell_type": "code",
   "execution_count": 34,
   "outputs": [
    {
     "data": {
      "text/plain": "                 HR       O2Sat     Temp         SBP        MAP        DBP  \\\n23.0      81.000000  100.000000  38.0000  136.500000  90.000000  71.000000   \n24.0      81.000000  100.000000  38.0000  136.500000  90.000000  71.000000   \n25.0      81.750000  100.000000  38.0000  136.500000  90.000000  71.000000   \n26.0      81.230769  100.000000  38.0825  119.625000  87.750000  63.500000   \n27.0      81.750000  100.000000  38.0825  115.730769  81.692308  62.461538   \n...             ...         ...      ...         ...        ...        ...   \n775883.0  67.000000   97.000000  37.4400  143.000000  74.500000  46.500000   \n775884.0  67.000000   97.000000  37.4400  143.000000  74.500000  46.500000   \n775885.0  65.125000   97.375000  37.4400  143.375000  73.375000  45.750000   \n775886.0  65.125000   97.115385  37.4400  143.375000  73.375000  45.750000   \n775887.0  67.629032   96.362500  37.4400  134.338710  73.048387  45.967742   \n\n               Resp      EtCO2  BaseExcess      HCO3      FiO2        pH  \\\n23.0      12.500000  35.000000    0.000000  0.000000  0.000000  0.000000   \n24.0      12.500000  35.000000    0.500000  0.500000  0.500000  0.500000   \n25.0      12.125000  35.000000    0.333333  0.333333  0.333333  0.333333   \n26.0      12.038462  35.000000    0.250000  0.250000  0.500000  0.250000   \n27.0      12.012500  35.000000    0.200000  0.400000  0.400000  0.200000   \n...             ...        ...         ...       ...       ...       ...   \n775883.0  30.500000  47.057456    0.000000  0.000000  0.000000  0.000000   \n775884.0  30.500000  47.057456    0.000000  0.000000  0.000000  0.000000   \n775885.0  36.125000  47.057456    0.000000  0.000000  0.000000  0.000000   \n775886.0  36.125000  47.057456    0.000000  0.000000  0.000000  0.000000   \n775887.0  31.661290  47.057456    0.000000  0.000000  0.000000  0.000000   \n\n             PaCO2  SaO2       AST  BUN  Alkalinephos  Calcium  Chloride  \\\n23.0      0.000000   0.0  0.000000  0.0      0.000000      0.0       0.0   \n24.0      0.500000   0.0  0.000000  0.0      0.000000      0.0       0.0   \n25.0      0.333333   0.0  0.000000  0.0      0.000000      0.0       0.0   \n26.0      0.250000   0.0  0.000000  0.0      0.000000      0.0       0.0   \n27.0      0.200000   0.0  0.000000  0.2      0.000000      0.2       0.2   \n...            ...   ...       ...  ...           ...      ...       ...   \n775883.0  0.000000   0.0  0.000000  0.0      0.000000      0.0       0.0   \n775884.0  0.000000   0.0  0.500000  0.0      0.500000      0.0       0.0   \n775885.0  0.000000   0.0  0.333333  0.0      0.333333      0.0       0.0   \n775886.0  0.000000   0.0  0.250000  0.0      0.250000      0.0       0.0   \n775887.0  0.000000   0.0  0.200000  0.0      0.200000      0.0       0.0   \n\n          Creatinine  Bilirubin_direct   Glucose   Lactate  Magnesium  \\\n23.0             0.0               0.0  0.000000  0.000000        0.0   \n24.0             0.0               0.0  0.500000  0.500000        0.0   \n25.0             0.0               0.0  0.333333  0.333333        0.0   \n26.0             0.0               0.0  0.250000  0.250000        0.0   \n27.0             0.2               0.0  0.400000  0.200000        0.2   \n...              ...               ...       ...       ...        ...   \n775883.0         0.0               0.0  0.000000  0.000000        0.0   \n775884.0         0.0               0.0  0.000000  0.000000        0.0   \n775885.0         0.0               0.0  0.000000  0.000000        0.0   \n775886.0         0.0               0.0  0.000000  0.000000        0.0   \n775887.0         0.0               0.0  0.000000  0.000000        0.0   \n\n          Phosphate  Potassium  Bilirubin_total  TroponinI       Hct  \\\n23.0            0.0        0.0         0.000000        0.0  0.000000   \n24.0            0.0        0.0         0.000000        0.0  0.500000   \n25.0            0.0        0.0         0.000000        0.0  0.333333   \n26.0            0.0        0.0         0.000000        0.0  0.250000   \n27.0            0.2        0.2         0.000000        0.0  0.400000   \n...             ...        ...              ...        ...       ...   \n775883.0        0.0        0.0         0.000000        0.0  0.000000   \n775884.0        0.0        0.0         0.500000        0.0  0.000000   \n775885.0        0.0        0.0         0.333333        0.0  0.000000   \n775886.0        0.0        0.0         0.250000        0.0  0.000000   \n775887.0        0.0        0.0         0.200000        0.0  0.000000   \n\n               Hgb  PTT  WBC  Fibrinogen  Platelets    Age  Unit1  Unit2  \\\n23.0      0.000000  0.0  0.0    0.000000        0.0  65.79    0.0    0.0   \n24.0      0.500000  0.0  0.0    0.000000        0.0  65.79    0.0    0.0   \n25.0      0.333333  0.0  0.0    0.000000        0.0  65.79    0.0    0.0   \n26.0      0.250000  0.0  0.0    0.000000        0.0  65.79    0.0    0.0   \n27.0      0.400000  0.2  0.2    0.000000        0.2  65.79    0.0    0.0   \n...            ...  ...  ...         ...        ...    ...    ...    ...   \n775883.0  0.000000  0.0  0.0    0.000000        0.0  33.53    1.0    0.0   \n775884.0  0.000000  0.0  0.0    0.500000        0.0  33.53    1.0    0.0   \n775885.0  0.000000  0.0  0.0    0.333333        0.0  33.53    1.0    0.0   \n775886.0  0.000000  0.0  0.0    0.250000        0.0  33.53    1.0    0.0   \n775887.0  0.000000  0.0  0.0    0.200000        0.0  33.53    1.0    0.0   \n\n          HospAdmTime  ICULOS  SepsisLabel     id  Unit3  Gender_0.0  \\\n23.0            -0.02     1.0          0.0      1    1.0         0.0   \n24.0            -0.02     2.0          0.0      1    1.0         0.0   \n25.0            -0.02     3.0          0.0      1    1.0         0.0   \n26.0            -0.02     4.0          0.0      1    1.0         0.0   \n27.0            -0.02     5.0          0.0      1    1.0         0.0   \n...               ...     ...          ...    ...    ...         ...   \n775883.0        -0.71     1.0          0.0  19977    0.0         1.0   \n775884.0        -0.71     2.0          0.0  19977    0.0         1.0   \n775885.0        -0.71     3.0          0.0  19977    0.0         1.0   \n775886.0        -0.71     4.0          0.0  19977    0.0         1.0   \n775887.0        -0.71     5.0          1.0  19977    0.0         1.0   \n\n          Gender_1.0  \n23.0             1.0  \n24.0             1.0  \n25.0             1.0  \n26.0             1.0  \n27.0             1.0  \n...              ...  \n775883.0         0.0  \n775884.0         0.0  \n775885.0         0.0  \n775886.0         0.0  \n775887.0         0.0  \n\n[86488 rows x 44 columns]",
      "text/html": "<div>\n<style scoped>\n    .dataframe tbody tr th:only-of-type {\n        vertical-align: middle;\n    }\n\n    .dataframe tbody tr th {\n        vertical-align: top;\n    }\n\n    .dataframe thead th {\n        text-align: right;\n    }\n</style>\n<table border=\"1\" class=\"dataframe\">\n  <thead>\n    <tr style=\"text-align: right;\">\n      <th></th>\n      <th>HR</th>\n      <th>O2Sat</th>\n      <th>Temp</th>\n      <th>SBP</th>\n      <th>MAP</th>\n      <th>DBP</th>\n      <th>Resp</th>\n      <th>EtCO2</th>\n      <th>BaseExcess</th>\n      <th>HCO3</th>\n      <th>FiO2</th>\n      <th>pH</th>\n      <th>PaCO2</th>\n      <th>SaO2</th>\n      <th>AST</th>\n      <th>BUN</th>\n      <th>Alkalinephos</th>\n      <th>Calcium</th>\n      <th>Chloride</th>\n      <th>Creatinine</th>\n      <th>Bilirubin_direct</th>\n      <th>Glucose</th>\n      <th>Lactate</th>\n      <th>Magnesium</th>\n      <th>Phosphate</th>\n      <th>Potassium</th>\n      <th>Bilirubin_total</th>\n      <th>TroponinI</th>\n      <th>Hct</th>\n      <th>Hgb</th>\n      <th>PTT</th>\n      <th>WBC</th>\n      <th>Fibrinogen</th>\n      <th>Platelets</th>\n      <th>Age</th>\n      <th>Unit1</th>\n      <th>Unit2</th>\n      <th>HospAdmTime</th>\n      <th>ICULOS</th>\n      <th>SepsisLabel</th>\n      <th>id</th>\n      <th>Unit3</th>\n      <th>Gender_0.0</th>\n      <th>Gender_1.0</th>\n    </tr>\n  </thead>\n  <tbody>\n    <tr>\n      <th>23.0</th>\n      <td>81.000000</td>\n      <td>100.000000</td>\n      <td>38.0000</td>\n      <td>136.500000</td>\n      <td>90.000000</td>\n      <td>71.000000</td>\n      <td>12.500000</td>\n      <td>35.000000</td>\n      <td>0.000000</td>\n      <td>0.000000</td>\n      <td>0.000000</td>\n      <td>0.000000</td>\n      <td>0.000000</td>\n      <td>0.0</td>\n      <td>0.000000</td>\n      <td>0.0</td>\n      <td>0.000000</td>\n      <td>0.0</td>\n      <td>0.0</td>\n      <td>0.0</td>\n      <td>0.0</td>\n      <td>0.000000</td>\n      <td>0.000000</td>\n      <td>0.0</td>\n      <td>0.0</td>\n      <td>0.0</td>\n      <td>0.000000</td>\n      <td>0.0</td>\n      <td>0.000000</td>\n      <td>0.000000</td>\n      <td>0.0</td>\n      <td>0.0</td>\n      <td>0.000000</td>\n      <td>0.0</td>\n      <td>65.79</td>\n      <td>0.0</td>\n      <td>0.0</td>\n      <td>-0.02</td>\n      <td>1.0</td>\n      <td>0.0</td>\n      <td>1</td>\n      <td>1.0</td>\n      <td>0.0</td>\n      <td>1.0</td>\n    </tr>\n    <tr>\n      <th>24.0</th>\n      <td>81.000000</td>\n      <td>100.000000</td>\n      <td>38.0000</td>\n      <td>136.500000</td>\n      <td>90.000000</td>\n      <td>71.000000</td>\n      <td>12.500000</td>\n      <td>35.000000</td>\n      <td>0.500000</td>\n      <td>0.500000</td>\n      <td>0.500000</td>\n      <td>0.500000</td>\n      <td>0.500000</td>\n      <td>0.0</td>\n      <td>0.000000</td>\n      <td>0.0</td>\n      <td>0.000000</td>\n      <td>0.0</td>\n      <td>0.0</td>\n      <td>0.0</td>\n      <td>0.0</td>\n      <td>0.500000</td>\n      <td>0.500000</td>\n      <td>0.0</td>\n      <td>0.0</td>\n      <td>0.0</td>\n      <td>0.000000</td>\n      <td>0.0</td>\n      <td>0.500000</td>\n      <td>0.500000</td>\n      <td>0.0</td>\n      <td>0.0</td>\n      <td>0.000000</td>\n      <td>0.0</td>\n      <td>65.79</td>\n      <td>0.0</td>\n      <td>0.0</td>\n      <td>-0.02</td>\n      <td>2.0</td>\n      <td>0.0</td>\n      <td>1</td>\n      <td>1.0</td>\n      <td>0.0</td>\n      <td>1.0</td>\n    </tr>\n    <tr>\n      <th>25.0</th>\n      <td>81.750000</td>\n      <td>100.000000</td>\n      <td>38.0000</td>\n      <td>136.500000</td>\n      <td>90.000000</td>\n      <td>71.000000</td>\n      <td>12.125000</td>\n      <td>35.000000</td>\n      <td>0.333333</td>\n      <td>0.333333</td>\n      <td>0.333333</td>\n      <td>0.333333</td>\n      <td>0.333333</td>\n      <td>0.0</td>\n      <td>0.000000</td>\n      <td>0.0</td>\n      <td>0.000000</td>\n      <td>0.0</td>\n      <td>0.0</td>\n      <td>0.0</td>\n      <td>0.0</td>\n      <td>0.333333</td>\n      <td>0.333333</td>\n      <td>0.0</td>\n      <td>0.0</td>\n      <td>0.0</td>\n      <td>0.000000</td>\n      <td>0.0</td>\n      <td>0.333333</td>\n      <td>0.333333</td>\n      <td>0.0</td>\n      <td>0.0</td>\n      <td>0.000000</td>\n      <td>0.0</td>\n      <td>65.79</td>\n      <td>0.0</td>\n      <td>0.0</td>\n      <td>-0.02</td>\n      <td>3.0</td>\n      <td>0.0</td>\n      <td>1</td>\n      <td>1.0</td>\n      <td>0.0</td>\n      <td>1.0</td>\n    </tr>\n    <tr>\n      <th>26.0</th>\n      <td>81.230769</td>\n      <td>100.000000</td>\n      <td>38.0825</td>\n      <td>119.625000</td>\n      <td>87.750000</td>\n      <td>63.500000</td>\n      <td>12.038462</td>\n      <td>35.000000</td>\n      <td>0.250000</td>\n      <td>0.250000</td>\n      <td>0.500000</td>\n      <td>0.250000</td>\n      <td>0.250000</td>\n      <td>0.0</td>\n      <td>0.000000</td>\n      <td>0.0</td>\n      <td>0.000000</td>\n      <td>0.0</td>\n      <td>0.0</td>\n      <td>0.0</td>\n      <td>0.0</td>\n      <td>0.250000</td>\n      <td>0.250000</td>\n      <td>0.0</td>\n      <td>0.0</td>\n      <td>0.0</td>\n      <td>0.000000</td>\n      <td>0.0</td>\n      <td>0.250000</td>\n      <td>0.250000</td>\n      <td>0.0</td>\n      <td>0.0</td>\n      <td>0.000000</td>\n      <td>0.0</td>\n      <td>65.79</td>\n      <td>0.0</td>\n      <td>0.0</td>\n      <td>-0.02</td>\n      <td>4.0</td>\n      <td>0.0</td>\n      <td>1</td>\n      <td>1.0</td>\n      <td>0.0</td>\n      <td>1.0</td>\n    </tr>\n    <tr>\n      <th>27.0</th>\n      <td>81.750000</td>\n      <td>100.000000</td>\n      <td>38.0825</td>\n      <td>115.730769</td>\n      <td>81.692308</td>\n      <td>62.461538</td>\n      <td>12.012500</td>\n      <td>35.000000</td>\n      <td>0.200000</td>\n      <td>0.400000</td>\n      <td>0.400000</td>\n      <td>0.200000</td>\n      <td>0.200000</td>\n      <td>0.0</td>\n      <td>0.000000</td>\n      <td>0.2</td>\n      <td>0.000000</td>\n      <td>0.2</td>\n      <td>0.2</td>\n      <td>0.2</td>\n      <td>0.0</td>\n      <td>0.400000</td>\n      <td>0.200000</td>\n      <td>0.2</td>\n      <td>0.2</td>\n      <td>0.2</td>\n      <td>0.000000</td>\n      <td>0.0</td>\n      <td>0.400000</td>\n      <td>0.400000</td>\n      <td>0.2</td>\n      <td>0.2</td>\n      <td>0.000000</td>\n      <td>0.2</td>\n      <td>65.79</td>\n      <td>0.0</td>\n      <td>0.0</td>\n      <td>-0.02</td>\n      <td>5.0</td>\n      <td>0.0</td>\n      <td>1</td>\n      <td>1.0</td>\n      <td>0.0</td>\n      <td>1.0</td>\n    </tr>\n    <tr>\n      <th>...</th>\n      <td>...</td>\n      <td>...</td>\n      <td>...</td>\n      <td>...</td>\n      <td>...</td>\n      <td>...</td>\n      <td>...</td>\n      <td>...</td>\n      <td>...</td>\n      <td>...</td>\n      <td>...</td>\n      <td>...</td>\n      <td>...</td>\n      <td>...</td>\n      <td>...</td>\n      <td>...</td>\n      <td>...</td>\n      <td>...</td>\n      <td>...</td>\n      <td>...</td>\n      <td>...</td>\n      <td>...</td>\n      <td>...</td>\n      <td>...</td>\n      <td>...</td>\n      <td>...</td>\n      <td>...</td>\n      <td>...</td>\n      <td>...</td>\n      <td>...</td>\n      <td>...</td>\n      <td>...</td>\n      <td>...</td>\n      <td>...</td>\n      <td>...</td>\n      <td>...</td>\n      <td>...</td>\n      <td>...</td>\n      <td>...</td>\n      <td>...</td>\n      <td>...</td>\n      <td>...</td>\n      <td>...</td>\n      <td>...</td>\n    </tr>\n    <tr>\n      <th>775883.0</th>\n      <td>67.000000</td>\n      <td>97.000000</td>\n      <td>37.4400</td>\n      <td>143.000000</td>\n      <td>74.500000</td>\n      <td>46.500000</td>\n      <td>30.500000</td>\n      <td>47.057456</td>\n      <td>0.000000</td>\n      <td>0.000000</td>\n      <td>0.000000</td>\n      <td>0.000000</td>\n      <td>0.000000</td>\n      <td>0.0</td>\n      <td>0.000000</td>\n      <td>0.0</td>\n      <td>0.000000</td>\n      <td>0.0</td>\n      <td>0.0</td>\n      <td>0.0</td>\n      <td>0.0</td>\n      <td>0.000000</td>\n      <td>0.000000</td>\n      <td>0.0</td>\n      <td>0.0</td>\n      <td>0.0</td>\n      <td>0.000000</td>\n      <td>0.0</td>\n      <td>0.000000</td>\n      <td>0.000000</td>\n      <td>0.0</td>\n      <td>0.0</td>\n      <td>0.000000</td>\n      <td>0.0</td>\n      <td>33.53</td>\n      <td>1.0</td>\n      <td>0.0</td>\n      <td>-0.71</td>\n      <td>1.0</td>\n      <td>0.0</td>\n      <td>19977</td>\n      <td>0.0</td>\n      <td>1.0</td>\n      <td>0.0</td>\n    </tr>\n    <tr>\n      <th>775884.0</th>\n      <td>67.000000</td>\n      <td>97.000000</td>\n      <td>37.4400</td>\n      <td>143.000000</td>\n      <td>74.500000</td>\n      <td>46.500000</td>\n      <td>30.500000</td>\n      <td>47.057456</td>\n      <td>0.000000</td>\n      <td>0.000000</td>\n      <td>0.000000</td>\n      <td>0.000000</td>\n      <td>0.000000</td>\n      <td>0.0</td>\n      <td>0.500000</td>\n      <td>0.0</td>\n      <td>0.500000</td>\n      <td>0.0</td>\n      <td>0.0</td>\n      <td>0.0</td>\n      <td>0.0</td>\n      <td>0.000000</td>\n      <td>0.000000</td>\n      <td>0.0</td>\n      <td>0.0</td>\n      <td>0.0</td>\n      <td>0.500000</td>\n      <td>0.0</td>\n      <td>0.000000</td>\n      <td>0.000000</td>\n      <td>0.0</td>\n      <td>0.0</td>\n      <td>0.500000</td>\n      <td>0.0</td>\n      <td>33.53</td>\n      <td>1.0</td>\n      <td>0.0</td>\n      <td>-0.71</td>\n      <td>2.0</td>\n      <td>0.0</td>\n      <td>19977</td>\n      <td>0.0</td>\n      <td>1.0</td>\n      <td>0.0</td>\n    </tr>\n    <tr>\n      <th>775885.0</th>\n      <td>65.125000</td>\n      <td>97.375000</td>\n      <td>37.4400</td>\n      <td>143.375000</td>\n      <td>73.375000</td>\n      <td>45.750000</td>\n      <td>36.125000</td>\n      <td>47.057456</td>\n      <td>0.000000</td>\n      <td>0.000000</td>\n      <td>0.000000</td>\n      <td>0.000000</td>\n      <td>0.000000</td>\n      <td>0.0</td>\n      <td>0.333333</td>\n      <td>0.0</td>\n      <td>0.333333</td>\n      <td>0.0</td>\n      <td>0.0</td>\n      <td>0.0</td>\n      <td>0.0</td>\n      <td>0.000000</td>\n      <td>0.000000</td>\n      <td>0.0</td>\n      <td>0.0</td>\n      <td>0.0</td>\n      <td>0.333333</td>\n      <td>0.0</td>\n      <td>0.000000</td>\n      <td>0.000000</td>\n      <td>0.0</td>\n      <td>0.0</td>\n      <td>0.333333</td>\n      <td>0.0</td>\n      <td>33.53</td>\n      <td>1.0</td>\n      <td>0.0</td>\n      <td>-0.71</td>\n      <td>3.0</td>\n      <td>0.0</td>\n      <td>19977</td>\n      <td>0.0</td>\n      <td>1.0</td>\n      <td>0.0</td>\n    </tr>\n    <tr>\n      <th>775886.0</th>\n      <td>65.125000</td>\n      <td>97.115385</td>\n      <td>37.4400</td>\n      <td>143.375000</td>\n      <td>73.375000</td>\n      <td>45.750000</td>\n      <td>36.125000</td>\n      <td>47.057456</td>\n      <td>0.000000</td>\n      <td>0.000000</td>\n      <td>0.000000</td>\n      <td>0.000000</td>\n      <td>0.000000</td>\n      <td>0.0</td>\n      <td>0.250000</td>\n      <td>0.0</td>\n      <td>0.250000</td>\n      <td>0.0</td>\n      <td>0.0</td>\n      <td>0.0</td>\n      <td>0.0</td>\n      <td>0.000000</td>\n      <td>0.000000</td>\n      <td>0.0</td>\n      <td>0.0</td>\n      <td>0.0</td>\n      <td>0.250000</td>\n      <td>0.0</td>\n      <td>0.000000</td>\n      <td>0.000000</td>\n      <td>0.0</td>\n      <td>0.0</td>\n      <td>0.250000</td>\n      <td>0.0</td>\n      <td>33.53</td>\n      <td>1.0</td>\n      <td>0.0</td>\n      <td>-0.71</td>\n      <td>4.0</td>\n      <td>0.0</td>\n      <td>19977</td>\n      <td>0.0</td>\n      <td>1.0</td>\n      <td>0.0</td>\n    </tr>\n    <tr>\n      <th>775887.0</th>\n      <td>67.629032</td>\n      <td>96.362500</td>\n      <td>37.4400</td>\n      <td>134.338710</td>\n      <td>73.048387</td>\n      <td>45.967742</td>\n      <td>31.661290</td>\n      <td>47.057456</td>\n      <td>0.000000</td>\n      <td>0.000000</td>\n      <td>0.000000</td>\n      <td>0.000000</td>\n      <td>0.000000</td>\n      <td>0.0</td>\n      <td>0.200000</td>\n      <td>0.0</td>\n      <td>0.200000</td>\n      <td>0.0</td>\n      <td>0.0</td>\n      <td>0.0</td>\n      <td>0.0</td>\n      <td>0.000000</td>\n      <td>0.000000</td>\n      <td>0.0</td>\n      <td>0.0</td>\n      <td>0.0</td>\n      <td>0.200000</td>\n      <td>0.0</td>\n      <td>0.000000</td>\n      <td>0.000000</td>\n      <td>0.0</td>\n      <td>0.0</td>\n      <td>0.200000</td>\n      <td>0.0</td>\n      <td>33.53</td>\n      <td>1.0</td>\n      <td>0.0</td>\n      <td>-0.71</td>\n      <td>5.0</td>\n      <td>1.0</td>\n      <td>19977</td>\n      <td>0.0</td>\n      <td>1.0</td>\n      <td>0.0</td>\n    </tr>\n  </tbody>\n</table>\n<p>86488 rows × 44 columns</p>\n</div>"
     },
     "execution_count": 34,
     "metadata": {},
     "output_type": "execute_result"
    }
   ],
   "source": [
    "train"
   ],
   "metadata": {
    "collapsed": false,
    "pycharm": {
     "name": "#%%\n"
    }
   }
  },
  {
   "cell_type": "code",
   "execution_count": 56,
   "outputs": [],
   "source": [
    "# scaling_columns = ['HR', 'O2Sat', 'Temp', 'SBP', 'MAP', 'DBP', 'Resp', 'EtCO2', 'Age', 'HospAdmTime', 'ICULOS']  # rest are already scaled\n",
    "# scaler = MinMaxScaler()\n",
    "# scaler.fit(train[scaling_columns])"
   ],
   "metadata": {
    "collapsed": false,
    "pycharm": {
     "name": "#%%\n"
    }
   }
  },
  {
   "cell_type": "code",
   "execution_count": 57,
   "outputs": [],
   "source": [
    "train_y = train['SepsisLabel']\n",
    "train_X = train.drop(['SepsisLabel'], axis=1)\n",
    "\n",
    "valid_y = valid['SepsisLabel']\n",
    "valid_X = valid.drop(['SepsisLabel'], axis=1)"
   ],
   "metadata": {
    "collapsed": false,
    "pycharm": {
     "name": "#%%\n"
    }
   }
  },
  {
   "cell_type": "code",
   "execution_count": 58,
   "outputs": [],
   "source": [
    "from patient_LSTM import TrainDataset, TestDataset, patientLSTM, batch_collate\n",
    "\n",
    "WINDOW = 3\n",
    "\n",
    "train_ds = TrainDataset(train_X, train_y, WINDOW)\n",
    "valid_ds = TrainDataset(valid_X, valid_y, WINDOW)\n"
   ],
   "metadata": {
    "collapsed": false,
    "pycharm": {
     "name": "#%%\n"
    }
   }
  },
  {
   "cell_type": "code",
   "execution_count": 59,
   "outputs": [],
   "source": [
    "from torch.utils.data import DataLoader\n",
    "\n",
    "train_dl = DataLoader(train_ds, batch_size=8, shuffle=True, collate_fn=batch_collate)\n",
    "valid_dl = DataLoader(valid_ds, batch_size=8, collate_fn=batch_collate)"
   ],
   "metadata": {
    "collapsed": false,
    "pycharm": {
     "name": "#%%\n"
    }
   }
  },
  {
   "cell_type": "code",
   "execution_count": 60,
   "outputs": [
    {
     "name": "stdout",
     "output_type": "stream",
     "text": [
      "--- EPOCH 1/100 ---\n"
     ]
    },
    {
     "data": {
      "text/plain": "train_batch:   0%|          | 0/250 [00:00<?, ?it/s]",
      "application/vnd.jupyter.widget-view+json": {
       "version_major": 2,
       "version_minor": 0,
       "model_id": "d125fc57dac74999b368f43ebd7b29d0"
      }
     },
     "metadata": {},
     "output_type": "display_data"
    },
    {
     "name": "stdout",
     "output_type": "stream",
     "text": [
      "tensor(432) tensor(430) tensor(570) tensor(568)\n"
     ]
    },
    {
     "data": {
      "text/plain": "test_batch:   0%|          | 0/2250 [00:00<?, ?it/s]",
      "application/vnd.jupyter.widget-view+json": {
       "version_major": 2,
       "version_minor": 0,
       "model_id": "bc97929d54f942d4b36a98d7ecc1dc5e"
      }
     },
     "metadata": {},
     "output_type": "display_data"
    },
    {
     "name": "stdout",
     "output_type": "stream",
     "text": [
      "tensor(16) tensor(735) tensor(16850) tensor(399)\n",
      "--- EPOCH 2/100 ---\n"
     ]
    },
    {
     "data": {
      "text/plain": "train_batch:   0%|          | 0/250 [00:00<?, ?it/s]",
      "application/vnd.jupyter.widget-view+json": {
       "version_major": 2,
       "version_minor": 0,
       "model_id": "2946981cc0d44814802b5fb5be3d23ae"
      }
     },
     "metadata": {},
     "output_type": "display_data"
    },
    {
     "name": "stdout",
     "output_type": "stream",
     "text": [
      "tensor(423) tensor(431) tensor(569) tensor(577)\n"
     ]
    },
    {
     "data": {
      "text/plain": "test_batch:   0%|          | 0/2250 [00:00<?, ?it/s]",
      "application/vnd.jupyter.widget-view+json": {
       "version_major": 2,
       "version_minor": 0,
       "model_id": "85367aedac33473ebc2b7378338e7b07"
      }
     },
     "metadata": {},
     "output_type": "display_data"
    },
    {
     "name": "stdout",
     "output_type": "stream",
     "text": [
      "tensor(130) tensor(2704) tensor(14881) tensor(285)\n",
      "--- EPOCH 3/100 ---\n"
     ]
    },
    {
     "data": {
      "text/plain": "train_batch:   0%|          | 0/250 [00:00<?, ?it/s]",
      "application/vnd.jupyter.widget-view+json": {
       "version_major": 2,
       "version_minor": 0,
       "model_id": "e81e0a2fc4e749bd8e0d8a0d015e537f"
      }
     },
     "metadata": {},
     "output_type": "display_data"
    },
    {
     "name": "stdout",
     "output_type": "stream",
     "text": [
      "tensor(461) tensor(442) tensor(558) tensor(539)\n"
     ]
    },
    {
     "data": {
      "text/plain": "test_batch:   0%|          | 0/2250 [00:00<?, ?it/s]",
      "application/vnd.jupyter.widget-view+json": {
       "version_major": 2,
       "version_minor": 0,
       "model_id": "74572c5e2d6842bbb3006dbb110791cf"
      }
     },
     "metadata": {},
     "output_type": "display_data"
    },
    {
     "name": "stdout",
     "output_type": "stream",
     "text": [
      "tensor(73) tensor(415) tensor(17170) tensor(342)\n",
      "--- EPOCH 4/100 ---\n"
     ]
    },
    {
     "data": {
      "text/plain": "train_batch:   0%|          | 0/250 [00:00<?, ?it/s]",
      "application/vnd.jupyter.widget-view+json": {
       "version_major": 2,
       "version_minor": 0,
       "model_id": "a7788be64caf479c9be6a44173fc9171"
      }
     },
     "metadata": {},
     "output_type": "display_data"
    },
    {
     "name": "stdout",
     "output_type": "stream",
     "text": [
      "tensor(559) tensor(522) tensor(478) tensor(441)\n"
     ]
    },
    {
     "data": {
      "text/plain": "test_batch:   0%|          | 0/2250 [00:00<?, ?it/s]",
      "application/vnd.jupyter.widget-view+json": {
       "version_major": 2,
       "version_minor": 0,
       "model_id": "31dd7b44afee42819d5e784c56d72d57"
      }
     },
     "metadata": {},
     "output_type": "display_data"
    },
    {
     "name": "stdout",
     "output_type": "stream",
     "text": [
      "tensor(415) tensor(17585) tensor(0) tensor(0)\n",
      "--- EPOCH 5/100 ---\n"
     ]
    },
    {
     "data": {
      "text/plain": "train_batch:   0%|          | 0/250 [00:00<?, ?it/s]",
      "application/vnd.jupyter.widget-view+json": {
       "version_major": 2,
       "version_minor": 0,
       "model_id": "3c2aefb241a84ad488c598acca055cfd"
      }
     },
     "metadata": {},
     "output_type": "display_data"
    },
    {
     "name": "stdout",
     "output_type": "stream",
     "text": [
      "tensor(428) tensor(339) tensor(661) tensor(572)\n"
     ]
    },
    {
     "data": {
      "text/plain": "test_batch:   0%|          | 0/2250 [00:00<?, ?it/s]",
      "application/vnd.jupyter.widget-view+json": {
       "version_major": 2,
       "version_minor": 0,
       "model_id": "5d572755c911463e9a7c496b40fe80b4"
      }
     },
     "metadata": {},
     "output_type": "display_data"
    },
    {
     "name": "stdout",
     "output_type": "stream",
     "text": [
      "tensor(69) tensor(2) tensor(17583) tensor(346)\n",
      "--- EPOCH 6/100 ---\n"
     ]
    },
    {
     "data": {
      "text/plain": "train_batch:   0%|          | 0/250 [00:00<?, ?it/s]",
      "application/vnd.jupyter.widget-view+json": {
       "version_major": 2,
       "version_minor": 0,
       "model_id": "5315d42bb5de4bb9986a2f9b7127fd3f"
      }
     },
     "metadata": {},
     "output_type": "display_data"
    },
    {
     "name": "stdout",
     "output_type": "stream",
     "text": [
      "tensor(461) tensor(405) tensor(595) tensor(539)\n"
     ]
    },
    {
     "data": {
      "text/plain": "test_batch:   0%|          | 0/2250 [00:00<?, ?it/s]",
      "application/vnd.jupyter.widget-view+json": {
       "version_major": 2,
       "version_minor": 0,
       "model_id": "40699a6a4300425483d095bf915a5cf7"
      }
     },
     "metadata": {},
     "output_type": "display_data"
    },
    {
     "name": "stdout",
     "output_type": "stream",
     "text": [
      "tensor(69) tensor(3) tensor(17582) tensor(346)\n",
      "--- EPOCH 7/100 ---\n"
     ]
    },
    {
     "data": {
      "text/plain": "train_batch:   0%|          | 0/250 [00:00<?, ?it/s]",
      "application/vnd.jupyter.widget-view+json": {
       "version_major": 2,
       "version_minor": 0,
       "model_id": "32d6948a2f4d4d81b745d30f9cbd22bb"
      }
     },
     "metadata": {},
     "output_type": "display_data"
    },
    {
     "name": "stdout",
     "output_type": "stream",
     "text": [
      "tensor(526) tensor(455) tensor(545) tensor(474)\n"
     ]
    },
    {
     "data": {
      "text/plain": "test_batch:   0%|          | 0/2250 [00:00<?, ?it/s]",
      "application/vnd.jupyter.widget-view+json": {
       "version_major": 2,
       "version_minor": 0,
       "model_id": "3fae0e3000a24499b71ebf3e2581be5c"
      }
     },
     "metadata": {},
     "output_type": "display_data"
    },
    {
     "name": "stdout",
     "output_type": "stream",
     "text": [
      "tensor(73) tensor(185) tensor(17400) tensor(342)\n",
      "--- EPOCH 8/100 ---\n"
     ]
    },
    {
     "data": {
      "text/plain": "train_batch:   0%|          | 0/250 [00:00<?, ?it/s]",
      "application/vnd.jupyter.widget-view+json": {
       "version_major": 2,
       "version_minor": 0,
       "model_id": "a54d3c98a55341f39dad55e511811614"
      }
     },
     "metadata": {},
     "output_type": "display_data"
    },
    {
     "name": "stdout",
     "output_type": "stream",
     "text": [
      "tensor(426) tensor(335) tensor(665) tensor(574)\n"
     ]
    },
    {
     "data": {
      "text/plain": "test_batch:   0%|          | 0/2250 [00:00<?, ?it/s]",
      "application/vnd.jupyter.widget-view+json": {
       "version_major": 2,
       "version_minor": 0,
       "model_id": "34483949774242f1840fcc6e03d9ae0b"
      }
     },
     "metadata": {},
     "output_type": "display_data"
    },
    {
     "name": "stdout",
     "output_type": "stream",
     "text": [
      "tensor(415) tensor(17585) tensor(0) tensor(0)\n",
      "--- EPOCH 9/100 ---\n"
     ]
    },
    {
     "data": {
      "text/plain": "train_batch:   0%|          | 0/250 [00:00<?, ?it/s]",
      "application/vnd.jupyter.widget-view+json": {
       "version_major": 2,
       "version_minor": 0,
       "model_id": "71db371b209b450796e69d4e027c7c3c"
      }
     },
     "metadata": {},
     "output_type": "display_data"
    },
    {
     "name": "stdout",
     "output_type": "stream",
     "text": [
      "tensor(567) tensor(485) tensor(515) tensor(433)\n"
     ]
    },
    {
     "data": {
      "text/plain": "test_batch:   0%|          | 0/2250 [00:00<?, ?it/s]",
      "application/vnd.jupyter.widget-view+json": {
       "version_major": 2,
       "version_minor": 0,
       "model_id": "2f58584693964ddab9d47ab4445feb91"
      }
     },
     "metadata": {},
     "output_type": "display_data"
    },
    {
     "name": "stdout",
     "output_type": "stream",
     "text": [
      "tensor(415) tensor(17585) tensor(0) tensor(0)\n",
      "--- EPOCH 10/100 ---\n"
     ]
    },
    {
     "data": {
      "text/plain": "train_batch:   0%|          | 0/250 [00:00<?, ?it/s]",
      "application/vnd.jupyter.widget-view+json": {
       "version_major": 2,
       "version_minor": 0,
       "model_id": "c15f87f197cf43f28640590d631d1087"
      }
     },
     "metadata": {},
     "output_type": "display_data"
    },
    {
     "name": "stdout",
     "output_type": "stream",
     "text": [
      "tensor(427) tensor(320) tensor(680) tensor(573)\n"
     ]
    },
    {
     "data": {
      "text/plain": "test_batch:   0%|          | 0/2250 [00:00<?, ?it/s]",
      "application/vnd.jupyter.widget-view+json": {
       "version_major": 2,
       "version_minor": 0,
       "model_id": "51bb0d8004b34a29a3a3b105a5ec0722"
      }
     },
     "metadata": {},
     "output_type": "display_data"
    },
    {
     "name": "stdout",
     "output_type": "stream",
     "text": [
      "tensor(415) tensor(17585) tensor(0) tensor(0)\n",
      "--- EPOCH 11/100 ---\n"
     ]
    },
    {
     "data": {
      "text/plain": "train_batch:   0%|          | 0/250 [00:00<?, ?it/s]",
      "application/vnd.jupyter.widget-view+json": {
       "version_major": 2,
       "version_minor": 0,
       "model_id": "91211f594826456bb51697998a32dd40"
      }
     },
     "metadata": {},
     "output_type": "display_data"
    },
    {
     "name": "stdout",
     "output_type": "stream",
     "text": [
      "tensor(480) tensor(407) tensor(593) tensor(520)\n"
     ]
    },
    {
     "data": {
      "text/plain": "test_batch:   0%|          | 0/2250 [00:00<?, ?it/s]",
      "application/vnd.jupyter.widget-view+json": {
       "version_major": 2,
       "version_minor": 0,
       "model_id": "0e0aaad47f6540eeb3df5ad99a0a9383"
      }
     },
     "metadata": {},
     "output_type": "display_data"
    },
    {
     "name": "stdout",
     "output_type": "stream",
     "text": [
      "tensor(84) tensor(191) tensor(17394) tensor(331)\n",
      "--- EPOCH 12/100 ---\n"
     ]
    },
    {
     "data": {
      "text/plain": "train_batch:   0%|          | 0/250 [00:00<?, ?it/s]",
      "application/vnd.jupyter.widget-view+json": {
       "version_major": 2,
       "version_minor": 0,
       "model_id": "4a53e0caa4cf4d2896afb20c2feef29d"
      }
     },
     "metadata": {},
     "output_type": "display_data"
    },
    {
     "name": "stdout",
     "output_type": "stream",
     "text": [
      "tensor(460) tensor(395) tensor(605) tensor(540)\n"
     ]
    },
    {
     "data": {
      "text/plain": "test_batch:   0%|          | 0/2250 [00:00<?, ?it/s]",
      "application/vnd.jupyter.widget-view+json": {
       "version_major": 2,
       "version_minor": 0,
       "model_id": "e57e09bf8f644b4cb7bc17d879e88faf"
      }
     },
     "metadata": {},
     "output_type": "display_data"
    },
    {
     "name": "stdout",
     "output_type": "stream",
     "text": [
      "tensor(415) tensor(17585) tensor(0) tensor(0)\n",
      "--- EPOCH 13/100 ---\n"
     ]
    },
    {
     "data": {
      "text/plain": "train_batch:   0%|          | 0/250 [00:00<?, ?it/s]",
      "application/vnd.jupyter.widget-view+json": {
       "version_major": 2,
       "version_minor": 0,
       "model_id": "b818fe88e89c491ab10e932c4869f7e0"
      }
     },
     "metadata": {},
     "output_type": "display_data"
    },
    {
     "name": "stdout",
     "output_type": "stream",
     "text": [
      "tensor(512) tensor(398) tensor(602) tensor(488)\n"
     ]
    },
    {
     "data": {
      "text/plain": "test_batch:   0%|          | 0/2250 [00:00<?, ?it/s]",
      "application/vnd.jupyter.widget-view+json": {
       "version_major": 2,
       "version_minor": 0,
       "model_id": "42e070248d8047bca55110a45839133a"
      }
     },
     "metadata": {},
     "output_type": "display_data"
    },
    {
     "name": "stdout",
     "output_type": "stream",
     "text": [
      "tensor(415) tensor(17585) tensor(0) tensor(0)\n",
      "--- EPOCH 14/100 ---\n"
     ]
    },
    {
     "data": {
      "text/plain": "train_batch:   0%|          | 0/250 [00:00<?, ?it/s]",
      "application/vnd.jupyter.widget-view+json": {
       "version_major": 2,
       "version_minor": 0,
       "model_id": "01d700700b2945cda54eb2c8fbc67f48"
      }
     },
     "metadata": {},
     "output_type": "display_data"
    },
    {
     "ename": "KeyboardInterrupt",
     "evalue": "",
     "output_type": "error",
     "traceback": [
      "\u001B[0;31m---------------------------------------------------------------------------\u001B[0m",
      "\u001B[0;31mKeyboardInterrupt\u001B[0m                         Traceback (most recent call last)",
      "Input \u001B[0;32mIn [60]\u001B[0m, in \u001B[0;36m<cell line: 17>\u001B[0;34m()\u001B[0m\n\u001B[1;32m     13\u001B[0m epochs \u001B[38;5;241m=\u001B[39m \u001B[38;5;241m100\u001B[39m\n\u001B[1;32m     15\u001B[0m trainer \u001B[38;5;241m=\u001B[39m RNNTrainer(model, loss_fn, optimizer)\n\u001B[0;32m---> 17\u001B[0m \u001B[43mtrainer\u001B[49m\u001B[38;5;241;43m.\u001B[39;49m\u001B[43mfit\u001B[49m\u001B[43m(\u001B[49m\u001B[43mtrain_dl\u001B[49m\u001B[43m,\u001B[49m\u001B[43m \u001B[49m\u001B[43mvalid_dl\u001B[49m\u001B[43m,\u001B[49m\u001B[43m \u001B[49m\u001B[43mepochs\u001B[49m\u001B[43m,\u001B[49m\u001B[43m \u001B[49m\u001B[43mscore_fn\u001B[49m\u001B[38;5;241;43m=\u001B[39;49m\u001B[43mscore_fn\u001B[49m\u001B[43m)\u001B[49m\n",
      "File \u001B[0;32m~/Course-094295_hw1/LSTMTrainer.py:81\u001B[0m, in \u001B[0;36mTrainer.fit\u001B[0;34m(self, dl_train, dl_test, num_epochs, checkpoints, early_stopping, print_every, post_epoch_fn, **kw)\u001B[0m\n\u001B[1;32m     76\u001B[0m \u001B[38;5;66;03m#  Train & evaluate for one epoch\u001B[39;00m\n\u001B[1;32m     77\u001B[0m \u001B[38;5;66;03m#  - Use the train/test_epoch methods.\u001B[39;00m\n\u001B[1;32m     78\u001B[0m \u001B[38;5;66;03m#  - Save losses and accuracies in the lists above.\u001B[39;00m\n\u001B[1;32m     79\u001B[0m actual_num_epochs \u001B[38;5;241m+\u001B[39m\u001B[38;5;241m=\u001B[39m \u001B[38;5;241m1\u001B[39m\n\u001B[0;32m---> 81\u001B[0m train_result \u001B[38;5;241m=\u001B[39m \u001B[38;5;28;43mself\u001B[39;49m\u001B[38;5;241;43m.\u001B[39;49m\u001B[43mtrain_epoch\u001B[49m\u001B[43m(\u001B[49m\u001B[43mdl_train\u001B[49m\u001B[43m,\u001B[49m\u001B[43m \u001B[49m\u001B[38;5;241;43m*\u001B[39;49m\u001B[38;5;241;43m*\u001B[39;49m\u001B[43mkw\u001B[49m\u001B[43m)\u001B[49m\n\u001B[1;32m     82\u001B[0m train_loss \u001B[38;5;241m+\u001B[39m\u001B[38;5;241m=\u001B[39m train_result\u001B[38;5;241m.\u001B[39mlosses\n\u001B[1;32m     83\u001B[0m train_score\u001B[38;5;241m.\u001B[39mappend(train_result\u001B[38;5;241m.\u001B[39mscore)\n",
      "File \u001B[0;32m~/Course-094295_hw1/LSTMTrainer.py:124\u001B[0m, in \u001B[0;36mTrainer.train_epoch\u001B[0;34m(self, dl_train, **kw)\u001B[0m\n\u001B[1;32m    117\u001B[0m \u001B[38;5;124;03m\"\"\"\u001B[39;00m\n\u001B[1;32m    118\u001B[0m \u001B[38;5;124;03mTrain once over a training set (single epoch).\u001B[39;00m\n\u001B[1;32m    119\u001B[0m \u001B[38;5;124;03m:param dl_train: DataLoader for the training set.\u001B[39;00m\n\u001B[1;32m    120\u001B[0m \u001B[38;5;124;03m:param kw: Keyword args supported by _foreach_batch.\u001B[39;00m\n\u001B[1;32m    121\u001B[0m \u001B[38;5;124;03m:return: An EpochResult for the epoch.\u001B[39;00m\n\u001B[1;32m    122\u001B[0m \u001B[38;5;124;03m\"\"\"\u001B[39;00m\n\u001B[1;32m    123\u001B[0m \u001B[38;5;28mself\u001B[39m\u001B[38;5;241m.\u001B[39mmodel\u001B[38;5;241m.\u001B[39mtrain(\u001B[38;5;28;01mTrue\u001B[39;00m)  \u001B[38;5;66;03m# set train mode\u001B[39;00m\n\u001B[0;32m--> 124\u001B[0m \u001B[38;5;28;01mreturn\u001B[39;00m \u001B[38;5;28;43mself\u001B[39;49m\u001B[38;5;241;43m.\u001B[39;49m\u001B[43m_foreach_batch\u001B[49m\u001B[43m(\u001B[49m\u001B[43mdl_train\u001B[49m\u001B[43m,\u001B[49m\u001B[43m \u001B[49m\u001B[38;5;28;43mself\u001B[39;49m\u001B[38;5;241;43m.\u001B[39;49m\u001B[43mtrain_batch\u001B[49m\u001B[43m,\u001B[49m\u001B[43m \u001B[49m\u001B[38;5;241;43m*\u001B[39;49m\u001B[38;5;241;43m*\u001B[39;49m\u001B[43mkw\u001B[49m\u001B[43m)\u001B[49m\n",
      "File \u001B[0;32m~/Course-094295_hw1/LSTMTrainer.py:200\u001B[0m, in \u001B[0;36mTrainer._foreach_batch\u001B[0;34m(dl, forward_fn, score_fn, verbose, max_batches)\u001B[0m\n\u001B[1;32m    198\u001B[0m dl_iter \u001B[38;5;241m=\u001B[39m \u001B[38;5;28miter\u001B[39m(dl)\n\u001B[1;32m    199\u001B[0m \u001B[38;5;28;01mfor\u001B[39;00m batch_idx \u001B[38;5;129;01min\u001B[39;00m \u001B[38;5;28mrange\u001B[39m(num_batches):\n\u001B[0;32m--> 200\u001B[0m     data \u001B[38;5;241m=\u001B[39m \u001B[38;5;28;43mnext\u001B[39;49m\u001B[43m(\u001B[49m\u001B[43mdl_iter\u001B[49m\u001B[43m)\u001B[49m\n\u001B[1;32m    201\u001B[0m     batch_res \u001B[38;5;241m=\u001B[39m forward_fn(data)\n\u001B[1;32m    203\u001B[0m     pbar\u001B[38;5;241m.\u001B[39mset_description(\u001B[38;5;124mf\u001B[39m\u001B[38;5;124m\"\u001B[39m\u001B[38;5;132;01m{\u001B[39;00mpbar_name\u001B[38;5;132;01m}\u001B[39;00m\u001B[38;5;124m (\u001B[39m\u001B[38;5;132;01m{\u001B[39;00mbatch_res\u001B[38;5;241m.\u001B[39mloss\u001B[38;5;132;01m:\u001B[39;00m\u001B[38;5;124m.3f\u001B[39m\u001B[38;5;132;01m}\u001B[39;00m\u001B[38;5;124m)\u001B[39m\u001B[38;5;124m\"\u001B[39m)\n",
      "File \u001B[0;32m~/.conda/envs/hw1_env/lib/python3.9/site-packages/torch/utils/data/dataloader.py:521\u001B[0m, in \u001B[0;36m_BaseDataLoaderIter.__next__\u001B[0;34m(self)\u001B[0m\n\u001B[1;32m    519\u001B[0m \u001B[38;5;28;01mif\u001B[39;00m \u001B[38;5;28mself\u001B[39m\u001B[38;5;241m.\u001B[39m_sampler_iter \u001B[38;5;129;01mis\u001B[39;00m \u001B[38;5;28;01mNone\u001B[39;00m:\n\u001B[1;32m    520\u001B[0m     \u001B[38;5;28mself\u001B[39m\u001B[38;5;241m.\u001B[39m_reset()\n\u001B[0;32m--> 521\u001B[0m data \u001B[38;5;241m=\u001B[39m \u001B[38;5;28;43mself\u001B[39;49m\u001B[38;5;241;43m.\u001B[39;49m\u001B[43m_next_data\u001B[49m\u001B[43m(\u001B[49m\u001B[43m)\u001B[49m\n\u001B[1;32m    522\u001B[0m \u001B[38;5;28mself\u001B[39m\u001B[38;5;241m.\u001B[39m_num_yielded \u001B[38;5;241m+\u001B[39m\u001B[38;5;241m=\u001B[39m \u001B[38;5;241m1\u001B[39m\n\u001B[1;32m    523\u001B[0m \u001B[38;5;28;01mif\u001B[39;00m \u001B[38;5;28mself\u001B[39m\u001B[38;5;241m.\u001B[39m_dataset_kind \u001B[38;5;241m==\u001B[39m _DatasetKind\u001B[38;5;241m.\u001B[39mIterable \u001B[38;5;129;01mand\u001B[39;00m \\\n\u001B[1;32m    524\u001B[0m         \u001B[38;5;28mself\u001B[39m\u001B[38;5;241m.\u001B[39m_IterableDataset_len_called \u001B[38;5;129;01mis\u001B[39;00m \u001B[38;5;129;01mnot\u001B[39;00m \u001B[38;5;28;01mNone\u001B[39;00m \u001B[38;5;129;01mand\u001B[39;00m \\\n\u001B[1;32m    525\u001B[0m         \u001B[38;5;28mself\u001B[39m\u001B[38;5;241m.\u001B[39m_num_yielded \u001B[38;5;241m>\u001B[39m \u001B[38;5;28mself\u001B[39m\u001B[38;5;241m.\u001B[39m_IterableDataset_len_called:\n",
      "File \u001B[0;32m~/.conda/envs/hw1_env/lib/python3.9/site-packages/torch/utils/data/dataloader.py:561\u001B[0m, in \u001B[0;36m_SingleProcessDataLoaderIter._next_data\u001B[0;34m(self)\u001B[0m\n\u001B[1;32m    559\u001B[0m \u001B[38;5;28;01mdef\u001B[39;00m \u001B[38;5;21m_next_data\u001B[39m(\u001B[38;5;28mself\u001B[39m):\n\u001B[1;32m    560\u001B[0m     index \u001B[38;5;241m=\u001B[39m \u001B[38;5;28mself\u001B[39m\u001B[38;5;241m.\u001B[39m_next_index()  \u001B[38;5;66;03m# may raise StopIteration\u001B[39;00m\n\u001B[0;32m--> 561\u001B[0m     data \u001B[38;5;241m=\u001B[39m \u001B[38;5;28;43mself\u001B[39;49m\u001B[38;5;241;43m.\u001B[39;49m\u001B[43m_dataset_fetcher\u001B[49m\u001B[38;5;241;43m.\u001B[39;49m\u001B[43mfetch\u001B[49m\u001B[43m(\u001B[49m\u001B[43mindex\u001B[49m\u001B[43m)\u001B[49m  \u001B[38;5;66;03m# may raise StopIteration\u001B[39;00m\n\u001B[1;32m    562\u001B[0m     \u001B[38;5;28;01mif\u001B[39;00m \u001B[38;5;28mself\u001B[39m\u001B[38;5;241m.\u001B[39m_pin_memory:\n\u001B[1;32m    563\u001B[0m         data \u001B[38;5;241m=\u001B[39m _utils\u001B[38;5;241m.\u001B[39mpin_memory\u001B[38;5;241m.\u001B[39mpin_memory(data)\n",
      "File \u001B[0;32m~/.conda/envs/hw1_env/lib/python3.9/site-packages/torch/utils/data/_utils/fetch.py:49\u001B[0m, in \u001B[0;36m_MapDatasetFetcher.fetch\u001B[0;34m(self, possibly_batched_index)\u001B[0m\n\u001B[1;32m     47\u001B[0m \u001B[38;5;28;01mdef\u001B[39;00m \u001B[38;5;21mfetch\u001B[39m(\u001B[38;5;28mself\u001B[39m, possibly_batched_index):\n\u001B[1;32m     48\u001B[0m     \u001B[38;5;28;01mif\u001B[39;00m \u001B[38;5;28mself\u001B[39m\u001B[38;5;241m.\u001B[39mauto_collation:\n\u001B[0;32m---> 49\u001B[0m         data \u001B[38;5;241m=\u001B[39m [\u001B[38;5;28mself\u001B[39m\u001B[38;5;241m.\u001B[39mdataset[idx] \u001B[38;5;28;01mfor\u001B[39;00m idx \u001B[38;5;129;01min\u001B[39;00m possibly_batched_index]\n\u001B[1;32m     50\u001B[0m     \u001B[38;5;28;01melse\u001B[39;00m:\n\u001B[1;32m     51\u001B[0m         data \u001B[38;5;241m=\u001B[39m \u001B[38;5;28mself\u001B[39m\u001B[38;5;241m.\u001B[39mdataset[possibly_batched_index]\n",
      "File \u001B[0;32m~/.conda/envs/hw1_env/lib/python3.9/site-packages/torch/utils/data/_utils/fetch.py:49\u001B[0m, in \u001B[0;36m<listcomp>\u001B[0;34m(.0)\u001B[0m\n\u001B[1;32m     47\u001B[0m \u001B[38;5;28;01mdef\u001B[39;00m \u001B[38;5;21mfetch\u001B[39m(\u001B[38;5;28mself\u001B[39m, possibly_batched_index):\n\u001B[1;32m     48\u001B[0m     \u001B[38;5;28;01mif\u001B[39;00m \u001B[38;5;28mself\u001B[39m\u001B[38;5;241m.\u001B[39mauto_collation:\n\u001B[0;32m---> 49\u001B[0m         data \u001B[38;5;241m=\u001B[39m [\u001B[38;5;28;43mself\u001B[39;49m\u001B[38;5;241;43m.\u001B[39;49m\u001B[43mdataset\u001B[49m\u001B[43m[\u001B[49m\u001B[43midx\u001B[49m\u001B[43m]\u001B[49m \u001B[38;5;28;01mfor\u001B[39;00m idx \u001B[38;5;129;01min\u001B[39;00m possibly_batched_index]\n\u001B[1;32m     50\u001B[0m     \u001B[38;5;28;01melse\u001B[39;00m:\n\u001B[1;32m     51\u001B[0m         data \u001B[38;5;241m=\u001B[39m \u001B[38;5;28mself\u001B[39m\u001B[38;5;241m.\u001B[39mdataset[possibly_batched_index]\n",
      "File \u001B[0;32m~/Course-094295_hw1/patient_LSTM.py:36\u001B[0m, in \u001B[0;36mTrainDataset.__getitem__\u001B[0;34m(self, idx)\u001B[0m\n\u001B[1;32m     35\u001B[0m \u001B[38;5;28;01mdef\u001B[39;00m \u001B[38;5;21m__getitem__\u001B[39m(\u001B[38;5;28mself\u001B[39m, idx):\n\u001B[0;32m---> 36\u001B[0m     data, labels \u001B[38;5;241m=\u001B[39m \u001B[38;5;28;43msuper\u001B[39;49m\u001B[43m(\u001B[49m\u001B[43m)\u001B[49m\u001B[38;5;241;43m.\u001B[39;49m\u001B[38;5;21;43m__getitem__\u001B[39;49m\u001B[43m(\u001B[49m\u001B[43midx\u001B[49m\u001B[43m)\u001B[49m\n\u001B[1;32m     37\u001B[0m     \u001B[38;5;28;01mreturn\u001B[39;00m torch\u001B[38;5;241m.\u001B[39mtensor(data\u001B[38;5;241m.\u001B[39mtail(\u001B[38;5;28mself\u001B[39m\u001B[38;5;241m.\u001B[39mwindow)\u001B[38;5;241m.\u001B[39mvalues, dtype\u001B[38;5;241m=\u001B[39mtorch\u001B[38;5;241m.\u001B[39mfloat32), \\\n\u001B[1;32m     38\u001B[0m            torch\u001B[38;5;241m.\u001B[39mtensor(labels\u001B[38;5;241m.\u001B[39mtail(\u001B[38;5;28mself\u001B[39m\u001B[38;5;241m.\u001B[39mwindow)\u001B[38;5;241m.\u001B[39mmax(), dtype\u001B[38;5;241m=\u001B[39mtorch\u001B[38;5;241m.\u001B[39mfloat32)\n",
      "File \u001B[0;32m~/Course-094295_hw1/patient_LSTM.py:23\u001B[0m, in \u001B[0;36mPatientDataset.__getitem__\u001B[0;34m(self, idx)\u001B[0m\n\u001B[1;32m     21\u001B[0m \u001B[38;5;28;01mdef\u001B[39;00m \u001B[38;5;21m__getitem__\u001B[39m(\u001B[38;5;28mself\u001B[39m, idx):\n\u001B[1;32m     22\u001B[0m     patient \u001B[38;5;241m=\u001B[39m \u001B[38;5;28mself\u001B[39m\u001B[38;5;241m.\u001B[39mpatients[idx]\n\u001B[0;32m---> 23\u001B[0m     data \u001B[38;5;241m=\u001B[39m \u001B[38;5;28mself\u001B[39m\u001B[38;5;241m.\u001B[39mX_df[\u001B[38;5;28;43mself\u001B[39;49m\u001B[38;5;241;43m.\u001B[39;49m\u001B[43mX_df\u001B[49m\u001B[43m[\u001B[49m\u001B[38;5;124;43m'\u001B[39;49m\u001B[38;5;124;43mid\u001B[39;49m\u001B[38;5;124;43m'\u001B[39;49m\u001B[43m]\u001B[49m\u001B[43m \u001B[49m\u001B[38;5;241;43m==\u001B[39;49m\u001B[43m \u001B[49m\u001B[43mpatient\u001B[49m]\n\u001B[1;32m     24\u001B[0m     \u001B[38;5;28;01mif\u001B[39;00m \u001B[38;5;28mself\u001B[39m\u001B[38;5;241m.\u001B[39mscaler \u001B[38;5;129;01mis\u001B[39;00m \u001B[38;5;129;01mnot\u001B[39;00m \u001B[38;5;28;01mNone\u001B[39;00m:\n\u001B[1;32m     25\u001B[0m         data \u001B[38;5;241m=\u001B[39m \u001B[38;5;28mself\u001B[39m\u001B[38;5;241m.\u001B[39mscaler\u001B[38;5;241m.\u001B[39mtransform(data)\n",
      "File \u001B[0;32m~/.conda/envs/hw1_env/lib/python3.9/site-packages/pandas/core/ops/common.py:70\u001B[0m, in \u001B[0;36m_unpack_zerodim_and_defer.<locals>.new_method\u001B[0;34m(self, other)\u001B[0m\n\u001B[1;32m     66\u001B[0m             \u001B[38;5;28;01mreturn\u001B[39;00m \u001B[38;5;28mNotImplemented\u001B[39m\n\u001B[1;32m     68\u001B[0m other \u001B[38;5;241m=\u001B[39m item_from_zerodim(other)\n\u001B[0;32m---> 70\u001B[0m \u001B[38;5;28;01mreturn\u001B[39;00m \u001B[43mmethod\u001B[49m\u001B[43m(\u001B[49m\u001B[38;5;28;43mself\u001B[39;49m\u001B[43m,\u001B[49m\u001B[43m \u001B[49m\u001B[43mother\u001B[49m\u001B[43m)\u001B[49m\n",
      "File \u001B[0;32m~/.conda/envs/hw1_env/lib/python3.9/site-packages/pandas/core/arraylike.py:40\u001B[0m, in \u001B[0;36mOpsMixin.__eq__\u001B[0;34m(self, other)\u001B[0m\n\u001B[1;32m     38\u001B[0m \u001B[38;5;129m@unpack_zerodim_and_defer\u001B[39m(\u001B[38;5;124m\"\u001B[39m\u001B[38;5;124m__eq__\u001B[39m\u001B[38;5;124m\"\u001B[39m)\n\u001B[1;32m     39\u001B[0m \u001B[38;5;28;01mdef\u001B[39;00m \u001B[38;5;21m__eq__\u001B[39m(\u001B[38;5;28mself\u001B[39m, other):\n\u001B[0;32m---> 40\u001B[0m     \u001B[38;5;28;01mreturn\u001B[39;00m \u001B[38;5;28;43mself\u001B[39;49m\u001B[38;5;241;43m.\u001B[39;49m\u001B[43m_cmp_method\u001B[49m\u001B[43m(\u001B[49m\u001B[43mother\u001B[49m\u001B[43m,\u001B[49m\u001B[43m \u001B[49m\u001B[43moperator\u001B[49m\u001B[38;5;241;43m.\u001B[39;49m\u001B[43meq\u001B[49m\u001B[43m)\u001B[49m\n",
      "File \u001B[0;32m~/.conda/envs/hw1_env/lib/python3.9/site-packages/pandas/core/series.py:5625\u001B[0m, in \u001B[0;36mSeries._cmp_method\u001B[0;34m(self, other, op)\u001B[0m\n\u001B[1;32m   5622\u001B[0m \u001B[38;5;28;01mwith\u001B[39;00m np\u001B[38;5;241m.\u001B[39merrstate(\u001B[38;5;28mall\u001B[39m\u001B[38;5;241m=\u001B[39m\u001B[38;5;124m\"\u001B[39m\u001B[38;5;124mignore\u001B[39m\u001B[38;5;124m\"\u001B[39m):\n\u001B[1;32m   5623\u001B[0m     res_values \u001B[38;5;241m=\u001B[39m ops\u001B[38;5;241m.\u001B[39mcomparison_op(lvalues, rvalues, op)\n\u001B[0;32m-> 5625\u001B[0m \u001B[38;5;28;01mreturn\u001B[39;00m \u001B[38;5;28;43mself\u001B[39;49m\u001B[38;5;241;43m.\u001B[39;49m\u001B[43m_construct_result\u001B[49m\u001B[43m(\u001B[49m\u001B[43mres_values\u001B[49m\u001B[43m,\u001B[49m\u001B[43m \u001B[49m\u001B[43mname\u001B[49m\u001B[38;5;241;43m=\u001B[39;49m\u001B[43mres_name\u001B[49m\u001B[43m)\u001B[49m\n",
      "File \u001B[0;32m~/.conda/envs/hw1_env/lib/python3.9/site-packages/pandas/core/series.py:3017\u001B[0m, in \u001B[0;36mSeries._construct_result\u001B[0;34m(self, result, name)\u001B[0m\n\u001B[1;32m   3013\u001B[0m     \u001B[38;5;28;01mreturn\u001B[39;00m (res1, res2)\n\u001B[1;32m   3015\u001B[0m \u001B[38;5;66;03m# We do not pass dtype to ensure that the Series constructor\u001B[39;00m\n\u001B[1;32m   3016\u001B[0m \u001B[38;5;66;03m#  does inference in the case where `result` has object-dtype.\u001B[39;00m\n\u001B[0;32m-> 3017\u001B[0m out \u001B[38;5;241m=\u001B[39m \u001B[38;5;28;43mself\u001B[39;49m\u001B[38;5;241;43m.\u001B[39;49m\u001B[43m_constructor\u001B[49m\u001B[43m(\u001B[49m\u001B[43mresult\u001B[49m\u001B[43m,\u001B[49m\u001B[43m \u001B[49m\u001B[43mindex\u001B[49m\u001B[38;5;241;43m=\u001B[39;49m\u001B[38;5;28;43mself\u001B[39;49m\u001B[38;5;241;43m.\u001B[39;49m\u001B[43mindex\u001B[49m\u001B[43m)\u001B[49m\n\u001B[1;32m   3018\u001B[0m out \u001B[38;5;241m=\u001B[39m out\u001B[38;5;241m.\u001B[39m__finalize__(\u001B[38;5;28mself\u001B[39m)\n\u001B[1;32m   3020\u001B[0m \u001B[38;5;66;03m# Set the result's name after __finalize__ is called because __finalize__\u001B[39;00m\n\u001B[1;32m   3021\u001B[0m \u001B[38;5;66;03m#  would set it back to self.name\u001B[39;00m\n",
      "File \u001B[0;32m~/.conda/envs/hw1_env/lib/python3.9/site-packages/pandas/core/series.py:401\u001B[0m, in \u001B[0;36mSeries.__init__\u001B[0;34m(self, data, index, dtype, name, copy, fastpath)\u001B[0m\n\u001B[1;32m    398\u001B[0m         data \u001B[38;5;241m=\u001B[39m data\u001B[38;5;241m.\u001B[39m_values\u001B[38;5;241m.\u001B[39mcopy()\n\u001B[1;32m    399\u001B[0m     copy \u001B[38;5;241m=\u001B[39m \u001B[38;5;28;01mFalse\u001B[39;00m\n\u001B[0;32m--> 401\u001B[0m \u001B[38;5;28;01melif\u001B[39;00m \u001B[38;5;28;43misinstance\u001B[39;49m(data, np\u001B[38;5;241m.\u001B[39mndarray):\n\u001B[1;32m    402\u001B[0m     \u001B[38;5;28;01mif\u001B[39;00m \u001B[38;5;28mlen\u001B[39m(data\u001B[38;5;241m.\u001B[39mdtype):\n\u001B[1;32m    403\u001B[0m         \u001B[38;5;66;03m# GH#13296 we are dealing with a compound dtype, which\u001B[39;00m\n\u001B[1;32m    404\u001B[0m         \u001B[38;5;66;03m#  should be treated as 2D\u001B[39;00m\n\u001B[1;32m    405\u001B[0m         \u001B[38;5;28;01mraise\u001B[39;00m \u001B[38;5;167;01mValueError\u001B[39;00m(\n\u001B[1;32m    406\u001B[0m             \u001B[38;5;124m\"\u001B[39m\u001B[38;5;124mCannot construct a Series from an ndarray with \u001B[39m\u001B[38;5;124m\"\u001B[39m\n\u001B[1;32m    407\u001B[0m             \u001B[38;5;124m\"\u001B[39m\u001B[38;5;124mcompound dtype.  Use DataFrame instead.\u001B[39m\u001B[38;5;124m\"\u001B[39m\n\u001B[1;32m    408\u001B[0m         )\n",
      "\u001B[0;31mKeyboardInterrupt\u001B[0m: "
     ]
    }
   ],
   "source": [
    "from score_functions import F1\n",
    "from LSTMTrainer import RNNTrainer\n",
    "import torch.nn as nn\n",
    "import torch\n",
    "from sklearn.metrics import f1_score\n",
    "\n",
    "model = patientLSTM(43, 64, 1)\n",
    "\n",
    "loss_fn = nn.BCEWithLogitsLoss()\n",
    "score_fn = F1()\n",
    "optimizer = torch.optim.Adam(model.parameters(), lr=0.01, betas=(0.9, 0.999))\n",
    "\n",
    "epochs = 100\n",
    "\n",
    "trainer = RNNTrainer(model, loss_fn, optimizer)\n",
    "\n",
    "trainer.fit(train_dl, valid_dl, epochs, score_fn=score_fn)"
   ],
   "metadata": {
    "collapsed": false,
    "pycharm": {
     "name": "#%%\n"
    }
   }
  },
  {
   "cell_type": "code",
   "execution_count": 23,
   "outputs": [
    {
     "ename": "IndexError",
     "evalue": "Dimension out of range (expected to be in range of [-1, 0], but got 1)",
     "output_type": "error",
     "traceback": [
      "\u001B[0;31m---------------------------------------------------------------------------\u001B[0m",
      "\u001B[0;31mIndexError\u001B[0m                                Traceback (most recent call last)",
      "Input \u001B[0;32mIn [23]\u001B[0m, in \u001B[0;36m<cell line: 1>\u001B[0;34m()\u001B[0m\n\u001B[0;32m----> 1\u001B[0m \u001B[43mtorch\u001B[49m\u001B[38;5;241;43m.\u001B[39;49m\u001B[43mtensor\u001B[49m\u001B[43m(\u001B[49m\u001B[43m[\u001B[49m\u001B[38;5;241;43m1\u001B[39;49m\u001B[43m]\u001B[49m\u001B[43m)\u001B[49m\u001B[38;5;241;43m.\u001B[39;49m\u001B[43msqueeze\u001B[49m\u001B[43m(\u001B[49m\u001B[38;5;241;43m1\u001B[39;49m\u001B[43m)\u001B[49m\u001B[38;5;241m.\u001B[39mshape\n",
      "\u001B[0;31mIndexError\u001B[0m: Dimension out of range (expected to be in range of [-1, 0], but got 1)"
     ]
    }
   ],
   "source": [
    "torch.tensor([1]).squeeze(1).shape"
   ],
   "metadata": {
    "collapsed": false,
    "pycharm": {
     "name": "#%%\n"
    }
   }
  }
 ],
 "metadata": {
  "kernelspec": {
   "display_name": "Python 3",
   "language": "python",
   "name": "python3"
  },
  "language_info": {
   "codemirror_mode": {
    "name": "ipython",
    "version": 2
   },
   "file_extension": ".py",
   "mimetype": "text/x-python",
   "name": "python",
   "nbconvert_exporter": "python",
   "pygments_lexer": "ipython2",
   "version": "2.7.6"
  }
 },
 "nbformat": 4,
 "nbformat_minor": 0
}