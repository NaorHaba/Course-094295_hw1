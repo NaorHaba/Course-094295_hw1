{
 "cells": [
  {
   "cell_type": "code",
   "execution_count": 19,
   "metadata": {
    "collapsed": true,
    "pycharm": {
     "name": "#%%\n"
    }
   },
   "outputs": [],
   "source": [
    "import pandas as pd\n",
    "import numpy as np"
   ]
  },
  {
   "cell_type": "code",
   "execution_count": 20,
   "outputs": [],
   "source": [
    "test_patient = r'Course-094295_hw1/data/test/patient_9998.psv'\n",
    "patient = pd.read_csv(test_patient, sep='|')"
   ],
   "metadata": {
    "collapsed": false,
    "pycharm": {
     "name": "#%%\n"
    }
   }
  },
  {
   "cell_type": "code",
   "execution_count": 21,
   "outputs": [
    {
     "data": {
      "text/plain": "      HR  O2Sat  Temp    SBP   MAP   DBP  Resp  EtCO2  BaseExcess  HCO3  ...  \\\n6   73.0   97.0   NaN  122.0  84.0  67.0  21.0    NaN         NaN   NaN  ...   \n7   80.0   99.0   NaN  125.0  87.0  75.0  23.0    NaN         NaN   NaN  ...   \n8   75.0   96.0   NaN  114.0  79.0  64.0  20.0    NaN         NaN   NaN  ...   \n9   73.0   94.0  36.2  114.0  79.0  70.0  20.0    NaN         NaN   NaN  ...   \n10  73.0   94.0   NaN  125.0  71.0  50.0  18.0    NaN         NaN   NaN  ...   \n11  72.0   94.0   NaN  109.0  66.0  50.0  18.0    NaN         NaN   NaN  ...   \n\n    WBC  Fibrinogen  Platelets  Age  Gender  Unit1  Unit2  HospAdmTime  \\\n6   NaN         NaN        NaN   78       0      1      0        -1.89   \n7   NaN         NaN        NaN   78       0      1      0        -1.89   \n8   NaN         NaN        NaN   78       0      1      0        -1.89   \n9   NaN         NaN        NaN   78       0      1      0        -1.89   \n10  NaN         NaN        NaN   78       0      1      0        -1.89   \n11  NaN         NaN        NaN   78       0      1      0        -1.89   \n\n    ICULOS  SepsisLabel  \n6        7            0  \n7        8            0  \n8        9            0  \n9       10            0  \n10      11            0  \n11      12            0  \n\n[6 rows x 41 columns]",
      "text/html": "<div>\n<style scoped>\n    .dataframe tbody tr th:only-of-type {\n        vertical-align: middle;\n    }\n\n    .dataframe tbody tr th {\n        vertical-align: top;\n    }\n\n    .dataframe thead th {\n        text-align: right;\n    }\n</style>\n<table border=\"1\" class=\"dataframe\">\n  <thead>\n    <tr style=\"text-align: right;\">\n      <th></th>\n      <th>HR</th>\n      <th>O2Sat</th>\n      <th>Temp</th>\n      <th>SBP</th>\n      <th>MAP</th>\n      <th>DBP</th>\n      <th>Resp</th>\n      <th>EtCO2</th>\n      <th>BaseExcess</th>\n      <th>HCO3</th>\n      <th>...</th>\n      <th>WBC</th>\n      <th>Fibrinogen</th>\n      <th>Platelets</th>\n      <th>Age</th>\n      <th>Gender</th>\n      <th>Unit1</th>\n      <th>Unit2</th>\n      <th>HospAdmTime</th>\n      <th>ICULOS</th>\n      <th>SepsisLabel</th>\n    </tr>\n  </thead>\n  <tbody>\n    <tr>\n      <th>6</th>\n      <td>73.0</td>\n      <td>97.0</td>\n      <td>NaN</td>\n      <td>122.0</td>\n      <td>84.0</td>\n      <td>67.0</td>\n      <td>21.0</td>\n      <td>NaN</td>\n      <td>NaN</td>\n      <td>NaN</td>\n      <td>...</td>\n      <td>NaN</td>\n      <td>NaN</td>\n      <td>NaN</td>\n      <td>78</td>\n      <td>0</td>\n      <td>1</td>\n      <td>0</td>\n      <td>-1.89</td>\n      <td>7</td>\n      <td>0</td>\n    </tr>\n    <tr>\n      <th>7</th>\n      <td>80.0</td>\n      <td>99.0</td>\n      <td>NaN</td>\n      <td>125.0</td>\n      <td>87.0</td>\n      <td>75.0</td>\n      <td>23.0</td>\n      <td>NaN</td>\n      <td>NaN</td>\n      <td>NaN</td>\n      <td>...</td>\n      <td>NaN</td>\n      <td>NaN</td>\n      <td>NaN</td>\n      <td>78</td>\n      <td>0</td>\n      <td>1</td>\n      <td>0</td>\n      <td>-1.89</td>\n      <td>8</td>\n      <td>0</td>\n    </tr>\n    <tr>\n      <th>8</th>\n      <td>75.0</td>\n      <td>96.0</td>\n      <td>NaN</td>\n      <td>114.0</td>\n      <td>79.0</td>\n      <td>64.0</td>\n      <td>20.0</td>\n      <td>NaN</td>\n      <td>NaN</td>\n      <td>NaN</td>\n      <td>...</td>\n      <td>NaN</td>\n      <td>NaN</td>\n      <td>NaN</td>\n      <td>78</td>\n      <td>0</td>\n      <td>1</td>\n      <td>0</td>\n      <td>-1.89</td>\n      <td>9</td>\n      <td>0</td>\n    </tr>\n    <tr>\n      <th>9</th>\n      <td>73.0</td>\n      <td>94.0</td>\n      <td>36.2</td>\n      <td>114.0</td>\n      <td>79.0</td>\n      <td>70.0</td>\n      <td>20.0</td>\n      <td>NaN</td>\n      <td>NaN</td>\n      <td>NaN</td>\n      <td>...</td>\n      <td>NaN</td>\n      <td>NaN</td>\n      <td>NaN</td>\n      <td>78</td>\n      <td>0</td>\n      <td>1</td>\n      <td>0</td>\n      <td>-1.89</td>\n      <td>10</td>\n      <td>0</td>\n    </tr>\n    <tr>\n      <th>10</th>\n      <td>73.0</td>\n      <td>94.0</td>\n      <td>NaN</td>\n      <td>125.0</td>\n      <td>71.0</td>\n      <td>50.0</td>\n      <td>18.0</td>\n      <td>NaN</td>\n      <td>NaN</td>\n      <td>NaN</td>\n      <td>...</td>\n      <td>NaN</td>\n      <td>NaN</td>\n      <td>NaN</td>\n      <td>78</td>\n      <td>0</td>\n      <td>1</td>\n      <td>0</td>\n      <td>-1.89</td>\n      <td>11</td>\n      <td>0</td>\n    </tr>\n    <tr>\n      <th>11</th>\n      <td>72.0</td>\n      <td>94.0</td>\n      <td>NaN</td>\n      <td>109.0</td>\n      <td>66.0</td>\n      <td>50.0</td>\n      <td>18.0</td>\n      <td>NaN</td>\n      <td>NaN</td>\n      <td>NaN</td>\n      <td>...</td>\n      <td>NaN</td>\n      <td>NaN</td>\n      <td>NaN</td>\n      <td>78</td>\n      <td>0</td>\n      <td>1</td>\n      <td>0</td>\n      <td>-1.89</td>\n      <td>12</td>\n      <td>0</td>\n    </tr>\n  </tbody>\n</table>\n<p>6 rows × 41 columns</p>\n</div>"
     },
     "execution_count": 21,
     "metadata": {},
     "output_type": "execute_result"
    }
   ],
   "source": [
    "np.array_split(patient, 5)[1]"
   ],
   "metadata": {
    "collapsed": false,
    "pycharm": {
     "name": "#%%\n"
    }
   }
  },
  {
   "cell_type": "code",
   "execution_count": 36,
   "outputs": [
    {
     "data": {
      "text/plain": "0.0302734375"
     },
     "execution_count": 36,
     "metadata": {},
     "output_type": "execute_result"
    }
   ],
   "source": [
    "weights = np.array([2**(k-10) for k in range(10)])\n",
    "preds = np.array([0, 0, 0, 0, 0, 1, 1, 1, 1, 1])\n",
    "np.sum(weights * preds)"
   ],
   "metadata": {
    "collapsed": false,
    "pycharm": {
     "name": "#%%\n"
    }
   }
  },
  {
   "cell_type": "code",
   "execution_count": null,
   "outputs": [],
   "source": [
    "def prediction_rule(preds):\n",
    "    weights = np.array([2**(k-len(preds)) for k in range(len(preds))])\n",
    "    return 1 if np.sum(weights * preds) > 0.5 else 0\n",
    "\n",
    "def predict(data_sample, model):\n",
    "    window = 10\n",
    "    preds = []\n",
    "    for idx in range(len(data_sample) - window):\n",
    "        preds.append(model.predict(data_sample.iloc[idx:idx + window]))\n",
    "    preds = np.array(preds)\n",
    "    return prediction_rule(preds)"
   ],
   "metadata": {
    "collapsed": false,
    "pycharm": {
     "name": "#%%\n"
    }
   }
  },
  {
   "cell_type": "code",
   "execution_count": null,
   "outputs": [],
   "source": [
    "def normalize_sample_train(data_sample):\n",
    "    vital_signs = ['HR', 'O2Sat', 'Temp', 'SBP', 'MAP', 'DBP', 'Resp', 'EtCO2']\n",
    "    d_copy = data_sample.copy()\n",
    "    d_copy[vital_signs] /= np.mean(d_copy[vital_signs])\n",
    "    return d_copy\n",
    "\n",
    "def normalize_train(data):\n",
    "    return data.groupby('id').apply(normalize_sample_train)\n",
    "\n",
    "def normalize_test(data_sample):\n",
    "    d_copy = data_sample.copy()\n"
   ],
   "metadata": {
    "collapsed": false,
    "pycharm": {
     "name": "#%%\n"
    }
   }
  }
 ],
 "metadata": {
  "kernelspec": {
   "display_name": "Python 3",
   "language": "python",
   "name": "python3"
  },
  "language_info": {
   "codemirror_mode": {
    "name": "ipython",
    "version": 2
   },
   "file_extension": ".py",
   "mimetype": "text/x-python",
   "name": "python",
   "nbconvert_exporter": "python",
   "pygments_lexer": "ipython2",
   "version": "2.7.6"
  }
 },
 "nbformat": 4,
 "nbformat_minor": 0
}