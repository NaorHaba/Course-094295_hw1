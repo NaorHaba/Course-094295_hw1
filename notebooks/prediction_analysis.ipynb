{
 "cells": [
  {
   "cell_type": "code",
   "execution_count": 1,
   "metadata": {
    "collapsed": true
   },
   "outputs": [
    {
     "name": "stdout",
     "output_type": "stream",
     "text": [
      "/home/student/Course-094295_hw1\n"
     ]
    }
   ],
   "source": [
    "%cd Course-094295_hw1"
   ]
  },
  {
   "cell_type": "code",
   "execution_count": 2,
   "outputs": [],
   "source": [
    "import pandas as pd"
   ],
   "metadata": {
    "collapsed": false,
    "pycharm": {
     "name": "#%%\n"
    }
   }
  },
  {
   "cell_type": "code",
   "execution_count": 3,
   "outputs": [],
   "source": [
    "pat_data = pd.read_csv('data/test_raw.csv', index_col=0)\n",
    "y_true = pat_data.groupby('id')['SepsisLabel'].max().sort_index()\n",
    "LSTM_y_pred = pd.read_csv('prediction.csv', index_col=0, names=['SepsisLabel']).sort_index()['SepsisLabel']\n",
    "LR_y_pred = pd.read_csv('LR_prediction.csv', index_col=0, names=['SepsisLabel']).sort_index()['SepsisLabel']"
   ],
   "metadata": {
    "collapsed": false,
    "pycharm": {
     "name": "#%%\n"
    }
   }
  },
  {
   "cell_type": "code",
   "execution_count": 4,
   "outputs": [
    {
     "data": {
      "text/plain": "               HR      O2Sat       Temp         SBP        MAP        DBP  \\\n0       78.000000  98.000000  36.890000   94.000000  68.000000  65.500000   \n1       78.000000  98.000000  36.890000   94.000000  68.000000  65.500000   \n2       72.750000  97.250000  36.890000   97.000000  67.250000  65.500000   \n3       72.923077  97.076923  36.890000   98.384615  67.769231  65.500000   \n4       75.000000  97.700000  36.890000   98.800000  67.769231  65.500000   \n...           ...        ...        ...         ...        ...        ...   \n391808  66.402449  95.430666  36.387250  137.019219  89.514619  62.309279   \n391809  64.134150  95.810222  36.387250  141.006406  93.838206  66.103093   \n391810  63.378050  95.936741  36.387250  139.668802  95.279402  68.034364   \n391811  63.126017  97.978914  36.222065  143.222934  95.093134  66.011455   \n391812  63.042006  96.659638  36.222065  147.740978  97.697711  68.003818   \n\n             Resp      EtCO2  BaseExcess      HCO3  ...    Age  Unit1  Unit2  \\\n0       16.000000  26.000000    0.000000  0.000000  ...  24.11    0.0    0.0   \n1       16.000000  26.000000    0.000000  0.000000  ...  24.11    0.0    0.0   \n2       15.250000  26.000000    0.000000  0.000000  ...  24.11    0.0    0.0   \n3       15.076923  26.000000    0.000000  0.000000  ...  24.11    0.0    0.0   \n4       15.700000  26.000000    0.000000  0.200000  ...  24.11    0.0    0.0   \n...           ...        ...         ...       ...  ...    ...    ...    ...   \n391808  20.955404  41.935041    0.375000  0.175000  ...  87.20    0.0    0.0   \n391809  17.651801  41.935041    0.365854  0.170732  ...  87.20    0.0    0.0   \n391810  19.217267  41.935041    0.357143  0.190476  ...  87.20    0.0    0.0   \n391811  21.072422  41.935041    0.348837  0.209302  ...  87.20    0.0    0.0   \n391812  19.690807  41.935041    0.340909  0.204545  ...  87.20    0.0    0.0   \n\n        HospAdmTime  ICULOS  SepsisLabel      id  Unit3  Gender_0.0  \\\n0             -0.02       1          0.0     0.0    1.0           1   \n1             -0.02       2          0.0     0.0    1.0           1   \n2             -0.02       3          0.0     0.0    1.0           1   \n3             -0.02       4          0.0     0.0    1.0           1   \n4             -0.02       5          0.0     0.0    1.0           1   \n...             ...     ...          ...     ...    ...         ...   \n391808      -102.37      40          0.0  9999.0    1.0           0   \n391809      -102.37      41          0.0  9999.0    1.0           0   \n391810      -102.37      42          0.0  9999.0    1.0           0   \n391811      -102.37      43          0.0  9999.0    1.0           0   \n391812      -102.37      44          0.0  9999.0    1.0           0   \n\n        Gender_1.0  \n0                0  \n1                0  \n2                0  \n3                0  \n4                0  \n...            ...  \n391808           1  \n391809           1  \n391810           1  \n391811           1  \n391812           1  \n\n[385463 rows x 44 columns]",
      "text/html": "<div>\n<style scoped>\n    .dataframe tbody tr th:only-of-type {\n        vertical-align: middle;\n    }\n\n    .dataframe tbody tr th {\n        vertical-align: top;\n    }\n\n    .dataframe thead th {\n        text-align: right;\n    }\n</style>\n<table border=\"1\" class=\"dataframe\">\n  <thead>\n    <tr style=\"text-align: right;\">\n      <th></th>\n      <th>HR</th>\n      <th>O2Sat</th>\n      <th>Temp</th>\n      <th>SBP</th>\n      <th>MAP</th>\n      <th>DBP</th>\n      <th>Resp</th>\n      <th>EtCO2</th>\n      <th>BaseExcess</th>\n      <th>HCO3</th>\n      <th>...</th>\n      <th>Age</th>\n      <th>Unit1</th>\n      <th>Unit2</th>\n      <th>HospAdmTime</th>\n      <th>ICULOS</th>\n      <th>SepsisLabel</th>\n      <th>id</th>\n      <th>Unit3</th>\n      <th>Gender_0.0</th>\n      <th>Gender_1.0</th>\n    </tr>\n  </thead>\n  <tbody>\n    <tr>\n      <th>0</th>\n      <td>78.000000</td>\n      <td>98.000000</td>\n      <td>36.890000</td>\n      <td>94.000000</td>\n      <td>68.000000</td>\n      <td>65.500000</td>\n      <td>16.000000</td>\n      <td>26.000000</td>\n      <td>0.000000</td>\n      <td>0.000000</td>\n      <td>...</td>\n      <td>24.11</td>\n      <td>0.0</td>\n      <td>0.0</td>\n      <td>-0.02</td>\n      <td>1</td>\n      <td>0.0</td>\n      <td>0.0</td>\n      <td>1.0</td>\n      <td>1</td>\n      <td>0</td>\n    </tr>\n    <tr>\n      <th>1</th>\n      <td>78.000000</td>\n      <td>98.000000</td>\n      <td>36.890000</td>\n      <td>94.000000</td>\n      <td>68.000000</td>\n      <td>65.500000</td>\n      <td>16.000000</td>\n      <td>26.000000</td>\n      <td>0.000000</td>\n      <td>0.000000</td>\n      <td>...</td>\n      <td>24.11</td>\n      <td>0.0</td>\n      <td>0.0</td>\n      <td>-0.02</td>\n      <td>2</td>\n      <td>0.0</td>\n      <td>0.0</td>\n      <td>1.0</td>\n      <td>1</td>\n      <td>0</td>\n    </tr>\n    <tr>\n      <th>2</th>\n      <td>72.750000</td>\n      <td>97.250000</td>\n      <td>36.890000</td>\n      <td>97.000000</td>\n      <td>67.250000</td>\n      <td>65.500000</td>\n      <td>15.250000</td>\n      <td>26.000000</td>\n      <td>0.000000</td>\n      <td>0.000000</td>\n      <td>...</td>\n      <td>24.11</td>\n      <td>0.0</td>\n      <td>0.0</td>\n      <td>-0.02</td>\n      <td>3</td>\n      <td>0.0</td>\n      <td>0.0</td>\n      <td>1.0</td>\n      <td>1</td>\n      <td>0</td>\n    </tr>\n    <tr>\n      <th>3</th>\n      <td>72.923077</td>\n      <td>97.076923</td>\n      <td>36.890000</td>\n      <td>98.384615</td>\n      <td>67.769231</td>\n      <td>65.500000</td>\n      <td>15.076923</td>\n      <td>26.000000</td>\n      <td>0.000000</td>\n      <td>0.000000</td>\n      <td>...</td>\n      <td>24.11</td>\n      <td>0.0</td>\n      <td>0.0</td>\n      <td>-0.02</td>\n      <td>4</td>\n      <td>0.0</td>\n      <td>0.0</td>\n      <td>1.0</td>\n      <td>1</td>\n      <td>0</td>\n    </tr>\n    <tr>\n      <th>4</th>\n      <td>75.000000</td>\n      <td>97.700000</td>\n      <td>36.890000</td>\n      <td>98.800000</td>\n      <td>67.769231</td>\n      <td>65.500000</td>\n      <td>15.700000</td>\n      <td>26.000000</td>\n      <td>0.000000</td>\n      <td>0.200000</td>\n      <td>...</td>\n      <td>24.11</td>\n      <td>0.0</td>\n      <td>0.0</td>\n      <td>-0.02</td>\n      <td>5</td>\n      <td>0.0</td>\n      <td>0.0</td>\n      <td>1.0</td>\n      <td>1</td>\n      <td>0</td>\n    </tr>\n    <tr>\n      <th>...</th>\n      <td>...</td>\n      <td>...</td>\n      <td>...</td>\n      <td>...</td>\n      <td>...</td>\n      <td>...</td>\n      <td>...</td>\n      <td>...</td>\n      <td>...</td>\n      <td>...</td>\n      <td>...</td>\n      <td>...</td>\n      <td>...</td>\n      <td>...</td>\n      <td>...</td>\n      <td>...</td>\n      <td>...</td>\n      <td>...</td>\n      <td>...</td>\n      <td>...</td>\n      <td>...</td>\n    </tr>\n    <tr>\n      <th>391808</th>\n      <td>66.402449</td>\n      <td>95.430666</td>\n      <td>36.387250</td>\n      <td>137.019219</td>\n      <td>89.514619</td>\n      <td>62.309279</td>\n      <td>20.955404</td>\n      <td>41.935041</td>\n      <td>0.375000</td>\n      <td>0.175000</td>\n      <td>...</td>\n      <td>87.20</td>\n      <td>0.0</td>\n      <td>0.0</td>\n      <td>-102.37</td>\n      <td>40</td>\n      <td>0.0</td>\n      <td>9999.0</td>\n      <td>1.0</td>\n      <td>0</td>\n      <td>1</td>\n    </tr>\n    <tr>\n      <th>391809</th>\n      <td>64.134150</td>\n      <td>95.810222</td>\n      <td>36.387250</td>\n      <td>141.006406</td>\n      <td>93.838206</td>\n      <td>66.103093</td>\n      <td>17.651801</td>\n      <td>41.935041</td>\n      <td>0.365854</td>\n      <td>0.170732</td>\n      <td>...</td>\n      <td>87.20</td>\n      <td>0.0</td>\n      <td>0.0</td>\n      <td>-102.37</td>\n      <td>41</td>\n      <td>0.0</td>\n      <td>9999.0</td>\n      <td>1.0</td>\n      <td>0</td>\n      <td>1</td>\n    </tr>\n    <tr>\n      <th>391810</th>\n      <td>63.378050</td>\n      <td>95.936741</td>\n      <td>36.387250</td>\n      <td>139.668802</td>\n      <td>95.279402</td>\n      <td>68.034364</td>\n      <td>19.217267</td>\n      <td>41.935041</td>\n      <td>0.357143</td>\n      <td>0.190476</td>\n      <td>...</td>\n      <td>87.20</td>\n      <td>0.0</td>\n      <td>0.0</td>\n      <td>-102.37</td>\n      <td>42</td>\n      <td>0.0</td>\n      <td>9999.0</td>\n      <td>1.0</td>\n      <td>0</td>\n      <td>1</td>\n    </tr>\n    <tr>\n      <th>391811</th>\n      <td>63.126017</td>\n      <td>97.978914</td>\n      <td>36.222065</td>\n      <td>143.222934</td>\n      <td>95.093134</td>\n      <td>66.011455</td>\n      <td>21.072422</td>\n      <td>41.935041</td>\n      <td>0.348837</td>\n      <td>0.209302</td>\n      <td>...</td>\n      <td>87.20</td>\n      <td>0.0</td>\n      <td>0.0</td>\n      <td>-102.37</td>\n      <td>43</td>\n      <td>0.0</td>\n      <td>9999.0</td>\n      <td>1.0</td>\n      <td>0</td>\n      <td>1</td>\n    </tr>\n    <tr>\n      <th>391812</th>\n      <td>63.042006</td>\n      <td>96.659638</td>\n      <td>36.222065</td>\n      <td>147.740978</td>\n      <td>97.697711</td>\n      <td>68.003818</td>\n      <td>19.690807</td>\n      <td>41.935041</td>\n      <td>0.340909</td>\n      <td>0.204545</td>\n      <td>...</td>\n      <td>87.20</td>\n      <td>0.0</td>\n      <td>0.0</td>\n      <td>-102.37</td>\n      <td>44</td>\n      <td>0.0</td>\n      <td>9999.0</td>\n      <td>1.0</td>\n      <td>0</td>\n      <td>1</td>\n    </tr>\n  </tbody>\n</table>\n<p>385463 rows × 44 columns</p>\n</div>"
     },
     "execution_count": 4,
     "metadata": {},
     "output_type": "execute_result"
    }
   ],
   "source": [
    "pat_data"
   ],
   "metadata": {
    "collapsed": false,
    "pycharm": {
     "name": "#%%\n"
    }
   }
  },
  {
   "cell_type": "code",
   "execution_count": 5,
   "outputs": [
    {
     "data": {
      "text/plain": "0       0\n1       0\n2       0\n3       0\n4       0\n       ..\n9995    0\n9996    0\n9997    0\n9998    0\n9999    0\nName: SepsisLabel, Length: 10000, dtype: int64"
     },
     "execution_count": 5,
     "metadata": {},
     "output_type": "execute_result"
    }
   ],
   "source": [
    "LSTM_y_pred"
   ],
   "metadata": {
    "collapsed": false,
    "pycharm": {
     "name": "#%%\n"
    }
   }
  },
  {
   "cell_type": "code",
   "execution_count": 6,
   "outputs": [
    {
     "name": "stdout",
     "output_type": "stream",
     "text": [
      "              precision    recall  f1-score   support\n",
      "\n",
      "         0.0       0.97      0.99      0.98      9259\n",
      "         1.0       0.83      0.60      0.69       741\n",
      "\n",
      "    accuracy                           0.96     10000\n",
      "   macro avg       0.90      0.79      0.84     10000\n",
      "weighted avg       0.96      0.96      0.96     10000\n",
      "\n"
     ]
    }
   ],
   "source": [
    "from sklearn.metrics import classification_report\n",
    "\n",
    "print(classification_report(y_true, LSTM_y_pred))"
   ],
   "metadata": {
    "collapsed": false,
    "pycharm": {
     "name": "#%%\n"
    }
   }
  },
  {
   "cell_type": "code",
   "execution_count": null,
   "outputs": [],
   "source": [
    "print(classification_report(y_true, LR_y_pred))"
   ],
   "metadata": {
    "collapsed": false,
    "pycharm": {
     "name": "#%%\n"
    }
   }
  }
 ],
 "metadata": {
  "kernelspec": {
   "display_name": "Python 3",
   "language": "python",
   "name": "python3"
  },
  "language_info": {
   "codemirror_mode": {
    "name": "ipython",
    "version": 2
   },
   "file_extension": ".py",
   "mimetype": "text/x-python",
   "name": "python",
   "nbconvert_exporter": "python",
   "pygments_lexer": "ipython2",
   "version": "2.7.6"
  }
 },
 "nbformat": 4,
 "nbformat_minor": 0
}