{
 "cells": [
  {
   "cell_type": "code",
   "execution_count": 1,
   "outputs": [],
   "source": [
    "import pandas\n",
    "import pandas as pd\n",
    "import numpy as np\n",
    "import matplotlib.pyplot as plt\n",
    "# import shap\n",
    "# shap.initjs()"
   ],
   "metadata": {
    "collapsed": false,
    "pycharm": {
     "name": "#%%\n"
    }
   }
  },
  {
   "cell_type": "code",
   "execution_count": 22,
   "outputs": [],
   "source": [
    "from sklearn.preprocessing import StandardScaler, OneHotEncoder, FunctionTransformer, MinMaxScaler\n",
    "from sklearn.pipeline import Pipeline\n",
    "from sklearn.compose import ColumnTransformer\n",
    "from sklearn.model_selection import GridSearchCV\n",
    "from sklearn.feature_selection import SequentialFeatureSelector\n",
    "from sklearn.feature_selection import RFECV\n",
    "from sklearn.linear_model import LogisticRegression, LogisticRegressionCV\n",
    "\n",
    "from IPython.display import display"
   ],
   "metadata": {
    "collapsed": false,
    "pycharm": {
     "name": "#%%\n"
    }
   }
  },
  {
   "cell_type": "code",
   "execution_count": 3,
   "outputs": [],
   "source": [
    "pd.set_option('display.max_rows', 100, 'display.max_columns', None)"
   ],
   "metadata": {
    "collapsed": false,
    "pycharm": {
     "name": "#%%\n"
    }
   }
  },
  {
   "cell_type": "code",
   "execution_count": 4,
   "outputs": [],
   "source": [
    "train_file = 'data/train_raw.csv'\n",
    "# test_file = 'data/train_raw.csv'"
   ],
   "metadata": {
    "collapsed": false,
    "pycharm": {
     "name": "#%%\n"
    }
   }
  },
  {
   "cell_type": "code",
   "execution_count": 5,
   "outputs": [
    {
     "name": "stdout",
     "output_type": "stream",
     "text": [
      "Reading CSV...\n",
      "Done\n"
     ]
    }
   ],
   "source": [
    "import random\n",
    "random.seed(42)\n",
    "# read data\n",
    "print('Reading CSV...')\n",
    "t_df = pd.read_csv(train_file, index_col=0, dtype='float')\n",
    "print('Done')\n",
    "t_df['id'] = t_df['id'].astype(int)\n",
    "t_df['id'] = t_df['id'].astype(int)\n",
    "# split train-validation\n",
    "sick = set(t_df[t_df['SepsisLabel'] == 1.0]['id'].unique())\n",
    "healthy = set(t_df['id'].unique()) - sick\n",
    "t_sick = set(random.sample(tuple(sick), int(0.75*len(sick))))\n",
    "v_sick = sick - t_sick\n",
    "t_healthy = set(random.sample(tuple(healthy), int(0.75*len(healthy))))\n",
    "v_healthy = healthy - t_healthy\n",
    "\n",
    "train = t_df[t_df.id.isin(list(t_sick) + list(t_healthy))].sort_values(['id', 'SepsisLabel'])\n",
    "valid = t_df[t_df.id.isin(list(v_sick) + list(v_healthy))].sort_values(['id', 'SepsisLabel'])"
   ],
   "metadata": {
    "collapsed": false,
    "pycharm": {
     "name": "#%%\n"
    }
   }
  },
  {
   "cell_type": "code",
   "execution_count": 39,
   "outputs": [
    {
     "data": {
      "text/plain": "                 HR      O2Sat       Temp         SBP        MAP        DBP  \\\n0.0       61.000000  99.000000  36.440000  124.000000  65.000000  43.000000   \n1.0       61.000000  99.000000  36.440000  124.000000  65.000000  43.000000   \n2.0       63.250000  98.250000  36.440000  124.750000  64.250000  41.500000   \n3.0       58.230769  99.461538  36.440000  123.538462  64.769231  41.153846   \n4.0       63.475000  99.150000  36.440000  121.150000  66.275000  42.400000   \n...             ...        ...        ...         ...        ...        ...   \n776714.0  92.990280  97.882567  36.447763  128.615857  89.877763  60.150472   \n776715.0  73.451416  97.098386  37.161072  123.626040  73.992964  52.020070   \n776716.0  73.451416  97.098386  37.161072  123.626040  73.992964  52.020070   \n776717.0  73.050176  97.010936  37.161072  124.847282  76.665763  54.668775   \n776718.0  73.050176  97.010936  37.161072  124.847282  76.665763  54.668775   \n\n               Resp      EtCO2  BaseExcess      HCO3      FiO2        pH  \\\n0.0       17.500000  35.000000    0.000000  0.000000  0.000000  0.000000   \n1.0       17.500000  35.000000    0.000000  0.000000  0.000000  0.000000   \n2.0       24.625000  35.000000    0.000000  0.000000  0.000000  0.000000   \n3.0       13.807692  35.000000    0.000000  0.000000  0.000000  0.000000   \n4.0       20.012500  35.000000    0.000000  0.000000  0.000000  0.000000   \n...             ...        ...         ...       ...       ...       ...   \n776714.0  15.603230  47.057456    0.078947  0.078947  0.236842  0.105263   \n776715.0  15.955769  47.057456    0.076923  0.076923  0.230769  0.102564   \n776716.0  15.955769  47.057456    0.075000  0.075000  0.225000  0.100000   \n776717.0  15.995084  47.057456    0.073171  0.073171  0.219512  0.097561   \n776718.0  15.995084  47.057456    0.071429  0.071429  0.214286  0.095238   \n\n             PaCO2  SaO2  AST       BUN  Alkalinephos   Calcium  Chloride  \\\n0.0       0.000000   0.0  0.0  0.000000           0.0  0.000000  0.000000   \n1.0       0.000000   0.0  0.0  0.000000           0.0  0.000000  0.000000   \n2.0       0.000000   0.0  0.0  0.000000           0.0  0.000000  0.000000   \n3.0       0.000000   0.0  0.0  0.000000           0.0  0.000000  0.000000   \n4.0       0.000000   0.0  0.0  0.000000           0.0  0.000000  0.000000   \n...            ...   ...  ...       ...           ...       ...       ...   \n776714.0  0.078947   0.0  0.0  0.078947           0.0  0.052632  0.078947   \n776715.0  0.076923   0.0  0.0  0.076923           0.0  0.051282  0.076923   \n776716.0  0.075000   0.0  0.0  0.075000           0.0  0.050000  0.075000   \n776717.0  0.073171   0.0  0.0  0.073171           0.0  0.048780  0.073171   \n776718.0  0.071429   0.0  0.0  0.071429           0.0  0.047619  0.071429   \n\n          Creatinine  Bilirubin_direct   Glucose  Lactate  Magnesium  \\\n0.0         0.000000               0.0  0.000000      0.0   0.000000   \n1.0         0.000000               0.0  0.000000      0.0   0.000000   \n2.0         0.000000               0.0  0.000000      0.0   0.000000   \n3.0         0.000000               0.0  0.000000      0.0   0.000000   \n4.0         0.000000               0.0  0.000000      0.0   0.000000   \n...              ...               ...       ...      ...        ...   \n776714.0    0.078947               0.0  0.078947      0.0   0.105263   \n776715.0    0.076923               0.0  0.076923      0.0   0.102564   \n776716.0    0.075000               0.0  0.075000      0.0   0.100000   \n776717.0    0.073171               0.0  0.073171      0.0   0.097561   \n776718.0    0.071429               0.0  0.071429      0.0   0.095238   \n\n          Phosphate  Potassium  Bilirubin_total  TroponinI       Hct  \\\n0.0        0.000000   0.000000              0.0        0.0  0.000000   \n1.0        0.000000   0.000000              0.0        0.0  0.000000   \n2.0        0.000000   0.000000              0.0        0.0  0.000000   \n3.0        0.000000   0.000000              0.0        0.0  0.000000   \n4.0        0.000000   0.000000              0.0        0.0  0.000000   \n...             ...        ...              ...        ...       ...   \n776714.0   0.026316   0.105263              0.0        0.0  0.078947   \n776715.0   0.025641   0.102564              0.0        0.0  0.076923   \n776716.0   0.025000   0.100000              0.0        0.0  0.075000   \n776717.0   0.024390   0.097561              0.0        0.0  0.073171   \n776718.0   0.023810   0.095238              0.0        0.0  0.071429   \n\n               Hgb       PTT       WBC  Fibrinogen  Platelets    Age  Unit1  \\\n0.0       0.000000  0.000000  0.000000         0.0   0.000000  75.91    0.0   \n1.0       0.000000  0.000000  0.000000         0.0   0.000000  75.91    0.0   \n2.0       0.000000  0.000000  0.000000         0.0   0.000000  75.91    0.0   \n3.0       0.000000  0.000000  0.000000         0.0   0.000000  75.91    0.0   \n4.0       0.000000  0.000000  0.000000         0.0   0.000000  75.91    0.0   \n...            ...       ...       ...         ...        ...    ...    ...   \n776714.0  0.078947  0.052632  0.078947         0.0   0.078947  38.75    0.0   \n776715.0  0.076923  0.051282  0.076923         0.0   0.076923  38.75    0.0   \n776716.0  0.075000  0.050000  0.075000         0.0   0.075000  38.75    0.0   \n776717.0  0.073171  0.048780  0.073171         0.0   0.073171  38.75    0.0   \n776718.0  0.071429  0.047619  0.071429         0.0   0.071429  38.75    0.0   \n\n          Unit2  HospAdmTime  ICULOS  SepsisLabel     id  Unit3  Gender_0.0  \\\n0.0         1.0       -98.60     1.0          0.0      0    0.0         1.0   \n1.0         1.0       -98.60     2.0          0.0      0    0.0         1.0   \n2.0         1.0       -98.60     3.0          0.0      0    0.0         1.0   \n3.0         1.0       -98.60     4.0          0.0      0    0.0         1.0   \n4.0         1.0       -98.60     5.0          0.0      0    0.0         1.0   \n...         ...          ...     ...          ...    ...    ...         ...   \n776714.0    1.0        -0.05    38.0          0.0  19998    0.0         0.0   \n776715.0    1.0        -0.05    39.0          0.0  19998    0.0         0.0   \n776716.0    1.0        -0.05    40.0          0.0  19998    0.0         0.0   \n776717.0    1.0        -0.05    41.0          0.0  19998    0.0         0.0   \n776718.0    1.0        -0.05    42.0          0.0  19998    0.0         0.0   \n\n          Gender_1.0  \n0.0              0.0  \n1.0              0.0  \n2.0              0.0  \n3.0              0.0  \n4.0              0.0  \n...              ...  \n776714.0         1.0  \n776715.0         1.0  \n776716.0         1.0  \n776717.0         1.0  \n776718.0         1.0  \n\n[570519 rows x 44 columns]",
      "text/html": "<div>\n<style scoped>\n    .dataframe tbody tr th:only-of-type {\n        vertical-align: middle;\n    }\n\n    .dataframe tbody tr th {\n        vertical-align: top;\n    }\n\n    .dataframe thead th {\n        text-align: right;\n    }\n</style>\n<table border=\"1\" class=\"dataframe\">\n  <thead>\n    <tr style=\"text-align: right;\">\n      <th></th>\n      <th>HR</th>\n      <th>O2Sat</th>\n      <th>Temp</th>\n      <th>SBP</th>\n      <th>MAP</th>\n      <th>DBP</th>\n      <th>Resp</th>\n      <th>EtCO2</th>\n      <th>BaseExcess</th>\n      <th>HCO3</th>\n      <th>FiO2</th>\n      <th>pH</th>\n      <th>PaCO2</th>\n      <th>SaO2</th>\n      <th>AST</th>\n      <th>BUN</th>\n      <th>Alkalinephos</th>\n      <th>Calcium</th>\n      <th>Chloride</th>\n      <th>Creatinine</th>\n      <th>Bilirubin_direct</th>\n      <th>Glucose</th>\n      <th>Lactate</th>\n      <th>Magnesium</th>\n      <th>Phosphate</th>\n      <th>Potassium</th>\n      <th>Bilirubin_total</th>\n      <th>TroponinI</th>\n      <th>Hct</th>\n      <th>Hgb</th>\n      <th>PTT</th>\n      <th>WBC</th>\n      <th>Fibrinogen</th>\n      <th>Platelets</th>\n      <th>Age</th>\n      <th>Unit1</th>\n      <th>Unit2</th>\n      <th>HospAdmTime</th>\n      <th>ICULOS</th>\n      <th>SepsisLabel</th>\n      <th>id</th>\n      <th>Unit3</th>\n      <th>Gender_0.0</th>\n      <th>Gender_1.0</th>\n    </tr>\n  </thead>\n  <tbody>\n    <tr>\n      <th>0.0</th>\n      <td>61.000000</td>\n      <td>99.000000</td>\n      <td>36.440000</td>\n      <td>124.000000</td>\n      <td>65.000000</td>\n      <td>43.000000</td>\n      <td>17.500000</td>\n      <td>35.000000</td>\n      <td>0.000000</td>\n      <td>0.000000</td>\n      <td>0.000000</td>\n      <td>0.000000</td>\n      <td>0.000000</td>\n      <td>0.0</td>\n      <td>0.0</td>\n      <td>0.000000</td>\n      <td>0.0</td>\n      <td>0.000000</td>\n      <td>0.000000</td>\n      <td>0.000000</td>\n      <td>0.0</td>\n      <td>0.000000</td>\n      <td>0.0</td>\n      <td>0.000000</td>\n      <td>0.000000</td>\n      <td>0.000000</td>\n      <td>0.0</td>\n      <td>0.0</td>\n      <td>0.000000</td>\n      <td>0.000000</td>\n      <td>0.000000</td>\n      <td>0.000000</td>\n      <td>0.0</td>\n      <td>0.000000</td>\n      <td>75.91</td>\n      <td>0.0</td>\n      <td>1.0</td>\n      <td>-98.60</td>\n      <td>1.0</td>\n      <td>0.0</td>\n      <td>0</td>\n      <td>0.0</td>\n      <td>1.0</td>\n      <td>0.0</td>\n    </tr>\n    <tr>\n      <th>1.0</th>\n      <td>61.000000</td>\n      <td>99.000000</td>\n      <td>36.440000</td>\n      <td>124.000000</td>\n      <td>65.000000</td>\n      <td>43.000000</td>\n      <td>17.500000</td>\n      <td>35.000000</td>\n      <td>0.000000</td>\n      <td>0.000000</td>\n      <td>0.000000</td>\n      <td>0.000000</td>\n      <td>0.000000</td>\n      <td>0.0</td>\n      <td>0.0</td>\n      <td>0.000000</td>\n      <td>0.0</td>\n      <td>0.000000</td>\n      <td>0.000000</td>\n      <td>0.000000</td>\n      <td>0.0</td>\n      <td>0.000000</td>\n      <td>0.0</td>\n      <td>0.000000</td>\n      <td>0.000000</td>\n      <td>0.000000</td>\n      <td>0.0</td>\n      <td>0.0</td>\n      <td>0.000000</td>\n      <td>0.000000</td>\n      <td>0.000000</td>\n      <td>0.000000</td>\n      <td>0.0</td>\n      <td>0.000000</td>\n      <td>75.91</td>\n      <td>0.0</td>\n      <td>1.0</td>\n      <td>-98.60</td>\n      <td>2.0</td>\n      <td>0.0</td>\n      <td>0</td>\n      <td>0.0</td>\n      <td>1.0</td>\n      <td>0.0</td>\n    </tr>\n    <tr>\n      <th>2.0</th>\n      <td>63.250000</td>\n      <td>98.250000</td>\n      <td>36.440000</td>\n      <td>124.750000</td>\n      <td>64.250000</td>\n      <td>41.500000</td>\n      <td>24.625000</td>\n      <td>35.000000</td>\n      <td>0.000000</td>\n      <td>0.000000</td>\n      <td>0.000000</td>\n      <td>0.000000</td>\n      <td>0.000000</td>\n      <td>0.0</td>\n      <td>0.0</td>\n      <td>0.000000</td>\n      <td>0.0</td>\n      <td>0.000000</td>\n      <td>0.000000</td>\n      <td>0.000000</td>\n      <td>0.0</td>\n      <td>0.000000</td>\n      <td>0.0</td>\n      <td>0.000000</td>\n      <td>0.000000</td>\n      <td>0.000000</td>\n      <td>0.0</td>\n      <td>0.0</td>\n      <td>0.000000</td>\n      <td>0.000000</td>\n      <td>0.000000</td>\n      <td>0.000000</td>\n      <td>0.0</td>\n      <td>0.000000</td>\n      <td>75.91</td>\n      <td>0.0</td>\n      <td>1.0</td>\n      <td>-98.60</td>\n      <td>3.0</td>\n      <td>0.0</td>\n      <td>0</td>\n      <td>0.0</td>\n      <td>1.0</td>\n      <td>0.0</td>\n    </tr>\n    <tr>\n      <th>3.0</th>\n      <td>58.230769</td>\n      <td>99.461538</td>\n      <td>36.440000</td>\n      <td>123.538462</td>\n      <td>64.769231</td>\n      <td>41.153846</td>\n      <td>13.807692</td>\n      <td>35.000000</td>\n      <td>0.000000</td>\n      <td>0.000000</td>\n      <td>0.000000</td>\n      <td>0.000000</td>\n      <td>0.000000</td>\n      <td>0.0</td>\n      <td>0.0</td>\n      <td>0.000000</td>\n      <td>0.0</td>\n      <td>0.000000</td>\n      <td>0.000000</td>\n      <td>0.000000</td>\n      <td>0.0</td>\n      <td>0.000000</td>\n      <td>0.0</td>\n      <td>0.000000</td>\n      <td>0.000000</td>\n      <td>0.000000</td>\n      <td>0.0</td>\n      <td>0.0</td>\n      <td>0.000000</td>\n      <td>0.000000</td>\n      <td>0.000000</td>\n      <td>0.000000</td>\n      <td>0.0</td>\n      <td>0.000000</td>\n      <td>75.91</td>\n      <td>0.0</td>\n      <td>1.0</td>\n      <td>-98.60</td>\n      <td>4.0</td>\n      <td>0.0</td>\n      <td>0</td>\n      <td>0.0</td>\n      <td>1.0</td>\n      <td>0.0</td>\n    </tr>\n    <tr>\n      <th>4.0</th>\n      <td>63.475000</td>\n      <td>99.150000</td>\n      <td>36.440000</td>\n      <td>121.150000</td>\n      <td>66.275000</td>\n      <td>42.400000</td>\n      <td>20.012500</td>\n      <td>35.000000</td>\n      <td>0.000000</td>\n      <td>0.000000</td>\n      <td>0.000000</td>\n      <td>0.000000</td>\n      <td>0.000000</td>\n      <td>0.0</td>\n      <td>0.0</td>\n      <td>0.000000</td>\n      <td>0.0</td>\n      <td>0.000000</td>\n      <td>0.000000</td>\n      <td>0.000000</td>\n      <td>0.0</td>\n      <td>0.000000</td>\n      <td>0.0</td>\n      <td>0.000000</td>\n      <td>0.000000</td>\n      <td>0.000000</td>\n      <td>0.0</td>\n      <td>0.0</td>\n      <td>0.000000</td>\n      <td>0.000000</td>\n      <td>0.000000</td>\n      <td>0.000000</td>\n      <td>0.0</td>\n      <td>0.000000</td>\n      <td>75.91</td>\n      <td>0.0</td>\n      <td>1.0</td>\n      <td>-98.60</td>\n      <td>5.0</td>\n      <td>0.0</td>\n      <td>0</td>\n      <td>0.0</td>\n      <td>1.0</td>\n      <td>0.0</td>\n    </tr>\n    <tr>\n      <th>...</th>\n      <td>...</td>\n      <td>...</td>\n      <td>...</td>\n      <td>...</td>\n      <td>...</td>\n      <td>...</td>\n      <td>...</td>\n      <td>...</td>\n      <td>...</td>\n      <td>...</td>\n      <td>...</td>\n      <td>...</td>\n      <td>...</td>\n      <td>...</td>\n      <td>...</td>\n      <td>...</td>\n      <td>...</td>\n      <td>...</td>\n      <td>...</td>\n      <td>...</td>\n      <td>...</td>\n      <td>...</td>\n      <td>...</td>\n      <td>...</td>\n      <td>...</td>\n      <td>...</td>\n      <td>...</td>\n      <td>...</td>\n      <td>...</td>\n      <td>...</td>\n      <td>...</td>\n      <td>...</td>\n      <td>...</td>\n      <td>...</td>\n      <td>...</td>\n      <td>...</td>\n      <td>...</td>\n      <td>...</td>\n      <td>...</td>\n      <td>...</td>\n      <td>...</td>\n      <td>...</td>\n      <td>...</td>\n      <td>...</td>\n    </tr>\n    <tr>\n      <th>776714.0</th>\n      <td>92.990280</td>\n      <td>97.882567</td>\n      <td>36.447763</td>\n      <td>128.615857</td>\n      <td>89.877763</td>\n      <td>60.150472</td>\n      <td>15.603230</td>\n      <td>47.057456</td>\n      <td>0.078947</td>\n      <td>0.078947</td>\n      <td>0.236842</td>\n      <td>0.105263</td>\n      <td>0.078947</td>\n      <td>0.0</td>\n      <td>0.0</td>\n      <td>0.078947</td>\n      <td>0.0</td>\n      <td>0.052632</td>\n      <td>0.078947</td>\n      <td>0.078947</td>\n      <td>0.0</td>\n      <td>0.078947</td>\n      <td>0.0</td>\n      <td>0.105263</td>\n      <td>0.026316</td>\n      <td>0.105263</td>\n      <td>0.0</td>\n      <td>0.0</td>\n      <td>0.078947</td>\n      <td>0.078947</td>\n      <td>0.052632</td>\n      <td>0.078947</td>\n      <td>0.0</td>\n      <td>0.078947</td>\n      <td>38.75</td>\n      <td>0.0</td>\n      <td>1.0</td>\n      <td>-0.05</td>\n      <td>38.0</td>\n      <td>0.0</td>\n      <td>19998</td>\n      <td>0.0</td>\n      <td>0.0</td>\n      <td>1.0</td>\n    </tr>\n    <tr>\n      <th>776715.0</th>\n      <td>73.451416</td>\n      <td>97.098386</td>\n      <td>37.161072</td>\n      <td>123.626040</td>\n      <td>73.992964</td>\n      <td>52.020070</td>\n      <td>15.955769</td>\n      <td>47.057456</td>\n      <td>0.076923</td>\n      <td>0.076923</td>\n      <td>0.230769</td>\n      <td>0.102564</td>\n      <td>0.076923</td>\n      <td>0.0</td>\n      <td>0.0</td>\n      <td>0.076923</td>\n      <td>0.0</td>\n      <td>0.051282</td>\n      <td>0.076923</td>\n      <td>0.076923</td>\n      <td>0.0</td>\n      <td>0.076923</td>\n      <td>0.0</td>\n      <td>0.102564</td>\n      <td>0.025641</td>\n      <td>0.102564</td>\n      <td>0.0</td>\n      <td>0.0</td>\n      <td>0.076923</td>\n      <td>0.076923</td>\n      <td>0.051282</td>\n      <td>0.076923</td>\n      <td>0.0</td>\n      <td>0.076923</td>\n      <td>38.75</td>\n      <td>0.0</td>\n      <td>1.0</td>\n      <td>-0.05</td>\n      <td>39.0</td>\n      <td>0.0</td>\n      <td>19998</td>\n      <td>0.0</td>\n      <td>0.0</td>\n      <td>1.0</td>\n    </tr>\n    <tr>\n      <th>776716.0</th>\n      <td>73.451416</td>\n      <td>97.098386</td>\n      <td>37.161072</td>\n      <td>123.626040</td>\n      <td>73.992964</td>\n      <td>52.020070</td>\n      <td>15.955769</td>\n      <td>47.057456</td>\n      <td>0.075000</td>\n      <td>0.075000</td>\n      <td>0.225000</td>\n      <td>0.100000</td>\n      <td>0.075000</td>\n      <td>0.0</td>\n      <td>0.0</td>\n      <td>0.075000</td>\n      <td>0.0</td>\n      <td>0.050000</td>\n      <td>0.075000</td>\n      <td>0.075000</td>\n      <td>0.0</td>\n      <td>0.075000</td>\n      <td>0.0</td>\n      <td>0.100000</td>\n      <td>0.025000</td>\n      <td>0.100000</td>\n      <td>0.0</td>\n      <td>0.0</td>\n      <td>0.075000</td>\n      <td>0.075000</td>\n      <td>0.050000</td>\n      <td>0.075000</td>\n      <td>0.0</td>\n      <td>0.075000</td>\n      <td>38.75</td>\n      <td>0.0</td>\n      <td>1.0</td>\n      <td>-0.05</td>\n      <td>40.0</td>\n      <td>0.0</td>\n      <td>19998</td>\n      <td>0.0</td>\n      <td>0.0</td>\n      <td>1.0</td>\n    </tr>\n    <tr>\n      <th>776717.0</th>\n      <td>73.050176</td>\n      <td>97.010936</td>\n      <td>37.161072</td>\n      <td>124.847282</td>\n      <td>76.665763</td>\n      <td>54.668775</td>\n      <td>15.995084</td>\n      <td>47.057456</td>\n      <td>0.073171</td>\n      <td>0.073171</td>\n      <td>0.219512</td>\n      <td>0.097561</td>\n      <td>0.073171</td>\n      <td>0.0</td>\n      <td>0.0</td>\n      <td>0.073171</td>\n      <td>0.0</td>\n      <td>0.048780</td>\n      <td>0.073171</td>\n      <td>0.073171</td>\n      <td>0.0</td>\n      <td>0.073171</td>\n      <td>0.0</td>\n      <td>0.097561</td>\n      <td>0.024390</td>\n      <td>0.097561</td>\n      <td>0.0</td>\n      <td>0.0</td>\n      <td>0.073171</td>\n      <td>0.073171</td>\n      <td>0.048780</td>\n      <td>0.073171</td>\n      <td>0.0</td>\n      <td>0.073171</td>\n      <td>38.75</td>\n      <td>0.0</td>\n      <td>1.0</td>\n      <td>-0.05</td>\n      <td>41.0</td>\n      <td>0.0</td>\n      <td>19998</td>\n      <td>0.0</td>\n      <td>0.0</td>\n      <td>1.0</td>\n    </tr>\n    <tr>\n      <th>776718.0</th>\n      <td>73.050176</td>\n      <td>97.010936</td>\n      <td>37.161072</td>\n      <td>124.847282</td>\n      <td>76.665763</td>\n      <td>54.668775</td>\n      <td>15.995084</td>\n      <td>47.057456</td>\n      <td>0.071429</td>\n      <td>0.071429</td>\n      <td>0.214286</td>\n      <td>0.095238</td>\n      <td>0.071429</td>\n      <td>0.0</td>\n      <td>0.0</td>\n      <td>0.071429</td>\n      <td>0.0</td>\n      <td>0.047619</td>\n      <td>0.071429</td>\n      <td>0.071429</td>\n      <td>0.0</td>\n      <td>0.071429</td>\n      <td>0.0</td>\n      <td>0.095238</td>\n      <td>0.023810</td>\n      <td>0.095238</td>\n      <td>0.0</td>\n      <td>0.0</td>\n      <td>0.071429</td>\n      <td>0.071429</td>\n      <td>0.047619</td>\n      <td>0.071429</td>\n      <td>0.0</td>\n      <td>0.071429</td>\n      <td>38.75</td>\n      <td>0.0</td>\n      <td>1.0</td>\n      <td>-0.05</td>\n      <td>42.0</td>\n      <td>0.0</td>\n      <td>19998</td>\n      <td>0.0</td>\n      <td>0.0</td>\n      <td>1.0</td>\n    </tr>\n  </tbody>\n</table>\n<p>570519 rows × 44 columns</p>\n</div>"
     },
     "execution_count": 39,
     "metadata": {},
     "output_type": "execute_result"
    }
   ],
   "source": [
    "train"
   ],
   "metadata": {
    "collapsed": false,
    "pycharm": {
     "name": "#%%\n"
    }
   }
  },
  {
   "cell_type": "markdown",
   "source": [
    "# Logistic Regression"
   ],
   "metadata": {
    "collapsed": false,
    "pycharm": {
     "name": "#%% md\n"
    }
   }
  },
  {
   "cell_type": "markdown",
   "source": [
    "## Feature Engineering"
   ],
   "metadata": {
    "collapsed": false,
    "pycharm": {
     "name": "#%% md\n"
    }
   }
  },
  {
   "cell_type": "markdown",
   "source": [
    "### Add features"
   ],
   "metadata": {
    "collapsed": false,
    "pycharm": {
     "name": "#%% md\n"
    }
   }
  },
  {
   "cell_type": "code",
   "execution_count": 6,
   "outputs": [],
   "source": [
    "# for each vineyard that has records from 2020 or 2021, find the last 4 years' mean total weight per size\n",
    "# def last_four_years_mean(vineyard_id, year):\n",
    "#     first_list = [2016, 2017, 2018, 2019]\n",
    "#     second_list = [2017, 2018, 2019, 2020]\n",
    "#     if year == 2020:\n",
    "#         weight_df = vine_df.loc[(vine_df['vineyard_id'] == vineyard_id) & (vine_df['measure_year']).isin(first_list)]['plot_total_weight/plot_size']\n",
    "#     else:\n",
    "#         weight_df = vine_df.loc[(vine_df['vineyard_id'] == vineyard_id) & (vine_df['measure_year']).isin(second_list)]['plot_total_weight/plot_size']\n",
    "#     return weight_df.mean(axis=0)"
   ],
   "metadata": {
    "collapsed": false,
    "pycharm": {
     "name": "#%%\n"
    }
   }
  },
  {
   "cell_type": "markdown",
   "source": [
    "### Aggregating-Normalizing Features\n",
    "We normalize vital signs by the avg of the feature to get a relative feature value\n",
    "For LR:\n",
    "We aggregate x last hours of features for each patient in train.\n",
    "We aggregate every x hours of features for the patient and return a final prediction in test."
   ],
   "metadata": {
    "collapsed": false,
    "pycharm": {
     "name": "#%% md\n"
    }
   }
  },
  {
   "cell_type": "code",
   "execution_count": 32,
   "outputs": [],
   "source": [
    "HOURS = 7"
   ],
   "metadata": {
    "collapsed": false,
    "pycharm": {
     "name": "#%%\n"
    }
   }
  },
  {
   "cell_type": "code",
   "execution_count": 33,
   "outputs": [],
   "source": [
    "max_cols = ['ICULOS', 'SepsisLabel']\n",
    "mean_cols = [col for col in train if col not in ['id'] + max_cols]\n",
    "X_t = pd.concat([train.groupby('id')[mean_cols].apply(lambda x: x.tail(HOURS).mean()), train.groupby('id')[max_cols].apply(lambda x: x.tail(HOURS).max())], axis=1)"
   ],
   "metadata": {
    "collapsed": false,
    "pycharm": {
     "name": "#%%\n"
    }
   }
  },
  {
   "cell_type": "markdown",
   "source": [
    "### Scaling Features"
   ],
   "metadata": {
    "collapsed": false,
    "pycharm": {
     "name": "#%% md\n"
    }
   }
  },
  {
   "cell_type": "code",
   "execution_count": 34,
   "outputs": [],
   "source": [
    "scaling_columns = ['HR', 'O2Sat', 'Temp', 'SBP', 'MAP', 'DBP', 'Resp', 'EtCO2', 'Age', 'HospAdmTime', 'ICULOS']  # rest are already scaled\n",
    "scaler = MinMaxScaler()\n",
    "X_t[scaling_columns] = scaler.fit_transform(X_t[scaling_columns])"
   ],
   "metadata": {
    "collapsed": false,
    "pycharm": {
     "name": "#%%\n"
    }
   }
  },
  {
   "cell_type": "code",
   "execution_count": 35,
   "outputs": [],
   "source": [
    "y_t = X_t['SepsisLabel']\n",
    "X_t = X_t.drop(['SepsisLabel'], axis=1)"
   ],
   "metadata": {
    "collapsed": false,
    "pycharm": {
     "name": "#%%\n"
    }
   }
  },
  {
   "cell_type": "code",
   "execution_count": 36,
   "outputs": [
    {
     "data": {
      "text/plain": "             HR     O2Sat      Temp       SBP       MAP       DBP      Resp  \\\nid                                                                            \n0      0.161853  0.948382  0.435328  0.470862  0.183927  0.158683  0.159127   \n1      0.439165  1.000000  0.636655  0.564638  0.398206  0.335046  0.217865   \n2      0.313071  0.927166  0.497741  0.604998  0.462890  0.466228  0.202119   \n3      0.233610  0.961862  0.562038  0.522588  0.423038  0.461268  0.191409   \n4      0.468750  0.939373  0.536424  0.403750  0.373162  0.362324  0.201356   \n...         ...       ...       ...       ...       ...       ...       ...   \n19993  0.271271  0.988661  0.544126  0.385980  0.279186  0.466228  0.146347   \n19995  0.530675  0.963611  0.616783  0.402349  0.385898  0.406816  0.227637   \n19996  0.212803  0.983380  0.433922  0.556201  0.569145  0.596366  0.170700   \n19997  0.265101  0.978218  0.590528  0.572810  0.409732  0.316105  0.197678   \n19998  0.326040  0.962734  0.533005  0.469192  0.355269  0.302991  0.172023   \n\n          EtCO2  BaseExcess      HCO3      FiO2        pH     PaCO2      SaO2  \\\nid                                                                              \n0      0.277778    0.000000  0.050509  0.000000  0.000000  0.000000  0.000000   \n1      0.277778    0.117489  0.131434  0.242430  0.117489  0.117489  0.000000   \n2      0.277778    0.000000  0.028665  0.085996  0.000000  0.000000  0.000000   \n3      0.277778    0.000000  0.031388  0.000000  0.000000  0.000000  0.000000   \n4      0.277778    0.000000  0.000000  0.000000  0.000000  0.000000  0.000000   \n...         ...         ...       ...       ...       ...       ...       ...   \n19993  0.411750    0.060699  0.042630  0.267571  0.103329  0.060699  0.039384   \n19995  0.411750    0.077383  0.000000  0.270841  0.154766  0.077383  0.077383   \n19996  0.411750    0.125314  0.050126  0.336024  0.125314  0.125314  0.000000   \n19997  0.411750    0.000000  0.085767  0.000000  0.000000  0.000000  0.000000   \n19998  0.411750    0.077126  0.073158  0.231379  0.098867  0.077126  0.000000   \n\n            AST       BUN  Alkalinephos   Calcium  Chloride  Creatinine  \\\nid                                                                        \n0      0.000000  0.050509      0.000000  0.050509  0.050509    0.050509   \n1      0.000000  0.087623      0.000000  0.087623  0.087623    0.087623   \n2      0.028665  0.028665      0.028665  0.000000  0.028665    0.028665   \n3      0.000000  0.031388      0.000000  0.031388  0.031388    0.031388   \n4      0.000000  0.048058      0.000000  0.048058  0.000000    0.048058   \n...         ...       ...           ...       ...       ...         ...   \n19993  0.000000  0.042630      0.000000  0.042630  0.042630    0.042630   \n19995  0.000000  0.038692      0.000000  0.000000  0.000000    0.038692   \n19996  0.000000  0.050126      0.000000  0.050126  0.050126    0.050126   \n19997  0.000000  0.085767      0.000000  0.085767  0.085767    0.085767   \n19998  0.000000  0.073158      0.000000  0.051418  0.073158    0.073158   \n\n       Bilirubin_direct   Glucose   Lactate  Magnesium  Phosphate  Potassium  \\\nid                                                                             \n0                   0.0  0.050509  0.000000   0.050509   0.050509   0.050509   \n1                   0.0  0.205112  0.117489   0.087623   0.087623   0.087623   \n2                   0.0  0.028665  0.000000   0.028665   0.000000   0.028665   \n3                   0.0  0.075920  0.000000   0.031388   0.031388   0.031388   \n4                   0.0  0.204395  0.000000   0.096116   0.000000   0.096116   \n...                 ...       ...       ...        ...        ...        ...   \n19993               0.0  0.124645  0.048133   0.051379   0.051379   0.090763   \n19995               0.0  0.154766  0.000000   0.000000   0.000000   0.000000   \n19996               0.0  0.050126  0.025063   0.050126   0.050126   0.050126   \n19997               0.0  0.085767  0.000000   0.085767   0.085767   0.085767   \n19998               0.0  0.073158  0.000000   0.098867   0.025709   0.098867   \n\n       Bilirubin_total  TroponinI       Hct       Hgb       PTT       WBC  \\\nid                                                                          \n0             0.000000        0.0  0.050509  0.050509  0.000000  0.050509   \n1             0.000000        0.0  0.131434  0.131434  0.087623  0.087623   \n2             0.028665        0.0  0.028665  0.028665  0.028665  0.028665   \n3             0.000000        0.0  0.031388  0.031388  0.031388  0.031388   \n4             0.000000        0.0  0.048058  0.048058  0.000000  0.048058   \n...                ...        ...       ...       ...       ...       ...   \n19993         0.000000        0.0  0.197339  0.103329  0.039384  0.042630   \n19995         0.000000        0.0  0.181294  0.181294  0.000000  0.000000   \n19996         0.000000        0.0  0.075188  0.025063  0.000000  0.025063   \n19997         0.000000        0.0  0.085767  0.085767  0.085767  0.085767   \n19998         0.000000        0.0  0.073158  0.073158  0.051418  0.073158   \n\n       Fibrinogen  Platelets       Age  Unit1  Unit2  HospAdmTime  Unit3  \\\nid                                                                         \n0             0.0   0.050509  0.716588    0.0    1.0     0.968900    0.0   \n1             0.0   0.087623  0.597529    0.0    0.0     0.995343    1.0   \n2             0.0   0.028665  0.445647    1.0    0.0     0.995346    0.0   \n3             0.0   0.031388  0.406118    0.0    0.0     0.995343    1.0   \n4             0.0   0.048058  0.682353    1.0    0.0     0.937774    0.0   \n...           ...        ...       ...    ...    ...          ...    ...   \n19993         0.0   0.042630  0.378471    0.0    0.0     0.995341    1.0   \n19995         0.0   0.000000  0.526000    0.0    1.0     0.994244    0.0   \n19996         0.0   0.025063  0.598000    0.0    0.0     0.995341    1.0   \n19997         0.0   0.085767  0.757882    1.0    0.0     0.995343    0.0   \n19998         0.0   0.073158  0.279412    0.0    1.0     0.995335    0.0   \n\n       Gender_0.0  Gender_1.0    ICULOS  \nid                                       \n0             1.0         0.0  0.065672  \n1             0.0         1.0  0.074627  \n2             0.0         1.0  0.110448  \n3             0.0         1.0  0.140299  \n4             0.0         1.0  0.068657  \n...           ...         ...       ...  \n19993         0.0         1.0  0.146269  \n19995         0.0         1.0  0.083582  \n19996         0.0         1.0  0.125373  \n19997         1.0         0.0  0.041791  \n19998         0.0         1.0  0.122388  \n\n[14999 rows x 42 columns]",
      "text/html": "<div>\n<style scoped>\n    .dataframe tbody tr th:only-of-type {\n        vertical-align: middle;\n    }\n\n    .dataframe tbody tr th {\n        vertical-align: top;\n    }\n\n    .dataframe thead th {\n        text-align: right;\n    }\n</style>\n<table border=\"1\" class=\"dataframe\">\n  <thead>\n    <tr style=\"text-align: right;\">\n      <th></th>\n      <th>HR</th>\n      <th>O2Sat</th>\n      <th>Temp</th>\n      <th>SBP</th>\n      <th>MAP</th>\n      <th>DBP</th>\n      <th>Resp</th>\n      <th>EtCO2</th>\n      <th>BaseExcess</th>\n      <th>HCO3</th>\n      <th>FiO2</th>\n      <th>pH</th>\n      <th>PaCO2</th>\n      <th>SaO2</th>\n      <th>AST</th>\n      <th>BUN</th>\n      <th>Alkalinephos</th>\n      <th>Calcium</th>\n      <th>Chloride</th>\n      <th>Creatinine</th>\n      <th>Bilirubin_direct</th>\n      <th>Glucose</th>\n      <th>Lactate</th>\n      <th>Magnesium</th>\n      <th>Phosphate</th>\n      <th>Potassium</th>\n      <th>Bilirubin_total</th>\n      <th>TroponinI</th>\n      <th>Hct</th>\n      <th>Hgb</th>\n      <th>PTT</th>\n      <th>WBC</th>\n      <th>Fibrinogen</th>\n      <th>Platelets</th>\n      <th>Age</th>\n      <th>Unit1</th>\n      <th>Unit2</th>\n      <th>HospAdmTime</th>\n      <th>Unit3</th>\n      <th>Gender_0.0</th>\n      <th>Gender_1.0</th>\n      <th>ICULOS</th>\n    </tr>\n    <tr>\n      <th>id</th>\n      <th></th>\n      <th></th>\n      <th></th>\n      <th></th>\n      <th></th>\n      <th></th>\n      <th></th>\n      <th></th>\n      <th></th>\n      <th></th>\n      <th></th>\n      <th></th>\n      <th></th>\n      <th></th>\n      <th></th>\n      <th></th>\n      <th></th>\n      <th></th>\n      <th></th>\n      <th></th>\n      <th></th>\n      <th></th>\n      <th></th>\n      <th></th>\n      <th></th>\n      <th></th>\n      <th></th>\n      <th></th>\n      <th></th>\n      <th></th>\n      <th></th>\n      <th></th>\n      <th></th>\n      <th></th>\n      <th></th>\n      <th></th>\n      <th></th>\n      <th></th>\n      <th></th>\n      <th></th>\n      <th></th>\n      <th></th>\n    </tr>\n  </thead>\n  <tbody>\n    <tr>\n      <th>0</th>\n      <td>0.161853</td>\n      <td>0.948382</td>\n      <td>0.435328</td>\n      <td>0.470862</td>\n      <td>0.183927</td>\n      <td>0.158683</td>\n      <td>0.159127</td>\n      <td>0.277778</td>\n      <td>0.000000</td>\n      <td>0.050509</td>\n      <td>0.000000</td>\n      <td>0.000000</td>\n      <td>0.000000</td>\n      <td>0.000000</td>\n      <td>0.000000</td>\n      <td>0.050509</td>\n      <td>0.000000</td>\n      <td>0.050509</td>\n      <td>0.050509</td>\n      <td>0.050509</td>\n      <td>0.0</td>\n      <td>0.050509</td>\n      <td>0.000000</td>\n      <td>0.050509</td>\n      <td>0.050509</td>\n      <td>0.050509</td>\n      <td>0.000000</td>\n      <td>0.0</td>\n      <td>0.050509</td>\n      <td>0.050509</td>\n      <td>0.000000</td>\n      <td>0.050509</td>\n      <td>0.0</td>\n      <td>0.050509</td>\n      <td>0.716588</td>\n      <td>0.0</td>\n      <td>1.0</td>\n      <td>0.968900</td>\n      <td>0.0</td>\n      <td>1.0</td>\n      <td>0.0</td>\n      <td>0.065672</td>\n    </tr>\n    <tr>\n      <th>1</th>\n      <td>0.439165</td>\n      <td>1.000000</td>\n      <td>0.636655</td>\n      <td>0.564638</td>\n      <td>0.398206</td>\n      <td>0.335046</td>\n      <td>0.217865</td>\n      <td>0.277778</td>\n      <td>0.117489</td>\n      <td>0.131434</td>\n      <td>0.242430</td>\n      <td>0.117489</td>\n      <td>0.117489</td>\n      <td>0.000000</td>\n      <td>0.000000</td>\n      <td>0.087623</td>\n      <td>0.000000</td>\n      <td>0.087623</td>\n      <td>0.087623</td>\n      <td>0.087623</td>\n      <td>0.0</td>\n      <td>0.205112</td>\n      <td>0.117489</td>\n      <td>0.087623</td>\n      <td>0.087623</td>\n      <td>0.087623</td>\n      <td>0.000000</td>\n      <td>0.0</td>\n      <td>0.131434</td>\n      <td>0.131434</td>\n      <td>0.087623</td>\n      <td>0.087623</td>\n      <td>0.0</td>\n      <td>0.087623</td>\n      <td>0.597529</td>\n      <td>0.0</td>\n      <td>0.0</td>\n      <td>0.995343</td>\n      <td>1.0</td>\n      <td>0.0</td>\n      <td>1.0</td>\n      <td>0.074627</td>\n    </tr>\n    <tr>\n      <th>2</th>\n      <td>0.313071</td>\n      <td>0.927166</td>\n      <td>0.497741</td>\n      <td>0.604998</td>\n      <td>0.462890</td>\n      <td>0.466228</td>\n      <td>0.202119</td>\n      <td>0.277778</td>\n      <td>0.000000</td>\n      <td>0.028665</td>\n      <td>0.085996</td>\n      <td>0.000000</td>\n      <td>0.000000</td>\n      <td>0.000000</td>\n      <td>0.028665</td>\n      <td>0.028665</td>\n      <td>0.028665</td>\n      <td>0.000000</td>\n      <td>0.028665</td>\n      <td>0.028665</td>\n      <td>0.0</td>\n      <td>0.028665</td>\n      <td>0.000000</td>\n      <td>0.028665</td>\n      <td>0.000000</td>\n      <td>0.028665</td>\n      <td>0.028665</td>\n      <td>0.0</td>\n      <td>0.028665</td>\n      <td>0.028665</td>\n      <td>0.028665</td>\n      <td>0.028665</td>\n      <td>0.0</td>\n      <td>0.028665</td>\n      <td>0.445647</td>\n      <td>1.0</td>\n      <td>0.0</td>\n      <td>0.995346</td>\n      <td>0.0</td>\n      <td>0.0</td>\n      <td>1.0</td>\n      <td>0.110448</td>\n    </tr>\n    <tr>\n      <th>3</th>\n      <td>0.233610</td>\n      <td>0.961862</td>\n      <td>0.562038</td>\n      <td>0.522588</td>\n      <td>0.423038</td>\n      <td>0.461268</td>\n      <td>0.191409</td>\n      <td>0.277778</td>\n      <td>0.000000</td>\n      <td>0.031388</td>\n      <td>0.000000</td>\n      <td>0.000000</td>\n      <td>0.000000</td>\n      <td>0.000000</td>\n      <td>0.000000</td>\n      <td>0.031388</td>\n      <td>0.000000</td>\n      <td>0.031388</td>\n      <td>0.031388</td>\n      <td>0.031388</td>\n      <td>0.0</td>\n      <td>0.075920</td>\n      <td>0.000000</td>\n      <td>0.031388</td>\n      <td>0.031388</td>\n      <td>0.031388</td>\n      <td>0.000000</td>\n      <td>0.0</td>\n      <td>0.031388</td>\n      <td>0.031388</td>\n      <td>0.031388</td>\n      <td>0.031388</td>\n      <td>0.0</td>\n      <td>0.031388</td>\n      <td>0.406118</td>\n      <td>0.0</td>\n      <td>0.0</td>\n      <td>0.995343</td>\n      <td>1.0</td>\n      <td>0.0</td>\n      <td>1.0</td>\n      <td>0.140299</td>\n    </tr>\n    <tr>\n      <th>4</th>\n      <td>0.468750</td>\n      <td>0.939373</td>\n      <td>0.536424</td>\n      <td>0.403750</td>\n      <td>0.373162</td>\n      <td>0.362324</td>\n      <td>0.201356</td>\n      <td>0.277778</td>\n      <td>0.000000</td>\n      <td>0.000000</td>\n      <td>0.000000</td>\n      <td>0.000000</td>\n      <td>0.000000</td>\n      <td>0.000000</td>\n      <td>0.000000</td>\n      <td>0.048058</td>\n      <td>0.000000</td>\n      <td>0.048058</td>\n      <td>0.000000</td>\n      <td>0.048058</td>\n      <td>0.0</td>\n      <td>0.204395</td>\n      <td>0.000000</td>\n      <td>0.096116</td>\n      <td>0.000000</td>\n      <td>0.096116</td>\n      <td>0.000000</td>\n      <td>0.0</td>\n      <td>0.048058</td>\n      <td>0.048058</td>\n      <td>0.000000</td>\n      <td>0.048058</td>\n      <td>0.0</td>\n      <td>0.048058</td>\n      <td>0.682353</td>\n      <td>1.0</td>\n      <td>0.0</td>\n      <td>0.937774</td>\n      <td>0.0</td>\n      <td>0.0</td>\n      <td>1.0</td>\n      <td>0.068657</td>\n    </tr>\n    <tr>\n      <th>...</th>\n      <td>...</td>\n      <td>...</td>\n      <td>...</td>\n      <td>...</td>\n      <td>...</td>\n      <td>...</td>\n      <td>...</td>\n      <td>...</td>\n      <td>...</td>\n      <td>...</td>\n      <td>...</td>\n      <td>...</td>\n      <td>...</td>\n      <td>...</td>\n      <td>...</td>\n      <td>...</td>\n      <td>...</td>\n      <td>...</td>\n      <td>...</td>\n      <td>...</td>\n      <td>...</td>\n      <td>...</td>\n      <td>...</td>\n      <td>...</td>\n      <td>...</td>\n      <td>...</td>\n      <td>...</td>\n      <td>...</td>\n      <td>...</td>\n      <td>...</td>\n      <td>...</td>\n      <td>...</td>\n      <td>...</td>\n      <td>...</td>\n      <td>...</td>\n      <td>...</td>\n      <td>...</td>\n      <td>...</td>\n      <td>...</td>\n      <td>...</td>\n      <td>...</td>\n      <td>...</td>\n    </tr>\n    <tr>\n      <th>19993</th>\n      <td>0.271271</td>\n      <td>0.988661</td>\n      <td>0.544126</td>\n      <td>0.385980</td>\n      <td>0.279186</td>\n      <td>0.466228</td>\n      <td>0.146347</td>\n      <td>0.411750</td>\n      <td>0.060699</td>\n      <td>0.042630</td>\n      <td>0.267571</td>\n      <td>0.103329</td>\n      <td>0.060699</td>\n      <td>0.039384</td>\n      <td>0.000000</td>\n      <td>0.042630</td>\n      <td>0.000000</td>\n      <td>0.042630</td>\n      <td>0.042630</td>\n      <td>0.042630</td>\n      <td>0.0</td>\n      <td>0.124645</td>\n      <td>0.048133</td>\n      <td>0.051379</td>\n      <td>0.051379</td>\n      <td>0.090763</td>\n      <td>0.000000</td>\n      <td>0.0</td>\n      <td>0.197339</td>\n      <td>0.103329</td>\n      <td>0.039384</td>\n      <td>0.042630</td>\n      <td>0.0</td>\n      <td>0.042630</td>\n      <td>0.378471</td>\n      <td>0.0</td>\n      <td>0.0</td>\n      <td>0.995341</td>\n      <td>1.0</td>\n      <td>0.0</td>\n      <td>1.0</td>\n      <td>0.146269</td>\n    </tr>\n    <tr>\n      <th>19995</th>\n      <td>0.530675</td>\n      <td>0.963611</td>\n      <td>0.616783</td>\n      <td>0.402349</td>\n      <td>0.385898</td>\n      <td>0.406816</td>\n      <td>0.227637</td>\n      <td>0.411750</td>\n      <td>0.077383</td>\n      <td>0.000000</td>\n      <td>0.270841</td>\n      <td>0.154766</td>\n      <td>0.077383</td>\n      <td>0.077383</td>\n      <td>0.000000</td>\n      <td>0.038692</td>\n      <td>0.000000</td>\n      <td>0.000000</td>\n      <td>0.000000</td>\n      <td>0.038692</td>\n      <td>0.0</td>\n      <td>0.154766</td>\n      <td>0.000000</td>\n      <td>0.000000</td>\n      <td>0.000000</td>\n      <td>0.000000</td>\n      <td>0.000000</td>\n      <td>0.0</td>\n      <td>0.181294</td>\n      <td>0.181294</td>\n      <td>0.000000</td>\n      <td>0.000000</td>\n      <td>0.0</td>\n      <td>0.000000</td>\n      <td>0.526000</td>\n      <td>0.0</td>\n      <td>1.0</td>\n      <td>0.994244</td>\n      <td>0.0</td>\n      <td>0.0</td>\n      <td>1.0</td>\n      <td>0.083582</td>\n    </tr>\n    <tr>\n      <th>19996</th>\n      <td>0.212803</td>\n      <td>0.983380</td>\n      <td>0.433922</td>\n      <td>0.556201</td>\n      <td>0.569145</td>\n      <td>0.596366</td>\n      <td>0.170700</td>\n      <td>0.411750</td>\n      <td>0.125314</td>\n      <td>0.050126</td>\n      <td>0.336024</td>\n      <td>0.125314</td>\n      <td>0.125314</td>\n      <td>0.000000</td>\n      <td>0.000000</td>\n      <td>0.050126</td>\n      <td>0.000000</td>\n      <td>0.050126</td>\n      <td>0.050126</td>\n      <td>0.050126</td>\n      <td>0.0</td>\n      <td>0.050126</td>\n      <td>0.025063</td>\n      <td>0.050126</td>\n      <td>0.050126</td>\n      <td>0.050126</td>\n      <td>0.000000</td>\n      <td>0.0</td>\n      <td>0.075188</td>\n      <td>0.025063</td>\n      <td>0.000000</td>\n      <td>0.025063</td>\n      <td>0.0</td>\n      <td>0.025063</td>\n      <td>0.598000</td>\n      <td>0.0</td>\n      <td>0.0</td>\n      <td>0.995341</td>\n      <td>1.0</td>\n      <td>0.0</td>\n      <td>1.0</td>\n      <td>0.125373</td>\n    </tr>\n    <tr>\n      <th>19997</th>\n      <td>0.265101</td>\n      <td>0.978218</td>\n      <td>0.590528</td>\n      <td>0.572810</td>\n      <td>0.409732</td>\n      <td>0.316105</td>\n      <td>0.197678</td>\n      <td>0.411750</td>\n      <td>0.000000</td>\n      <td>0.085767</td>\n      <td>0.000000</td>\n      <td>0.000000</td>\n      <td>0.000000</td>\n      <td>0.000000</td>\n      <td>0.000000</td>\n      <td>0.085767</td>\n      <td>0.000000</td>\n      <td>0.085767</td>\n      <td>0.085767</td>\n      <td>0.085767</td>\n      <td>0.0</td>\n      <td>0.085767</td>\n      <td>0.000000</td>\n      <td>0.085767</td>\n      <td>0.085767</td>\n      <td>0.085767</td>\n      <td>0.000000</td>\n      <td>0.0</td>\n      <td>0.085767</td>\n      <td>0.085767</td>\n      <td>0.085767</td>\n      <td>0.085767</td>\n      <td>0.0</td>\n      <td>0.085767</td>\n      <td>0.757882</td>\n      <td>1.0</td>\n      <td>0.0</td>\n      <td>0.995343</td>\n      <td>0.0</td>\n      <td>1.0</td>\n      <td>0.0</td>\n      <td>0.041791</td>\n    </tr>\n    <tr>\n      <th>19998</th>\n      <td>0.326040</td>\n      <td>0.962734</td>\n      <td>0.533005</td>\n      <td>0.469192</td>\n      <td>0.355269</td>\n      <td>0.302991</td>\n      <td>0.172023</td>\n      <td>0.411750</td>\n      <td>0.077126</td>\n      <td>0.073158</td>\n      <td>0.231379</td>\n      <td>0.098867</td>\n      <td>0.077126</td>\n      <td>0.000000</td>\n      <td>0.000000</td>\n      <td>0.073158</td>\n      <td>0.000000</td>\n      <td>0.051418</td>\n      <td>0.073158</td>\n      <td>0.073158</td>\n      <td>0.0</td>\n      <td>0.073158</td>\n      <td>0.000000</td>\n      <td>0.098867</td>\n      <td>0.025709</td>\n      <td>0.098867</td>\n      <td>0.000000</td>\n      <td>0.0</td>\n      <td>0.073158</td>\n      <td>0.073158</td>\n      <td>0.051418</td>\n      <td>0.073158</td>\n      <td>0.0</td>\n      <td>0.073158</td>\n      <td>0.279412</td>\n      <td>0.0</td>\n      <td>1.0</td>\n      <td>0.995335</td>\n      <td>0.0</td>\n      <td>0.0</td>\n      <td>1.0</td>\n      <td>0.122388</td>\n    </tr>\n  </tbody>\n</table>\n<p>14999 rows × 42 columns</p>\n</div>"
     },
     "execution_count": 36,
     "metadata": {},
     "output_type": "execute_result"
    }
   ],
   "source": [
    "X_t"
   ],
   "metadata": {
    "collapsed": false,
    "pycharm": {
     "name": "#%%\n"
    }
   }
  },
  {
   "cell_type": "markdown",
   "source": [
    "### Selecting Features"
   ],
   "metadata": {
    "collapsed": false,
    "pycharm": {
     "name": "#%% md\n"
    }
   }
  },
  {
   "cell_type": "code",
   "execution_count": 37,
   "outputs": [
    {
     "name": "stdout",
     "output_type": "stream",
     "text": [
      "Chosen numeric columns: Index(['HR', 'O2Sat', 'Temp', 'SBP', 'DBP', 'Resp', 'EtCO2', 'FiO2', 'BUN',\n",
      "       'Creatinine', 'Bilirubin_direct', 'Glucose', 'Magnesium', 'Phosphate',\n",
      "       'Hgb', 'WBC', 'Fibrinogen', 'Unit1', 'Unit2', 'Unit3', 'ICULOS'],\n",
      "      dtype='object')\n"
     ]
    }
   ],
   "source": [
    "sfs = SequentialFeatureSelector(LogisticRegression(), n_features_to_select=0.5, scoring='f1', n_jobs=-1)\n",
    "sfs = sfs.fit(X_t, y_t)\n",
    "chosen_numeric = X_t.columns[sfs.support_]\n",
    "print('Chosen numeric columns:', chosen_numeric)\n",
    "X_t = pd.DataFrame(sfs.transform(X_t), columns=chosen_numeric, index=X_t.index)"
   ],
   "metadata": {
    "collapsed": false,
    "pycharm": {
     "name": "#%%\n"
    }
   }
  },
  {
   "cell_type": "code",
   "execution_count": 38,
   "outputs": [
    {
     "data": {
      "text/plain": "0.10097431355181576"
     },
     "execution_count": 38,
     "metadata": {},
     "output_type": "execute_result"
    }
   ],
   "source": [
    "clf = LogisticRegressionCV(cv=5, random_state=0, scoring='f1', max_iter=10000).fit(X_t, y_t)\n",
    "\n",
    "clf.score(X_t, y_t)"
   ],
   "metadata": {
    "collapsed": false,
    "pycharm": {
     "name": "#%%\n"
    }
   }
  },
  {
   "cell_type": "code",
   "execution_count": null,
   "outputs": [],
   "source": [],
   "metadata": {
    "collapsed": false,
    "pycharm": {
     "name": "#%%\n"
    }
   }
  },
  {
   "cell_type": "code",
   "execution_count": 47,
   "outputs": [
    {
     "name": "stdout",
     "output_type": "stream",
     "text": [
      "          HR     O2Sat      Temp       SBP       DBP      Resp     EtCO2  \\\n",
      "id                                                                         \n",
      "0   0.161853  0.948382  0.435328  0.470862  0.158683  0.159127  0.277778   \n",
      "1   0.439165  1.000000  0.636655  0.564638  0.335046  0.217865  0.277778   \n",
      "2   0.313071  0.927166  0.497741  0.604998  0.466228  0.202119  0.277778   \n",
      "3   0.233610  0.961862  0.562038  0.522588  0.461268  0.191409  0.277778   \n",
      "4   0.468750  0.939373  0.536424  0.403750  0.362324  0.201356  0.277778   \n",
      "\n",
      "        FiO2       BUN  Creatinine  Bilirubin_direct   Glucose  Magnesium  \\\n",
      "id                                                                          \n",
      "0   0.000000  0.050509    0.050509               0.0  0.050509   0.050509   \n",
      "1   0.242430  0.087623    0.087623               0.0  0.205112   0.087623   \n",
      "2   0.085996  0.028665    0.028665               0.0  0.028665   0.028665   \n",
      "3   0.000000  0.031388    0.031388               0.0  0.075920   0.031388   \n",
      "4   0.000000  0.048058    0.048058               0.0  0.204395   0.096116   \n",
      "\n",
      "    Phosphate       Hgb       WBC  Fibrinogen  Unit1  Unit2  Unit3    ICULOS  \n",
      "id                                                                            \n",
      "0    0.050509  0.050509  0.050509         0.0    0.0    1.0    0.0  0.065672  \n",
      "1    0.087623  0.131434  0.087623         0.0    0.0    0.0    1.0  0.074627  \n",
      "2    0.000000  0.028665  0.028665         0.0    1.0    0.0    0.0  0.110448  \n",
      "3    0.031388  0.031388  0.031388         0.0    0.0    0.0    1.0  0.140299  \n",
      "4    0.000000  0.048058  0.048058         0.0    1.0    0.0    0.0  0.068657  \n"
     ]
    }
   ],
   "source": [
    "\n",
    "indexer = pd.api.indexers.FixedForwardWindowIndexer(window_size=5)\n",
    "\n",
    "for i in X_t.rolling(indexer):\n",
    "    print(i)\n",
    "    break"
   ],
   "metadata": {
    "collapsed": false,
    "pycharm": {
     "name": "#%%\n"
    }
   }
  },
  {
   "cell_type": "code",
   "execution_count": null,
   "outputs": [],
   "source": [],
   "metadata": {
    "collapsed": false,
    "pycharm": {
     "name": "#%%\n"
    }
   }
  },
  {
   "cell_type": "code",
   "execution_count": null,
   "outputs": [],
   "source": [],
   "metadata": {
    "collapsed": false,
    "pycharm": {
     "name": "#%%\n"
    }
   }
  },
  {
   "cell_type": "code",
   "execution_count": 32,
   "outputs": [
    {
     "name": "stdout",
     "output_type": "stream",
     "text": [
      "Fitting 5 folds for each of 14 candidates, totalling 70 fits\n",
      "[Pipeline] ......... (step 1 of 1) Processing estimator, total=   0.0s\n"
     ]
    },
    {
     "data": {
      "text/plain": "    mean_fit_time  std_fit_time  mean_score_time  std_score_time  \\\n0        0.206001      0.015150         0.005399        0.001960   \n1        0.171600      0.013590         0.004002        0.003520   \n2        0.011402      0.013821         0.004998        0.003033   \n3        0.337801      0.038614         0.004398        0.001743   \n4        0.033400      0.003496         0.002598        0.000491   \n5        0.005198      0.000400         0.002402        0.000490   \n6        0.005000      0.000001         0.003201        0.000400   \n7        0.005599      0.000801         0.003202        0.000401   \n8        0.003201      0.000402         0.003401        0.000798   \n9        0.003000      0.000003         0.003801        0.000399   \n10       0.004799      0.002224         0.003998        0.001788   \n11       0.005999      0.003099         0.003801        0.000980   \n12       0.005202      0.002401         0.005398        0.002414   \n13       0.003801      0.000750         0.003599        0.001018   \n\n                              param_estimator param_estimator__kernel  \\\n0                              ElasticNetCV()                     NaN   \n1                                   LassoCV()                     NaN   \n2   RidgeCV(alphas=array([ 0.1,  1. , 10. ]))                     NaN   \n3                              MLPRegressor()                     NaN   \n4                        SVR(kernel='linear')                  linear   \n5                        SVR(kernel='linear')                    poly   \n6                        SVR(kernel='linear')                     rbf   \n7                        SVR(kernel='linear')                 sigmoid   \n8                       KNeighborsRegressor()                     NaN   \n9                       KNeighborsRegressor()                     NaN   \n10                      KNeighborsRegressor()                     NaN   \n11                      KNeighborsRegressor()                     NaN   \n12                      KNeighborsRegressor()                     NaN   \n13                      KNeighborsRegressor()                     NaN   \n\n   param_estimator__n_neighbors param_estimator__weights  \\\n0                           NaN                      NaN   \n1                           NaN                      NaN   \n2                           NaN                      NaN   \n3                           NaN                      NaN   \n4                           NaN                      NaN   \n5                           NaN                      NaN   \n6                           NaN                      NaN   \n7                           NaN                      NaN   \n8                             3                  uniform   \n9                             3                 distance   \n10                            5                  uniform   \n11                            5                 distance   \n12                            7                  uniform   \n13                            7                 distance   \n\n                                               params  split0_test_score  \\\n0                       {'estimator': ElasticNetCV()}          -0.578538   \n1                            {'estimator': LassoCV()}          -0.545916   \n2   {'estimator': RidgeCV(alphas=array([ 0.1,  1. ...          -0.664350   \n3                       {'estimator': MLPRegressor()}          -0.525335   \n4   {'estimator': SVR(kernel='linear'), 'estimator...          -0.499866   \n5   {'estimator': SVR(kernel='linear'), 'estimator...          -0.580673   \n6   {'estimator': SVR(kernel='linear'), 'estimator...          -0.582752   \n7   {'estimator': SVR(kernel='linear'), 'estimator...          -0.515376   \n8   {'estimator': KNeighborsRegressor(), 'estimato...          -0.624236   \n9   {'estimator': KNeighborsRegressor(), 'estimato...          -0.618345   \n10  {'estimator': KNeighborsRegressor(), 'estimato...          -0.572498   \n11  {'estimator': KNeighborsRegressor(), 'estimato...          -0.564308   \n12  {'estimator': KNeighborsRegressor(), 'estimato...          -0.675445   \n13  {'estimator': KNeighborsRegressor(), 'estimato...          -0.660884   \n\n    split1_test_score  split2_test_score  split3_test_score  \\\n0           -0.315665          -0.274876          -0.271324   \n1           -0.322415          -0.268467          -0.262123   \n2           -0.295874          -0.255139          -0.288527   \n3           -0.447063          -0.308089          -0.379082   \n4           -0.316407          -0.239394          -0.255430   \n5           -0.451622          -0.310811          -0.445034   \n6           -0.426199          -0.266225          -0.276553   \n7           -0.439301          -0.322205          -0.397498   \n8           -0.434992          -0.296314          -0.249175   \n9           -0.431008          -0.293183          -0.244858   \n10          -0.451729          -0.278854          -0.299957   \n11          -0.448192          -0.274800          -0.290651   \n12          -0.405226          -0.244970          -0.323748   \n13          -0.405855          -0.244828          -0.313165   \n\n    split4_test_score  mean_test_score  std_test_score  rank_test_score  \n0           -0.398687        -0.367818        0.114913                3  \n1           -0.402492        -0.360283        0.105585                2  \n2           -0.386913        -0.378160        0.149613                4  \n3           -0.417340        -0.415382        0.072009               12  \n4           -0.412406        -0.344700        0.098508                1  \n5           -0.433055        -0.444239        0.085554               14  \n6           -0.379663        -0.386278        0.115492                8  \n7           -0.544528        -0.443782        0.080273               13  \n8           -0.344764        -0.389896        0.132322                9  \n9           -0.341003        -0.385679        0.131583                7  \n10          -0.316261        -0.383860        0.112095                6  \n11          -0.313733        -0.378337        0.111398                5  \n12          -0.340786        -0.398035        0.147806               11  \n13          -0.336403        -0.392227        0.143844               10  ",
      "text/html": "<div>\n<style scoped>\n    .dataframe tbody tr th:only-of-type {\n        vertical-align: middle;\n    }\n\n    .dataframe tbody tr th {\n        vertical-align: top;\n    }\n\n    .dataframe thead th {\n        text-align: right;\n    }\n</style>\n<table border=\"1\" class=\"dataframe\">\n  <thead>\n    <tr style=\"text-align: right;\">\n      <th></th>\n      <th>mean_fit_time</th>\n      <th>std_fit_time</th>\n      <th>mean_score_time</th>\n      <th>std_score_time</th>\n      <th>param_estimator</th>\n      <th>param_estimator__kernel</th>\n      <th>param_estimator__n_neighbors</th>\n      <th>param_estimator__weights</th>\n      <th>params</th>\n      <th>split0_test_score</th>\n      <th>split1_test_score</th>\n      <th>split2_test_score</th>\n      <th>split3_test_score</th>\n      <th>split4_test_score</th>\n      <th>mean_test_score</th>\n      <th>std_test_score</th>\n      <th>rank_test_score</th>\n    </tr>\n  </thead>\n  <tbody>\n    <tr>\n      <th>0</th>\n      <td>0.206001</td>\n      <td>0.015150</td>\n      <td>0.005399</td>\n      <td>0.001960</td>\n      <td>ElasticNetCV()</td>\n      <td>NaN</td>\n      <td>NaN</td>\n      <td>NaN</td>\n      <td>{'estimator': ElasticNetCV()}</td>\n      <td>-0.578538</td>\n      <td>-0.315665</td>\n      <td>-0.274876</td>\n      <td>-0.271324</td>\n      <td>-0.398687</td>\n      <td>-0.367818</td>\n      <td>0.114913</td>\n      <td>3</td>\n    </tr>\n    <tr>\n      <th>1</th>\n      <td>0.171600</td>\n      <td>0.013590</td>\n      <td>0.004002</td>\n      <td>0.003520</td>\n      <td>LassoCV()</td>\n      <td>NaN</td>\n      <td>NaN</td>\n      <td>NaN</td>\n      <td>{'estimator': LassoCV()}</td>\n      <td>-0.545916</td>\n      <td>-0.322415</td>\n      <td>-0.268467</td>\n      <td>-0.262123</td>\n      <td>-0.402492</td>\n      <td>-0.360283</td>\n      <td>0.105585</td>\n      <td>2</td>\n    </tr>\n    <tr>\n      <th>2</th>\n      <td>0.011402</td>\n      <td>0.013821</td>\n      <td>0.004998</td>\n      <td>0.003033</td>\n      <td>RidgeCV(alphas=array([ 0.1,  1. , 10. ]))</td>\n      <td>NaN</td>\n      <td>NaN</td>\n      <td>NaN</td>\n      <td>{'estimator': RidgeCV(alphas=array([ 0.1,  1. ...</td>\n      <td>-0.664350</td>\n      <td>-0.295874</td>\n      <td>-0.255139</td>\n      <td>-0.288527</td>\n      <td>-0.386913</td>\n      <td>-0.378160</td>\n      <td>0.149613</td>\n      <td>4</td>\n    </tr>\n    <tr>\n      <th>3</th>\n      <td>0.337801</td>\n      <td>0.038614</td>\n      <td>0.004398</td>\n      <td>0.001743</td>\n      <td>MLPRegressor()</td>\n      <td>NaN</td>\n      <td>NaN</td>\n      <td>NaN</td>\n      <td>{'estimator': MLPRegressor()}</td>\n      <td>-0.525335</td>\n      <td>-0.447063</td>\n      <td>-0.308089</td>\n      <td>-0.379082</td>\n      <td>-0.417340</td>\n      <td>-0.415382</td>\n      <td>0.072009</td>\n      <td>12</td>\n    </tr>\n    <tr>\n      <th>4</th>\n      <td>0.033400</td>\n      <td>0.003496</td>\n      <td>0.002598</td>\n      <td>0.000491</td>\n      <td>SVR(kernel='linear')</td>\n      <td>linear</td>\n      <td>NaN</td>\n      <td>NaN</td>\n      <td>{'estimator': SVR(kernel='linear'), 'estimator...</td>\n      <td>-0.499866</td>\n      <td>-0.316407</td>\n      <td>-0.239394</td>\n      <td>-0.255430</td>\n      <td>-0.412406</td>\n      <td>-0.344700</td>\n      <td>0.098508</td>\n      <td>1</td>\n    </tr>\n    <tr>\n      <th>5</th>\n      <td>0.005198</td>\n      <td>0.000400</td>\n      <td>0.002402</td>\n      <td>0.000490</td>\n      <td>SVR(kernel='linear')</td>\n      <td>poly</td>\n      <td>NaN</td>\n      <td>NaN</td>\n      <td>{'estimator': SVR(kernel='linear'), 'estimator...</td>\n      <td>-0.580673</td>\n      <td>-0.451622</td>\n      <td>-0.310811</td>\n      <td>-0.445034</td>\n      <td>-0.433055</td>\n      <td>-0.444239</td>\n      <td>0.085554</td>\n      <td>14</td>\n    </tr>\n    <tr>\n      <th>6</th>\n      <td>0.005000</td>\n      <td>0.000001</td>\n      <td>0.003201</td>\n      <td>0.000400</td>\n      <td>SVR(kernel='linear')</td>\n      <td>rbf</td>\n      <td>NaN</td>\n      <td>NaN</td>\n      <td>{'estimator': SVR(kernel='linear'), 'estimator...</td>\n      <td>-0.582752</td>\n      <td>-0.426199</td>\n      <td>-0.266225</td>\n      <td>-0.276553</td>\n      <td>-0.379663</td>\n      <td>-0.386278</td>\n      <td>0.115492</td>\n      <td>8</td>\n    </tr>\n    <tr>\n      <th>7</th>\n      <td>0.005599</td>\n      <td>0.000801</td>\n      <td>0.003202</td>\n      <td>0.000401</td>\n      <td>SVR(kernel='linear')</td>\n      <td>sigmoid</td>\n      <td>NaN</td>\n      <td>NaN</td>\n      <td>{'estimator': SVR(kernel='linear'), 'estimator...</td>\n      <td>-0.515376</td>\n      <td>-0.439301</td>\n      <td>-0.322205</td>\n      <td>-0.397498</td>\n      <td>-0.544528</td>\n      <td>-0.443782</td>\n      <td>0.080273</td>\n      <td>13</td>\n    </tr>\n    <tr>\n      <th>8</th>\n      <td>0.003201</td>\n      <td>0.000402</td>\n      <td>0.003401</td>\n      <td>0.000798</td>\n      <td>KNeighborsRegressor()</td>\n      <td>NaN</td>\n      <td>3</td>\n      <td>uniform</td>\n      <td>{'estimator': KNeighborsRegressor(), 'estimato...</td>\n      <td>-0.624236</td>\n      <td>-0.434992</td>\n      <td>-0.296314</td>\n      <td>-0.249175</td>\n      <td>-0.344764</td>\n      <td>-0.389896</td>\n      <td>0.132322</td>\n      <td>9</td>\n    </tr>\n    <tr>\n      <th>9</th>\n      <td>0.003000</td>\n      <td>0.000003</td>\n      <td>0.003801</td>\n      <td>0.000399</td>\n      <td>KNeighborsRegressor()</td>\n      <td>NaN</td>\n      <td>3</td>\n      <td>distance</td>\n      <td>{'estimator': KNeighborsRegressor(), 'estimato...</td>\n      <td>-0.618345</td>\n      <td>-0.431008</td>\n      <td>-0.293183</td>\n      <td>-0.244858</td>\n      <td>-0.341003</td>\n      <td>-0.385679</td>\n      <td>0.131583</td>\n      <td>7</td>\n    </tr>\n    <tr>\n      <th>10</th>\n      <td>0.004799</td>\n      <td>0.002224</td>\n      <td>0.003998</td>\n      <td>0.001788</td>\n      <td>KNeighborsRegressor()</td>\n      <td>NaN</td>\n      <td>5</td>\n      <td>uniform</td>\n      <td>{'estimator': KNeighborsRegressor(), 'estimato...</td>\n      <td>-0.572498</td>\n      <td>-0.451729</td>\n      <td>-0.278854</td>\n      <td>-0.299957</td>\n      <td>-0.316261</td>\n      <td>-0.383860</td>\n      <td>0.112095</td>\n      <td>6</td>\n    </tr>\n    <tr>\n      <th>11</th>\n      <td>0.005999</td>\n      <td>0.003099</td>\n      <td>0.003801</td>\n      <td>0.000980</td>\n      <td>KNeighborsRegressor()</td>\n      <td>NaN</td>\n      <td>5</td>\n      <td>distance</td>\n      <td>{'estimator': KNeighborsRegressor(), 'estimato...</td>\n      <td>-0.564308</td>\n      <td>-0.448192</td>\n      <td>-0.274800</td>\n      <td>-0.290651</td>\n      <td>-0.313733</td>\n      <td>-0.378337</td>\n      <td>0.111398</td>\n      <td>5</td>\n    </tr>\n    <tr>\n      <th>12</th>\n      <td>0.005202</td>\n      <td>0.002401</td>\n      <td>0.005398</td>\n      <td>0.002414</td>\n      <td>KNeighborsRegressor()</td>\n      <td>NaN</td>\n      <td>7</td>\n      <td>uniform</td>\n      <td>{'estimator': KNeighborsRegressor(), 'estimato...</td>\n      <td>-0.675445</td>\n      <td>-0.405226</td>\n      <td>-0.244970</td>\n      <td>-0.323748</td>\n      <td>-0.340786</td>\n      <td>-0.398035</td>\n      <td>0.147806</td>\n      <td>11</td>\n    </tr>\n    <tr>\n      <th>13</th>\n      <td>0.003801</td>\n      <td>0.000750</td>\n      <td>0.003599</td>\n      <td>0.001018</td>\n      <td>KNeighborsRegressor()</td>\n      <td>NaN</td>\n      <td>7</td>\n      <td>distance</td>\n      <td>{'estimator': KNeighborsRegressor(), 'estimato...</td>\n      <td>-0.660884</td>\n      <td>-0.405855</td>\n      <td>-0.244828</td>\n      <td>-0.313165</td>\n      <td>-0.336403</td>\n      <td>-0.392227</td>\n      <td>0.143844</td>\n      <td>10</td>\n    </tr>\n  </tbody>\n</table>\n</div>"
     },
     "execution_count": 32,
     "metadata": {},
     "output_type": "execute_result"
    }
   ],
   "source": [
    "model = Pipeline(\n",
    "    steps=[\n",
    "        ('estimator', ElasticNetCV())\n",
    "    ],\n",
    "    verbose=True\n",
    ")\n",
    "\n",
    "estimators = [\n",
    "    {\n",
    "        \"estimator\": [\n",
    "            ElasticNetCV(),\n",
    "            LassoCV(),\n",
    "            RidgeCV(),\n",
    "            MLPRegressor()\n",
    "        ]\n",
    "    },\n",
    "    {\n",
    "        \"estimator\": [SVR()],\n",
    "        \"estimator__kernel\": [\"linear\", \"poly\", \"rbf\", \"sigmoid\"]\n",
    "    },\n",
    "    {\n",
    "        \"estimator\": [KNeighborsRegressor()],\n",
    "        \"estimator__n_neighbors\": [3, 5, 7],\n",
    "        \"estimator__weights\": ['uniform', 'distance']\n",
    "    }\n",
    "]\n",
    "\n",
    "grid = GridSearchCV(model,\n",
    "                    param_grid=estimators,\n",
    "                    scoring='neg_mean_absolute_percentage_error',\n",
    "                    refit=True,\n",
    "                    cv=5,\n",
    "                    n_jobs=-1,\n",
    "                    verbose=10)\n",
    "\n",
    "grid.fit(X_features, y)\n",
    "pd.DataFrame(grid.cv_results_)"
   ],
   "metadata": {
    "collapsed": false,
    "pycharm": {
     "name": "#%%\n"
    }
   }
  },
  {
   "cell_type": "code",
   "execution_count": 33,
   "outputs": [],
   "source": [
    "from sklearn.model_selection import train_test_split\n",
    "import time\n",
    "\n",
    "X_train,X_test,y_train,y_test  = train_test_split(X_features, y, test_size=0.2, random_state=0)\n",
    "\n",
    "# rather than use the whole training set to estimate expected values, we summarize with\n",
    "# a set of weighted kmeans, each weighted by the number of points they represent.\n",
    "X_train_summary = shap.kmeans(X_train, 10)\n",
    "\n",
    "def print_accuracy(f):\n",
    "    print(\"Root mean squared test error = {0}\".format(np.sqrt(np.mean((f(X_test) - y_test)**2))))\n",
    "    time.sleep(0.5) # to let the print get out before any progress bars"
   ],
   "metadata": {
    "collapsed": false,
    "pycharm": {
     "name": "#%%\n"
    }
   }
  },
  {
   "cell_type": "code",
   "execution_count": 34,
   "outputs": [
    {
     "name": "stdout",
     "output_type": "stream",
     "text": [
      "Root mean squared test error = 0.8512233162752305\n"
     ]
    }
   ],
   "source": [
    "model = SVR(kernel='linear')\n",
    "model.fit(X_train, y_train)\n",
    "\n",
    "print_accuracy(model.predict)"
   ],
   "metadata": {
    "collapsed": false,
    "pycharm": {
     "name": "#%%\n"
    }
   }
  },
  {
   "cell_type": "code",
   "execution_count": 35,
   "outputs": [
    {
     "name": "stderr",
     "output_type": "stream",
     "text": [
      "X does not have valid feature names, but SVR was fitted with feature names\n",
      "X does not have valid feature names, but SVR was fitted with feature names\n",
      "X does not have valid feature names, but SVR was fitted with feature names\n",
      "The default of 'normalize' will be set to False in version 1.2 and deprecated in version 1.4.\n",
      "If you wish to scale the data, use Pipeline with a StandardScaler in a preprocessing stage. To reproduce the previous behavior:\n",
      "\n",
      "from sklearn.pipeline import make_pipeline\n",
      "\n",
      "model = make_pipeline(StandardScaler(with_mean=False), LassoLarsIC())\n",
      "\n",
      "If you wish to pass a sample_weight parameter, you need to pass it as a fit parameter to each step of the pipeline as follows:\n",
      "\n",
      "kwargs = {s[0] + '__sample_weight': sample_weight for s in model.steps}\n",
      "model.fit(X, y, **kwargs)\n",
      "\n",
      "Set parameter alpha to: original_alpha * np.sqrt(n_samples). \n"
     ]
    },
    {
     "data": {
      "text/plain": "<shap.plots._force.AdditiveForceVisualizer at 0x1d8a3b0fc40>",
      "text/html": "\n<div id='iKTNTZ4CW42CL9R2E566E'>\n<div style='color: #900; text-align: center;'>\n  <b>Visualization omitted, Javascript library not loaded!</b><br>\n  Have you run `initjs()` in this notebook? If this notebook was from another\n  user you must also trust this notebook (File -> Trust notebook). If you are viewing\n  this notebook on github the Javascript has been stripped for security. If you are using\n  JupyterLab this error is because a JupyterLab extension has not yet been written.\n</div></div>\n <script>\n   if (window.SHAP) SHAP.ReactDom.render(\n    SHAP.React.createElement(SHAP.AdditiveForceVisualizer, {\"outNames\": [\"f(x)\"], \"baseValue\": 1.5284008825152238, \"outValue\": 0.9921435416093073, \"link\": \"identity\", \"featureNames\": [\"plot_size\", \"wine_series\", \"march\", \"april\", \"may\", \"june\", \"july\", \"august\", \"september\", \"N_nitrogen\", \"N_general\", \"P_burn\", \"K_burn\", \"Mg_burn\", \"Ca_burn\", \"Na_burn\", \"B_burn\", \"chlorine\", \"iron\", \"zinc\", \"manganese\", \"copper\", \"last_four_years_mean\"], \"features\": {\"0\": {\"effect\": -0.06777247404157366, \"value\": -0.7471833070360794}, \"1\": {\"effect\": 0.032014789282876106, \"value\": -0.6543830020880207}, \"2\": {\"effect\": 0.05560078990262822, \"value\": -0.46159349327694216}, \"3\": {\"effect\": 0.10386867050831103, \"value\": -1.0929861506682659}, \"4\": {\"effect\": 0.18199530268063563, \"value\": -1.5240757820298299}, \"5\": {\"effect\": -0.17430498162123115, \"value\": -0.83074430754918}, \"6\": {\"effect\": -0.051948537183390604, \"value\": -0.6124883534205269}, \"7\": {\"effect\": -0.008217705221333253, \"value\": -0.7302358547297587}, \"8\": {\"effect\": -0.050498054697491385, \"value\": -0.5090958014198733}, \"9\": {\"effect\": -0.03971921861870315, \"value\": -0.7864482792622125}, \"10\": {\"effect\": -0.09523314394059049, \"value\": -1.6089823126100216}, \"11\": {\"effect\": 0.029810905243836595, \"value\": -1.0672760476077034}, \"12\": {\"effect\": -0.0053499020081325625, \"value\": -0.45334848051375276}, \"13\": {\"effect\": -0.0834503865094931, \"value\": -0.9916995666145361}, \"15\": {\"effect\": 0.05517058418579253, \"value\": 1.126387010958939}, \"16\": {\"effect\": 0.12080922166930093, \"value\": -1.069896198751978}, \"17\": {\"effect\": -0.030041698771975735, \"value\": -1.2175397879519287}, \"18\": {\"effect\": 0.010398843160644758, \"value\": 0.2085772618764899}, \"20\": {\"effect\": -0.013308455439380758, \"value\": -0.36584217562607535}, \"21\": {\"effect\": 0.014299603878358514, \"value\": 1.6966266872398186}, \"22\": {\"effect\": -0.5203814933650049, \"value\": -0.7419759979103228}}, \"plot_cmap\": \"RdBu\", \"labelMargin\": 20}),\n    document.getElementById('iKTNTZ4CW42CL9R2E566E')\n  );\n</script>"
     },
     "execution_count": 35,
     "metadata": {},
     "output_type": "execute_result"
    }
   ],
   "source": [
    "svm_explainer = shap.KernelExplainer(model.predict, X_train_summary)\n",
    "shap_values = svm_explainer.shap_values(X_test.iloc[0,:])\n",
    "shap.force_plot(svm_explainer.expected_value, shap_values, X_test.iloc[0,:])"
   ],
   "metadata": {
    "collapsed": false,
    "pycharm": {
     "name": "#%%\n"
    }
   }
  },
  {
   "cell_type": "code",
   "execution_count": 36,
   "outputs": [
    {
     "data": {
      "text/plain": "  0%|          | 0/40 [00:00<?, ?it/s]",
      "application/vnd.jupyter.widget-view+json": {
       "version_major": 2,
       "version_minor": 0,
       "model_id": "f93d9aa9c9b84157bad143e4e035f2aa"
      }
     },
     "metadata": {},
     "output_type": "display_data"
    },
    {
     "name": "stderr",
     "output_type": "stream",
     "text": [
      "X does not have valid feature names, but SVR was fitted with feature names\n",
      "X does not have valid feature names, but SVR was fitted with feature names\n",
      "The default of 'normalize' will be set to False in version 1.2 and deprecated in version 1.4.\n",
      "If you wish to scale the data, use Pipeline with a StandardScaler in a preprocessing stage. To reproduce the previous behavior:\n",
      "\n",
      "from sklearn.pipeline import make_pipeline\n",
      "\n",
      "model = make_pipeline(StandardScaler(with_mean=False), LassoLarsIC())\n",
      "\n",
      "If you wish to pass a sample_weight parameter, you need to pass it as a fit parameter to each step of the pipeline as follows:\n",
      "\n",
      "kwargs = {s[0] + '__sample_weight': sample_weight for s in model.steps}\n",
      "model.fit(X, y, **kwargs)\n",
      "\n",
      "Set parameter alpha to: original_alpha * np.sqrt(n_samples). \n",
      "X does not have valid feature names, but SVR was fitted with feature names\n",
      "X does not have valid feature names, but SVR was fitted with feature names\n",
      "The default of 'normalize' will be set to False in version 1.2 and deprecated in version 1.4.\n",
      "If you wish to scale the data, use Pipeline with a StandardScaler in a preprocessing stage. To reproduce the previous behavior:\n",
      "\n",
      "from sklearn.pipeline import make_pipeline\n",
      "\n",
      "model = make_pipeline(StandardScaler(with_mean=False), LassoLarsIC())\n",
      "\n",
      "If you wish to pass a sample_weight parameter, you need to pass it as a fit parameter to each step of the pipeline as follows:\n",
      "\n",
      "kwargs = {s[0] + '__sample_weight': sample_weight for s in model.steps}\n",
      "model.fit(X, y, **kwargs)\n",
      "\n",
      "Set parameter alpha to: original_alpha * np.sqrt(n_samples). \n",
      "X does not have valid feature names, but SVR was fitted with feature names\n",
      "X does not have valid feature names, but SVR was fitted with feature names\n",
      "The default of 'normalize' will be set to False in version 1.2 and deprecated in version 1.4.\n",
      "If you wish to scale the data, use Pipeline with a StandardScaler in a preprocessing stage. To reproduce the previous behavior:\n",
      "\n",
      "from sklearn.pipeline import make_pipeline\n",
      "\n",
      "model = make_pipeline(StandardScaler(with_mean=False), LassoLarsIC())\n",
      "\n",
      "If you wish to pass a sample_weight parameter, you need to pass it as a fit parameter to each step of the pipeline as follows:\n",
      "\n",
      "kwargs = {s[0] + '__sample_weight': sample_weight for s in model.steps}\n",
      "model.fit(X, y, **kwargs)\n",
      "\n",
      "Set parameter alpha to: original_alpha * np.sqrt(n_samples). \n",
      "X does not have valid feature names, but SVR was fitted with feature names\n",
      "X does not have valid feature names, but SVR was fitted with feature names\n",
      "The default of 'normalize' will be set to False in version 1.2 and deprecated in version 1.4.\n",
      "If you wish to scale the data, use Pipeline with a StandardScaler in a preprocessing stage. To reproduce the previous behavior:\n",
      "\n",
      "from sklearn.pipeline import make_pipeline\n",
      "\n",
      "model = make_pipeline(StandardScaler(with_mean=False), LassoLarsIC())\n",
      "\n",
      "If you wish to pass a sample_weight parameter, you need to pass it as a fit parameter to each step of the pipeline as follows:\n",
      "\n",
      "kwargs = {s[0] + '__sample_weight': sample_weight for s in model.steps}\n",
      "model.fit(X, y, **kwargs)\n",
      "\n",
      "Set parameter alpha to: original_alpha * np.sqrt(n_samples). \n",
      "X does not have valid feature names, but SVR was fitted with feature names\n",
      "X does not have valid feature names, but SVR was fitted with feature names\n",
      "The default of 'normalize' will be set to False in version 1.2 and deprecated in version 1.4.\n",
      "If you wish to scale the data, use Pipeline with a StandardScaler in a preprocessing stage. To reproduce the previous behavior:\n",
      "\n",
      "from sklearn.pipeline import make_pipeline\n",
      "\n",
      "model = make_pipeline(StandardScaler(with_mean=False), LassoLarsIC())\n",
      "\n",
      "If you wish to pass a sample_weight parameter, you need to pass it as a fit parameter to each step of the pipeline as follows:\n",
      "\n",
      "kwargs = {s[0] + '__sample_weight': sample_weight for s in model.steps}\n",
      "model.fit(X, y, **kwargs)\n",
      "\n",
      "Set parameter alpha to: original_alpha * np.sqrt(n_samples). \n",
      "X does not have valid feature names, but SVR was fitted with feature names\n",
      "X does not have valid feature names, but SVR was fitted with feature names\n",
      "The default of 'normalize' will be set to False in version 1.2 and deprecated in version 1.4.\n",
      "If you wish to scale the data, use Pipeline with a StandardScaler in a preprocessing stage. To reproduce the previous behavior:\n",
      "\n",
      "from sklearn.pipeline import make_pipeline\n",
      "\n",
      "model = make_pipeline(StandardScaler(with_mean=False), LassoLarsIC())\n",
      "\n",
      "If you wish to pass a sample_weight parameter, you need to pass it as a fit parameter to each step of the pipeline as follows:\n",
      "\n",
      "kwargs = {s[0] + '__sample_weight': sample_weight for s in model.steps}\n",
      "model.fit(X, y, **kwargs)\n",
      "\n",
      "Set parameter alpha to: original_alpha * np.sqrt(n_samples). \n",
      "X does not have valid feature names, but SVR was fitted with feature names\n",
      "X does not have valid feature names, but SVR was fitted with feature names\n",
      "The default of 'normalize' will be set to False in version 1.2 and deprecated in version 1.4.\n",
      "If you wish to scale the data, use Pipeline with a StandardScaler in a preprocessing stage. To reproduce the previous behavior:\n",
      "\n",
      "from sklearn.pipeline import make_pipeline\n",
      "\n",
      "model = make_pipeline(StandardScaler(with_mean=False), LassoLarsIC())\n",
      "\n",
      "If you wish to pass a sample_weight parameter, you need to pass it as a fit parameter to each step of the pipeline as follows:\n",
      "\n",
      "kwargs = {s[0] + '__sample_weight': sample_weight for s in model.steps}\n",
      "model.fit(X, y, **kwargs)\n",
      "\n",
      "Set parameter alpha to: original_alpha * np.sqrt(n_samples). \n",
      "X does not have valid feature names, but SVR was fitted with feature names\n",
      "X does not have valid feature names, but SVR was fitted with feature names\n",
      "The default of 'normalize' will be set to False in version 1.2 and deprecated in version 1.4.\n",
      "If you wish to scale the data, use Pipeline with a StandardScaler in a preprocessing stage. To reproduce the previous behavior:\n",
      "\n",
      "from sklearn.pipeline import make_pipeline\n",
      "\n",
      "model = make_pipeline(StandardScaler(with_mean=False), LassoLarsIC())\n",
      "\n",
      "If you wish to pass a sample_weight parameter, you need to pass it as a fit parameter to each step of the pipeline as follows:\n",
      "\n",
      "kwargs = {s[0] + '__sample_weight': sample_weight for s in model.steps}\n",
      "model.fit(X, y, **kwargs)\n",
      "\n",
      "Set parameter alpha to: original_alpha * np.sqrt(n_samples). \n",
      "X does not have valid feature names, but SVR was fitted with feature names\n",
      "X does not have valid feature names, but SVR was fitted with feature names\n",
      "The default of 'normalize' will be set to False in version 1.2 and deprecated in version 1.4.\n",
      "If you wish to scale the data, use Pipeline with a StandardScaler in a preprocessing stage. To reproduce the previous behavior:\n",
      "\n",
      "from sklearn.pipeline import make_pipeline\n",
      "\n",
      "model = make_pipeline(StandardScaler(with_mean=False), LassoLarsIC())\n",
      "\n",
      "If you wish to pass a sample_weight parameter, you need to pass it as a fit parameter to each step of the pipeline as follows:\n",
      "\n",
      "kwargs = {s[0] + '__sample_weight': sample_weight for s in model.steps}\n",
      "model.fit(X, y, **kwargs)\n",
      "\n",
      "Set parameter alpha to: original_alpha * np.sqrt(n_samples). \n",
      "X does not have valid feature names, but SVR was fitted with feature names\n",
      "X does not have valid feature names, but SVR was fitted with feature names\n",
      "The default of 'normalize' will be set to False in version 1.2 and deprecated in version 1.4.\n",
      "If you wish to scale the data, use Pipeline with a StandardScaler in a preprocessing stage. To reproduce the previous behavior:\n",
      "\n",
      "from sklearn.pipeline import make_pipeline\n",
      "\n",
      "model = make_pipeline(StandardScaler(with_mean=False), LassoLarsIC())\n",
      "\n",
      "If you wish to pass a sample_weight parameter, you need to pass it as a fit parameter to each step of the pipeline as follows:\n",
      "\n",
      "kwargs = {s[0] + '__sample_weight': sample_weight for s in model.steps}\n",
      "model.fit(X, y, **kwargs)\n",
      "\n",
      "Set parameter alpha to: original_alpha * np.sqrt(n_samples). \n",
      "X does not have valid feature names, but SVR was fitted with feature names\n",
      "X does not have valid feature names, but SVR was fitted with feature names\n",
      "The default of 'normalize' will be set to False in version 1.2 and deprecated in version 1.4.\n",
      "If you wish to scale the data, use Pipeline with a StandardScaler in a preprocessing stage. To reproduce the previous behavior:\n",
      "\n",
      "from sklearn.pipeline import make_pipeline\n",
      "\n",
      "model = make_pipeline(StandardScaler(with_mean=False), LassoLarsIC())\n",
      "\n",
      "If you wish to pass a sample_weight parameter, you need to pass it as a fit parameter to each step of the pipeline as follows:\n",
      "\n",
      "kwargs = {s[0] + '__sample_weight': sample_weight for s in model.steps}\n",
      "model.fit(X, y, **kwargs)\n",
      "\n",
      "Set parameter alpha to: original_alpha * np.sqrt(n_samples). \n",
      "X does not have valid feature names, but SVR was fitted with feature names\n",
      "X does not have valid feature names, but SVR was fitted with feature names\n",
      "The default of 'normalize' will be set to False in version 1.2 and deprecated in version 1.4.\n",
      "If you wish to scale the data, use Pipeline with a StandardScaler in a preprocessing stage. To reproduce the previous behavior:\n",
      "\n",
      "from sklearn.pipeline import make_pipeline\n",
      "\n",
      "model = make_pipeline(StandardScaler(with_mean=False), LassoLarsIC())\n",
      "\n",
      "If you wish to pass a sample_weight parameter, you need to pass it as a fit parameter to each step of the pipeline as follows:\n",
      "\n",
      "kwargs = {s[0] + '__sample_weight': sample_weight for s in model.steps}\n",
      "model.fit(X, y, **kwargs)\n",
      "\n",
      "Set parameter alpha to: original_alpha * np.sqrt(n_samples). \n",
      "X does not have valid feature names, but SVR was fitted with feature names\n",
      "X does not have valid feature names, but SVR was fitted with feature names\n",
      "The default of 'normalize' will be set to False in version 1.2 and deprecated in version 1.4.\n",
      "If you wish to scale the data, use Pipeline with a StandardScaler in a preprocessing stage. To reproduce the previous behavior:\n",
      "\n",
      "from sklearn.pipeline import make_pipeline\n",
      "\n",
      "model = make_pipeline(StandardScaler(with_mean=False), LassoLarsIC())\n",
      "\n",
      "If you wish to pass a sample_weight parameter, you need to pass it as a fit parameter to each step of the pipeline as follows:\n",
      "\n",
      "kwargs = {s[0] + '__sample_weight': sample_weight for s in model.steps}\n",
      "model.fit(X, y, **kwargs)\n",
      "\n",
      "Set parameter alpha to: original_alpha * np.sqrt(n_samples). \n",
      "X does not have valid feature names, but SVR was fitted with feature names\n",
      "X does not have valid feature names, but SVR was fitted with feature names\n",
      "The default of 'normalize' will be set to False in version 1.2 and deprecated in version 1.4.\n",
      "If you wish to scale the data, use Pipeline with a StandardScaler in a preprocessing stage. To reproduce the previous behavior:\n",
      "\n",
      "from sklearn.pipeline import make_pipeline\n",
      "\n",
      "model = make_pipeline(StandardScaler(with_mean=False), LassoLarsIC())\n",
      "\n",
      "If you wish to pass a sample_weight parameter, you need to pass it as a fit parameter to each step of the pipeline as follows:\n",
      "\n",
      "kwargs = {s[0] + '__sample_weight': sample_weight for s in model.steps}\n",
      "model.fit(X, y, **kwargs)\n",
      "\n",
      "Set parameter alpha to: original_alpha * np.sqrt(n_samples). \n",
      "X does not have valid feature names, but SVR was fitted with feature names\n",
      "X does not have valid feature names, but SVR was fitted with feature names\n",
      "The default of 'normalize' will be set to False in version 1.2 and deprecated in version 1.4.\n",
      "If you wish to scale the data, use Pipeline with a StandardScaler in a preprocessing stage. To reproduce the previous behavior:\n",
      "\n",
      "from sklearn.pipeline import make_pipeline\n",
      "\n",
      "model = make_pipeline(StandardScaler(with_mean=False), LassoLarsIC())\n",
      "\n",
      "If you wish to pass a sample_weight parameter, you need to pass it as a fit parameter to each step of the pipeline as follows:\n",
      "\n",
      "kwargs = {s[0] + '__sample_weight': sample_weight for s in model.steps}\n",
      "model.fit(X, y, **kwargs)\n",
      "\n",
      "Set parameter alpha to: original_alpha * np.sqrt(n_samples). \n",
      "X does not have valid feature names, but SVR was fitted with feature names\n",
      "X does not have valid feature names, but SVR was fitted with feature names\n",
      "The default of 'normalize' will be set to False in version 1.2 and deprecated in version 1.4.\n",
      "If you wish to scale the data, use Pipeline with a StandardScaler in a preprocessing stage. To reproduce the previous behavior:\n",
      "\n",
      "from sklearn.pipeline import make_pipeline\n",
      "\n",
      "model = make_pipeline(StandardScaler(with_mean=False), LassoLarsIC())\n",
      "\n",
      "If you wish to pass a sample_weight parameter, you need to pass it as a fit parameter to each step of the pipeline as follows:\n",
      "\n",
      "kwargs = {s[0] + '__sample_weight': sample_weight for s in model.steps}\n",
      "model.fit(X, y, **kwargs)\n",
      "\n",
      "Set parameter alpha to: original_alpha * np.sqrt(n_samples). \n",
      "X does not have valid feature names, but SVR was fitted with feature names\n",
      "X does not have valid feature names, but SVR was fitted with feature names\n",
      "The default of 'normalize' will be set to False in version 1.2 and deprecated in version 1.4.\n",
      "If you wish to scale the data, use Pipeline with a StandardScaler in a preprocessing stage. To reproduce the previous behavior:\n",
      "\n",
      "from sklearn.pipeline import make_pipeline\n",
      "\n",
      "model = make_pipeline(StandardScaler(with_mean=False), LassoLarsIC())\n",
      "\n",
      "If you wish to pass a sample_weight parameter, you need to pass it as a fit parameter to each step of the pipeline as follows:\n",
      "\n",
      "kwargs = {s[0] + '__sample_weight': sample_weight for s in model.steps}\n",
      "model.fit(X, y, **kwargs)\n",
      "\n",
      "Set parameter alpha to: original_alpha * np.sqrt(n_samples). \n",
      "X does not have valid feature names, but SVR was fitted with feature names\n",
      "X does not have valid feature names, but SVR was fitted with feature names\n",
      "The default of 'normalize' will be set to False in version 1.2 and deprecated in version 1.4.\n",
      "If you wish to scale the data, use Pipeline with a StandardScaler in a preprocessing stage. To reproduce the previous behavior:\n",
      "\n",
      "from sklearn.pipeline import make_pipeline\n",
      "\n",
      "model = make_pipeline(StandardScaler(with_mean=False), LassoLarsIC())\n",
      "\n",
      "If you wish to pass a sample_weight parameter, you need to pass it as a fit parameter to each step of the pipeline as follows:\n",
      "\n",
      "kwargs = {s[0] + '__sample_weight': sample_weight for s in model.steps}\n",
      "model.fit(X, y, **kwargs)\n",
      "\n",
      "Set parameter alpha to: original_alpha * np.sqrt(n_samples). \n",
      "X does not have valid feature names, but SVR was fitted with feature names\n",
      "X does not have valid feature names, but SVR was fitted with feature names\n",
      "The default of 'normalize' will be set to False in version 1.2 and deprecated in version 1.4.\n",
      "If you wish to scale the data, use Pipeline with a StandardScaler in a preprocessing stage. To reproduce the previous behavior:\n",
      "\n",
      "from sklearn.pipeline import make_pipeline\n",
      "\n",
      "model = make_pipeline(StandardScaler(with_mean=False), LassoLarsIC())\n",
      "\n",
      "If you wish to pass a sample_weight parameter, you need to pass it as a fit parameter to each step of the pipeline as follows:\n",
      "\n",
      "kwargs = {s[0] + '__sample_weight': sample_weight for s in model.steps}\n",
      "model.fit(X, y, **kwargs)\n",
      "\n",
      "Set parameter alpha to: original_alpha * np.sqrt(n_samples). \n",
      "X does not have valid feature names, but SVR was fitted with feature names\n",
      "X does not have valid feature names, but SVR was fitted with feature names\n",
      "The default of 'normalize' will be set to False in version 1.2 and deprecated in version 1.4.\n",
      "If you wish to scale the data, use Pipeline with a StandardScaler in a preprocessing stage. To reproduce the previous behavior:\n",
      "\n",
      "from sklearn.pipeline import make_pipeline\n",
      "\n",
      "model = make_pipeline(StandardScaler(with_mean=False), LassoLarsIC())\n",
      "\n",
      "If you wish to pass a sample_weight parameter, you need to pass it as a fit parameter to each step of the pipeline as follows:\n",
      "\n",
      "kwargs = {s[0] + '__sample_weight': sample_weight for s in model.steps}\n",
      "model.fit(X, y, **kwargs)\n",
      "\n",
      "Set parameter alpha to: original_alpha * np.sqrt(n_samples). \n",
      "X does not have valid feature names, but SVR was fitted with feature names\n",
      "X does not have valid feature names, but SVR was fitted with feature names\n",
      "The default of 'normalize' will be set to False in version 1.2 and deprecated in version 1.4.\n",
      "If you wish to scale the data, use Pipeline with a StandardScaler in a preprocessing stage. To reproduce the previous behavior:\n",
      "\n",
      "from sklearn.pipeline import make_pipeline\n",
      "\n",
      "model = make_pipeline(StandardScaler(with_mean=False), LassoLarsIC())\n",
      "\n",
      "If you wish to pass a sample_weight parameter, you need to pass it as a fit parameter to each step of the pipeline as follows:\n",
      "\n",
      "kwargs = {s[0] + '__sample_weight': sample_weight for s in model.steps}\n",
      "model.fit(X, y, **kwargs)\n",
      "\n",
      "Set parameter alpha to: original_alpha * np.sqrt(n_samples). \n",
      "X does not have valid feature names, but SVR was fitted with feature names\n",
      "X does not have valid feature names, but SVR was fitted with feature names\n",
      "The default of 'normalize' will be set to False in version 1.2 and deprecated in version 1.4.\n",
      "If you wish to scale the data, use Pipeline with a StandardScaler in a preprocessing stage. To reproduce the previous behavior:\n",
      "\n",
      "from sklearn.pipeline import make_pipeline\n",
      "\n",
      "model = make_pipeline(StandardScaler(with_mean=False), LassoLarsIC())\n",
      "\n",
      "If you wish to pass a sample_weight parameter, you need to pass it as a fit parameter to each step of the pipeline as follows:\n",
      "\n",
      "kwargs = {s[0] + '__sample_weight': sample_weight for s in model.steps}\n",
      "model.fit(X, y, **kwargs)\n",
      "\n",
      "Set parameter alpha to: original_alpha * np.sqrt(n_samples). \n",
      "X does not have valid feature names, but SVR was fitted with feature names\n",
      "X does not have valid feature names, but SVR was fitted with feature names\n",
      "The default of 'normalize' will be set to False in version 1.2 and deprecated in version 1.4.\n",
      "If you wish to scale the data, use Pipeline with a StandardScaler in a preprocessing stage. To reproduce the previous behavior:\n",
      "\n",
      "from sklearn.pipeline import make_pipeline\n",
      "\n",
      "model = make_pipeline(StandardScaler(with_mean=False), LassoLarsIC())\n",
      "\n",
      "If you wish to pass a sample_weight parameter, you need to pass it as a fit parameter to each step of the pipeline as follows:\n",
      "\n",
      "kwargs = {s[0] + '__sample_weight': sample_weight for s in model.steps}\n",
      "model.fit(X, y, **kwargs)\n",
      "\n",
      "Set parameter alpha to: original_alpha * np.sqrt(n_samples). \n",
      "X does not have valid feature names, but SVR was fitted with feature names\n",
      "X does not have valid feature names, but SVR was fitted with feature names\n",
      "The default of 'normalize' will be set to False in version 1.2 and deprecated in version 1.4.\n",
      "If you wish to scale the data, use Pipeline with a StandardScaler in a preprocessing stage. To reproduce the previous behavior:\n",
      "\n",
      "from sklearn.pipeline import make_pipeline\n",
      "\n",
      "model = make_pipeline(StandardScaler(with_mean=False), LassoLarsIC())\n",
      "\n",
      "If you wish to pass a sample_weight parameter, you need to pass it as a fit parameter to each step of the pipeline as follows:\n",
      "\n",
      "kwargs = {s[0] + '__sample_weight': sample_weight for s in model.steps}\n",
      "model.fit(X, y, **kwargs)\n",
      "\n",
      "Set parameter alpha to: original_alpha * np.sqrt(n_samples). \n",
      "X does not have valid feature names, but SVR was fitted with feature names\n",
      "X does not have valid feature names, but SVR was fitted with feature names\n",
      "The default of 'normalize' will be set to False in version 1.2 and deprecated in version 1.4.\n",
      "If you wish to scale the data, use Pipeline with a StandardScaler in a preprocessing stage. To reproduce the previous behavior:\n",
      "\n",
      "from sklearn.pipeline import make_pipeline\n",
      "\n",
      "model = make_pipeline(StandardScaler(with_mean=False), LassoLarsIC())\n",
      "\n",
      "If you wish to pass a sample_weight parameter, you need to pass it as a fit parameter to each step of the pipeline as follows:\n",
      "\n",
      "kwargs = {s[0] + '__sample_weight': sample_weight for s in model.steps}\n",
      "model.fit(X, y, **kwargs)\n",
      "\n",
      "Set parameter alpha to: original_alpha * np.sqrt(n_samples). \n",
      "X does not have valid feature names, but SVR was fitted with feature names\n",
      "X does not have valid feature names, but SVR was fitted with feature names\n",
      "The default of 'normalize' will be set to False in version 1.2 and deprecated in version 1.4.\n",
      "If you wish to scale the data, use Pipeline with a StandardScaler in a preprocessing stage. To reproduce the previous behavior:\n",
      "\n",
      "from sklearn.pipeline import make_pipeline\n",
      "\n",
      "model = make_pipeline(StandardScaler(with_mean=False), LassoLarsIC())\n",
      "\n",
      "If you wish to pass a sample_weight parameter, you need to pass it as a fit parameter to each step of the pipeline as follows:\n",
      "\n",
      "kwargs = {s[0] + '__sample_weight': sample_weight for s in model.steps}\n",
      "model.fit(X, y, **kwargs)\n",
      "\n",
      "Set parameter alpha to: original_alpha * np.sqrt(n_samples). \n",
      "X does not have valid feature names, but SVR was fitted with feature names\n",
      "X does not have valid feature names, but SVR was fitted with feature names\n",
      "The default of 'normalize' will be set to False in version 1.2 and deprecated in version 1.4.\n",
      "If you wish to scale the data, use Pipeline with a StandardScaler in a preprocessing stage. To reproduce the previous behavior:\n",
      "\n",
      "from sklearn.pipeline import make_pipeline\n",
      "\n",
      "model = make_pipeline(StandardScaler(with_mean=False), LassoLarsIC())\n",
      "\n",
      "If you wish to pass a sample_weight parameter, you need to pass it as a fit parameter to each step of the pipeline as follows:\n",
      "\n",
      "kwargs = {s[0] + '__sample_weight': sample_weight for s in model.steps}\n",
      "model.fit(X, y, **kwargs)\n",
      "\n",
      "Set parameter alpha to: original_alpha * np.sqrt(n_samples). \n",
      "X does not have valid feature names, but SVR was fitted with feature names\n",
      "X does not have valid feature names, but SVR was fitted with feature names\n",
      "The default of 'normalize' will be set to False in version 1.2 and deprecated in version 1.4.\n",
      "If you wish to scale the data, use Pipeline with a StandardScaler in a preprocessing stage. To reproduce the previous behavior:\n",
      "\n",
      "from sklearn.pipeline import make_pipeline\n",
      "\n",
      "model = make_pipeline(StandardScaler(with_mean=False), LassoLarsIC())\n",
      "\n",
      "If you wish to pass a sample_weight parameter, you need to pass it as a fit parameter to each step of the pipeline as follows:\n",
      "\n",
      "kwargs = {s[0] + '__sample_weight': sample_weight for s in model.steps}\n",
      "model.fit(X, y, **kwargs)\n",
      "\n",
      "Set parameter alpha to: original_alpha * np.sqrt(n_samples). \n",
      "X does not have valid feature names, but SVR was fitted with feature names\n",
      "X does not have valid feature names, but SVR was fitted with feature names\n",
      "The default of 'normalize' will be set to False in version 1.2 and deprecated in version 1.4.\n",
      "If you wish to scale the data, use Pipeline with a StandardScaler in a preprocessing stage. To reproduce the previous behavior:\n",
      "\n",
      "from sklearn.pipeline import make_pipeline\n",
      "\n",
      "model = make_pipeline(StandardScaler(with_mean=False), LassoLarsIC())\n",
      "\n",
      "If you wish to pass a sample_weight parameter, you need to pass it as a fit parameter to each step of the pipeline as follows:\n",
      "\n",
      "kwargs = {s[0] + '__sample_weight': sample_weight for s in model.steps}\n",
      "model.fit(X, y, **kwargs)\n",
      "\n",
      "Set parameter alpha to: original_alpha * np.sqrt(n_samples). \n",
      "X does not have valid feature names, but SVR was fitted with feature names\n",
      "X does not have valid feature names, but SVR was fitted with feature names\n",
      "The default of 'normalize' will be set to False in version 1.2 and deprecated in version 1.4.\n",
      "If you wish to scale the data, use Pipeline with a StandardScaler in a preprocessing stage. To reproduce the previous behavior:\n",
      "\n",
      "from sklearn.pipeline import make_pipeline\n",
      "\n",
      "model = make_pipeline(StandardScaler(with_mean=False), LassoLarsIC())\n",
      "\n",
      "If you wish to pass a sample_weight parameter, you need to pass it as a fit parameter to each step of the pipeline as follows:\n",
      "\n",
      "kwargs = {s[0] + '__sample_weight': sample_weight for s in model.steps}\n",
      "model.fit(X, y, **kwargs)\n",
      "\n",
      "Set parameter alpha to: original_alpha * np.sqrt(n_samples). \n",
      "X does not have valid feature names, but SVR was fitted with feature names\n",
      "X does not have valid feature names, but SVR was fitted with feature names\n",
      "The default of 'normalize' will be set to False in version 1.2 and deprecated in version 1.4.\n",
      "If you wish to scale the data, use Pipeline with a StandardScaler in a preprocessing stage. To reproduce the previous behavior:\n",
      "\n",
      "from sklearn.pipeline import make_pipeline\n",
      "\n",
      "model = make_pipeline(StandardScaler(with_mean=False), LassoLarsIC())\n",
      "\n",
      "If you wish to pass a sample_weight parameter, you need to pass it as a fit parameter to each step of the pipeline as follows:\n",
      "\n",
      "kwargs = {s[0] + '__sample_weight': sample_weight for s in model.steps}\n",
      "model.fit(X, y, **kwargs)\n",
      "\n",
      "Set parameter alpha to: original_alpha * np.sqrt(n_samples). \n",
      "X does not have valid feature names, but SVR was fitted with feature names\n",
      "X does not have valid feature names, but SVR was fitted with feature names\n",
      "The default of 'normalize' will be set to False in version 1.2 and deprecated in version 1.4.\n",
      "If you wish to scale the data, use Pipeline with a StandardScaler in a preprocessing stage. To reproduce the previous behavior:\n",
      "\n",
      "from sklearn.pipeline import make_pipeline\n",
      "\n",
      "model = make_pipeline(StandardScaler(with_mean=False), LassoLarsIC())\n",
      "\n",
      "If you wish to pass a sample_weight parameter, you need to pass it as a fit parameter to each step of the pipeline as follows:\n",
      "\n",
      "kwargs = {s[0] + '__sample_weight': sample_weight for s in model.steps}\n",
      "model.fit(X, y, **kwargs)\n",
      "\n",
      "Set parameter alpha to: original_alpha * np.sqrt(n_samples). \n",
      "X does not have valid feature names, but SVR was fitted with feature names\n",
      "X does not have valid feature names, but SVR was fitted with feature names\n",
      "The default of 'normalize' will be set to False in version 1.2 and deprecated in version 1.4.\n",
      "If you wish to scale the data, use Pipeline with a StandardScaler in a preprocessing stage. To reproduce the previous behavior:\n",
      "\n",
      "from sklearn.pipeline import make_pipeline\n",
      "\n",
      "model = make_pipeline(StandardScaler(with_mean=False), LassoLarsIC())\n",
      "\n",
      "If you wish to pass a sample_weight parameter, you need to pass it as a fit parameter to each step of the pipeline as follows:\n",
      "\n",
      "kwargs = {s[0] + '__sample_weight': sample_weight for s in model.steps}\n",
      "model.fit(X, y, **kwargs)\n",
      "\n",
      "Set parameter alpha to: original_alpha * np.sqrt(n_samples). \n",
      "X does not have valid feature names, but SVR was fitted with feature names\n",
      "X does not have valid feature names, but SVR was fitted with feature names\n",
      "The default of 'normalize' will be set to False in version 1.2 and deprecated in version 1.4.\n",
      "If you wish to scale the data, use Pipeline with a StandardScaler in a preprocessing stage. To reproduce the previous behavior:\n",
      "\n",
      "from sklearn.pipeline import make_pipeline\n",
      "\n",
      "model = make_pipeline(StandardScaler(with_mean=False), LassoLarsIC())\n",
      "\n",
      "If you wish to pass a sample_weight parameter, you need to pass it as a fit parameter to each step of the pipeline as follows:\n",
      "\n",
      "kwargs = {s[0] + '__sample_weight': sample_weight for s in model.steps}\n",
      "model.fit(X, y, **kwargs)\n",
      "\n",
      "Set parameter alpha to: original_alpha * np.sqrt(n_samples). \n",
      "X does not have valid feature names, but SVR was fitted with feature names\n",
      "X does not have valid feature names, but SVR was fitted with feature names\n",
      "The default of 'normalize' will be set to False in version 1.2 and deprecated in version 1.4.\n",
      "If you wish to scale the data, use Pipeline with a StandardScaler in a preprocessing stage. To reproduce the previous behavior:\n",
      "\n",
      "from sklearn.pipeline import make_pipeline\n",
      "\n",
      "model = make_pipeline(StandardScaler(with_mean=False), LassoLarsIC())\n",
      "\n",
      "If you wish to pass a sample_weight parameter, you need to pass it as a fit parameter to each step of the pipeline as follows:\n",
      "\n",
      "kwargs = {s[0] + '__sample_weight': sample_weight for s in model.steps}\n",
      "model.fit(X, y, **kwargs)\n",
      "\n",
      "Set parameter alpha to: original_alpha * np.sqrt(n_samples). \n",
      "X does not have valid feature names, but SVR was fitted with feature names\n",
      "X does not have valid feature names, but SVR was fitted with feature names\n",
      "The default of 'normalize' will be set to False in version 1.2 and deprecated in version 1.4.\n",
      "If you wish to scale the data, use Pipeline with a StandardScaler in a preprocessing stage. To reproduce the previous behavior:\n",
      "\n",
      "from sklearn.pipeline import make_pipeline\n",
      "\n",
      "model = make_pipeline(StandardScaler(with_mean=False), LassoLarsIC())\n",
      "\n",
      "If you wish to pass a sample_weight parameter, you need to pass it as a fit parameter to each step of the pipeline as follows:\n",
      "\n",
      "kwargs = {s[0] + '__sample_weight': sample_weight for s in model.steps}\n",
      "model.fit(X, y, **kwargs)\n",
      "\n",
      "Set parameter alpha to: original_alpha * np.sqrt(n_samples). \n",
      "X does not have valid feature names, but SVR was fitted with feature names\n",
      "X does not have valid feature names, but SVR was fitted with feature names\n",
      "The default of 'normalize' will be set to False in version 1.2 and deprecated in version 1.4.\n",
      "If you wish to scale the data, use Pipeline with a StandardScaler in a preprocessing stage. To reproduce the previous behavior:\n",
      "\n",
      "from sklearn.pipeline import make_pipeline\n",
      "\n",
      "model = make_pipeline(StandardScaler(with_mean=False), LassoLarsIC())\n",
      "\n",
      "If you wish to pass a sample_weight parameter, you need to pass it as a fit parameter to each step of the pipeline as follows:\n",
      "\n",
      "kwargs = {s[0] + '__sample_weight': sample_weight for s in model.steps}\n",
      "model.fit(X, y, **kwargs)\n",
      "\n",
      "Set parameter alpha to: original_alpha * np.sqrt(n_samples). \n",
      "X does not have valid feature names, but SVR was fitted with feature names\n",
      "X does not have valid feature names, but SVR was fitted with feature names\n",
      "The default of 'normalize' will be set to False in version 1.2 and deprecated in version 1.4.\n",
      "If you wish to scale the data, use Pipeline with a StandardScaler in a preprocessing stage. To reproduce the previous behavior:\n",
      "\n",
      "from sklearn.pipeline import make_pipeline\n",
      "\n",
      "model = make_pipeline(StandardScaler(with_mean=False), LassoLarsIC())\n",
      "\n",
      "If you wish to pass a sample_weight parameter, you need to pass it as a fit parameter to each step of the pipeline as follows:\n",
      "\n",
      "kwargs = {s[0] + '__sample_weight': sample_weight for s in model.steps}\n",
      "model.fit(X, y, **kwargs)\n",
      "\n",
      "Set parameter alpha to: original_alpha * np.sqrt(n_samples). \n",
      "X does not have valid feature names, but SVR was fitted with feature names\n",
      "X does not have valid feature names, but SVR was fitted with feature names\n",
      "The default of 'normalize' will be set to False in version 1.2 and deprecated in version 1.4.\n",
      "If you wish to scale the data, use Pipeline with a StandardScaler in a preprocessing stage. To reproduce the previous behavior:\n",
      "\n",
      "from sklearn.pipeline import make_pipeline\n",
      "\n",
      "model = make_pipeline(StandardScaler(with_mean=False), LassoLarsIC())\n",
      "\n",
      "If you wish to pass a sample_weight parameter, you need to pass it as a fit parameter to each step of the pipeline as follows:\n",
      "\n",
      "kwargs = {s[0] + '__sample_weight': sample_weight for s in model.steps}\n",
      "model.fit(X, y, **kwargs)\n",
      "\n",
      "Set parameter alpha to: original_alpha * np.sqrt(n_samples). \n",
      "X does not have valid feature names, but SVR was fitted with feature names\n",
      "X does not have valid feature names, but SVR was fitted with feature names\n",
      "The default of 'normalize' will be set to False in version 1.2 and deprecated in version 1.4.\n",
      "If you wish to scale the data, use Pipeline with a StandardScaler in a preprocessing stage. To reproduce the previous behavior:\n",
      "\n",
      "from sklearn.pipeline import make_pipeline\n",
      "\n",
      "model = make_pipeline(StandardScaler(with_mean=False), LassoLarsIC())\n",
      "\n",
      "If you wish to pass a sample_weight parameter, you need to pass it as a fit parameter to each step of the pipeline as follows:\n",
      "\n",
      "kwargs = {s[0] + '__sample_weight': sample_weight for s in model.steps}\n",
      "model.fit(X, y, **kwargs)\n",
      "\n",
      "Set parameter alpha to: original_alpha * np.sqrt(n_samples). \n"
     ]
    },
    {
     "data": {
      "text/plain": "<Figure size 576x684 with 2 Axes>",
      "image/png": "[encoded data removed]"
     },
     "metadata": {
      "needs_background": "light"
     },
     "output_type": "display_data"
    }
   ],
   "source": [
    "svm_shap_values = svm_explainer.shap_values(X_test)\n",
    "shap.summary_plot(svm_shap_values, X_test)"
   ],
   "metadata": {
    "collapsed": false,
    "pycharm": {
     "name": "#%%\n"
    }
   }
  },
  {
   "cell_type": "code",
   "execution_count": 37,
   "outputs": [
    {
     "data": {
      "text/plain": "<Figure size 540x360 with 2 Axes>",
      "image/png": "[encoded data removed]"
     },
     "metadata": {
      "needs_background": "light"
     },
     "output_type": "display_data"
    }
   ],
   "source": [
    "shap.dependence_plot(\"manganese\", svm_shap_values, X_test)"
   ],
   "metadata": {
    "collapsed": false,
    "pycharm": {
     "name": "#%%\n"
    }
   }
  },
  {
   "cell_type": "code",
   "execution_count": 38,
   "outputs": [
    {
     "data": {
      "text/plain": "<shap.plots._force.AdditiveForceArrayVisualizer at 0x1d8a6ce7a90>",
      "text/html": "\n<div id='iWTUMCAV4SQCETPUUA61N'>\n<div style='color: #900; text-align: center;'>\n  <b>Visualization omitted, Javascript library not loaded!</b><br>\n  Have you run `initjs()` in this notebook? If this notebook was from another\n  user you must also trust this notebook (File -> Trust notebook). If you are viewing\n  this notebook on github the Javascript has been stripped for security. If you are using\n  JupyterLab this error is because a JupyterLab extension has not yet been written.\n</div></div>\n <script>\n   if (window.SHAP) SHAP.ReactDom.render(\n    SHAP.React.createElement(SHAP.AdditiveForceArrayVisualizer, {\"outNames\": [\"f(x)\"], \"baseValue\": 1.5284008825152238, \"link\": \"identity\", \"featureNames\": [\"plot_size\", \"wine_series\", \"march\", \"april\", \"may\", \"june\", \"july\", \"august\", \"september\", \"N_nitrogen\", \"N_general\", \"P_burn\", \"K_burn\", \"Mg_burn\", \"Ca_burn\", \"Na_burn\", \"B_burn\", \"chlorine\", \"iron\", \"zinc\", \"manganese\", \"copper\", \"last_four_years_mean\"], \"explanations\": [{\"outValue\": 0.9921435416093073, \"simIndex\": 32.0, \"features\": {\"0\": {\"effect\": -0.06791432671989396, \"value\": -0.7471833070360794}, \"1\": {\"effect\": 0.032139504836830035, \"value\": -0.6543830020880207}, \"2\": {\"effect\": 0.055593676050328514, \"value\": -0.46159349327694216}, \"3\": {\"effect\": 0.10378482037889204, \"value\": -1.0929861506682659}, \"4\": {\"effect\": 0.1820534092679507, \"value\": -1.5240757820298299}, \"5\": {\"effect\": -0.17424120058287085, \"value\": -0.83074430754918}, \"6\": {\"effect\": -0.05195788364727823, \"value\": -0.6124883534205269}, \"7\": {\"effect\": -0.008198577719881207, \"value\": -0.7302358547297587}, \"8\": {\"effect\": -0.050480619452767994, \"value\": -0.5090958014198733}, \"9\": {\"effect\": -0.039711802063840895, \"value\": -0.7864482792622125}, \"10\": {\"effect\": -0.0953355367526248, \"value\": -1.6089823126100216}, \"11\": {\"effect\": 0.029876969898226212, \"value\": -1.0672760476077034}, \"12\": {\"effect\": -0.00532492247799027, \"value\": -0.45334848051375276}, \"13\": {\"effect\": -0.08339064001485823, \"value\": -0.9916995666145361}, \"14\": {\"effect\": 0.0, \"value\": -0.20197130565075813}, \"15\": {\"effect\": 0.05516055589887062, \"value\": 1.126387010958939}, \"16\": {\"effect\": 0.12071132501864744, \"value\": -1.069896198751978}, \"17\": {\"effect\": -0.03003679985789192, \"value\": -1.2175397879519287}, \"18\": {\"effect\": 0.010323560501685317, \"value\": 0.2085772618764899}, \"19\": {\"effect\": 0.0, \"value\": -0.0761001326938589}, \"20\": {\"effect\": -0.013364657717349512, \"value\": -0.36584217562607535}, \"21\": {\"effect\": 0.014510571663694186, \"value\": 1.6966266872398186}, \"22\": {\"effect\": -0.5204547674137937, \"value\": -0.7419759979103228}}}, {\"outValue\": 1.9838439665327021, \"simIndex\": 3.0, \"features\": {\"0\": {\"effect\": -0.04617118962069369, \"value\": -0.5117767303048764}, \"1\": {\"effect\": -0.014031091919613187, \"value\": 0.30765768008615896}, \"2\": {\"effect\": 0.05479134474161382, \"value\": -0.4470546506462881}, \"3\": {\"effect\": 0.018971569879334016, \"value\": -0.1793376441892958}, \"4\": {\"effect\": -0.04102930959818332, \"value\": 0.3440501105466866}, \"5\": {\"effect\": -0.024956689739579097, \"value\": -0.13390636051969534}, \"6\": {\"effect\": -0.05010545004805256, \"value\": -0.5993624806121547}, \"7\": {\"effect\": -0.004894696559560596, \"value\": -0.4841501018133872}, \"8\": {\"effect\": -0.05700740162709758, \"value\": -0.5816662685731596}, \"9\": {\"effect\": -0.029879379090199887, \"value\": -0.6237330338194277}, \"10\": {\"effect\": -0.012145962625367851, \"value\": -0.21425307241346336}, \"11\": {\"effect\": 0.02596099403104396, \"value\": -0.9106768660257073}, \"12\": {\"effect\": 0.015565537406248775, \"value\": 1.2501066361359519}, \"13\": {\"effect\": -0.0985178164466619, \"value\": -1.1772431461992792}, \"14\": {\"effect\": 0.0, \"value\": -1.6565453784494468}, \"15\": {\"effect\": 0.03954626516210097, \"value\": 0.8055211251804202}, \"16\": {\"effect\": 0.0, \"value\": -0.08328620751781347}, \"17\": {\"effect\": 0.0, \"value\": 0.2502001558689059}, \"18\": {\"effect\": -0.04824233371409206, \"value\": -0.9212701270083952}, \"19\": {\"effect\": -0.016059078357678308, \"value\": -0.7475892501585737}, \"20\": {\"effect\": -0.02165816195560616, \"value\": -0.6104627218567175}, \"21\": {\"effect\": 0.0, \"value\": -0.4389486748526893}, \"22\": {\"effect\": 0.765305934099523, \"value\": 1.1013739444081463}}}, {\"outValue\": 1.8167565217370374, \"simIndex\": 27.0, \"features\": {\"0\": {\"effect\": -0.022718791984006368, \"value\": -0.25021386727020634}, \"1\": {\"effect\": -0.060438061703088214, \"value\": 1.2696983622603386}, \"2\": {\"effect\": -0.03986600702763258, \"value\": 0.3965616929974163}, \"3\": {\"effect\": -0.11357902598113503, \"value\": 1.2412949376533244}, \"4\": {\"effect\": -0.11324099540449292, \"value\": 0.9383830412947989}, \"5\": {\"effect\": 0.2895487326414624, \"value\": 1.3500444155375237}, \"6\": {\"effect\": 0.0865476992985471, \"value\": 1.0653627990674475}, \"7\": {\"effect\": 0.0, \"value\": 0.18581836050143463}, \"8\": {\"effect\": 0.06380061945418938, \"value\": 0.6580266246671095}, \"9\": {\"effect\": 0.011899011201138641, \"value\": 0.1734073100164377}, \"10\": {\"effect\": -0.036635908319925456, \"value\": -0.6210491008041262}, \"11\": {\"effect\": 0.013189506204326367, \"value\": -0.4632506329342902}, \"12\": {\"effect\": 0.015836804738893782, \"value\": 1.3182448408019403}, \"13\": {\"effect\": -0.059724413440169134, \"value\": -0.7133841972374216}, \"14\": {\"effect\": 0.0, \"value\": -0.5730637599774255}, \"15\": {\"effect\": -0.041218793476607146, \"value\": -0.7988083037121746}, \"16\": {\"effect\": 0.034742551364734614, \"value\": -0.30649652578256814}, \"17\": {\"effect\": -0.010118718508324947, \"value\": -0.4246228068073399}, \"18\": {\"effect\": -0.0581981758245074, \"value\": -1.1025128743065447}, \"19\": {\"effect\": -0.013969136046140139, \"value\": -0.6422965778933964}, \"20\": {\"effect\": 0.06312989395963162, \"value\": 1.6298537807055793}, \"21\": {\"effect\": -0.003459907081036901, \"value\": -0.4527622282944261}, \"22\": {\"effect\": 0.2828287551559559, \"value\": 0.41008725224193665}}}, {\"outValue\": 1.5770123609733524, \"simIndex\": 16.0, \"features\": {\"0\": {\"effect\": 0.17160081206556843, \"value\": 1.8972172382444341}, \"1\": {\"effect\": -0.014080197370103381, \"value\": 0.30765768008615896}, \"2\": {\"effect\": 0.05570794432014954, \"value\": -0.46159349327694216}, \"3\": {\"effect\": 0.026846261067018554, \"value\": -0.26564108975868717}, \"4\": {\"effect\": -0.047372220822781454, \"value\": 0.3900456344169419}, \"5\": {\"effect\": 0.0433098442065894, \"value\": 0.1921438778756905}, \"6\": {\"effect\": 0.02361448133818568, \"value\": 0.30205683450280435}, \"7\": {\"effect\": 0.0035145788187092436, \"value\": 0.3508880694498695}, \"8\": {\"effect\": 0.016481332279355707, \"value\": 0.17421036348810792}, \"9\": {\"effect\": 0.037534131484920935, \"value\": 0.6507784116858425}, \"10\": {\"effect\": 0.02366746074558354, \"value\": 0.3959409701725308}, \"11\": {\"effect\": -0.017990210393627415, \"value\": 0.655314949794253}, \"12\": {\"effect\": 0.006053758618357899, \"value\": 0.4892300173657506}, \"13\": {\"effect\": -0.08216192102235378, \"value\": -0.9784464537870544}, \"14\": {\"effect\": 0.0, \"value\": 0.537504898956397}, \"15\": {\"effect\": -0.041224303823802225, \"value\": -0.7988083037121746}, \"16\": {\"effect\": 0.0026979606068275597, \"value\": -0.02213269566445675}, \"17\": {\"effect\": 0.0, \"value\": -0.002858455134686263}, \"18\": {\"effect\": -0.025245001697257463, \"value\": -0.47270514145187686}, \"19\": {\"effect\": -0.016282418749178643, \"value\": -0.7475892501585737}, \"20\": {\"effect\": 0.0048424622214217755, \"value\": 0.10581681507488128}, \"21\": {\"effect\": -0.003334999519365958, \"value\": -0.4389486748526893}, \"22\": {\"effect\": -0.11956827591608932, \"value\": -0.16719475956436716}}}, {\"outValue\": 3.4774306300815123, \"simIndex\": 1.0, \"features\": {\"0\": {\"effect\": 0.21748373563861642, \"value\": 2.396802306640654}, \"1\": {\"effect\": -0.060843765535683256, \"value\": 1.2696983622603386}, \"2\": {\"effect\": 0.05642188392304809, \"value\": -0.46159349327694216}, \"3\": {\"effect\": -0.057984504848381496, \"value\": 0.6361974715371032}, \"4\": {\"effect\": 0.0, \"value\": 0.16406608752515758}, \"5\": {\"effect\": 0.13299158933784244, \"value\": 0.6131501375393374}, \"6\": {\"effect\": 0.08242167351141336, \"value\": 1.0190576366601345}, \"7\": {\"effect\": 0.0, \"value\": 0.5913215402289432}, \"8\": {\"effect\": 0.0, \"value\": -0.011988101419862144}, \"9\": {\"effect\": -0.03528305503833801, \"value\": -0.7057298297833001}, \"10\": {\"effect\": -0.08770302226690742, \"value\": -1.4927548759269753}, \"11\": {\"effect\": 0.0, \"value\": -0.3886795940857206}, \"12\": {\"effect\": 0.0, \"value\": 0.5346554871430761}, \"13\": {\"effect\": -0.08721902524623386, \"value\": -1.0447120179244627}, \"14\": {\"effect\": 0.0, \"value\": -0.05840999120321484}, \"15\": {\"effect\": 0.0, \"value\": -0.1570765321551366}, \"16\": {\"effect\": 0.06510444461193701, \"value\": -0.5674181763568922}, \"17\": {\"effect\": 0.0, \"value\": 0.41890589653796756}, \"18\": {\"effect\": -0.047775052521132844, \"value\": -0.9121863616306837}, \"19\": {\"effect\": 0.03706563246229527, \"value\": 1.6582489783910412}, \"20\": {\"effect\": 0.0, \"value\": 0.08160957352080725}, \"21\": {\"effect\": 0.0, \"value\": -0.39750801452747897}, \"22\": {\"effect\": 1.7343492135378127, \"value\": 2.4915221947008632}}}, {\"outValue\": 0.8051555261305228, \"simIndex\": 31.0, \"features\": {\"0\": {\"effect\": -0.0624306942203899, \"value\": -0.6875469742641745}, \"1\": {\"effect\": 0.0784924485053757, \"value\": -1.6164236842622004}, \"2\": {\"effect\": 0.05563686077474789, \"value\": -0.46159349327694216}, \"3\": {\"effect\": 0.05559537375138606, \"value\": -0.5738676810779421}, \"4\": {\"effect\": 0.11416628340789547, \"value\": -0.9579770267036126}, \"5\": {\"effect\": -0.19953885503251928, \"value\": -0.9492541624861672}, \"6\": {\"effect\": -0.08488896253876266, \"value\": -1.0135566892318988}, \"7\": {\"effect\": -0.012048655596451241, \"value\": -1.0762939447684063}, \"8\": {\"effect\": -0.08149238235916062, \"value\": -0.8246195716515529}, \"9\": {\"effect\": -0.05027772597461547, \"value\": -0.9841354321149788}, \"10\": {\"effect\": 0.05629070195724045, \"value\": 0.9480212944170017}, \"11\": {\"effect\": 0.0, \"value\": 0.05874663900569657}, \"12\": {\"effect\": -0.017663622056982187, \"value\": -1.4981342853922381}, \"13\": {\"effect\": 0.040469548284370584, \"value\": 0.4793959572359264}, \"14\": {\"effect\": 0.0, \"value\": 0.2124604134147902}, \"15\": {\"effect\": -0.07351074038111455, \"value\": -1.4405400752692124}, \"16\": {\"effect\": 0.0, \"value\": -0.02213269566445675}, \"17\": {\"effect\": 0.10160921127245633, \"value\": 4.0460793209227885}, \"18\": {\"effect\": -0.038475459703430165, \"value\": -0.7227249694669855}, \"19\": {\"effect\": 0.015978319559605353, \"value\": 0.7311436880058333}, \"20\": {\"effect\": -0.02247152066093145, \"value\": -0.6104627218567175}, \"21\": {\"effect\": 0.0, \"value\": -0.3567580318743554}, \"22\": {\"effect\": -0.5986854853734214, \"value\": -0.8540102174689599}}}, {\"outValue\": 0.9623344944717349, \"simIndex\": 37.0, \"features\": {\"0\": {\"effect\": -0.04710340260889634, \"value\": -0.5170079875655698}, \"1\": {\"effect\": 0.0323387048854753, \"value\": -0.6543830020880207}, \"2\": {\"effect\": 0.05581326813545076, \"value\": -0.46159349327694216}, \"3\": {\"effect\": 0.06163026156653495, \"value\": -0.6387574897767325}, \"4\": {\"effect\": 0.02068599345205896, \"value\": -0.17959123813006414}, \"5\": {\"effect\": -0.06722311407268604, \"value\": -0.32707742406698453}, \"6\": {\"effect\": -0.0789768714903166, \"value\": -0.9406351736298312}, \"7\": {\"effect\": -0.00897895391146128, \"value\": -0.8071376525161249}, \"8\": {\"effect\": -0.027132318097376956, \"value\": -0.2724529737461136}, \"9\": {\"effect\": 0.05153908162531744, \"value\": 0.9139351666612109}, \"10\": {\"effect\": 0.12001193240614227, \"value\": 2.023125083735182}, \"11\": {\"effect\": -0.015735293855295318, \"value\": 0.5807439109456833}, \"12\": {\"effect\": -0.016772875320333794, \"value\": -1.4299960807262502}, \"13\": {\"effect\": 0.16372883975980088, \"value\": 1.9372383682589072}, \"14\": {\"effect\": 0.0, \"value\": 1.0521586677306072}, \"15\": {\"effect\": -0.041167353614080665, \"value\": -0.7988083037121746}, \"16\": {\"effect\": 0.04985236974491042, \"value\": -0.4400150266623978}, \"17\": {\"effect\": 0.0, \"value\": 0.08149441519984454}, \"18\": {\"effect\": 0.013455895945219176, \"value\": 0.26437753491100374}, \"19\": {\"effect\": 0.00962524790021882, \"value\": 0.43380777701800566}, \"20\": {\"effect\": -0.041328794313912356, \"value\": -1.1022519450079042}, \"21\": {\"effect\": 0.0, \"value\": -0.3691902299719185}, \"22\": {\"effect\": -0.8003290061802585, \"value\": -1.1439724943856844}}}, {\"outValue\": 1.6392691284882188, \"simIndex\": 19.0, \"features\": {\"0\": {\"effect\": 0.060114490575625984, \"value\": 0.6652561533511386}, \"1\": {\"effect\": -0.014088553332894452, \"value\": 0.30765768008615896}, \"2\": {\"effect\": -0.2074769794453044, \"value\": 1.9009684342043496}, \"3\": {\"effect\": -0.15723412551624055, \"value\": 1.7083717806672185}, \"4\": {\"effect\": -0.0331317864475624, \"value\": 0.2702449853210311}, \"5\": {\"effect\": 0.04908706606188222, \"value\": 0.21934188958372905}, \"6\": {\"effect\": 0.03009697753328247, \"value\": 0.3818329725714664}, \"7\": {\"effect\": 0.019262528632943955, \"value\": 1.8558562521290551}, \"8\": {\"effect\": 0.12480858070141848, \"value\": 1.2826453683119983}, \"9\": {\"effect\": 0.20245775617551795, \"value\": 3.730041162565211}, \"10\": {\"effect\": 0.11483636024864312, \"value\": 1.9359545062228973}, \"11\": {\"effect\": -0.0074521908898210615, \"value\": 0.28245975555140496}, \"12\": {\"effect\": 0.023081425908918263, \"value\": 1.9428450502401655}, \"13\": {\"effect\": 0.01811958957730414, \"value\": 0.21433370068629398}, \"14\": {\"effect\": 0.0, \"value\": -0.6001508004392261}, \"15\": {\"effect\": -0.04127050184176691, \"value\": -0.7988083037121746}, \"16\": {\"effect\": -0.3015933683889856, \"value\": 2.6716795014759334}, \"17\": {\"effect\": 0.0, \"value\": 0.08149441519984454}, \"18\": {\"effect\": -0.02532065769687561, \"value\": -0.4744353824762028}, \"19\": {\"effect\": -0.008389353530076027, \"value\": -0.3807204423918557}, \"20\": {\"effect\": 0.02836149433340597, \"value\": 0.7227192551002816}, \"21\": {\"effect\": 0.0, \"value\": -0.35744870954644226}, \"22\": {\"effect\": 0.23659949331357943, \"value\": 0.3439207377617594}}}, {\"outValue\": 1.3454466833845529, \"simIndex\": 7.0, \"features\": {\"0\": {\"effect\": -0.06461017815907823, \"value\": -0.7110876319372949}, \"1\": {\"effect\": -0.014229826585724525, \"value\": 0.30765768008615896}, \"2\": {\"effect\": 0.055604336238920526, \"value\": -0.46159349327694216}, \"3\": {\"effect\": 0.10391176842243353, \"value\": -1.0929861506682659}, \"4\": {\"effect\": 0.18209515639088858, \"value\": -1.5240757820298299}, \"5\": {\"effect\": -0.30017076555033606, \"value\": -1.423293582234116}, \"6\": {\"effect\": -0.1333663617125359, \"value\": -1.59692881404844}, \"7\": {\"effect\": -0.018484300216678018, \"value\": -1.6915083270593356}, \"8\": {\"effect\": -0.1430692301709517, \"value\": -1.455667112114912}, \"9\": {\"effect\": 0.004045171753329219, \"value\": 0.028041052583826248}, \"10\": {\"effect\": -0.017850907780222053, \"value\": -0.3014236499257483}, \"11\": {\"effect\": 0.031686035238746524, \"value\": -1.1343899825714157}, \"12\": {\"effect\": 0.010963296438913195, \"value\": 0.9207719802503423}, \"13\": {\"effect\": -0.07105033197347449, \"value\": -0.8459153255122378}, \"14\": {\"effect\": 0.0, \"value\": -1.1689786501370374}, \"15\": {\"effect\": 0.13560218349855985, \"value\": 2.730716439851534}, \"16\": {\"effect\": -0.047414617364461176, \"value\": 0.4202110400748281}, \"17\": {\"effect\": 0.021372560805593577, \"value\": 0.8406702482106212}, \"18\": {\"effect\": -0.05154159293456284, \"value\": -0.9736099179942569}, \"19\": {\"effect\": -0.018767434443260372, \"value\": -0.8548685766174335}, \"20\": {\"effect\": -0.020740425194538198, \"value\": -0.5607741734036185}, \"21\": {\"effect\": -0.004487421011425796, \"value\": -0.5632706558283205}, \"22\": {\"effect\": 0.17754868517919337, \"value\": 0.25902104676666177}}}, {\"outValue\": 1.529904280470841, \"simIndex\": 36.0, \"features\": {\"0\": {\"effect\": -0.05580451215473187, \"value\": -0.6164018755187444}, \"1\": {\"effect\": -0.01423017254480094, \"value\": 0.30765768008615896}, \"2\": {\"effect\": 0.055808009204641074, \"value\": -0.46159349327694216}, \"3\": {\"effect\": 0.10377691962210955, \"value\": -1.0929861506682659}, \"4\": {\"effect\": 0.13973958097320519, \"value\": -1.1702640599509442}, \"5\": {\"effect\": -0.17418876985219817, \"value\": -0.83074430754918}, \"6\": {\"effect\": -0.04912306148383225, \"value\": -0.576027595619493}, \"7\": {\"effect\": -0.006891840980712993, \"value\": -0.6148831580502095}, \"8\": {\"effect\": -0.03510799392918523, \"value\": -0.3513339163040335}, \"9\": {\"effect\": 0.16981964155381463, \"value\": 3.122461340356294}, \"10\": {\"effect\": 0.11300241933124644, \"value\": 1.9068976470521357}, \"11\": {\"effect\": 0.012049421080740863, \"value\": -0.4259651135100054}, \"12\": {\"effect\": 0.0, \"value\": -0.1932876660385644}, \"13\": {\"effect\": -0.020629458099401227, \"value\": -0.249525248275564}, \"14\": {\"effect\": 0.0, \"value\": 0.9438105058834049}, \"15\": {\"effect\": 0.016595667779269796, \"value\": 0.3563088850904937}, \"16\": {\"effect\": 0.07240477094640624, \"value\": -0.639783165383365}, \"17\": {\"effect\": -0.020805137773353688, \"value\": -0.8463871584799937}, \"18\": {\"effect\": 0.06659143993373548, \"value\": 1.2817592572146983}, \"19\": {\"effect\": 0.0, \"value\": -0.09066893011419781}, \"20\": {\"effect\": -0.004304960087496645, \"value\": -0.13115933908605312}, \"21\": {\"effect\": 0.0, \"value\": 0.22064850199024252}, \"22\": {\"effect\": -0.36719856556383906, \"value\": -0.522270243371584}}}, {\"outValue\": 1.0756142081087354, \"simIndex\": 40.0, \"features\": {\"0\": {\"effect\": 0.1581804030050131, \"value\": 1.7455107776843255}, \"1\": {\"effect\": -0.014090212493289567, \"value\": 0.30765768008615896}, \"2\": {\"effect\": 0.055591939717602734, \"value\": -0.46159349327694216}, \"3\": {\"effect\": -0.06550870999522033, \"value\": 0.7239284928978679}, \"4\": {\"effect\": -0.2252559424480467, \"value\": 1.8725167499274729}, \"5\": {\"effect\": 0.17877768780282838, \"value\": 0.8283936615686405}, \"6\": {\"effect\": 0.0717873396013955, \"value\": 0.8824027164218596}, \"7\": {\"effect\": 0.0, \"value\": 0.6155456065316487}, \"8\": {\"effect\": -0.007884765129464871, \"value\": -0.07525061735131387}, \"9\": {\"effect\": 0.05615038275248521, \"value\": 0.9983973451317922}, \"10\": {\"effect\": 0.07729953073440315, \"value\": 1.2967036044661415}, \"11\": {\"effect\": -0.013650239269884124, \"value\": 0.5061728720971137}, \"12\": {\"effect\": 0.0, \"value\": -0.11265745718381202}, \"13\": {\"effect\": 0.19172044866869126, \"value\": 2.2685661889459485}, \"14\": {\"effect\": 0.0, \"value\": 1.079245708192407}, \"15\": {\"effect\": -0.05740901117505748, \"value\": -1.1196741894906934}, \"16\": {\"effect\": 0.03306443660297134, \"value\": -0.2912081478192282}, \"17\": {\"effect\": 0.0, \"value\": -0.08721132546921707}, \"18\": {\"effect\": -0.01443553588241231, \"value\": -0.27632278519087466}, \"19\": {\"effect\": -0.01770814197159687, \"value\": -0.8290420720995598}, \"20\": {\"effect\": -0.026555232786502292, \"value\": -0.7284411727992043}, \"21\": {\"effect\": 0.0, \"value\": -0.20619029935942443}, \"22\": {\"effect\": -0.8328610521404045, \"value\": -1.19031471114255}}}, {\"outValue\": 0.901153665831345, \"simIndex\": 39.0, \"features\": {\"0\": {\"effect\": 0.15771274270087993, \"value\": 1.7455107776843255}, \"1\": {\"effect\": -0.014168472933887483, \"value\": 0.30765768008615896}, \"2\": {\"effect\": 0.05586762709523875, \"value\": -0.46159349327694216}, \"3\": {\"effect\": -0.0658730328133602, \"value\": 0.7239284928978679}, \"4\": {\"effect\": -0.2253172964487662, \"value\": 1.8725167499274729}, \"5\": {\"effect\": 0.1783569964215219, \"value\": 0.8283936615686405}, \"6\": {\"effect\": 0.07146264478187532, \"value\": 0.8824027164218596}, \"7\": {\"effect\": 0.0, \"value\": 0.6155456065316487}, \"8\": {\"effect\": -0.008100699106344533, \"value\": -0.07525061735131387}, \"9\": {\"effect\": 0.0356658976548688, \"value\": 0.6099626346303293}, \"10\": {\"effect\": 0.04625220870594411, \"value\": 0.7736801393924324}, \"11\": {\"effect\": -0.018063502650769336, \"value\": 0.655314949794253}, \"12\": {\"effect\": 0.0, \"value\": -0.4079230107364273}, \"13\": {\"effect\": 0.04650423942603715, \"value\": 0.5456615213733347}, \"14\": {\"effect\": 0.0, \"value\": 0.6458530608035993}, \"15\": {\"effect\": -0.05748342619403328, \"value\": -1.1196741894906934}, \"16\": {\"effect\": 0.02397454349850689, \"value\": -0.21170858240986434}, \"17\": {\"effect\": 0.018869627308596315, \"value\": 0.7563173778760903}, \"18\": {\"effect\": 0.0, \"value\": 0.007004182542509788}, \"19\": {\"effect\": -0.019990737789028767, \"value\": -0.9409569250103454}, \"20\": {\"effect\": -0.01971482701654645, \"value\": -0.546249828471174}, \"21\": {\"effect\": 0.0, \"value\": -0.28561823164941097}, \"22\": {\"effect\": -0.8332017493246117, \"value\": -1.19031471114255}}}, {\"outValue\": 1.2211850950117924, \"simIndex\": 9.0, \"features\": {\"0\": {\"effect\": -0.04644206058433871, \"value\": -0.5117767303048764}, \"1\": {\"effect\": 0.07855778296774302, \"value\": -1.6164236842622004}, \"2\": {\"effect\": 0.055744787333044235, \"value\": -0.46159349327694216}, \"3\": {\"effect\": 0.1039792316052003, \"value\": -1.0929861506682659}, \"4\": {\"effect\": 0.1821723585043714, \"value\": -1.5240757820298299}, \"5\": {\"effect\": -0.3000789898186845, \"value\": -1.423293582234116}, \"6\": {\"effect\": -0.13308258163006126, \"value\": -1.59692881404844}, \"7\": {\"effect\": -0.011709678344959229, \"value\": -1.0762939447684063}, \"8\": {\"effect\": -0.08127092906495158, \"value\": -0.8246195716515529}, \"9\": {\"effect\": -0.05065749874412648, \"value\": -0.9949100667739286}, \"10\": {\"effect\": -0.034841869192407254, \"value\": -0.5919922416333646}, \"11\": {\"effect\": -0.0324858273889832, \"value\": 1.1773122217342393}, \"12\": {\"effect\": -0.00933449762771621, \"value\": -0.8053958712880251}, \"13\": {\"effect\": 0.0071701691031321735, \"value\": 0.08180257241147743}, \"14\": {\"effect\": 0.0, \"value\": 0.9167234654216049}, \"15\": {\"effect\": -0.04124526757279276, \"value\": -0.7988083037121746}, \"16\": {\"effect\": 0.043662768322646726, \"value\": -0.38497686599437625}, \"17\": {\"effect\": -0.012212415539489346, \"value\": -0.5089756771418706}, \"18\": {\"effect\": 0.10270192732179283, \"value\": 1.9703951848964505}, \"19\": {\"effect\": 0.012388848278678033, \"value\": 0.5616158634782522}, \"20\": {\"effect\": -0.020396576622428608, \"value\": -0.5538942205408816}, \"21\": {\"effect\": -0.004695085503436919, \"value\": -0.6040206384814439}, \"22\": {\"effect\": -0.11514038330566415, \"value\": -0.16078810893660986}}}, {\"outValue\": 1.384803300463028, \"simIndex\": 10.0, \"features\": {\"0\": {\"effect\": -0.0938617091852482, \"value\": -1.0349024563742164}, \"1\": {\"effect\": 0.07846555866375768, \"value\": -1.6164236842622004}, \"2\": {\"effect\": 0.05567246648991054, \"value\": -0.46159349327694216}, \"3\": {\"effect\": 0.1039041446567299, \"value\": -1.0929861506682659}, \"4\": {\"effect\": 0.18214250624361067, \"value\": -1.5240757820298299}, \"5\": {\"effect\": -0.19938058902466851, \"value\": -0.9492541624861672}, \"6\": {\"effect\": -0.07295911437740535, \"value\": -0.8677136580277636}, \"7\": {\"effect\": -0.008504319215433126, \"value\": -0.7686867536229418}, \"8\": {\"effect\": -0.05046956996751317, \"value\": -0.5090958014198733}, \"9\": {\"effect\": -0.05043056285659908, \"value\": -0.9885183343491277}, \"10\": {\"effect\": -0.024603065700308353, \"value\": -0.41765108660879496}, \"11\": {\"effect\": 0.023458025432503922, \"value\": -0.8361058271771378}, \"12\": {\"effect\": -0.01533663452192067, \"value\": -1.3050760388386051}, \"13\": {\"effect\": -0.043113928619398514, \"value\": -0.5145875048251968}, \"14\": {\"effect\": 0.0, \"value\": -0.19384519351221766}, \"15\": {\"effect\": -0.057369540060803734, \"value\": -1.1196741894906934}, \"16\": {\"effect\": 0.12700466753295978, \"value\": -1.1239151342224436}, \"17\": {\"effect\": -0.020715904878525104, \"value\": -0.8463871584799937}, \"18\": {\"effect\": 0.030998929915675596, \"value\": 0.601774534654576}, \"19\": {\"effect\": 0.041096916385812615, \"value\": 1.8734698493733213}, \"20\": {\"effect\": -0.026948754965864102, \"value\": -0.7235997244883894}, \"21\": {\"effect\": -0.0045501318506292205, \"value\": -0.5770842092700572}, \"22\": {\"effect\": -0.11809697214883934, \"value\": -0.16498742615480394}}}, {\"outValue\": 1.4239007475548906, \"simIndex\": 21.0, \"features\": {\"0\": {\"effect\": -0.03230851315074827, \"value\": -0.35483901248407435}, \"1\": {\"effect\": -0.014179896344213988, \"value\": 0.30765768008615896}, \"2\": {\"effect\": 0.05567653522101564, \"value\": -0.46159349327694216}, \"3\": {\"effect\": 0.0035469486351357715, \"value\": -0.01646422435533166}, \"4\": {\"effect\": -0.04329835633505584, \"value\": 0.3551951797921717}, \"5\": {\"effect\": 0.13704146623068342, \"value\": 0.633148675559954}, \"6\": {\"effect\": -0.0646540913451184, \"value\": -0.7673007310437164}, \"7\": {\"effect\": -0.006355886278630721, \"value\": -0.5669733380293035}, \"8\": {\"effect\": -0.10515749593411719, \"value\": -1.067730636615062}, \"9\": {\"effect\": 0.016002908842016855, \"value\": 0.2507472723565269}, \"10\": {\"effect\": -0.003946218955244718, \"value\": -0.06896877655965507}, \"11\": {\"effect\": -0.04713194721762318, \"value\": 1.6993094936742263}, \"12\": {\"effect\": 0.002132209873214927, \"value\": 0.1712517289244721}, \"13\": {\"effect\": 0.0015644526882773457, \"value\": 0.015537008274069135}, \"14\": {\"effect\": 0.0, \"value\": -0.27510631489761933}, \"15\": {\"effect\": 0.006972602200467512, \"value\": 0.16378935362338218}, \"16\": {\"effect\": -0.10230567315927135, \"value\": 0.9074006845065747}, \"17\": {\"effect\": 0.02562016760177735, \"value\": 1.0093759888796827}, \"18\": {\"effect\": -0.040219432831478275, \"value\": -0.7581949104656686}, \"19\": {\"effect\": 0.005000497168835591, \"value\": 0.22653352281045544}, \"20\": {\"effect\": 0.051346633655354336, \"value\": 1.3220395933653548}, \"21\": {\"effect\": -0.0035285465785834524, \"value\": -0.453452905966513}, \"22\": {\"effect\": 0.05368150105297348, \"value\": 0.0813991991912734}}}, {\"outValue\": 1.7410479681110798, \"simIndex\": 23.0, \"features\": {\"0\": {\"effect\": -0.03706433445235695, \"value\": -0.40715158509100835}, \"1\": {\"effect\": 0.03212732188656407, \"value\": -0.6543830020880207}, \"2\": {\"effect\": 0.05567611653045181, \"value\": -0.46159349327694216}, \"3\": {\"effect\": -0.06983108795431597, \"value\": 0.7709087143957922}, \"4\": {\"effect\": -0.07253280314696772, \"value\": 0.5987945504434844}, \"5\": {\"effect\": 0.13440415297105276, \"value\": 0.621001415428913}, \"6\": {\"effect\": 0.03510244317675075, \"value\": 0.44235783052118244}, \"7\": {\"effect\": 0.004559037753884006, \"value\": 0.4617420109589164}, \"8\": {\"effect\": 0.0266977832192822, \"value\": 0.27971362415932566}, \"9\": {\"effect\": 0.08326353465382715, \"value\": 1.5058095891977605}, \"10\": {\"effect\": 0.0476544684608618, \"value\": 0.8027369985631934}, \"11\": {\"effect\": -0.04507263158101637, \"value\": 1.624738454825657}, \"12\": {\"effect\": 0.0, \"value\": -0.10130108973948039}, \"13\": {\"effect\": 0.11884519289753176, \"value\": 1.4071138551596416}, \"14\": {\"effect\": 0.0, \"value\": -0.004235910279613714}, \"15\": {\"effect\": -0.041323206326719875, \"value\": -0.7988083037121746}, \"16\": {\"effect\": -0.14788311376567115, \"value\": 1.311013862738733}, \"17\": {\"effect\": -0.006018631318459054, \"value\": -0.25591706613827847}, \"18\": {\"effect\": -0.04117848870189446, \"value\": -0.7759298809650101}, \"19\": {\"effect\": -0.008359277434952874, \"value\": -0.3807204423918557}, \"20\": {\"effect\": 0.04774450218766334, \"value\": 1.2295424493218932}, \"21\": {\"effect\": -0.0031093725424111707, \"value\": -0.3981986921995658}, \"22\": {\"effect\": 0.09894547908275195, \"value\": 0.14643999418820458}}}, {\"outValue\": 1.9517220279861311, \"simIndex\": 6.0, \"features\": {\"0\": {\"effect\": 0.0267254154053565, \"value\": 0.2982834565134966}, \"1\": {\"effect\": -0.06055022814248312, \"value\": 1.2696983622603386}, \"2\": {\"effect\": -0.42673302957168585, \"value\": 3.866256486803018}, \"3\": {\"effect\": -0.17361976783721186, \"value\": 1.8823413577886756}, \"4\": {\"effect\": -0.1591729506012836, \"value\": 1.3195090283181747}, \"5\": {\"effect\": 0.18221721158069293, \"value\": 0.8470589637212158}, \"6\": {\"effect\": 0.15276427147233784, \"value\": 1.869541273127049}, \"7\": {\"effect\": 0.018778388393217993, \"value\": 1.809676722558342}, \"8\": {\"effect\": 0.19416682957391854, \"value\": 1.9924555299194404}, \"9\": {\"effect\": -0.044134220309487826, \"value\": -0.8687190066157193}, \"10\": {\"effect\": -0.03841908280369756, \"value\": -0.6501059599748878}, \"11\": {\"effect\": 0.021193913634645428, \"value\": -0.7615347883285681}, \"12\": {\"effect\": 0.016562037291532494, \"value\": 1.409095780356591}, \"13\": {\"effect\": -0.06559918206638735, \"value\": -0.7796497613748299}, \"14\": {\"effect\": 0.0, \"value\": -0.6001508004392261}, \"15\": {\"effect\": 0.03902992913549114, \"value\": 0.8055211251804202}, \"16\": {\"effect\": -0.07523128581470417, \"value\": 0.6668635378833694}, \"17\": {\"effect\": 0.01698119450282673, \"value\": 0.6719645075415596}, \"18\": {\"effect\": -0.02829547093668186, \"value\": -0.5250449324377388}, \"19\": {\"effect\": 0.009414283480553592, \"value\": 0.43910552153449245}, \"20\": {\"effect\": 0.0050867842907585115, \"value\": 0.11524489862752073}, \"21\": {\"effect\": 0.0, \"value\": -0.42582579908303936}, \"22\": {\"effect\": 0.8121561047931989, \"value\": 1.1697472414054761}}}, {\"outValue\": 1.1590552678362989, \"simIndex\": 29.0, \"features\": {\"0\": {\"effect\": -0.04082383310113019, \"value\": -0.4513557089438676}, \"1\": {\"effect\": -0.014103874353744512, \"value\": 0.30765768008615896}, \"2\": {\"effect\": -0.03767240506201431, \"value\": 0.3816593793009957}, \"3\": {\"effect\": 0.06542665592174682, \"value\": -0.6776913749960067}, \"4\": {\"effect\": 0.0, \"value\": -0.012592105308830122}, \"5\": {\"effect\": -0.020085448309787222, \"value\": -0.10664909388418845}, \"6\": {\"effect\": 0.030794442550518435, \"value\": 0.3850779800157584}, \"7\": {\"effect\": 0.008890106269379507, \"value\": 0.8324086762892012}, \"8\": {\"effect\": 0.20314926557150362, \"value\": 2.078199114479899}, \"9\": {\"effect\": 0.022902499772591844, \"value\": 0.3672594234143234}, \"10\": {\"effect\": -0.01554703471867706, \"value\": -0.27236679075498665}, \"11\": {\"effect\": 0.061058672753211966, \"value\": -2.178384526451389}, \"12\": {\"effect\": 0.0, \"value\": 0.31888450570078025}, \"13\": {\"effect\": 0.012925236884432159, \"value\": 0.1480681365488857}, \"14\": {\"effect\": 0.0, \"value\": -0.8710212050572311}, \"15\": {\"effect\": -0.040884651406722615, \"value\": -0.7988083037121746}, \"16\": {\"effect\": -0.09886586930413721, \"value\": 0.8798816041725637}, \"17\": {\"effect\": 0.0, \"value\": 0.08149441519984454}, \"18\": {\"effect\": -0.03595468086218384, \"value\": -0.6824968656514055}, \"19\": {\"effect\": -0.02365668250895719, \"value\": -1.093929297923905}, \"20\": {\"effect\": -0.020135637689441377, \"value\": -0.5572067904377549}, \"21\": {\"effect\": -0.004356236657696501, \"value\": -0.6054019938256177}, \"22\": {\"effect\": -0.4224061404278172, \"value\": -0.602003467807564}}}, {\"outValue\": 1.2719084418821873, \"simIndex\": 8.0, \"features\": {\"0\": {\"effect\": -0.05832723221959205, \"value\": -0.6425581618222114}, \"1\": {\"effect\": 0.032176998485393474, \"value\": -0.6543830020880207}, \"2\": {\"effect\": 0.05570028428155677, \"value\": -0.46159349327694216}, \"3\": {\"effect\": 0.10391980537351564, \"value\": -1.0929861506682659}, \"4\": {\"effect\": 0.1821590358638687, \"value\": -1.5240757820298299}, \"5\": {\"effect\": -0.30015266238284355, \"value\": -1.423293582234116}, \"6\": {\"effect\": -0.1330905153187132, \"value\": -1.59692881404844}, \"7\": {\"effect\": -0.01836678872852794, \"value\": -1.6915083270593356}, \"8\": {\"effect\": -0.06589469474344868, \"value\": -0.6668576865357131}, \"9\": {\"effect\": -0.04105028720911218, \"value\": -0.8139327286888557}, \"10\": {\"effect\": -0.022863364550759088, \"value\": -0.3885942274380333}, \"11\": {\"effect\": -0.012439254001998488, \"value\": 0.453973144903115}, \"12\": {\"effect\": -0.021792776470084138, \"value\": -1.852452949655377}, \"13\": {\"effect\": -0.07102226928006813, \"value\": -0.8459153255122378}, \"14\": {\"effect\": 0.0, \"value\": 0.15828633249118906}, \"15\": {\"effect\": 0.03917627862396244, \"value\": 0.8055211251804202}, \"16\": {\"effect\": 0.14601485203037706, \"value\": -1.2920872918191766}, \"17\": {\"effect\": -0.02279551556054367, \"value\": -0.9307400288145243}, \"18\": {\"effect\": 0.10609013654320643, \"value\": 2.035279223308676}, \"19\": {\"effect\": 0.007392085916543334, \"value\": 0.3344750673338763}, \"20\": {\"effect\": -0.03219152349298872, \"value\": -0.8614535948121158}, \"21\": {\"effect\": 0.026879419228541694, \"value\": 3.1815836822265235}, \"22\": {\"effect\": -0.15601445302132222, \"value\": -0.21940841955066476}}}, {\"outValue\": 1.873911417933861, \"simIndex\": 24.0, \"features\": {\"0\": {\"effect\": -0.05834546977583521, \"value\": -0.6425581618222114}, \"1\": {\"effect\": -0.014199970863184821, \"value\": 0.30765768008615896}, \"2\": {\"effect\": 0.055833786521527, \"value\": -0.46159349327694216}, \"3\": {\"effect\": -0.014476234065648463, \"value\": 0.17723185461055793}, \"4\": {\"effect\": -0.049651294146939834, \"value\": 0.40791312638192545}, \"5\": {\"effect\": 0.24795315949820562, \"value\": 1.1542957626453552}, \"6\": {\"effect\": 0.045928617453352, \"value\": 0.5724862751130723}, \"7\": {\"effect\": 0.005896143636213436, \"value\": 0.5722498943779246}, \"8\": {\"effect\": 0.09433866417765478, \"value\": 0.9704345976677512}, \"9\": {\"effect\": 0.0, \"value\": -0.08436212762945548}, \"10\": {\"effect\": -0.026178999405614953, \"value\": -0.44670794577955664}, \"11\": {\"effect\": -0.017331075668912718, \"value\": 0.632943638139682}, \"12\": {\"effect\": 0.0, \"value\": 0.1258262591471466}, \"13\": {\"effect\": 0.0, \"value\": 0.015537008274069135}, \"14\": {\"effect\": 0.0, \"value\": -0.545976719515625}, \"15\": {\"effect\": 0.04072977009056469, \"value\": 0.837607713758272}, \"16\": {\"effect\": -0.07033479350718401, \"value\": 0.6240560795860192}, \"17\": {\"effect\": 0.027857962528458513, \"value\": 1.0937288592142131}, \"18\": {\"effect\": 0.014486063983899039, \"value\": 0.28643810797116026}, \"19\": {\"effect\": 0.009819886884216922, \"value\": 0.44175439379273584}, \"20\": {\"effect\": -0.01805616129554019, \"value\": -0.4907005794312991}, \"21\": {\"effect\": 0.004402267256476924, \"value\": 0.49208482712037044}, \"22\": {\"effect\": 0.06683821211692847, \"value\": 0.10023763178520871}}}, {\"outValue\": 0.6356882319045647, \"simIndex\": 30.0, \"features\": {\"0\": {\"effect\": -0.05019704942443737, \"value\": -0.5525805369382848}, \"1\": {\"effect\": 0.03207107442636825, \"value\": -0.6543830020880207}, \"2\": {\"effect\": 0.0556050209262684, \"value\": -0.46159349327694216}, \"3\": {\"effect\": 0.05547164997407464, \"value\": -0.5738676810779421}, \"4\": {\"effect\": 0.1141599047403267, \"value\": -0.9579770267036126}, \"5\": {\"effect\": -0.14906908893735055, \"value\": -0.7122344526121929}, \"6\": {\"effect\": -0.06095850981319345, \"value\": -0.7218706268236283}, \"7\": {\"effect\": -0.008628429477674393, \"value\": -0.7686867536229418}, \"8\": {\"effect\": -0.05053074325729284, \"value\": -0.5090958014198733}, \"9\": {\"effect\": -0.041913567916315286, \"value\": -0.8289076446555318}, \"10\": {\"effect\": 0.03389751898454835, \"value\": 0.5702821251971008}, \"11\": {\"effect\": -0.024339527779758008, \"value\": 0.8790280663399617}, \"12\": {\"effect\": -0.004900171486396543, \"value\": -0.4192793781807589}, \"13\": {\"effect\": -0.0598667637417411, \"value\": -0.7133841972374216}, \"14\": {\"effect\": 0.0, \"value\": 0.37498265618559357}, \"15\": {\"effect\": -0.05744017369760107, \"value\": -1.1196741894906934}, \"16\": {\"effect\": -0.2624966508562497, \"value\": 2.3271813847020195}, \"17\": {\"effect\": -0.02279071707755831, \"value\": -0.9307400288145243}, \"18\": {\"effect\": -0.03259448468493231, \"value\": -0.6119895439101207}, \"19\": {\"effect\": 0.026939045288769448, \"value\": 1.228469454491041}, \"20\": {\"effect\": -0.027321404280985062, \"value\": -0.7335374341790092}, \"21\": {\"effect\": 0.0, \"value\": -0.21931317512907433}, \"22\": {\"effect\": -0.3578095825195289, \"value\": -0.5087666214118555}}}, {\"outValue\": 2.6744467742580884, \"simIndex\": 5.0, \"features\": {\"0\": {\"effect\": 0.03463425856567748, \"value\": 0.4201717506876529}, \"1\": {\"effect\": -0.06400829623471829, \"value\": 1.2696983622603386}, \"2\": {\"effect\": 0.0, \"value\": 0.1744808718141748}, \"3\": {\"effect\": -0.06231102986697423, \"value\": 0.6557941937641378}, \"4\": {\"effect\": -0.10812673667666339, \"value\": 0.8676914592234374}, \"5\": {\"effect\": 0.2905411420780334, \"value\": 1.3690948747186444}, \"6\": {\"effect\": 0.03061936785881511, \"value\": 0.4175280544586785}, \"7\": {\"effect\": 0.0, \"value\": -0.17973433527605673}, \"8\": {\"effect\": 0.0, \"value\": 0.025993072421776325}, \"9\": {\"effect\": 0.0, \"value\": 0.1347829840779989}, \"10\": {\"effect\": 0.0, \"value\": -0.11255406531579787}, \"11\": {\"effect\": 0.036473320538900844, \"value\": -1.4140313782535516}, \"12\": {\"effect\": 0.0, \"value\": -1.6378176049575144}, \"13\": {\"effect\": 0.1188556422531834, \"value\": 1.4402466372283458}, \"14\": {\"effect\": 0.0, \"value\": -1.2366962512915385}, \"15\": {\"effect\": 0.010544498535098035, \"value\": 0.3081790022237158}, \"16\": {\"effect\": 0.13624909919996775, \"value\": -1.2411260319413788}, \"17\": {\"effect\": 0.0, \"value\": -0.5511521123091361}, \"18\": {\"effect\": 0.011179316661147715, \"value\": 0.3082824009032766}, \"19\": {\"effect\": 0.0, \"value\": 0.13183633957825208}, \"20\": {\"effect\": 0.0, \"value\": 0.030392146653766626}, \"21\": {\"effect\": 0.015016884538339048, \"value\": 2.0754633903794506}, \"22\": {\"effect\": 0.6963784242920578, \"value\": 1.0062765893855135}}}, {\"outValue\": 1.9853350575548125, \"simIndex\": 28.0, \"features\": {\"0\": {\"effect\": -0.030735294376888732, \"value\": -0.32842116331757276}, \"1\": {\"effect\": -0.061185815699515006, \"value\": 1.2696983622603386}, \"2\": {\"effect\": 0.05494209341478509, \"value\": -0.46159349327694216}, \"3\": {\"effect\": -0.12824614586334346, \"value\": 1.3890490320604705}, \"4\": {\"effect\": -0.21406767836329177, \"value\": 1.7707958798297934}, \"5\": {\"effect\": 0.1785470387153956, \"value\": 0.8302305643201637}, \"6\": {\"effect\": 0.10985934271426967, \"value\": 1.3586531348189632}, \"7\": {\"effect\": 0.016783357950124526, \"value\": 1.6152689777544085}, \"8\": {\"effect\": 0.08813365575442562, \"value\": 0.9169138781422026}, \"9\": {\"effect\": 0.0, \"value\": -0.14042675204127922}, \"10\": {\"effect\": -0.013054293154037007, \"value\": -0.21425307241346336}, \"11\": {\"effect\": 0.00975544718511729, \"value\": -0.3886795940857206}, \"12\": {\"effect\": 0.011264514086412436, \"value\": 1.0116229198049933}, \"13\": {\"effect\": -0.07736958662690496, \"value\": -0.9121808896496462}, \"14\": {\"effect\": 0.0, \"value\": -1.0877175287516356}, \"15\": {\"effect\": 0.05396738575494478, \"value\": 1.126387010958939}, \"16\": {\"effect\": -0.035280988806816654, \"value\": 0.3060578179485614}, \"17\": {\"effect\": 0.014533818014180702, \"value\": 0.5876116372070287}, \"18\": {\"effect\": -0.04930297249495826, \"value\": -0.9208375667523137}, \"19\": {\"effect\": 0.0, \"value\": -0.21847701657444432}, \"20\": {\"effect\": 0.005098740237726534, \"value\": 0.1371588225606824}, \"21\": {\"effect\": 0.0, \"value\": -0.4942028886196365}, \"22\": {\"effect\": 0.5232915565979623, \"value\": 0.7561014577666861}}}, {\"outValue\": 1.6751431004736526, \"simIndex\": 13.0, \"features\": {\"0\": {\"effect\": -0.04644159714446962, \"value\": -0.5117767303048764}, \"1\": {\"effect\": 0.032179544307767816, \"value\": -0.6543830020880207}, \"2\": {\"effect\": 0.05573629484057002, \"value\": -0.46159349327694216}, \"3\": {\"effect\": 0.09597232130258453, \"value\": -1.0073316031858626}, \"4\": {\"effect\": 0.17711841163508152, \"value\": -1.4816183753803633}, \"5\": {\"effect\": -0.09344364447785708, \"value\": -0.45151277175082116}, \"6\": {\"effect\": -0.03973142703354554, \"value\": -0.4666453222163916}, \"7\": {\"effect\": -0.008516152276453387, \"value\": -0.7686867536229418}, \"8\": {\"effect\": -0.01536472795981203, \"value\": -0.15097632220691704}, \"9\": {\"effect\": 0.0945525462783692, \"value\": 1.7145453080991107}, \"10\": {\"effect\": 0.03565632233005711, \"value\": 0.5993389843678624}, \"11\": {\"effect\": -0.011774965835099432, \"value\": 0.4316018332485441}, \"12\": {\"effect\": -0.00557347335835906, \"value\": -0.48741758284674713}, \"13\": {\"effect\": 0.09660231740079651, \"value\": 1.1420515986100086}, \"14\": {\"effect\": 0.0, \"value\": 1.0250716272688072}, \"15\": {\"effect\": -0.05731072282063834, \"value\": -1.1196741894906934}, \"16\": {\"effect\": -0.04437546641457979, \"value\": 0.395749635333485}, \"17\": {\"effect\": -0.014343022813453843, \"value\": -0.5933285474764015}, \"18\": {\"effect\": -0.02262382271040217, \"value\": -0.42339327225858553}, \"19\": {\"effect\": -0.0131288275864056, \"value\": -0.6058745843425489}, \"20\": {\"effect\": 0.052754521389537345, \"value\": 1.3551652923340876}, \"21\": {\"effect\": -0.00319730794914197, \"value\": -0.4265164767551262}, \"22\": {\"effect\": -0.11800490314611733, \"value\": -0.16496833834926658}}}, {\"outValue\": 0.9217447016907752, \"simIndex\": 33.0, \"features\": {\"0\": {\"effect\": -0.07521314151488254, \"value\": -0.8295756088920003}, \"1\": {\"effect\": 0.07851785824443802, \"value\": -1.6164236842622004}, \"2\": {\"effect\": 0.05572515014678502, \"value\": -0.46159349327694216}, \"3\": {\"effect\": 0.10395961083352012, \"value\": -1.0929861506682659}, \"4\": {\"effect\": 0.15245693751531278, \"value\": -1.27640757657461}, \"5\": {\"effect\": -0.3001377851587543, \"value\": -1.423293582234116}, \"6\": {\"effect\": -0.1119987360576336, \"value\": -1.3417035094412033}, \"7\": {\"effect\": -0.012197390553906895, \"value\": -1.1147448436615894}, \"8\": {\"effect\": -0.08904629833996949, \"value\": -0.9035005142094729}, \"9\": {\"effect\": 0.02487860231763667, \"value\": 0.4147408642842718}, \"10\": {\"effect\": -0.01761572574855117, \"value\": -0.3014236499257483}, \"11\": {\"effect\": 0.0077515039562049, \"value\": -0.26936593192800923}, \"12\": {\"effect\": 0.0049267906667953484, \"value\": 0.4063285350221317}, \"13\": {\"effect\": 0.025652640071685936, \"value\": 0.30047893406492404}, \"14\": {\"effect\": 0.0, \"value\": 0.1068209556137683}, \"15\": {\"effect\": 0.015119927389549814, \"value\": 0.3242222965126418}, \"16\": {\"effect\": 0.06343171552110151, \"value\": -0.5602835999740005}, \"17\": {\"effect\": -0.022744744815940868, \"value\": -0.9307400288145243}, \"18\": {\"effect\": 0.04131372460201394, \"value\": 0.7981568909155782}, \"19\": {\"effect\": -0.020179329407307905, \"value\": -0.9257259095254459}, \"20\": {\"effect\": 0.0, \"value\": -0.027195606938030307}, \"21\": {\"effect\": 0.0, \"value\": 0.08251296757287449}, \"22\": {\"effect\": -0.531257490492546, \"value\": -0.757782622673248}}}, {\"outValue\": 1.8851951493369523, \"simIndex\": 14.0, \"features\": {\"0\": {\"effect\": -0.03479792637423321, \"value\": -0.3836109274178881}, \"1\": {\"effect\": 0.03217469378883417, \"value\": -0.6543830020880207}, \"2\": {\"effect\": 0.05580521624348711, \"value\": -0.46159349327694216}, \"3\": {\"effect\": 0.08488116815811964, \"value\": -0.8881939144148832}, \"4\": {\"effect\": 0.12837501781777022, \"value\": -1.0751594690561395}, \"5\": {\"effect\": -0.10211768360543962, \"value\": -0.49186537735686525}, \"6\": {\"effect\": -0.005197248205653815, \"value\": -0.04734660750450268}, \"7\": {\"effect\": 0.0, \"value\": 0.13729332609823758}, \"8\": {\"effect\": -0.012555186353478132, \"value\": -0.12210589723071838}, \"9\": {\"effect\": 0.012930421248737445, \"value\": 0.19331299099653143}, \"10\": {\"effect\": 0.009934317817343497, \"value\": 0.16348609680643755}, \"11\": {\"effect\": -0.034615352967013485, \"value\": 1.251883260582809}, \"12\": {\"effect\": -0.008734399112909796, \"value\": -0.7486140340663683}, \"13\": {\"effect\": 0.05735366545364043, \"value\": 0.6781926496481513}, \"14\": {\"effect\": 0.0, \"value\": -0.7626730432100289}, \"15\": {\"effect\": -0.04124163796558386, \"value\": -0.7988083037121746}, \"16\": {\"effect\": 0.04467121891982134, \"value\": -0.3941498927723802}, \"17\": {\"effect\": 0.0, \"value\": -0.002858455134686263}, \"18\": {\"effect\": -0.019080918097955896, \"value\": -0.35418363128554503}, \"19\": {\"effect\": -0.022423991084867992, \"value\": -1.0270452734032578}, \"20\": {\"effect\": 0.15107284549415012, \"value\": 3.927248410721693}, \"21\": {\"effect\": -0.0034913248726693435, \"value\": -0.453452905966513}, \"22\": {\"effect\": 0.06385137051962969, \"value\": 0.09599203142649837}}}, {\"outValue\": 2.92232815887553, \"simIndex\": 2.0, \"features\": {\"0\": {\"effect\": 0.09955464133459907, \"value\": 1.1099130205100776}, \"1\": {\"effect\": -0.06068224637246439, \"value\": 1.2696983622603386}, \"2\": {\"effect\": 0.05367368767317392, \"value\": -0.46159349327694216}, \"3\": {\"effect\": -0.05179429881732081, \"value\": 0.5563830068375908}, \"4\": {\"effect\": 0.0, \"value\": 0.0995662105901767}, \"5\": {\"effect\": 0.1499951061792111, \"value\": 0.6969069775160531}, \"6\": {\"effect\": 0.0, \"value\": 0.24401130808355853}, \"7\": {\"effect\": 0.0, \"value\": 0.36261559361229034}, \"8\": {\"effect\": 0.0, \"value\": 0.17511749432752385}, \"9\": {\"effect\": 0.0, \"value\": 0.030323814164112232}, \"10\": {\"effect\": -0.05116045932829054, \"value\": -0.8535039741702192}, \"11\": {\"effect\": 0.0, \"value\": -0.015824399842873028}, \"12\": {\"effect\": 0.0, \"value\": 0.56872458947607}, \"13\": {\"effect\": -0.10507326805224729, \"value\": -1.243508710336687}, \"14\": {\"effect\": 0.0, \"value\": -1.006456407366234}, \"15\": {\"effect\": 0.0, \"value\": -0.1570765321551366}, \"16\": {\"effect\": 0.0, \"value\": 0.13278953436404875}, \"17\": {\"effect\": 0.021106149316212644, \"value\": 0.8406702482106212}, \"18\": {\"effect\": 0.0, \"value\": -0.19932705960836714}, \"19\": {\"effect\": 0.030330397960845433, \"value\": 1.3715085564361877}, \"20\": {\"effect\": 0.0, \"value\": -0.16071765508892247}, \"21\": {\"effect\": 0.0, \"value\": -0.453452905966513}, \"22\": {\"effect\": 1.307977566466587, \"value\": 1.8808742873359732}}}, {\"outValue\": 2.052520047065186, \"simIndex\": 25.0, \"features\": {\"0\": {\"effect\": -0.030812286101232933, \"value\": -0.33914524070199403}, \"1\": {\"effect\": -0.060486457696670375, \"value\": 1.2696983622603386}, \"2\": {\"effect\": 0.05577915471328447, \"value\": -0.46159349327694216}, \"3\": {\"effect\": -0.05777679805568417, \"value\": 0.6417131052765004}, \"4\": {\"effect\": -0.17731967820888556, \"value\": 1.4727095039783322}, \"5\": {\"effect\": 0.23776202029012122, \"value\": 1.1068918206705605}, \"6\": {\"effect\": 0.08208558259542653, \"value\": 1.010015368725478}, \"7\": {\"effect\": 0.004410344000009378, \"value\": 0.43609526139716326}, \"8\": {\"effect\": 0.0, \"value\": 0.016764002142499627}, \"9\": {\"effect\": -0.03287392607160736, \"value\": -0.661444255125752}, \"10\": {\"effect\": -0.08657924469960895, \"value\": -1.4636980167562137}, \"11\": {\"effect\": 0.03870260896403935, \"value\": -1.3804744107716953}, \"12\": {\"effect\": -0.006805016559212423, \"value\": -0.5941674368234618}, \"13\": {\"effect\": 0.06303571704137603, \"value\": 0.7444582137855595}, \"14\": {\"effect\": 0.0, \"value\": -0.22093223397401823}, \"15\": {\"effect\": 0.0439857020703682, \"value\": 0.901780890913976}, \"16\": {\"effect\": 0.0494086421760333, \"value\": -0.435938125872174}, \"17\": {\"effect\": 0.0067255679882681635, \"value\": 0.2502001558689059}, \"18\": {\"effect\": 0.0625294132918116, \"value\": 1.2034658508639462}, \"19\": {\"effect\": -0.010248599063756164, \"value\": -0.4721065353012547}, \"20\": {\"effect\": -0.009364033304524233, \"value\": -0.2657006395129063}, \"21\": {\"effect\": 0.02928247351701889, \"value\": 3.4668335607983884}, \"22\": {\"effect\": 0.3226779776633872, \"value\": 0.4671994851497764}}}, {\"outValue\": 0.6522257548337672, \"simIndex\": 34.0, \"features\": {\"0\": {\"effect\": -0.06804115768238328, \"value\": -0.7471833070360794}, \"1\": {\"effect\": 0.03204607623635694, \"value\": -0.6543830020880207}, \"2\": {\"effect\": 0.05613105127667159, \"value\": -0.46159349327694216}, \"3\": {\"effect\": 0.10371266137497359, \"value\": -1.0929861506682659}, \"4\": {\"effect\": 0.18271767564994945, \"value\": -1.5240757820298299}, \"5\": {\"effect\": -0.3004587628908263, \"value\": -1.423293582234116}, \"6\": {\"effect\": -0.13255361800960966, \"value\": -1.59692881404844}, \"7\": {\"effect\": -0.01847645495308753, \"value\": -1.6915083270593356}, \"8\": {\"effect\": -0.14258931171058692, \"value\": -1.455667112114912}, \"9\": {\"effect\": -0.027202200239250213, \"value\": -0.5692206872821983}, \"10\": {\"effect\": -0.015155435970109488, \"value\": -0.27236679075498665}, \"11\": {\"effect\": -0.026267372773359637, \"value\": 0.9610562090733883}, \"12\": {\"effect\": 0.0, \"value\": -0.28640987908208193}, \"13\": {\"effect\": -0.009804805806086253, \"value\": -0.11699412000074744}, \"14\": {\"effect\": 0.0, \"value\": 0.10411225156758794}, \"15\": {\"effect\": 0.0, \"value\": 0.22796253077908601}, \"16\": {\"effect\": 0.1380419488002726, \"value\": -1.2207415279902598}, \"17\": {\"effect\": -0.02895871848612483, \"value\": -1.1837986398181164}, \"18\": {\"effect\": -0.01508769030293039, \"value\": -0.2728623031422227}, \"19\": {\"effect\": 0.0, \"value\": -0.14894411979555344}, \"20\": {\"effect\": -0.03754821459712429, \"value\": -1.0087355486884817}, \"21\": {\"effect\": 0.017505102847431758, \"value\": 2.0205545154485467}, \"22\": {\"effect\": -0.5841859004456338, \"value\": -0.8343051231887018}}}, {\"outValue\": 2.949886567590583, \"simIndex\": 4.0, \"features\": {\"0\": {\"effect\": 0.26451487374739135, \"value\": 3.0193219206631685}, \"1\": {\"effect\": 0.0, \"value\": 0.30765768008615896}, \"2\": {\"effect\": 0.050911958692503645, \"value\": -0.46159349327694216}, \"3\": {\"effect\": 0.0, \"value\": 0.17723185461055793}, \"4\": {\"effect\": -0.056251058427216616, \"value\": 0.40791312638192545}, \"5\": {\"effect\": 0.1770306711674684, \"value\": 0.8432073934357639}, \"6\": {\"effect\": 0.04988954270892637, \"value\": 0.7320020904925951}, \"7\": {\"effect\": 0.0, \"value\": 0.96840950567439}, \"8\": {\"effect\": 0.08974904531162842, \"value\": 1.037838363083494}, \"9\": {\"effect\": 0.0, \"value\": -0.2801578494585561}, \"10\": {\"effect\": 0.0, \"value\": -0.5919922416333643}, \"11\": {\"effect\": 0.0, \"value\": -0.16177057587507299}, \"12\": {\"effect\": 0.0, \"value\": -0.5957897750297945}, \"13\": {\"effect\": 0.0, \"value\": -0.16432666581318173}, \"14\": {\"effect\": 0.0, \"value\": -0.8787603594748885}, \"15\": {\"effect\": 0.0, \"value\": 0.37922787693181587}, \"16\": {\"effect\": 0.0690506251981911, \"value\": -0.6674478493170267}, \"17\": {\"effect\": 0.0, \"value\": 0.37070425634680704}, \"18\": {\"effect\": 0.03282147488951337, \"value\": 0.8187344002405984}, \"19\": {\"effect\": 0.0, \"value\": -0.27315730819104117}, \"20\": {\"effect\": 0.0, \"value\": -0.2657006395129063}, \"21\": {\"effect\": 0.0, \"value\": 0.3753603005376945}, \"22\": {\"effect\": 0.7437685517869533, \"value\": 1.0802353927634942}}}, {\"outValue\": 1.1477244290693953, \"simIndex\": 35.0, \"features\": {\"0\": {\"effect\": 0.1048412693415006, \"value\": 1.1622255931170116}, \"1\": {\"effect\": 0.03200093990915197, \"value\": -0.6543830020880207}, \"2\": {\"effect\": 0.055478632710080245, \"value\": -0.46159349327694216}, \"3\": {\"effect\": 0.10369054089598596, \"value\": -1.0929861506682659}, \"4\": {\"effect\": 0.12249900052654422, \"value\": -1.0287393711193897}, \"5\": {\"effect\": -0.21209974475251148, \"value\": -1.0085090899546607}, \"6\": {\"effect\": -0.09117545699238694, \"value\": -1.0864782048339665}, \"7\": {\"effect\": -0.011526522816971599, \"value\": -1.0378430458752232}, \"8\": {\"effect\": -0.08934062371969237, \"value\": -0.9035005142094729}, \"9\": {\"effect\": -0.0417999219435056, \"value\": -0.8275379877073602}, \"10\": {\"effect\": -0.03990250968029684, \"value\": -0.6733514473114969}, \"11\": {\"effect\": 0.018788920571578466, \"value\": -0.6705581209333142}, \"12\": {\"effect\": 0.0, \"value\": -0.16262547393886956}, \"13\": {\"effect\": 0.019550485451879325, \"value\": 0.2302374360792717}, \"14\": {\"effect\": 0.0, \"value\": 0.04993817064398681}, \"15\": {\"effect\": 0.11306164586542068, \"value\": 2.2815041997616072}, \"16\": {\"effect\": 0.0, \"value\": 0.00294024419541997}, \"17\": {\"effect\": -0.029806050666996747, \"value\": -1.2057303861050945}, \"18\": {\"effect\": 0.029133023514141154, \"value\": 0.567861810577786}, \"19\": {\"effect\": -0.018397759273434865, \"value\": -0.83698868887429}, \"20\": {\"effect\": 0.004516689975924443, \"value\": 0.09929360050873082}, \"21\": {\"effect\": 0.0, \"value\": -0.14534159644857383}, \"22\": {\"effect\": -0.4501890123622391, \"value\": -0.6410834072445862}}}, {\"outValue\": 1.8607847416120715, \"simIndex\": 18.0, \"features\": {\"0\": {\"effect\": -0.058401103159898105, \"value\": -0.6425581618222114}, \"1\": {\"effect\": 0.03211095916682555, \"value\": -0.6543830020880207}, \"2\": {\"effect\": -0.035480240471443825, \"value\": 0.35621640469735105}, \"3\": {\"effect\": 0.061521286305936174, \"value\": -0.6387574897767325}, \"4\": {\"effect\": -0.0341013749104494, \"value\": 0.27859494196209295}, \"5\": {\"effect\": 0.38105535182079453, \"value\": 1.7809166206246752}, \"6\": {\"effect\": 0.10240164472454766, \"value\": 1.257948521772508}, \"7\": {\"effect\": 0.017398590091299515, \"value\": 1.6537198766475916}, \"8\": {\"effect\": 0.1280410494922467, \"value\": 1.3150259952320242}, \"9\": {\"effect\": 0.046620136503802506, \"value\": 0.8217115988176572}, \"10\": {\"effect\": -0.009114058696939598, \"value\": -0.15613935407194005}, \"11\": {\"effect\": 0.025511635052944404, \"value\": -0.9106768660257073}, \"12\": {\"effect\": 0.029415084234489575, \"value\": 2.4765943201237395}, \"13\": {\"effect\": -0.05430281538703535, \"value\": -0.6471186331000134}, \"14\": {\"effect\": 0.0, \"value\": -0.6001508004392261}, \"15\": {\"effect\": -0.05741714743544907, \"value\": -1.1196741894906934}, \"16\": {\"effect\": -0.04222451325255899, \"value\": 0.3753651313823663}, \"17\": {\"effect\": 0.012987180507987528, \"value\": 0.5032587668724984}, \"18\": {\"effect\": -0.0317302338932709, \"value\": -0.5955522541790236}, \"19\": {\"effect\": 0.004679857200983684, \"value\": 0.2113025073255558}, \"20\": {\"effect\": 0.03996370037605862, \"value\": 1.0256919941296914}, \"21\": {\"effect\": -0.003932098893246916, \"value\": -0.4948935662917233}, \"22\": {\"effect\": -0.22261903028077668, \"value\": -0.3149221386498592}}}, {\"outValue\": 1.679245385775982, \"simIndex\": 20.0, \"features\": {\"0\": {\"effect\": -0.05186884705378254, \"value\": -0.5732440031180238}, \"1\": {\"effect\": -0.014026102010469187, \"value\": 0.30765768008615896}, \"2\": {\"effect\": 0.05573378833679722, \"value\": -0.46159349327694216}, \"3\": {\"effect\": -0.007856483247922097, \"value\": 0.1060477344679849}, \"4\": {\"effect\": -0.031150413388555353, \"value\": 0.2542173143108577}, \"5\": {\"effect\": -0.04128823601962078, \"value\": -0.20598997978511777}, \"6\": {\"effect\": -0.02631016019838775, \"value\": -0.3033740487833621}, \"7\": {\"effect\": 0.0, \"value\": 0.20262140331775583}, \"8\": {\"effect\": -0.007701945778986516, \"value\": -0.07181929635004422}, \"9\": {\"effect\": 0.04507222723380179, \"value\": 0.7934053552221108}, \"10\": {\"effect\": 0.018489876651876812, \"value\": 0.30877039266024586}, \"11\": {\"effect\": 0.0, \"value\": -0.015824399842873028}, \"12\": {\"effect\": 0.01845319865931121, \"value\": 1.5567285571328988}, \"13\": {\"effect\": 0.05191179004378128, \"value\": 0.6119270855107429}, \"14\": {\"effect\": 0.0, \"value\": 0.40206969664739356}, \"15\": {\"effect\": -0.057278557194962304, \"value\": -1.1196741894906934}, \"16\": {\"effect\": -0.06703364429372086, \"value\": 0.5955177740544523}, \"17\": {\"effect\": 0.0236782376862614, \"value\": 0.925023118545152}, \"18\": {\"effect\": -0.02518109474652557, \"value\": -0.4709749004275509}, \"19\": {\"effect\": 0.016522763251054572, \"value\": 0.7490235757489763}, \"20\": {\"effect\": 0.023835750411865118, \"value\": 0.6019378603989022}, \"21\": {\"effect\": 0.0, \"value\": -0.30012246276323457}, \"22\": {\"effect\": 0.22684235491894172, \"value\": 0.32968169231228106}}}, {\"outValue\": 1.9074823442802302, \"simIndex\": 26.0, \"features\": {\"0\": {\"effect\": -0.018035289647853496, \"value\": -0.19790129466327236}, \"1\": {\"effect\": -0.06030750975830945, \"value\": 1.2696983622603386}, \"2\": {\"effect\": 0.049258920592100915, \"value\": -0.4027111806227931}, \"3\": {\"effect\": -0.18610008652371857, \"value\": 2.01997264203881}, \"4\": {\"effect\": -0.1918752392558112, \"value\": 1.5942438305124296}, \"5\": {\"effect\": 0.3233574673865772, \"value\": 1.509025385935492}, \"6\": {\"effect\": 0.1046050438568411, \"value\": 1.2844554926938596}, \"7\": {\"effect\": 0.02032118260275214, \"value\": 1.923914343169989}, \"8\": {\"effect\": -0.05647945140819819, \"value\": -0.5720033531098144}, \"9\": {\"effect\": 0.017436585688704064, \"value\": 0.2757663392764613}, \"10\": {\"effect\": -0.012415135593558937, \"value\": -0.21425307241346336}, \"11\": {\"effect\": 0.0, \"value\": -0.09039543869144262}, \"12\": {\"effect\": 0.015946750936492605, \"value\": 1.3296012082462714}, \"13\": {\"effect\": -0.02635210206634878, \"value\": -0.3157908124129723}, \"14\": {\"effect\": 0.0, \"value\": -1.1418916096752367}, \"15\": {\"effect\": 0.03914927435186773, \"value\": 0.8055211251804202}, \"16\": {\"effect\": 0.013179699220128046, \"value\": -0.11488218864204831}, \"17\": {\"effect\": 0.013075564020498944, \"value\": 0.5032587668724984}, \"18\": {\"effect\": -0.05275828027017356, \"value\": -0.9974007320787396}, \"19\": {\"effect\": 0.02202694035214101, \"value\": 1.001990876411226}, \"20\": {\"effect\": -0.022387092664732523, \"value\": -0.6086790303737857}, \"21\": {\"effect\": 0.013800286754878092, \"value\": 1.6317029860636558}, \"22\": {\"effect\": 0.3736339331907293, \"value\": 0.5402553997827664}}}, {\"outValue\": 1.4409931529191478, \"simIndex\": 22.0, \"features\": {\"0\": {\"effect\": -0.024197947523036, \"value\": -0.26538451332621715}, \"1\": {\"effect\": -0.014163326601446057, \"value\": 0.30765768008615896}, \"2\": {\"effect\": 0.05568503756746138, \"value\": -0.46159349327694216}, \"3\": {\"effect\": -0.016716974357121744, \"value\": 0.20111130421171297}, \"4\": {\"effect\": -0.04777220549634427, \"value\": 0.3925576976437019}, \"5\": {\"effect\": 0.13446666085155404, \"value\": 0.621001415428913}, \"6\": {\"effect\": 0.01731465036434647, \"value\": 0.22610907600325095}, \"7\": {\"effect\": 0.0028145323322760346, \"value\": 0.2881746533550879}, \"8\": {\"effect\": -0.09677618975008787, \"value\": -0.9823814567673927}, \"9\": {\"effect\": -0.03854663990633958, \"value\": -0.7671817715245988}, \"10\": {\"effect\": -0.021154006343961, \"value\": -0.3595373682672716}, \"11\": {\"effect\": -0.0346532210653272, \"value\": 1.251883260582809}, \"12\": {\"effect\": 0.010638133450947586, \"value\": 0.8867028779173485}, \"13\": {\"effect\": 0.023923635576055015, \"value\": 0.28059926482370157}, \"14\": {\"effect\": 0.0022596502389331807, \"value\": 1.7564217197374206}, \"15\": {\"effect\": 0.006997067043091984, \"value\": 0.16378935362338218}, \"16\": {\"effect\": -0.18372245519121846, \"value\": 1.6290121243761908}, \"17\": {\"effect\": 0.023540186247907227, \"value\": 0.925023118545152}, \"18\": {\"effect\": -0.010565691920577408, \"value\": -0.1919735352549815}, \"19\": {\"effect\": 0.010418911087296992, \"value\": 0.4728786428270968}, \"20\": {\"effect\": 0.07312543942172937, \"value\": 1.8907823633515977}, \"21\": {\"effect\": -0.002811846134804376, \"value\": -0.37126226298817905}, \"22\": {\"effect\": 0.04248887051258862, \"value\": 0.06533506362360086}}}, {\"outValue\": 1.2479512497621132, \"simIndex\": 12.0, \"features\": {\"0\": {\"effect\": -0.06399060237902722, \"value\": -0.7053332489505321}, \"1\": {\"effect\": 0.07871043002958647, \"value\": -1.6164236842622004}, \"2\": {\"effect\": 0.055832567603323655, \"value\": -0.46159349327694216}, \"3\": {\"effect\": 0.03142167745128195, \"value\": -0.31430844628278004}, \"4\": {\"effect\": 0.012665292643344157, \"value\": -0.10882889371428699}, \"5\": {\"effect\": -0.048036309945767894, \"value\": -0.23819503286424415}, \"6\": {\"effect\": -0.01272188164374434, \"value\": -0.13849850200708722}, \"7\": {\"effect\": -0.006669124607736873, \"value\": -0.6148831580502095}, \"8\": {\"effect\": -0.03476445164590913, \"value\": -0.3513339163040335}, \"9\": {\"effect\": -0.04083927817600572, \"value\": -0.8113760357189355}, \"10\": {\"effect\": -0.022655609227084414, \"value\": -0.3885942274380333}, \"11\": {\"effect\": 0.03400419725781445, \"value\": -1.2089610214199853}, \"12\": {\"effect\": 0.003344889496564342, \"value\": 0.2621026684791231}, \"13\": {\"effect\": 0.012782051281449824, \"value\": 0.1480681365488857}, \"14\": {\"effect\": 0.0, \"value\": 0.7542012226508015}, \"15\": {\"effect\": -0.057170996245761364, \"value\": -1.1196741894906934}, \"16\": {\"effect\": 0.04651896947939657, \"value\": -0.4094382707357194}, \"17\": {\"effect\": -0.04168780336397371, \"value\": -1.6899158618253012}, \"18\": {\"effect\": 0.0, \"value\": 0.05242300943106745}, \"19\": {\"effect\": -0.011006278982291527, \"value\": -0.5105151830457846}, \"20\": {\"effect\": -0.027230525542583706, \"value\": -0.7378692563518435}, \"21\": {\"effect\": -0.003685113934609449, \"value\": -0.5080164420613733}, \"22\": {\"effect\": -0.1852717323013766, \"value\": -0.26157172217326097}}}, {\"outValue\": 0.865688658829016, \"simIndex\": 38.0, \"features\": {\"0\": {\"effect\": 0.019374419671322834, \"value\": 0.2179836575618529}, \"1\": {\"effect\": -0.06060104282210836, \"value\": 1.2696983622603386}, \"2\": {\"effect\": 0.05526046446244129, \"value\": -0.46159349327694216}, \"3\": {\"effect\": 0.026955821415474673, \"value\": -0.2714811725415783}, \"4\": {\"effect\": -0.07559254332624425, \"value\": 0.621509263000949}, \"5\": {\"effect\": -0.07113091632153276, \"value\": -0.3444094903515189}, \"6\": {\"effect\": -0.023435062283223382, \"value\": -0.26578300749049627}, \"7\": {\"effect\": 0.0, \"value\": -0.1795805316804841}, \"8\": {\"effect\": 0.01391013554733428, \"value\": 0.15247866381340092}, \"9\": {\"effect\": -0.03894747749071306, \"value\": -0.771321179190184}, \"10\": {\"effect\": -0.02414032179483569, \"value\": -0.4079654668852082}, \"11\": {\"effect\": 0.04980562059799162, \"value\": -1.8055293322085417}, \"12\": {\"effect\": -0.01578181908744758, \"value\": -1.3194607709347583}, \"13\": {\"effect\": 0.011056119095872265, \"value\": 0.1303973194455766}, \"14\": {\"effect\": 0.0, \"value\": 0.8751900033801772}, \"15\": {\"effect\": 0.050986957678999106, \"value\": 1.0515183042772824}, \"16\": {\"effect\": 0.17427345270635797, \"value\": -1.5468935912081654}, \"17\": {\"effect\": 0.035837975173363845, \"value\": 1.4311403405523355}, \"18\": {\"effect\": 0.01138738411628562, \"value\": 0.23424250373732605}, \"19\": {\"effect\": 0.048396596085295965, \"value\": 2.22753577455853}, \"20\": {\"effect\": 0.0, \"value\": -0.14899625391537066}, \"21\": {\"effect\": 0.0, \"value\": -0.06322002123744862}, \"22\": {\"effect\": -0.8503279871108421, \"value\": -1.2149394122511281}}}, {\"outValue\": 1.448093361082052, \"simIndex\": 17.0, \"features\": {\"0\": {\"effect\": 0.059930776475466796, \"value\": 0.6652561533511386}, \"1\": {\"effect\": -0.06069067447124818, \"value\": 1.2696983622603386}, \"2\": {\"effect\": -0.10654560619378778, \"value\": 0.9922907697884681}, \"3\": {\"effect\": -0.08087059075044362, \"value\": 0.8861530146448442}, \"4\": {\"effect\": -0.07839158542423494, \"value\": 0.6454623165856895}, \"5\": {\"effect\": 0.18366247131912783, \"value\": 0.8547621042921202}, \"6\": {\"effect\": 0.024585707304229723, \"value\": 0.3172609705058355}, \"7\": {\"effect\": -0.004287975228034924, \"value\": -0.3561086084990876}, \"8\": {\"effect\": 0.07419816152631648, \"value\": 0.766645682569365}, \"9\": {\"effect\": 0.048945952213876015, \"value\": 0.8684625559819139}, \"10\": {\"effect\": -0.005836338477036573, \"value\": -0.09802563573041737}, \"11\": {\"effect\": 0.010193290580469569, \"value\": -0.37003683437357904}, \"12\": {\"effect\": 0.0, \"value\": 0.039517866570228655}, \"13\": {\"effect\": -0.0459237885111086, \"value\": -0.547720286893901}, \"14\": {\"effect\": 0.0, \"value\": -1.6700888986803468}, \"15\": {\"effect\": 0.03746550904472533, \"value\": 0.7734345366025682}, \"16\": {\"effect\": 0.03937089559973281, \"value\": -0.3493039840799177}, \"17\": {\"effect\": -0.006663485223606991, \"value\": -0.2770052837219112}, \"18\": {\"effect\": 0.06798025884454388, \"value\": 1.3126873155245258}, \"19\": {\"effect\": 0.0, \"value\": -0.1337131043106538}, \"20\": {\"effect\": 0.009463818235833643, \"value\": 0.23386038224248276}, \"21\": {\"effect\": 0.007343720106683105, \"value\": 0.8598706875066124}, \"22\": {\"effect\": -0.25423803840467524, \"value\": -0.35990118898369455}}}, {\"outValue\": 1.6044699920346157, \"simIndex\": 15.0, \"features\": {\"0\": {\"effect\": 0.17145284779403414, \"value\": 1.8972172382444341}, \"1\": {\"effect\": -0.01422092189180274, \"value\": 0.30765768008615896}, \"2\": {\"effect\": 0.055655993200713266, \"value\": -0.46159349327694216}, \"3\": {\"effect\": 0.026724469570319515, \"value\": -0.26564108975868717}, \"4\": {\"effect\": -0.04740768773477224, \"value\": 0.3900456344169419}, \"5\": {\"effect\": 0.04320947973959628, \"value\": 0.1921438778756905}, \"6\": {\"effect\": 0.023662360504148564, \"value\": 0.30205683450280435}, \"7\": {\"effect\": 0.0034547815643723445, \"value\": 0.3508880694498695}, \"8\": {\"effect\": 0.016470675491915873, \"value\": 0.17421036348810792}, \"9\": {\"effect\": 0.03932781192745971, \"value\": 0.6856590086326123}, \"10\": {\"effect\": 0.030442653743179893, \"value\": 0.5121684068555774}, \"11\": {\"effect\": -0.03671912413398071, \"value\": 1.3264542994313784}, \"12\": {\"effect\": 0.0, \"value\": -0.08994472229514927}, \"13\": {\"effect\": -0.05426408428454635, \"value\": -0.6471186331000134}, \"14\": {\"effect\": 0.0, \"value\": 0.8354623440362026}, \"15\": {\"effect\": -0.05739186119971834, \"value\": -1.1196741894906934}, \"16\": {\"effect\": 0.0, \"value\": -0.013978894084008561}, \"17\": {\"effect\": 0.0023842265803092344, \"value\": 0.08149441519984454}, \"18\": {\"effect\": -0.02594250630969709, \"value\": -0.48481682862215897}, \"19\": {\"effect\": -0.01617185679114505, \"value\": -0.7389804153192825}, \"20\": {\"effect\": 0.03495858814405109, \"value\": 0.8965017681516337}, \"21\": {\"effect\": 0.0, \"value\": -0.31669872689331874}, \"22\": {\"effect\": -0.1195567363950455, \"value\": -0.16719475956436716}}}, {\"outValue\": 0.982586720116035, \"simIndex\": 11.0, \"features\": {\"0\": {\"effect\": -0.07606095894491105, \"value\": -0.8387303090982139}, \"1\": {\"effect\": -0.014134415041362147, \"value\": 0.30765768008615896}, \"2\": {\"effect\": 0.05569591049613257, \"value\": -0.46159349327694216}, \"3\": {\"effect\": 0.013192989268799082, \"value\": -0.11963902018640854}, \"4\": {\"effect\": -0.025803006829166864, \"value\": 0.20960165615671014}, \"5\": {\"effect\": -0.20566008763651458, \"value\": -0.978881626220414}, \"6\": {\"effect\": -0.10302007471500149, \"value\": -1.2323212360381017}, \"7\": {\"effect\": -0.014240486320717616, \"value\": -1.306999338127505}, \"8\": {\"effect\": -0.06588987425062698, \"value\": -0.6668576865357131}, \"9\": {\"effect\": 0.006052945639538315, \"value\": 0.06438261694197926}, \"10\": {\"effect\": 0.02192565024298132, \"value\": 0.36688411100176915}, \"11\": {\"effect\": -0.03048324390564766, \"value\": 1.1027411828856697}, \"12\": {\"effect\": 0.007290910998409811, \"value\": 0.6027936918090644}, \"13\": {\"effect\": 0.04068402491106299, \"value\": 0.4793959572359264}, \"14\": {\"effect\": 0.0, \"value\": 0.32080857526199247}, \"15\": {\"effect\": -0.05732573569231808, \"value\": -1.1196741894906934}, \"16\": {\"effect\": -0.021729686106250312, \"value\": 0.19394304621740618}, \"17\": {\"effect\": -0.008041237534399781, \"value\": -0.3402699364728093}, \"18\": {\"effect\": 0.03642290976836479, \"value\": 0.7047238756019735}, \"19\": {\"effect\": -0.0224080870591446, \"value\": -1.0270452734032578}, \"20\": {\"effect\": -0.01158745123191196, \"value\": -0.32303358003571303}, \"21\": {\"effect\": -0.005075565229311796, \"value\": -0.6461519764787411}, \"22\": {\"effect\": -0.06561959322719269, \"value\": -0.08974329672698572}}}], \"plot_cmap\": \"RdBu\", \"ordering_keys\": null, \"ordering_keys_time_format\": null}),\n    document.getElementById('iWTUMCAV4SQCETPUUA61N')\n  );\n</script>"
     },
     "execution_count": 38,
     "metadata": {},
     "output_type": "execute_result"
    }
   ],
   "source": [
    "shap.force_plot(svm_explainer.expected_value, svm_shap_values, X_test)"
   ],
   "metadata": {
    "collapsed": false,
    "pycharm": {
     "name": "#%%\n"
    }
   }
  }
 ],
 "metadata": {
  "kernelspec": {
   "display_name": "Python 3",
   "language": "python",
   "name": "python3"
  },
  "language_info": {
   "codemirror_mode": {
    "name": "ipython",
    "version": 2
   },
   "file_extension": ".py",
   "mimetype": "text/x-python",
   "name": "python",
   "nbconvert_exporter": "python",
   "pygments_lexer": "ipython2",
   "version": "2.7.6"
  }
 },
 "nbformat": 4,
 "nbformat_minor": 0
}